{
 "cells": [
  {
   "cell_type": "markdown",
   "metadata": {},
   "source": [
    "# Assignment 2: Build a CNN for image recognition.\n",
    "\n",
    "## Due Date:  March 29, 11:59PM\n",
    "\n",
    "### Name: [Your-Name?]\n"
   ]
  },
  {
   "cell_type": "markdown",
   "metadata": {},
   "source": [
    "## Introduction:\n",
    "\n",
    "1. In this assignment, you will build Convolutional Neural Network to classify CIFAR-10 Images.\n",
    "2. You can directly load dataset from many deep learning packages.\n",
    "3. You can use any deep learning packages such as pytorch, keras or tensorflow for this assignment."
   ]
  },
  {
   "cell_type": "markdown",
   "metadata": {},
   "source": [
    "## Requirements:\n",
    "\n",
    "1. You need to load cifar 10 data and split the entire training dataset into training and validation.\n",
    "2. You will implement a CNN model to classify cifar 10 images with provided structure.\n",
    "3. You need to plot the training and validation accuracy or loss obtained from above step.\n",
    "4. Then you can use tuned parameters to train using the entire training dataset.\n",
    "5. You should report the testing accuracy using the model with complete data.\n",
    "6. You may try to change the structure (e.g, add BN layer or dropout layer,...) and analyze your findings.\n",
    "\n",
    "## Google Colab\n",
    "\n",
    "- If you do not have GPU, the training of a CNN can be slow. Google Colab is a good option."
   ]
  },
  {
   "cell_type": "markdown",
   "metadata": {},
   "source": [
    "## Batch Normalization (BN)"
   ]
  },
  {
   "cell_type": "markdown",
   "metadata": {},
   "source": [
    "### Background:"
   ]
  },
  {
   "cell_type": "markdown",
   "metadata": {},
   "source": [
    "- Batch Normalization is a technique to speed up training and help make the model more stable.\n",
    "- In simple words, batch normalization is just another network layer that gets inserted between a hidden layer and the next hidden layer. Its job is to take the outputs from the first hidden layer and normalize them before passing them on as the input of the next hidden layer.\n",
    "\n",
    "- For more detailed information, you may refer to the original paper: https://arxiv.org/pdf/1502.03167.pdf."
   ]
  },
  {
   "cell_type": "markdown",
   "metadata": {},
   "source": [
    "### BN Algorithm:"
   ]
  },
  {
   "cell_type": "markdown",
   "metadata": {},
   "source": [
    "- Input: Values of $x$ over a mini-batch: $\\mathbf{B}$ = $\\{x_1,..., x_m\\};$\n",
    "- Output: $\\{y_i = BN_{\\gamma,\\beta}(x_i)\\}$, $\\gamma, \\beta$ are learnable parameters\n",
    "\n",
    "Normalization of the Input:\n",
    "$$\\mu_{\\mathbf{B}} = \\frac{1}{m}\\sum_{i=1}^m x_i$$\n",
    "$$\\sigma_{\\mathbf{B}}^2 = \\frac{1}{m}\\sum_{i=1}^m (x_i - \\mu_{\\mathbf{B}})^2$$\n",
    "$$\\hat{x_i} = \\frac{x_i - \\mu_{\\mathbf{B}}}{\\sqrt{\\sigma_{\\mathbf{B}}}^2 + \\epsilon}$$\n",
    "Re-scaling and Offsetting:\n",
    "$$y_i = \\gamma \\hat{x_i} + \\beta = BN_{\\gamma,\\beta}(x_i)$$\n"
   ]
  },
  {
   "cell_type": "markdown",
   "metadata": {},
   "source": [
    "### Advantages of BN:\n",
    "1. Improves gradient flow through the network.\n",
    "2. Allows use of saturating nonlinearities and higher learning rates.\n",
    "3. Makes weights easier to initialize.\n",
    "4. Act as a form of regularization and may reduce the need for dropout."
   ]
  },
  {
   "cell_type": "markdown",
   "metadata": {},
   "source": [
    "### Implementation:"
   ]
  },
  {
   "cell_type": "markdown",
   "metadata": {},
   "source": [
    "- The batch normalization layer has already been implemented in many packages. You may simply call the function to build the layer. For example: torch.nn.BatchNorm2d() using pytroch package, keras.layers.BatchNormalization() using keras package.\n",
    "- The location of BN layer: Please make sure ```BatchNormalization``` is between a ```Conv```/```Dense``` layer and an ```activation``` layer."
   ]
  },
  {
   "cell_type": "markdown",
   "metadata": {},
   "source": [
    "## 1. Data preparation"
   ]
  },
  {
   "cell_type": "markdown",
   "metadata": {},
   "source": [
    "### 1.1. Load data\n"
   ]
  },
  {
   "cell_type": "code",
   "execution_count": 15,
   "metadata": {},
   "outputs": [
    {
     "name": "stdout",
     "output_type": "stream",
     "text": [
      "shape of x_train: (50000, 32, 32, 3)\n",
      "shape of y_train: (50000, 1)\n",
      "shape of x_test: (10000, 32, 32, 3)\n",
      "shape of y_test: (10000, 1)\n",
      "number of classes: 10\n"
     ]
    }
   ],
   "source": [
    "# Load Cifar-10 Data\n",
    "# This is just an example, you may load dataset from other packages.\n",
    "from tensorflow import keras\n",
    "import numpy as np\n",
    "import pandas as pd\n",
    "### If you can not load keras dataset, un-comment these two lines.\n",
    "#import ssl\n",
    "#ssl._create_default_https_context = ssl._create_unverified_context\n",
    "\n",
    "(x_train, y_train), (x_test, y_test) = keras.datasets.cifar10.load_data()\n",
    "\n",
    "print('shape of x_train: ' + str(x_train.shape))\n",
    "print('shape of y_train: ' + str(y_train.shape))\n",
    "print('shape of x_test: ' + str(x_test.shape))\n",
    "print('shape of y_test: ' + str(y_test.shape))\n",
    "print('number of classes: ' + str(np.max(y_train) - np.min(y_train) + 1))"
   ]
  },
  {
   "cell_type": "markdown",
   "metadata": {},
   "source": [
    "### 1.2. One-hot encode the labels (5 points)\n",
    "\n",
    "In the input, a label is a scalar in $\\{0, 1, \\cdots , 9\\}$. One-hot encode transform such a scalar to a $10$-dim vector. E.g., a scalar ```y_train[j]=3``` is transformed to the vector ```y_train_vec[j]=[0, 0, 0, 1, 0, 0, 0, 0, 0, 0]```.\n",
    "\n",
    "1. Implement a function ```to_one_hot``` that transforms an $n\\times 1$ array to a $n\\times 10$ matrix.\n",
    "\n",
    "2. Apply the function to ```y_train``` and ```y_test```."
   ]
  },
  {
   "cell_type": "code",
   "execution_count": 2,
   "metadata": {},
   "outputs": [
    {
     "name": "stdout",
     "output_type": "stream",
     "text": [
      "[6]\n",
      "[9]\n",
      "[9]\n",
      "[4]\n",
      "[1]\n",
      "[1]\n",
      "[2]\n",
      "[7]\n",
      "[8]\n",
      "[3]\n"
     ]
    }
   ],
   "source": [
    "for i in range(10):\n",
    "    print(y_train[i])"
   ]
  },
  {
   "cell_type": "code",
   "execution_count": 3,
   "metadata": {},
   "outputs": [
    {
     "name": "stdout",
     "output_type": "stream",
     "text": [
      "Shape of y_train_vec: (50000, 10)\n",
      "Shape of y_test_vec: (10000, 10)\n",
      "[6]\n",
      "[0. 0. 0. 0. 0. 0. 1. 0. 0. 0.]\n"
     ]
    }
   ],
   "source": [
    "def to_one_hot(y, num_class=10):\n",
    "    y_train_new = np.zeros((len(y),num_class))\n",
    "    for i in range(len(y)):\n",
    "        array1 = [0 for x in range(10)]\n",
    "        a = y[i]\n",
    "        array1[a[0]] =1\n",
    "        y_train_new[i] = array1\n",
    "    return y_train_new\n",
    "        \n",
    "        \n",
    "\n",
    "y_train_vec = to_one_hot(y_train)\n",
    "y_test_vec = to_one_hot(y_test)\n",
    "\n",
    "print('Shape of y_train_vec: ' + str(y_train_vec.shape))\n",
    "print('Shape of y_test_vec: ' + str(y_test_vec.shape))\n",
    "\n",
    "print(y_train[0])\n",
    "print(y_train_vec[0])"
   ]
  },
  {
   "cell_type": "markdown",
   "metadata": {},
   "source": [
    "#### Remark: the outputs should be\n",
    "* Shape of y_train_vec: (50000, 10)\n",
    "* Shape of y_test_vec: (10000, 10)\n",
    "* [6]\n",
    "* [0. 0. 0. 0. 0. 0. 1. 0. 0. 0.]"
   ]
  },
  {
   "cell_type": "markdown",
   "metadata": {},
   "source": [
    "### 1.3. Randomly partition the training set to training and validation sets (5 points)\n",
    "\n",
    "Randomly partition the 50K training samples to 2 sets: \n",
    "* a training set containing 40K samples: x_tr, y_tr\n",
    "* a validation set containing 10K samples: x_val, y_val\n"
   ]
  },
  {
   "cell_type": "code",
   "execution_count": 4,
   "metadata": {},
   "outputs": [
    {
     "name": "stdout",
     "output_type": "stream",
     "text": [
      "Shape of x_tr: (40000, 32, 32, 3)\n",
      "Shape of y_tr: (40000, 10)\n",
      "Shape of x_val: (10000, 32, 32, 3)\n",
      "Shape of y_val: (10000, 10)\n"
     ]
    }
   ],
   "source": [
    "def split_train_test(data, test_ratio):\n",
    "    np.random.seed(42)\n",
    "    random_indices = np.random.permutation(len(data))\n",
    "    validation_set_size = int(len(data)*test_ratio)\n",
    "    validation_indices = random_indices[:validation_set_size]\n",
    "    train_indices = random_indices[validation_set_size:]\n",
    "    return data[train_indices],data[validation_indices]\n",
    "\n",
    "x_tr,x_val = split_train_test(x_train,0.2)\n",
    "y_tr,y_val = split_train_test(y_train_vec,0.2)\n",
    "\n",
    "\n",
    "print('Shape of x_tr: ' + str(x_tr.shape))\n",
    "print('Shape of y_tr: ' + str(y_tr.shape))\n",
    "print('Shape of x_val: ' + str(x_val.shape))\n",
    "print('Shape of y_val: ' + str(y_val.shape))"
   ]
  },
  {
   "cell_type": "markdown",
   "metadata": {},
   "source": [
    "## 2. Build a CNN and tune its hyper-parameters (50 points)\n",
    "\n",
    "- Build a convolutional neural network model using the below structure:\n",
    "\n",
    "- It should have a structure of: Conv - ReLU - Max Pool - ConV - ReLU - Max Pool - Dense - ReLU - Dense - Softmax\n",
    "\n",
    "- In the graph 3@32x32 means the dimension of input image, 32@30x30 means it has 32 filters and the dimension now becomes 30x30 after the convolution.\n",
    "- All convolutional layers (Conv) should have stride = 1 and no padding.\n",
    "- Max Pooling has a pool size of 2 by 2.\n",
    "\n",
    "\n"
   ]
  },
  {
   "cell_type": "markdown",
   "metadata": {},
   "source": [
    "<img src=\"network.PNG\"/>"
   ]
  },
  {
   "cell_type": "markdown",
   "metadata": {},
   "source": [
    "- You may use the validation data to tune the hyper-parameters (e.g., learning rate, and optimization algorithm)\n",
    "- Do NOT use test data for hyper-parameter tuning!!!\n",
    "- Try to achieve a validation accuracy as high as possible."
   ]
  },
  {
   "cell_type": "code",
   "execution_count": 5,
   "metadata": {},
   "outputs": [
    {
     "name": "stderr",
     "output_type": "stream",
     "text": [
      "2022-03-29 16:31:58.215438: I tensorflow/core/platform/cpu_feature_guard.cc:151] This TensorFlow binary is optimized with oneAPI Deep Neural Network Library (oneDNN) to use the following CPU instructions in performance-critical operations:  AVX2 FMA\n",
      "To enable them in other operations, rebuild TensorFlow with the appropriate compiler flags.\n"
     ]
    }
   ],
   "source": [
    "# Build the model\n",
    "model = keras.models.Sequential([\n",
    "    keras.layers.Conv2D(32,3, activation='relu',input_shape=[32,32,3]),\n",
    "    keras.layers.MaxPool2D(2),\n",
    "    keras.layers.Conv2D(64,4,activation='relu'),\n",
    "    keras.layers.MaxPool2D(2),\n",
    "    keras.layers.Flatten(),\n",
    "    keras.layers.Dense(256,activation='relu'),\n",
    "    keras.layers.Dense(10,activation='softmax')\n",
    "])"
   ]
  },
  {
   "cell_type": "code",
   "execution_count": 6,
   "metadata": {},
   "outputs": [],
   "source": [
    "# Define model optimizer and loss function\n",
    "from keras import optimizers\n",
    "model.compile(optimizers.rmsprop_v2.RMSprop(learning_rate=0.0001),\n",
    "              loss='categorical_crossentropy',\n",
    "              metrics=['accuracy'])"
   ]
  },
  {
   "cell_type": "code",
   "execution_count": 7,
   "metadata": {},
   "outputs": [
    {
     "name": "stdout",
     "output_type": "stream",
     "text": [
      "Model: \"sequential\"\n",
      "_________________________________________________________________\n",
      " Layer (type)                Output Shape              Param #   \n",
      "=================================================================\n",
      " conv2d (Conv2D)             (None, 30, 30, 32)        896       \n",
      "                                                                 \n",
      " max_pooling2d (MaxPooling2D  (None, 15, 15, 32)       0         \n",
      " )                                                               \n",
      "                                                                 \n",
      " conv2d_1 (Conv2D)           (None, 12, 12, 64)        32832     \n",
      "                                                                 \n",
      " max_pooling2d_1 (MaxPooling  (None, 6, 6, 64)         0         \n",
      " 2D)                                                             \n",
      "                                                                 \n",
      " flatten (Flatten)           (None, 2304)              0         \n",
      "                                                                 \n",
      " dense (Dense)               (None, 256)               590080    \n",
      "                                                                 \n",
      " dense_1 (Dense)             (None, 10)                2570      \n",
      "                                                                 \n",
      "=================================================================\n",
      "Total params: 626,378\n",
      "Trainable params: 626,378\n",
      "Non-trainable params: 0\n",
      "_________________________________________________________________\n"
     ]
    }
   ],
   "source": [
    "model.summary()"
   ]
  },
  {
   "cell_type": "code",
   "execution_count": 8,
   "metadata": {},
   "outputs": [
    {
     "name": "stdout",
     "output_type": "stream",
     "text": [
      "Epoch 1/50\n",
      "313/313 [==============================] - 19s 59ms/step - loss: 4.2877 - accuracy: 0.2920 - val_loss: 1.8678 - val_accuracy: 0.3796\n",
      "Epoch 2/50\n",
      "313/313 [==============================] - 19s 59ms/step - loss: 1.6018 - accuracy: 0.4478 - val_loss: 1.5319 - val_accuracy: 0.4736\n",
      "Epoch 3/50\n",
      "313/313 [==============================] - 20s 62ms/step - loss: 1.3344 - accuracy: 0.5358 - val_loss: 1.4348 - val_accuracy: 0.5065\n",
      "Epoch 4/50\n",
      "313/313 [==============================] - 20s 63ms/step - loss: 1.1656 - accuracy: 0.5980 - val_loss: 1.3670 - val_accuracy: 0.5305\n",
      "Epoch 5/50\n",
      "313/313 [==============================] - 19s 62ms/step - loss: 1.0325 - accuracy: 0.6443 - val_loss: 1.4004 - val_accuracy: 0.5395\n",
      "Epoch 6/50\n",
      "313/313 [==============================] - 19s 62ms/step - loss: 0.9189 - accuracy: 0.6886 - val_loss: 1.3551 - val_accuracy: 0.5533\n",
      "Epoch 7/50\n",
      "313/313 [==============================] - 19s 61ms/step - loss: 0.8191 - accuracy: 0.7206 - val_loss: 1.3127 - val_accuracy: 0.5804\n",
      "Epoch 8/50\n",
      "313/313 [==============================] - 19s 62ms/step - loss: 0.7327 - accuracy: 0.7512 - val_loss: 1.2691 - val_accuracy: 0.5895\n",
      "Epoch 9/50\n",
      "313/313 [==============================] - 21s 68ms/step - loss: 0.6508 - accuracy: 0.7831 - val_loss: 1.2470 - val_accuracy: 0.6013\n",
      "Epoch 10/50\n",
      "313/313 [==============================] - 20s 64ms/step - loss: 0.5753 - accuracy: 0.8085 - val_loss: 1.3891 - val_accuracy: 0.5724\n",
      "Epoch 11/50\n",
      "313/313 [==============================] - 20s 63ms/step - loss: 0.5084 - accuracy: 0.8326 - val_loss: 1.3390 - val_accuracy: 0.5993\n",
      "Epoch 12/50\n",
      "313/313 [==============================] - 20s 63ms/step - loss: 0.4431 - accuracy: 0.8576 - val_loss: 1.3791 - val_accuracy: 0.5963\n",
      "Epoch 13/50\n",
      "313/313 [==============================] - 19s 61ms/step - loss: 0.3895 - accuracy: 0.8758 - val_loss: 1.5135 - val_accuracy: 0.5810\n",
      "Epoch 14/50\n",
      "313/313 [==============================] - 19s 61ms/step - loss: 0.3404 - accuracy: 0.8943 - val_loss: 1.4842 - val_accuracy: 0.5995\n",
      "Epoch 15/50\n",
      "313/313 [==============================] - 20s 64ms/step - loss: 0.2925 - accuracy: 0.9115 - val_loss: 1.5177 - val_accuracy: 0.6021\n",
      "Epoch 16/50\n",
      "313/313 [==============================] - 20s 63ms/step - loss: 0.2503 - accuracy: 0.9260 - val_loss: 1.5197 - val_accuracy: 0.6089\n",
      "Epoch 17/50\n",
      "313/313 [==============================] - 19s 62ms/step - loss: 0.2147 - accuracy: 0.9394 - val_loss: 1.5453 - val_accuracy: 0.6143\n",
      "Epoch 18/50\n",
      "313/313 [==============================] - 19s 62ms/step - loss: 0.1796 - accuracy: 0.9513 - val_loss: 1.6183 - val_accuracy: 0.6128\n",
      "Epoch 19/50\n",
      "313/313 [==============================] - 19s 61ms/step - loss: 0.1508 - accuracy: 0.9602 - val_loss: 1.6987 - val_accuracy: 0.6040\n",
      "Epoch 20/50\n",
      "313/313 [==============================] - 19s 62ms/step - loss: 0.1255 - accuracy: 0.9682 - val_loss: 1.7006 - val_accuracy: 0.6174\n",
      "Epoch 21/50\n",
      "313/313 [==============================] - 19s 61ms/step - loss: 0.1028 - accuracy: 0.9768 - val_loss: 1.8453 - val_accuracy: 0.6088\n",
      "Epoch 22/50\n",
      "313/313 [==============================] - 19s 62ms/step - loss: 0.0847 - accuracy: 0.9802 - val_loss: 1.9378 - val_accuracy: 0.6044\n",
      "Epoch 23/50\n",
      "313/313 [==============================] - 20s 62ms/step - loss: 0.0698 - accuracy: 0.9857 - val_loss: 1.9655 - val_accuracy: 0.6154\n",
      "Epoch 24/50\n",
      "313/313 [==============================] - 19s 62ms/step - loss: 0.0585 - accuracy: 0.9884 - val_loss: 2.0324 - val_accuracy: 0.6127\n",
      "Epoch 25/50\n",
      "313/313 [==============================] - 19s 61ms/step - loss: 0.0489 - accuracy: 0.9910 - val_loss: 2.1094 - val_accuracy: 0.6180\n",
      "Epoch 26/50\n",
      "313/313 [==============================] - 19s 62ms/step - loss: 0.0392 - accuracy: 0.9933 - val_loss: 2.1267 - val_accuracy: 0.6257\n",
      "Epoch 27/50\n",
      "313/313 [==============================] - 19s 62ms/step - loss: 0.0347 - accuracy: 0.9935 - val_loss: 2.1915 - val_accuracy: 0.6229\n",
      "Epoch 28/50\n",
      "313/313 [==============================] - 19s 62ms/step - loss: 0.0302 - accuracy: 0.9944 - val_loss: 2.2742 - val_accuracy: 0.6220\n",
      "Epoch 29/50\n",
      "313/313 [==============================] - 20s 63ms/step - loss: 0.0294 - accuracy: 0.9938 - val_loss: 2.3271 - val_accuracy: 0.6183\n",
      "Epoch 30/50\n",
      "313/313 [==============================] - 19s 62ms/step - loss: 0.0225 - accuracy: 0.9959 - val_loss: 2.4443 - val_accuracy: 0.6192\n",
      "Epoch 31/50\n",
      "313/313 [==============================] - 19s 62ms/step - loss: 0.0212 - accuracy: 0.9962 - val_loss: 2.5787 - val_accuracy: 0.6110\n",
      "Epoch 32/50\n",
      "313/313 [==============================] - 19s 62ms/step - loss: 0.0186 - accuracy: 0.9959 - val_loss: 2.5241 - val_accuracy: 0.6129\n",
      "Epoch 33/50\n",
      "313/313 [==============================] - 19s 62ms/step - loss: 0.0176 - accuracy: 0.9963 - val_loss: 2.5795 - val_accuracy: 0.6125\n",
      "Epoch 34/50\n",
      "313/313 [==============================] - 19s 62ms/step - loss: 0.0158 - accuracy: 0.9965 - val_loss: 2.5287 - val_accuracy: 0.6275\n",
      "Epoch 35/50\n",
      "313/313 [==============================] - 20s 63ms/step - loss: 0.0152 - accuracy: 0.9961 - val_loss: 2.6526 - val_accuracy: 0.6260\n",
      "Epoch 36/50\n",
      "313/313 [==============================] - 19s 60ms/step - loss: 0.0122 - accuracy: 0.9972 - val_loss: 2.6321 - val_accuracy: 0.6289\n",
      "Epoch 37/50\n",
      "313/313 [==============================] - 19s 61ms/step - loss: 0.0116 - accuracy: 0.9975 - val_loss: 2.8375 - val_accuracy: 0.6163\n",
      "Epoch 38/50\n",
      "313/313 [==============================] - 19s 61ms/step - loss: 0.0115 - accuracy: 0.9973 - val_loss: 2.8177 - val_accuracy: 0.6213\n",
      "Epoch 39/50\n",
      "313/313 [==============================] - 19s 61ms/step - loss: 0.0098 - accuracy: 0.9977 - val_loss: 2.7520 - val_accuracy: 0.6326\n",
      "Epoch 40/50\n",
      "313/313 [==============================] - 19s 61ms/step - loss: 0.0105 - accuracy: 0.9975 - val_loss: 2.7824 - val_accuracy: 0.6320\n",
      "Epoch 41/50\n",
      "313/313 [==============================] - 20s 63ms/step - loss: 0.0106 - accuracy: 0.9972 - val_loss: 2.8317 - val_accuracy: 0.6278\n",
      "Epoch 42/50\n",
      "313/313 [==============================] - 20s 63ms/step - loss: 0.0084 - accuracy: 0.9977 - val_loss: 2.8387 - val_accuracy: 0.6284\n",
      "Epoch 43/50\n",
      "313/313 [==============================] - 20s 65ms/step - loss: 0.0094 - accuracy: 0.9975 - val_loss: 2.8803 - val_accuracy: 0.6266\n",
      "Epoch 44/50\n",
      "313/313 [==============================] - 19s 61ms/step - loss: 0.0094 - accuracy: 0.9977 - val_loss: 2.9193 - val_accuracy: 0.6324\n",
      "Epoch 45/50\n",
      "313/313 [==============================] - 20s 63ms/step - loss: 0.0102 - accuracy: 0.9974 - val_loss: 2.9135 - val_accuracy: 0.6287\n",
      "Epoch 46/50\n",
      "313/313 [==============================] - 19s 62ms/step - loss: 0.0085 - accuracy: 0.9980 - val_loss: 3.0442 - val_accuracy: 0.6234\n",
      "Epoch 47/50\n",
      "313/313 [==============================] - 20s 64ms/step - loss: 0.0091 - accuracy: 0.9976 - val_loss: 3.0778 - val_accuracy: 0.6266\n",
      "Epoch 48/50\n",
      "313/313 [==============================] - 20s 62ms/step - loss: 0.0071 - accuracy: 0.9983 - val_loss: 3.0932 - val_accuracy: 0.6197\n",
      "Epoch 49/50\n",
      "313/313 [==============================] - 20s 63ms/step - loss: 0.0063 - accuracy: 0.9984 - val_loss: 3.2270 - val_accuracy: 0.6222\n",
      "Epoch 50/50\n",
      "313/313 [==============================] - 19s 62ms/step - loss: 0.0069 - accuracy: 0.9981 - val_loss: 3.2029 - val_accuracy: 0.6253\n"
     ]
    }
   ],
   "source": [
    "# Train the model and store model parameters/loss values\n",
    "history = model.fit(x_tr,y_tr,\n",
    "                    batch_size=128, epochs =50,\n",
    "                   validation_data=(x_val,y_val))"
   ]
  },
  {
   "cell_type": "code",
   "execution_count": 9,
   "metadata": {},
   "outputs": [
    {
     "name": "stdout",
     "output_type": "stream",
     "text": [
      "Assignment_2_first_model_train_loss -> [4.287698268890381, 1.6017961502075195, 1.3344250917434692, 1.1655800342559814, 1.0324889421463013, 0.9188665151596069, 0.8191154599189758, 0.7327010631561279, 0.6507695317268372, 0.5752825140953064, 0.508366048336029, 0.44309863448143005, 0.3894880414009094, 0.3404024839401245, 0.2924562692642212, 0.2502696216106415, 0.21474798023700714, 0.17958031594753265, 0.15080691874027252, 0.12552130222320557, 0.10282555222511292, 0.08474047482013702, 0.06976619362831116, 0.058530714362859726, 0.04886357858777046, 0.03924575075507164, 0.034725483506917953, 0.030157381668686867, 0.029425092041492462, 0.02246495708823204, 0.021160384640097618, 0.018627822399139404, 0.01759880594909191, 0.01583228074014187, 0.015167506411671638, 0.012239744886755943, 0.011631271801888943, 0.011531160213053226, 0.009783292189240456, 0.010483259335160255, 0.010564981959760189, 0.008432175032794476, 0.009430747479200363, 0.009432001039385796, 0.010240097530186176, 0.008452351205050945, 0.00914792437106371, 0.0070702796801924706, 0.006315391510725021, 0.006913140881806612] 50\n",
      "Assignment_2_first_model_val_loss -> [1.8677623271942139, 1.5319461822509766, 1.434849500656128, 1.3669989109039307, 1.4004249572753906, 1.3551430702209473, 1.312660574913025, 1.2691192626953125, 1.2469762563705444, 1.3890959024429321, 1.3390178680419922, 1.379141092300415, 1.5135198831558228, 1.4842385053634644, 1.5176923274993896, 1.5196654796600342, 1.5453277826309204, 1.618308424949646, 1.698736548423767, 1.7006179094314575, 1.845263123512268, 1.9378408193588257, 1.9654574394226074, 2.0324041843414307, 2.1093647480010986, 2.1266562938690186, 2.191498041152954, 2.274172782897949, 2.3271024227142334, 2.4442553520202637, 2.5786828994750977, 2.5241057872772217, 2.579533100128174, 2.528681993484497, 2.6525917053222656, 2.632101058959961, 2.837493658065796, 2.8177216053009033, 2.7519872188568115, 2.7824437618255615, 2.8316709995269775, 2.8387041091918945, 2.880286693572998, 2.9192800521850586, 2.9134747982025146, 3.044177293777466, 3.077773332595825, 3.0931785106658936, 3.226989984512329, 3.2028517723083496] 50\n"
     ]
    }
   ],
   "source": [
    "model.save('Assignment_2_first_model.h5')\n",
    "Assignment_2_first_model_train_loss = history.history['loss']\n",
    "Assignment_2_first_model_val_loss = history.history['val_loss']\n",
    "print('Assignment_2_first_model_train_loss ->',Assignment_2_first_model_train_loss,len(Assignment_2_first_model_train_loss))\n",
    "print('Assignment_2_first_model_val_loss ->',Assignment_2_first_model_val_loss,len(Assignment_2_first_model_val_loss))\n"
   ]
  },
  {
   "cell_type": "markdown",
   "metadata": {},
   "source": [
    "## 3. Plot the training and validation loss curve versus epochs. (5 points)"
   ]
  },
  {
   "cell_type": "code",
   "execution_count": 10,
   "metadata": {},
   "outputs": [
    {
     "data": {
      "image/png": "[encoded data removed]",
      "text/plain": [
       "<Figure size 432x288 with 1 Axes>"
      ]
     },
     "metadata": {
      "needs_background": "light"
     },
     "output_type": "display_data"
    }
   ],
   "source": [
    "# Plot the loss curve\n",
    "import matplotlib.pyplot as plt\n",
    "%matplotlib inline\n",
    "\n",
    "epochs = range(50)\n",
    "train_loss = history.history['loss']\n",
    "val_loss = history.history['val_loss']\n",
    "plt.plot(epochs,train_loss,'bo',label= 'Training Loss')\n",
    "plt.plot(epochs,val_loss,'r',label= 'Validation Loss')\n",
    "plt.xlabel('Epochs')\n",
    "plt.ylabel('Loss')\n",
    "plt.legend()\n",
    "plt.show()\n",
    "\n"
   ]
  },
  {
   "cell_type": "markdown",
   "metadata": {},
   "source": [
    "## 4. Train (again) and evaluate the model (5 points)\n",
    "\n",
    "- To this end, you have found the \"best\" hyper-parameters. \n",
    "- Now, fix the hyper-parameters and train the network on the entire training set (all the 50K training samples)\n",
    "- Evaluate your model on the test set."
   ]
  },
  {
   "cell_type": "markdown",
   "metadata": {},
   "source": [
    "### Train the model on the entire training set\n",
    "\n",
    "Why? Previously, you used 40K samples for training; you wasted 10K samples for the sake of hyper-parameter tuning. Now you already know the hyper-parameters, so why not using all the 50K samples for training?"
   ]
  },
  {
   "cell_type": "code",
   "execution_count": 11,
   "metadata": {},
   "outputs": [],
   "source": [
    "#<Compile your model again (using the same hyper-parameters you tuned above)>\n",
    "from keras import optimizers\n",
    "model.compile(optimizers.rmsprop_v2.RMSprop(learning_rate=0.0001),\n",
    "              loss='categorical_crossentropy',\n",
    "              metrics=['accuracy'])\n",
    "\n"
   ]
  },
  {
   "cell_type": "code",
   "execution_count": 7,
   "metadata": {},
   "outputs": [
    {
     "name": "stdout",
     "output_type": "stream",
     "text": [
      "Epoch 1/50\n",
      "391/391 [==============================] - 26s 66ms/step - loss: 5.8414 - accuracy: 0.2744\n",
      "Epoch 2/50\n",
      "391/391 [==============================] - 27s 68ms/step - loss: 1.6306 - accuracy: 0.4472\n",
      "Epoch 3/50\n",
      "391/391 [==============================] - 39s 101ms/step - loss: 1.3131 - accuracy: 0.5448\n",
      "Epoch 4/50\n",
      "391/391 [==============================] - 30s 78ms/step - loss: 1.1372 - accuracy: 0.6071\n",
      "Epoch 5/50\n",
      "391/391 [==============================] - 30s 78ms/step - loss: 1.0013 - accuracy: 0.6551\n",
      "Epoch 6/50\n",
      "391/391 [==============================] - 30s 76ms/step - loss: 0.8900 - accuracy: 0.6941\n",
      "Epoch 7/50\n",
      "391/391 [==============================] - 30s 78ms/step - loss: 0.7919 - accuracy: 0.7297\n",
      "Epoch 8/50\n",
      "391/391 [==============================] - 29s 73ms/step - loss: 0.7069 - accuracy: 0.7593\n",
      "Epoch 9/50\n",
      "391/391 [==============================] - 28s 71ms/step - loss: 0.6287 - accuracy: 0.7875\n",
      "Epoch 10/50\n",
      "391/391 [==============================] - 27s 70ms/step - loss: 0.5556 - accuracy: 0.8131\n",
      "Epoch 11/50\n",
      "391/391 [==============================] - 27s 69ms/step - loss: 0.4907 - accuracy: 0.8371\n",
      "Epoch 12/50\n",
      "391/391 [==============================] - 28s 70ms/step - loss: 0.4300 - accuracy: 0.8603\n",
      "Epoch 13/50\n",
      "391/391 [==============================] - 28s 71ms/step - loss: 0.3737 - accuracy: 0.8798\n",
      "Epoch 14/50\n",
      "391/391 [==============================] - 28s 70ms/step - loss: 0.3239 - accuracy: 0.8978\n",
      "Epoch 15/50\n",
      "391/391 [==============================] - 26s 68ms/step - loss: 0.2757 - accuracy: 0.9142\n",
      "Epoch 16/50\n",
      "391/391 [==============================] - 27s 70ms/step - loss: 0.2351 - accuracy: 0.9298\n",
      "Epoch 17/50\n",
      "391/391 [==============================] - 27s 70ms/step - loss: 0.1987 - accuracy: 0.9411\n",
      "Epoch 18/50\n",
      "391/391 [==============================] - 27s 69ms/step - loss: 0.1668 - accuracy: 0.9529\n",
      "Epoch 19/50\n",
      "391/391 [==============================] - 26s 68ms/step - loss: 0.1379 - accuracy: 0.9631\n",
      "Epoch 20/50\n",
      "391/391 [==============================] - 26s 67ms/step - loss: 0.1128 - accuracy: 0.9716\n",
      "Epoch 21/50\n",
      "391/391 [==============================] - 27s 69ms/step - loss: 0.0942 - accuracy: 0.9769\n",
      "Epoch 22/50\n",
      "391/391 [==============================] - 27s 70ms/step - loss: 0.0766 - accuracy: 0.9825\n",
      "Epoch 23/50\n",
      "391/391 [==============================] - 27s 69ms/step - loss: 0.0630 - accuracy: 0.9866\n",
      "Epoch 24/50\n",
      "391/391 [==============================] - 26s 68ms/step - loss: 0.0525 - accuracy: 0.9890\n",
      "Epoch 25/50\n",
      "391/391 [==============================] - 26s 67ms/step - loss: 0.0437 - accuracy: 0.9911\n",
      "Epoch 26/50\n",
      "391/391 [==============================] - 26s 66ms/step - loss: 0.0367 - accuracy: 0.9926\n",
      "Epoch 27/50\n",
      "391/391 [==============================] - 26s 66ms/step - loss: 0.0302 - accuracy: 0.9942\n",
      "Epoch 28/50\n",
      "391/391 [==============================] - 26s 67ms/step - loss: 0.0265 - accuracy: 0.9948\n",
      "Epoch 29/50\n",
      "391/391 [==============================] - 26s 67ms/step - loss: 0.0244 - accuracy: 0.9949\n",
      "Epoch 30/50\n",
      "391/391 [==============================] - 27s 69ms/step - loss: 0.0203 - accuracy: 0.9959\n",
      "Epoch 31/50\n",
      "391/391 [==============================] - 27s 68ms/step - loss: 0.0189 - accuracy: 0.9960\n",
      "Epoch 32/50\n",
      "391/391 [==============================] - 26s 68ms/step - loss: 0.0161 - accuracy: 0.9963\n",
      "Epoch 33/50\n",
      "391/391 [==============================] - 26s 65ms/step - loss: 0.0153 - accuracy: 0.9969\n",
      "Epoch 34/50\n",
      "391/391 [==============================] - 26s 66ms/step - loss: 0.0154 - accuracy: 0.9965\n",
      "Epoch 35/50\n",
      "391/391 [==============================] - 27s 69ms/step - loss: 0.0134 - accuracy: 0.9968\n",
      "Epoch 36/50\n",
      "391/391 [==============================] - 26s 67ms/step - loss: 0.0128 - accuracy: 0.9970\n",
      "Epoch 37/50\n",
      "391/391 [==============================] - 25s 64ms/step - loss: 0.0141 - accuracy: 0.9965\n",
      "Epoch 38/50\n",
      "391/391 [==============================] - 26s 65ms/step - loss: 0.0111 - accuracy: 0.9976\n",
      "Epoch 39/50\n",
      "391/391 [==============================] - 26s 66ms/step - loss: 0.0110 - accuracy: 0.9972\n",
      "Epoch 40/50\n",
      "391/391 [==============================] - 26s 66ms/step - loss: 0.0109 - accuracy: 0.9971\n",
      "Epoch 41/50\n",
      "391/391 [==============================] - 26s 65ms/step - loss: 0.0085 - accuracy: 0.9980\n",
      "Epoch 42/50\n",
      "391/391 [==============================] - 25s 65ms/step - loss: 0.0096 - accuracy: 0.9973\n",
      "Epoch 43/50\n",
      "391/391 [==============================] - 25s 65ms/step - loss: 0.0101 - accuracy: 0.9977\n",
      "Epoch 44/50\n",
      "391/391 [==============================] - 26s 66ms/step - loss: 0.0095 - accuracy: 0.9978\n",
      "Epoch 45/50\n",
      "391/391 [==============================] - 29s 74ms/step - loss: 0.0110 - accuracy: 0.9969\n",
      "Epoch 46/50\n",
      "391/391 [==============================] - 26s 66ms/step - loss: 0.0090 - accuracy: 0.9976\n",
      "Epoch 47/50\n",
      "391/391 [==============================] - 25s 64ms/step - loss: 0.0079 - accuracy: 0.9980\n",
      "Epoch 48/50\n",
      "391/391 [==============================] - 25s 64ms/step - loss: 0.0079 - accuracy: 0.9979\n",
      "Epoch 49/50\n",
      "391/391 [==============================] - 25s 65ms/step - loss: 0.0094 - accuracy: 0.9976\n",
      "Epoch 50/50\n",
      "391/391 [==============================] - 25s 64ms/step - loss: 0.0075 - accuracy: 0.9982\n"
     ]
    }
   ],
   "source": [
    "#<Train your model on the entire training set (50K samples)>\n",
    "history2 = model.fit(x_train,y_train_vec,\n",
    "                    batch_size=128, epochs =50)"
   ]
  },
  {
   "cell_type": "markdown",
   "metadata": {},
   "source": [
    "## 5. Evaluate the model on the test set (5 points)\n",
    "\n",
    "Do NOT used the test set until now. Make sure that your model parameters and hyper-parameters are independent of the test set."
   ]
  },
  {
   "cell_type": "code",
   "execution_count": 8,
   "metadata": {},
   "outputs": [
    {
     "name": "stdout",
     "output_type": "stream",
     "text": [
      "313/313 [==============================] - 3s 6ms/step - loss: 3.0351 - accuracy: 0.6519\n",
      "loss =  3.035090684890747\n",
      "accuracy =  0.6518999934196472\n"
     ]
    }
   ],
   "source": [
    "# Evaluate your model performance (testing accuracy) on testing data.\n",
    "loss_and_acc = model.evaluate(x_test,y_test_vec)\n",
    "print('loss = ', str(loss_and_acc[0]))\n",
    "print('accuracy = ', str(loss_and_acc[1]))\n"
   ]
  },
  {
   "cell_type": "markdown",
   "metadata": {},
   "source": [
    "## 6. Building model with new structure (25 points)\n",
    "- In this section, you can build your model with adding new layers (e.g, BN layer or dropout layer, ...).\n",
    "- If you want to regularize a ```Conv/Dense layer```, you should place a ```Dropout layer``` before the ```Conv/Dense layer```.\n",
    "- You can try to compare their loss curve and testing accuracy and analyze your findings.\n",
    "- You need to try at lease two different model structures."
   ]
  },
  {
   "cell_type": "code",
   "execution_count": 12,
   "metadata": {},
   "outputs": [
    {
     "name": "stdout",
     "output_type": "stream",
     "text": [
      "Model: \"sequential\"\n",
      "_________________________________________________________________\n",
      " Layer (type)                Output Shape              Param #   \n",
      "=================================================================\n",
      " conv2d (Conv2D)             (None, 30, 30, 32)        896       \n",
      "                                                                 \n",
      " max_pooling2d (MaxPooling2D  (None, 15, 15, 32)       0         \n",
      " )                                                               \n",
      "                                                                 \n",
      " conv2d_1 (Conv2D)           (None, 12, 12, 64)        32832     \n",
      "                                                                 \n",
      " max_pooling2d_1 (MaxPooling  (None, 6, 6, 64)         0         \n",
      " 2D)                                                             \n",
      "                                                                 \n",
      " flatten (Flatten)           (None, 2304)              0         \n",
      "                                                                 \n",
      " dense (Dense)               (None, 256)               590080    \n",
      "                                                                 \n",
      " dense_1 (Dense)             (None, 10)                2570      \n",
      "                                                                 \n",
      "=================================================================\n",
      "Total params: 626,378\n",
      "Trainable params: 626,378\n",
      "Non-trainable params: 0\n",
      "_________________________________________________________________\n"
     ]
    }
   ],
   "source": [
    "model.summary()"
   ]
  },
  {
   "cell_type": "code",
   "execution_count": 19,
   "metadata": {},
   "outputs": [],
   "source": [
    "datagen = keras.preprocessing.image.ImageDataGenerator(\n",
    "    featurewise_center=True,\n",
    "    featurewise_std_normalization=True,\n",
    "    rotation_range=20,\n",
    "    width_shift_range=0.2,\n",
    "    height_shift_range=0.2,\n",
    "    horizontal_flip=True,\n",
    "    validation_split=0.2)"
   ]
  },
  {
   "cell_type": "code",
   "execution_count": 20,
   "metadata": {},
   "outputs": [],
   "source": [
    "datagen.fit(x_train)"
   ]
  },
  {
   "cell_type": "code",
   "execution_count": 28,
   "metadata": {},
   "outputs": [
    {
     "name": "stdout",
     "output_type": "stream",
     "text": [
      "Epoch 1/100\n",
      "1000/1000 [==============================] - 29s 29ms/step - loss: 0.9654 - accuracy: 0.6666 - val_loss: 215.4222 - val_accuracy: 0.0875\n",
      "Epoch 2/100\n",
      "1000/1000 [==============================] - 25s 25ms/step - loss: 0.9604 - accuracy: 0.6637 - val_loss: 238.4451 - val_accuracy: 0.0850\n",
      "Epoch 3/100\n",
      "1000/1000 [==============================] - 26s 26ms/step - loss: 0.9601 - accuracy: 0.6658 - val_loss: 216.2220 - val_accuracy: 0.1050\n",
      "Epoch 4/100\n",
      "1000/1000 [==============================] - 30s 30ms/step - loss: 0.9491 - accuracy: 0.6650 - val_loss: 223.5060 - val_accuracy: 0.0925\n",
      "Epoch 5/100\n",
      "1000/1000 [==============================] - 28s 28ms/step - loss: 0.9420 - accuracy: 0.6726 - val_loss: 220.2229 - val_accuracy: 0.1275\n",
      "Epoch 6/100\n",
      "1000/1000 [==============================] - 26s 26ms/step - loss: 0.9236 - accuracy: 0.6779 - val_loss: 238.8087 - val_accuracy: 0.1100\n",
      "Epoch 7/100\n",
      "1000/1000 [==============================] - 25s 25ms/step - loss: 0.9257 - accuracy: 0.6785 - val_loss: 243.1367 - val_accuracy: 0.1350\n",
      "Epoch 8/100\n",
      "1000/1000 [==============================] - 25s 25ms/step - loss: 0.9142 - accuracy: 0.6826 - val_loss: 250.5981 - val_accuracy: 0.0925\n",
      "Epoch 9/100\n",
      "1000/1000 [==============================] - 25s 25ms/step - loss: 0.9168 - accuracy: 0.6815 - val_loss: 246.4700 - val_accuracy: 0.1275\n",
      "Epoch 10/100\n",
      "1000/1000 [==============================] - 27s 27ms/step - loss: 0.9091 - accuracy: 0.6813 - val_loss: 254.3505 - val_accuracy: 0.0875\n",
      "Epoch 11/100\n",
      "1000/1000 [==============================] - 24s 24ms/step - loss: 0.9011 - accuracy: 0.6846 - val_loss: 240.0384 - val_accuracy: 0.1025\n",
      "Epoch 12/100\n",
      "1000/1000 [==============================] - 24s 24ms/step - loss: 0.8910 - accuracy: 0.6925 - val_loss: 264.1412 - val_accuracy: 0.0900\n",
      "Epoch 13/100\n",
      "1000/1000 [==============================] - 51s 51ms/step - loss: 0.8893 - accuracy: 0.6928 - val_loss: 252.9097 - val_accuracy: 0.0975\n",
      "Epoch 14/100\n",
      "1000/1000 [==============================] - 27s 26ms/step - loss: 0.8942 - accuracy: 0.6908 - val_loss: 241.0367 - val_accuracy: 0.1200\n",
      "Epoch 15/100\n",
      "1000/1000 [==============================] - 25s 25ms/step - loss: 0.8838 - accuracy: 0.6913 - val_loss: 254.1356 - val_accuracy: 0.1075\n",
      "Epoch 16/100\n",
      "1000/1000 [==============================] - 26s 26ms/step - loss: 0.8801 - accuracy: 0.6922 - val_loss: 240.0927 - val_accuracy: 0.1025\n",
      "Epoch 17/100\n",
      "1000/1000 [==============================] - 26s 26ms/step - loss: 0.8734 - accuracy: 0.6961 - val_loss: 232.6072 - val_accuracy: 0.1025\n",
      "Epoch 18/100\n",
      "1000/1000 [==============================] - 27s 27ms/step - loss: 0.8782 - accuracy: 0.6943 - val_loss: 242.3454 - val_accuracy: 0.1225\n",
      "Epoch 19/100\n",
      "1000/1000 [==============================] - 25s 25ms/step - loss: 0.8652 - accuracy: 0.7009 - val_loss: 245.8454 - val_accuracy: 0.1025\n",
      "Epoch 20/100\n",
      "1000/1000 [==============================] - 25s 25ms/step - loss: 0.8604 - accuracy: 0.7015 - val_loss: 268.7341 - val_accuracy: 0.0800\n",
      "Epoch 21/100\n",
      "1000/1000 [==============================] - 28s 28ms/step - loss: 0.8604 - accuracy: 0.7013 - val_loss: 254.6558 - val_accuracy: 0.1025\n",
      "Epoch 22/100\n",
      "1000/1000 [==============================] - 27s 27ms/step - loss: 0.8546 - accuracy: 0.7051 - val_loss: 275.5574 - val_accuracy: 0.0950\n",
      "Epoch 23/100\n",
      "1000/1000 [==============================] - 26s 26ms/step - loss: 0.8509 - accuracy: 0.7030 - val_loss: 260.3649 - val_accuracy: 0.0875\n",
      "Epoch 24/100\n",
      "1000/1000 [==============================] - 28s 28ms/step - loss: 0.8454 - accuracy: 0.7078 - val_loss: 261.0072 - val_accuracy: 0.1125\n",
      "Epoch 25/100\n",
      "1000/1000 [==============================] - 27s 27ms/step - loss: 0.8432 - accuracy: 0.7074 - val_loss: 267.9139 - val_accuracy: 0.1250\n",
      "Epoch 26/100\n",
      "1000/1000 [==============================] - 25s 25ms/step - loss: 0.8449 - accuracy: 0.7075 - val_loss: 262.5393 - val_accuracy: 0.1100\n",
      "Epoch 27/100\n",
      "1000/1000 [==============================] - 26s 26ms/step - loss: 0.8396 - accuracy: 0.7098 - val_loss: 268.1743 - val_accuracy: 0.1000\n",
      "Epoch 28/100\n",
      "1000/1000 [==============================] - 25s 25ms/step - loss: 0.8316 - accuracy: 0.7136 - val_loss: 264.9681 - val_accuracy: 0.1000\n",
      "Epoch 29/100\n",
      "1000/1000 [==============================] - 25s 25ms/step - loss: 0.8218 - accuracy: 0.7172 - val_loss: 261.8637 - val_accuracy: 0.1025\n",
      "Epoch 30/100\n",
      "1000/1000 [==============================] - 25s 25ms/step - loss: 0.8295 - accuracy: 0.7134 - val_loss: 251.1314 - val_accuracy: 0.1125\n",
      "Epoch 31/100\n",
      "1000/1000 [==============================] - 25s 25ms/step - loss: 0.8271 - accuracy: 0.7127 - val_loss: 282.1612 - val_accuracy: 0.0650\n",
      "Epoch 32/100\n",
      "1000/1000 [==============================] - 26s 26ms/step - loss: 0.8245 - accuracy: 0.7133 - val_loss: 284.9640 - val_accuracy: 0.1475\n",
      "Epoch 33/100\n",
      "1000/1000 [==============================] - 25s 25ms/step - loss: 0.8270 - accuracy: 0.7152 - val_loss: 266.3420 - val_accuracy: 0.0975\n",
      "Epoch 34/100\n",
      "1000/1000 [==============================] - 27s 27ms/step - loss: 0.8231 - accuracy: 0.7140 - val_loss: 277.5393 - val_accuracy: 0.1125\n",
      "Epoch 35/100\n",
      " 822/1000 [=======================>......] - ETA: 4s - loss: 0.8241 - accuracy: 0.7164"
     ]
    },
    {
     "ename": "KeyboardInterrupt",
     "evalue": "",
     "output_type": "error",
     "traceback": [
      "\u001b[0;31m---------------------------------------------------------------------------\u001b[0m",
      "\u001b[0;31mKeyboardInterrupt\u001b[0m                         Traceback (most recent call last)",
      "\u001b[0;32m/var/folders/mb/fzndffws2vn5fyk_kfbd1ft00000gq/T/ipykernel_94978/855675256.py\u001b[0m in \u001b[0;36m<module>\u001b[0;34m\u001b[0m\n\u001b[0;32m----> 1\u001b[0;31m history_4 = model.fit(datagen.flow(x_train, y_train_vec, batch_size=32,\n\u001b[0m\u001b[1;32m      2\u001b[0m          subset='training'),\n\u001b[1;32m      3\u001b[0m          validation_data=datagen.flow(x_train, y_train,\n\u001b[1;32m      4\u001b[0m          batch_size=8, subset='validation'),\n\u001b[1;32m      5\u001b[0m          steps_per_epoch=1000, epochs=100,validation_steps=50)\n",
      "\u001b[0;32m~/opt/anaconda3/lib/python3.9/site-packages/keras/utils/traceback_utils.py\u001b[0m in \u001b[0;36merror_handler\u001b[0;34m(*args, **kwargs)\u001b[0m\n\u001b[1;32m     62\u001b[0m     \u001b[0mfiltered_tb\u001b[0m \u001b[0;34m=\u001b[0m \u001b[0;32mNone\u001b[0m\u001b[0;34m\u001b[0m\u001b[0;34m\u001b[0m\u001b[0m\n\u001b[1;32m     63\u001b[0m     \u001b[0;32mtry\u001b[0m\u001b[0;34m:\u001b[0m\u001b[0;34m\u001b[0m\u001b[0;34m\u001b[0m\u001b[0m\n\u001b[0;32m---> 64\u001b[0;31m       \u001b[0;32mreturn\u001b[0m \u001b[0mfn\u001b[0m\u001b[0;34m(\u001b[0m\u001b[0;34m*\u001b[0m\u001b[0margs\u001b[0m\u001b[0;34m,\u001b[0m \u001b[0;34m**\u001b[0m\u001b[0mkwargs\u001b[0m\u001b[0;34m)\u001b[0m\u001b[0;34m\u001b[0m\u001b[0;34m\u001b[0m\u001b[0m\n\u001b[0m\u001b[1;32m     65\u001b[0m     \u001b[0;32mexcept\u001b[0m \u001b[0mException\u001b[0m \u001b[0;32mas\u001b[0m \u001b[0me\u001b[0m\u001b[0;34m:\u001b[0m  \u001b[0;31m# pylint: disable=broad-except\u001b[0m\u001b[0;34m\u001b[0m\u001b[0;34m\u001b[0m\u001b[0m\n\u001b[1;32m     66\u001b[0m       \u001b[0mfiltered_tb\u001b[0m \u001b[0;34m=\u001b[0m \u001b[0m_process_traceback_frames\u001b[0m\u001b[0;34m(\u001b[0m\u001b[0me\u001b[0m\u001b[0;34m.\u001b[0m\u001b[0m__traceback__\u001b[0m\u001b[0;34m)\u001b[0m\u001b[0;34m\u001b[0m\u001b[0;34m\u001b[0m\u001b[0m\n",
      "\u001b[0;32m~/opt/anaconda3/lib/python3.9/site-packages/keras/engine/training.py\u001b[0m in \u001b[0;36mfit\u001b[0;34m(self, x, y, batch_size, epochs, verbose, callbacks, validation_split, validation_data, shuffle, class_weight, sample_weight, initial_epoch, steps_per_epoch, validation_steps, validation_batch_size, validation_freq, max_queue_size, workers, use_multiprocessing)\u001b[0m\n\u001b[1;32m   1214\u001b[0m                 _r=1):\n\u001b[1;32m   1215\u001b[0m               \u001b[0mcallbacks\u001b[0m\u001b[0;34m.\u001b[0m\u001b[0mon_train_batch_begin\u001b[0m\u001b[0;34m(\u001b[0m\u001b[0mstep\u001b[0m\u001b[0;34m)\u001b[0m\u001b[0;34m\u001b[0m\u001b[0;34m\u001b[0m\u001b[0m\n\u001b[0;32m-> 1216\u001b[0;31m               \u001b[0mtmp_logs\u001b[0m \u001b[0;34m=\u001b[0m \u001b[0mself\u001b[0m\u001b[0;34m.\u001b[0m\u001b[0mtrain_function\u001b[0m\u001b[0;34m(\u001b[0m\u001b[0miterator\u001b[0m\u001b[0;34m)\u001b[0m\u001b[0;34m\u001b[0m\u001b[0;34m\u001b[0m\u001b[0m\n\u001b[0m\u001b[1;32m   1217\u001b[0m               \u001b[0;32mif\u001b[0m \u001b[0mdata_handler\u001b[0m\u001b[0;34m.\u001b[0m\u001b[0mshould_sync\u001b[0m\u001b[0;34m:\u001b[0m\u001b[0;34m\u001b[0m\u001b[0;34m\u001b[0m\u001b[0m\n\u001b[1;32m   1218\u001b[0m                 \u001b[0mcontext\u001b[0m\u001b[0;34m.\u001b[0m\u001b[0masync_wait\u001b[0m\u001b[0;34m(\u001b[0m\u001b[0;34m)\u001b[0m\u001b[0;34m\u001b[0m\u001b[0;34m\u001b[0m\u001b[0m\n",
      "\u001b[0;32m~/opt/anaconda3/lib/python3.9/site-packages/tensorflow/python/util/traceback_utils.py\u001b[0m in \u001b[0;36merror_handler\u001b[0;34m(*args, **kwargs)\u001b[0m\n\u001b[1;32m    148\u001b[0m     \u001b[0mfiltered_tb\u001b[0m \u001b[0;34m=\u001b[0m \u001b[0;32mNone\u001b[0m\u001b[0;34m\u001b[0m\u001b[0;34m\u001b[0m\u001b[0m\n\u001b[1;32m    149\u001b[0m     \u001b[0;32mtry\u001b[0m\u001b[0;34m:\u001b[0m\u001b[0;34m\u001b[0m\u001b[0;34m\u001b[0m\u001b[0m\n\u001b[0;32m--> 150\u001b[0;31m       \u001b[0;32mreturn\u001b[0m \u001b[0mfn\u001b[0m\u001b[0;34m(\u001b[0m\u001b[0;34m*\u001b[0m\u001b[0margs\u001b[0m\u001b[0;34m,\u001b[0m \u001b[0;34m**\u001b[0m\u001b[0mkwargs\u001b[0m\u001b[0;34m)\u001b[0m\u001b[0;34m\u001b[0m\u001b[0;34m\u001b[0m\u001b[0m\n\u001b[0m\u001b[1;32m    151\u001b[0m     \u001b[0;32mexcept\u001b[0m \u001b[0mException\u001b[0m \u001b[0;32mas\u001b[0m \u001b[0me\u001b[0m\u001b[0;34m:\u001b[0m\u001b[0;34m\u001b[0m\u001b[0;34m\u001b[0m\u001b[0m\n\u001b[1;32m    152\u001b[0m       \u001b[0mfiltered_tb\u001b[0m \u001b[0;34m=\u001b[0m \u001b[0m_process_traceback_frames\u001b[0m\u001b[0;34m(\u001b[0m\u001b[0me\u001b[0m\u001b[0;34m.\u001b[0m\u001b[0m__traceback__\u001b[0m\u001b[0;34m)\u001b[0m\u001b[0;34m\u001b[0m\u001b[0;34m\u001b[0m\u001b[0m\n",
      "\u001b[0;32m~/opt/anaconda3/lib/python3.9/site-packages/tensorflow/python/eager/def_function.py\u001b[0m in \u001b[0;36m__call__\u001b[0;34m(self, *args, **kwds)\u001b[0m\n\u001b[1;32m    908\u001b[0m \u001b[0;34m\u001b[0m\u001b[0m\n\u001b[1;32m    909\u001b[0m       \u001b[0;32mwith\u001b[0m \u001b[0mOptionalXlaContext\u001b[0m\u001b[0;34m(\u001b[0m\u001b[0mself\u001b[0m\u001b[0;34m.\u001b[0m\u001b[0m_jit_compile\u001b[0m\u001b[0;34m)\u001b[0m\u001b[0;34m:\u001b[0m\u001b[0;34m\u001b[0m\u001b[0;34m\u001b[0m\u001b[0m\n\u001b[0;32m--> 910\u001b[0;31m         \u001b[0mresult\u001b[0m \u001b[0;34m=\u001b[0m \u001b[0mself\u001b[0m\u001b[0;34m.\u001b[0m\u001b[0m_call\u001b[0m\u001b[0;34m(\u001b[0m\u001b[0;34m*\u001b[0m\u001b[0margs\u001b[0m\u001b[0;34m,\u001b[0m \u001b[0;34m**\u001b[0m\u001b[0mkwds\u001b[0m\u001b[0;34m)\u001b[0m\u001b[0;34m\u001b[0m\u001b[0;34m\u001b[0m\u001b[0m\n\u001b[0m\u001b[1;32m    911\u001b[0m \u001b[0;34m\u001b[0m\u001b[0m\n\u001b[1;32m    912\u001b[0m       \u001b[0mnew_tracing_count\u001b[0m \u001b[0;34m=\u001b[0m \u001b[0mself\u001b[0m\u001b[0;34m.\u001b[0m\u001b[0mexperimental_get_tracing_count\u001b[0m\u001b[0;34m(\u001b[0m\u001b[0;34m)\u001b[0m\u001b[0;34m\u001b[0m\u001b[0;34m\u001b[0m\u001b[0m\n",
      "\u001b[0;32m~/opt/anaconda3/lib/python3.9/site-packages/tensorflow/python/eager/def_function.py\u001b[0m in \u001b[0;36m_call\u001b[0;34m(self, *args, **kwds)\u001b[0m\n\u001b[1;32m    940\u001b[0m       \u001b[0;31m# In this case we have created variables on the first call, so we run the\u001b[0m\u001b[0;34m\u001b[0m\u001b[0;34m\u001b[0m\u001b[0m\n\u001b[1;32m    941\u001b[0m       \u001b[0;31m# defunned version which is guaranteed to never create variables.\u001b[0m\u001b[0;34m\u001b[0m\u001b[0;34m\u001b[0m\u001b[0m\n\u001b[0;32m--> 942\u001b[0;31m       \u001b[0;32mreturn\u001b[0m \u001b[0mself\u001b[0m\u001b[0;34m.\u001b[0m\u001b[0m_stateless_fn\u001b[0m\u001b[0;34m(\u001b[0m\u001b[0;34m*\u001b[0m\u001b[0margs\u001b[0m\u001b[0;34m,\u001b[0m \u001b[0;34m**\u001b[0m\u001b[0mkwds\u001b[0m\u001b[0;34m)\u001b[0m  \u001b[0;31m# pylint: disable=not-callable\u001b[0m\u001b[0;34m\u001b[0m\u001b[0;34m\u001b[0m\u001b[0m\n\u001b[0m\u001b[1;32m    943\u001b[0m     \u001b[0;32melif\u001b[0m \u001b[0mself\u001b[0m\u001b[0;34m.\u001b[0m\u001b[0m_stateful_fn\u001b[0m \u001b[0;32mis\u001b[0m \u001b[0;32mnot\u001b[0m \u001b[0;32mNone\u001b[0m\u001b[0;34m:\u001b[0m\u001b[0;34m\u001b[0m\u001b[0;34m\u001b[0m\u001b[0m\n\u001b[1;32m    944\u001b[0m       \u001b[0;31m# Release the lock early so that multiple threads can perform the call\u001b[0m\u001b[0;34m\u001b[0m\u001b[0;34m\u001b[0m\u001b[0m\n",
      "\u001b[0;32m~/opt/anaconda3/lib/python3.9/site-packages/tensorflow/python/eager/function.py\u001b[0m in \u001b[0;36m__call__\u001b[0;34m(self, *args, **kwargs)\u001b[0m\n\u001b[1;32m   3128\u001b[0m       (graph_function,\n\u001b[1;32m   3129\u001b[0m        filtered_flat_args) = self._maybe_define_function(args, kwargs)\n\u001b[0;32m-> 3130\u001b[0;31m     return graph_function._call_flat(\n\u001b[0m\u001b[1;32m   3131\u001b[0m         filtered_flat_args, captured_inputs=graph_function.captured_inputs)  # pylint: disable=protected-access\n\u001b[1;32m   3132\u001b[0m \u001b[0;34m\u001b[0m\u001b[0m\n",
      "\u001b[0;32m~/opt/anaconda3/lib/python3.9/site-packages/tensorflow/python/eager/function.py\u001b[0m in \u001b[0;36m_call_flat\u001b[0;34m(self, args, captured_inputs, cancellation_manager)\u001b[0m\n\u001b[1;32m   1957\u001b[0m         and executing_eagerly):\n\u001b[1;32m   1958\u001b[0m       \u001b[0;31m# No tape is watching; skip to running the function.\u001b[0m\u001b[0;34m\u001b[0m\u001b[0;34m\u001b[0m\u001b[0m\n\u001b[0;32m-> 1959\u001b[0;31m       return self._build_call_outputs(self._inference_function.call(\n\u001b[0m\u001b[1;32m   1960\u001b[0m           ctx, args, cancellation_manager=cancellation_manager))\n\u001b[1;32m   1961\u001b[0m     forward_backward = self._select_forward_and_backward_functions(\n",
      "\u001b[0;32m~/opt/anaconda3/lib/python3.9/site-packages/tensorflow/python/eager/function.py\u001b[0m in \u001b[0;36mcall\u001b[0;34m(self, ctx, args, cancellation_manager)\u001b[0m\n\u001b[1;32m    596\u001b[0m       \u001b[0;32mwith\u001b[0m \u001b[0m_InterpolateFunctionError\u001b[0m\u001b[0;34m(\u001b[0m\u001b[0mself\u001b[0m\u001b[0;34m)\u001b[0m\u001b[0;34m:\u001b[0m\u001b[0;34m\u001b[0m\u001b[0;34m\u001b[0m\u001b[0m\n\u001b[1;32m    597\u001b[0m         \u001b[0;32mif\u001b[0m \u001b[0mcancellation_manager\u001b[0m \u001b[0;32mis\u001b[0m \u001b[0;32mNone\u001b[0m\u001b[0;34m:\u001b[0m\u001b[0;34m\u001b[0m\u001b[0;34m\u001b[0m\u001b[0m\n\u001b[0;32m--> 598\u001b[0;31m           outputs = execute.execute(\n\u001b[0m\u001b[1;32m    599\u001b[0m               \u001b[0mstr\u001b[0m\u001b[0;34m(\u001b[0m\u001b[0mself\u001b[0m\u001b[0;34m.\u001b[0m\u001b[0msignature\u001b[0m\u001b[0;34m.\u001b[0m\u001b[0mname\u001b[0m\u001b[0;34m)\u001b[0m\u001b[0;34m,\u001b[0m\u001b[0;34m\u001b[0m\u001b[0;34m\u001b[0m\u001b[0m\n\u001b[1;32m    600\u001b[0m               \u001b[0mnum_outputs\u001b[0m\u001b[0;34m=\u001b[0m\u001b[0mself\u001b[0m\u001b[0;34m.\u001b[0m\u001b[0m_num_outputs\u001b[0m\u001b[0;34m,\u001b[0m\u001b[0;34m\u001b[0m\u001b[0;34m\u001b[0m\u001b[0m\n",
      "\u001b[0;32m~/opt/anaconda3/lib/python3.9/site-packages/tensorflow/python/eager/execute.py\u001b[0m in \u001b[0;36mquick_execute\u001b[0;34m(op_name, num_outputs, inputs, attrs, ctx, name)\u001b[0m\n\u001b[1;32m     56\u001b[0m   \u001b[0;32mtry\u001b[0m\u001b[0;34m:\u001b[0m\u001b[0;34m\u001b[0m\u001b[0;34m\u001b[0m\u001b[0m\n\u001b[1;32m     57\u001b[0m     \u001b[0mctx\u001b[0m\u001b[0;34m.\u001b[0m\u001b[0mensure_initialized\u001b[0m\u001b[0;34m(\u001b[0m\u001b[0;34m)\u001b[0m\u001b[0;34m\u001b[0m\u001b[0;34m\u001b[0m\u001b[0m\n\u001b[0;32m---> 58\u001b[0;31m     tensors = pywrap_tfe.TFE_Py_Execute(ctx._handle, device_name, op_name,\n\u001b[0m\u001b[1;32m     59\u001b[0m                                         inputs, attrs, num_outputs)\n\u001b[1;32m     60\u001b[0m   \u001b[0;32mexcept\u001b[0m \u001b[0mcore\u001b[0m\u001b[0;34m.\u001b[0m\u001b[0m_NotOkStatusException\u001b[0m \u001b[0;32mas\u001b[0m \u001b[0me\u001b[0m\u001b[0;34m:\u001b[0m\u001b[0;34m\u001b[0m\u001b[0;34m\u001b[0m\u001b[0m\n",
      "\u001b[0;31mKeyboardInterrupt\u001b[0m: "
     ]
    }
   ],
   "source": [
    "history_4 = model.fit(datagen.flow(x_train, y_train_vec, batch_size=32,\n",
    "         subset='training'),\n",
    "         validation_data=datagen.flow(x_train, y_train,\n",
    "         batch_size=8, subset='validation'),\n",
    "         steps_per_epoch=1000, epochs=100,validation_steps=50)"
   ]
  },
  {
   "cell_type": "code",
   "execution_count": 24,
   "metadata": {},
   "outputs": [],
   "source": [
    "# Build the model\n",
    "model_2 = keras.models.Sequential([\n",
    "    keras.layers.Conv2D(32,3, activation='relu',input_shape=[32,32,3]),\n",
    "    keras.layers.MaxPool2D(2),\n",
    "    keras.layers.Conv2D(64,4,activation='relu'),\n",
    "    keras.layers.MaxPool2D(2),\n",
    "    keras.layers.Flatten(),\n",
    "    keras.layers.Dropout(0.5),\n",
    "    keras.layers.Dense(256,activation='relu'),\n",
    "    keras.layers.Dense(10,activation='softmax')\n",
    "])"
   ]
  },
  {
   "cell_type": "code",
   "execution_count": 25,
   "metadata": {},
   "outputs": [],
   "source": [
    "model_2.compile(optimizers.rmsprop_v2.RMSprop(learning_rate=0.0001),\n",
    "              loss='categorical_crossentropy',\n",
    "              metrics=['accuracy'])\n"
   ]
  },
  {
   "cell_type": "code",
   "execution_count": 26,
   "metadata": {},
   "outputs": [
    {
     "name": "stdout",
     "output_type": "stream",
     "text": [
      "Epoch 1/50\n",
      "313/313 [==============================] - 22s 68ms/step - loss: 4.8816 - accuracy: 0.1761 - val_loss: 2.0141 - val_accuracy: 0.2594\n",
      "Epoch 2/50\n",
      "313/313 [==============================] - 21s 68ms/step - loss: 1.9510 - accuracy: 0.2949 - val_loss: 1.7518 - val_accuracy: 0.3686\n",
      "Epoch 3/50\n",
      "313/313 [==============================] - 32s 103ms/step - loss: 1.7874 - accuracy: 0.3540 - val_loss: 1.6454 - val_accuracy: 0.3972\n",
      "Epoch 4/50\n",
      "313/313 [==============================] - 28s 88ms/step - loss: 1.6994 - accuracy: 0.3863 - val_loss: 1.5444 - val_accuracy: 0.4477\n",
      "Epoch 5/50\n",
      "313/313 [==============================] - 27s 86ms/step - loss: 1.6268 - accuracy: 0.4150 - val_loss: 1.5173 - val_accuracy: 0.4584\n",
      "Epoch 6/50\n",
      "313/313 [==============================] - 24s 77ms/step - loss: 1.5733 - accuracy: 0.4332 - val_loss: 1.4781 - val_accuracy: 0.4653\n",
      "Epoch 7/50\n",
      "313/313 [==============================] - 24s 76ms/step - loss: 1.5201 - accuracy: 0.4560 - val_loss: 1.4037 - val_accuracy: 0.4958\n",
      "Epoch 8/50\n",
      "313/313 [==============================] - 23s 74ms/step - loss: 1.4769 - accuracy: 0.4727 - val_loss: 1.4082 - val_accuracy: 0.5011\n",
      "Epoch 9/50\n",
      "313/313 [==============================] - 23s 74ms/step - loss: 1.4209 - accuracy: 0.4949 - val_loss: 1.3529 - val_accuracy: 0.5104\n",
      "Epoch 10/50\n",
      "313/313 [==============================] - 23s 72ms/step - loss: 1.3862 - accuracy: 0.5110 - val_loss: 1.2856 - val_accuracy: 0.5484\n",
      "Epoch 11/50\n",
      "313/313 [==============================] - 24s 76ms/step - loss: 1.3555 - accuracy: 0.5202 - val_loss: 1.2798 - val_accuracy: 0.5475\n",
      "Epoch 12/50\n",
      "313/313 [==============================] - 23s 74ms/step - loss: 1.3193 - accuracy: 0.5332 - val_loss: 1.2605 - val_accuracy: 0.5529\n",
      "Epoch 13/50\n",
      "313/313 [==============================] - 23s 74ms/step - loss: 1.2830 - accuracy: 0.5476 - val_loss: 1.2108 - val_accuracy: 0.5735\n",
      "Epoch 14/50\n",
      "313/313 [==============================] - 25s 80ms/step - loss: 1.2569 - accuracy: 0.5599 - val_loss: 1.2374 - val_accuracy: 0.5648\n",
      "Epoch 15/50\n",
      "313/313 [==============================] - 23s 73ms/step - loss: 1.2243 - accuracy: 0.5708 - val_loss: 1.1804 - val_accuracy: 0.5936\n",
      "Epoch 16/50\n",
      "313/313 [==============================] - 25s 79ms/step - loss: 1.1988 - accuracy: 0.5802 - val_loss: 1.2494 - val_accuracy: 0.5722\n",
      "Epoch 17/50\n",
      "313/313 [==============================] - 23s 74ms/step - loss: 1.1669 - accuracy: 0.5900 - val_loss: 1.3222 - val_accuracy: 0.5501\n",
      "Epoch 18/50\n",
      "313/313 [==============================] - 22s 71ms/step - loss: 1.1487 - accuracy: 0.5994 - val_loss: 1.1312 - val_accuracy: 0.6080\n",
      "Epoch 19/50\n",
      "313/313 [==============================] - 22s 70ms/step - loss: 1.1222 - accuracy: 0.6070 - val_loss: 1.1046 - val_accuracy: 0.6140\n",
      "Epoch 20/50\n",
      "313/313 [==============================] - 23s 74ms/step - loss: 1.1009 - accuracy: 0.6168 - val_loss: 1.1541 - val_accuracy: 0.5980\n",
      "Epoch 21/50\n",
      "313/313 [==============================] - 22s 71ms/step - loss: 1.0813 - accuracy: 0.6217 - val_loss: 1.1161 - val_accuracy: 0.6126\n",
      "Epoch 22/50\n",
      "313/313 [==============================] - 23s 75ms/step - loss: 1.0610 - accuracy: 0.6289 - val_loss: 1.1274 - val_accuracy: 0.6045\n",
      "Epoch 23/50\n",
      "313/313 [==============================] - 22s 71ms/step - loss: 1.0401 - accuracy: 0.6385 - val_loss: 1.0537 - val_accuracy: 0.6440\n",
      "Epoch 24/50\n",
      "313/313 [==============================] - 22s 71ms/step - loss: 1.0175 - accuracy: 0.6461 - val_loss: 1.0637 - val_accuracy: 0.6377\n",
      "Epoch 25/50\n",
      "313/313 [==============================] - 22s 72ms/step - loss: 1.0012 - accuracy: 0.6528 - val_loss: 1.0924 - val_accuracy: 0.6168\n",
      "Epoch 26/50\n",
      "313/313 [==============================] - 22s 71ms/step - loss: 0.9785 - accuracy: 0.6596 - val_loss: 1.0534 - val_accuracy: 0.6393\n",
      "Epoch 27/50\n",
      "313/313 [==============================] - 22s 71ms/step - loss: 0.9702 - accuracy: 0.6620 - val_loss: 1.1054 - val_accuracy: 0.6192\n",
      "Epoch 28/50\n",
      "313/313 [==============================] - 22s 70ms/step - loss: 0.9525 - accuracy: 0.6701 - val_loss: 1.0683 - val_accuracy: 0.6412\n",
      "Epoch 29/50\n",
      "313/313 [==============================] - 22s 70ms/step - loss: 0.9347 - accuracy: 0.6753 - val_loss: 1.0155 - val_accuracy: 0.6509\n",
      "Epoch 30/50\n",
      "313/313 [==============================] - 22s 70ms/step - loss: 0.9142 - accuracy: 0.6851 - val_loss: 1.0174 - val_accuracy: 0.6522\n",
      "Epoch 31/50\n",
      "313/313 [==============================] - 22s 71ms/step - loss: 0.9047 - accuracy: 0.6865 - val_loss: 1.0482 - val_accuracy: 0.6450\n",
      "Epoch 32/50\n",
      "313/313 [==============================] - 22s 72ms/step - loss: 0.8878 - accuracy: 0.6901 - val_loss: 0.9875 - val_accuracy: 0.6618\n",
      "Epoch 33/50\n",
      "313/313 [==============================] - 22s 70ms/step - loss: 0.8748 - accuracy: 0.6986 - val_loss: 1.0255 - val_accuracy: 0.6533\n",
      "Epoch 34/50\n",
      "313/313 [==============================] - 22s 69ms/step - loss: 0.8630 - accuracy: 0.7016 - val_loss: 1.0000 - val_accuracy: 0.6635\n",
      "Epoch 35/50\n",
      "313/313 [==============================] - 22s 69ms/step - loss: 0.8419 - accuracy: 0.7067 - val_loss: 0.9804 - val_accuracy: 0.6614\n",
      "Epoch 36/50\n",
      "313/313 [==============================] - 22s 70ms/step - loss: 0.8306 - accuracy: 0.7138 - val_loss: 0.9598 - val_accuracy: 0.6797\n",
      "Epoch 37/50\n",
      "313/313 [==============================] - 21s 68ms/step - loss: 0.8141 - accuracy: 0.7188 - val_loss: 1.1475 - val_accuracy: 0.6182\n",
      "Epoch 38/50\n",
      "313/313 [==============================] - 22s 69ms/step - loss: 0.8064 - accuracy: 0.7192 - val_loss: 0.9910 - val_accuracy: 0.6702\n",
      "Epoch 39/50\n",
      "313/313 [==============================] - 22s 69ms/step - loss: 0.7951 - accuracy: 0.7230 - val_loss: 0.9728 - val_accuracy: 0.6797\n",
      "Epoch 40/50\n",
      "313/313 [==============================] - 22s 69ms/step - loss: 0.7752 - accuracy: 0.7311 - val_loss: 0.9588 - val_accuracy: 0.6800\n",
      "Epoch 41/50\n",
      "313/313 [==============================] - 21s 68ms/step - loss: 0.7643 - accuracy: 0.7358 - val_loss: 0.9927 - val_accuracy: 0.6655\n",
      "Epoch 42/50\n",
      "313/313 [==============================] - 21s 68ms/step - loss: 0.7579 - accuracy: 0.7393 - val_loss: 0.9744 - val_accuracy: 0.6774\n",
      "Epoch 43/50\n",
      "313/313 [==============================] - 22s 71ms/step - loss: 0.7474 - accuracy: 0.7404 - val_loss: 0.9765 - val_accuracy: 0.6770\n",
      "Epoch 44/50\n",
      "313/313 [==============================] - 21s 68ms/step - loss: 0.7389 - accuracy: 0.7429 - val_loss: 0.9566 - val_accuracy: 0.6831\n",
      "Epoch 45/50\n",
      "313/313 [==============================] - 22s 69ms/step - loss: 0.7223 - accuracy: 0.7499 - val_loss: 0.9768 - val_accuracy: 0.6755\n",
      "Epoch 46/50\n",
      "313/313 [==============================] - 21s 68ms/step - loss: 0.7070 - accuracy: 0.7519 - val_loss: 0.9733 - val_accuracy: 0.6786\n",
      "Epoch 47/50\n",
      "313/313 [==============================] - 22s 70ms/step - loss: 0.7035 - accuracy: 0.7542 - val_loss: 0.9448 - val_accuracy: 0.6857\n",
      "Epoch 48/50\n",
      "313/313 [==============================] - 22s 69ms/step - loss: 0.6869 - accuracy: 0.7608 - val_loss: 0.9286 - val_accuracy: 0.6906\n",
      "Epoch 49/50\n",
      "313/313 [==============================] - 22s 69ms/step - loss: 0.6743 - accuracy: 0.7648 - val_loss: 0.9288 - val_accuracy: 0.6902\n",
      "Epoch 50/50\n",
      "313/313 [==============================] - 22s 69ms/step - loss: 0.6721 - accuracy: 0.7671 - val_loss: 0.9530 - val_accuracy: 0.6879\n"
     ]
    }
   ],
   "source": [
    "# Train the model and store model parameters/loss values\n",
    "history_2 = model_2.fit(x_tr,y_tr,\n",
    "                    batch_size=128, epochs =50,\n",
    "                   validation_data=(x_val,y_val))"
   ]
  },
  {
   "cell_type": "code",
   "execution_count": null,
   "metadata": {},
   "outputs": [],
   "source": [
    "# Plot the loss curve\n",
    "import matplotlib.pyplot as plt\n",
    "%matplotlib inline\n",
    "\n",
    "epochs = range(50)\n",
    "train_loss"
   ]
  },
  {
   "cell_type": "code",
   "execution_count": 19,
   "metadata": {},
   "outputs": [
    {
     "data": {
      "image/png": "[encoded data removed]",
      "text/plain": [
       "<Figure size 432x288 with 1 Axes>"
      ]
     },
     "metadata": {
      "needs_background": "light"
     },
     "output_type": "display_data"
    }
   ],
   "source": [
    "# Plot the loss curve\n",
    "import matplotlib.pyplot as plt\n",
    "%matplotlib inline\n",
    "\n",
    "epochs = range(50)\n",
    "train_loss_2 = history_2.history['loss']\n",
    "val_loss_2 = history_2.history['val_loss']\n",
    "plt.plot(epochs,train_loss_2,'bo',label= 'Training Loss')\n",
    "plt.plot(epochs,val_loss_2,'r',label= 'Validation Loss')\n",
    "plt.xlabel('Epochs')\n",
    "plt.ylabel('Loss')\n",
    "plt.legend()\n",
    "plt.show()\n"
   ]
  },
  {
   "cell_type": "code",
   "execution_count": 15,
   "metadata": {},
   "outputs": [],
   "source": [
    "# Build the model\n",
    "model_3 = keras.models.Sequential([\n",
    "    keras.layers.Conv2D(32,3, activation='relu',input_shape=[32,32,3]),\n",
    "    keras.layers.MaxPool2D(2),\n",
    "    keras.layers.Dropout(0.5),\n",
    "    keras.layers.Conv2D(64,4,activation='relu'),\n",
    "    keras.layers.MaxPool2D(2),\n",
    "    keras.layers.Flatten(),\n",
    "    keras.layers.Dense(256,activation='relu'),\n",
    "    keras.layers.Dropout(0.5),\n",
    "    keras.layers.Dense(10,activation='softmax')\n",
    "])"
   ]
  },
  {
   "cell_type": "code",
   "execution_count": 21,
   "metadata": {},
   "outputs": [
    {
     "name": "stdout",
     "output_type": "stream",
     "text": [
      "Model: \"sequential_2\"\n",
      "_________________________________________________________________\n",
      " Layer (type)                Output Shape              Param #   \n",
      "=================================================================\n",
      " conv2d_6 (Conv2D)           (None, 30, 30, 32)        896       \n",
      "                                                                 \n",
      " max_pooling2d_6 (MaxPooling  (None, 15, 15, 32)       0         \n",
      " 2D)                                                             \n",
      "                                                                 \n",
      " dropout_1 (Dropout)         (None, 15, 15, 32)        0         \n",
      "                                                                 \n",
      " conv2d_7 (Conv2D)           (None, 12, 12, 64)        32832     \n",
      "                                                                 \n",
      " max_pooling2d_7 (MaxPooling  (None, 6, 6, 64)         0         \n",
      " 2D)                                                             \n",
      "                                                                 \n",
      " flatten_3 (Flatten)         (None, 2304)              0         \n",
      "                                                                 \n",
      " dense_5 (Dense)             (None, 256)               590080    \n",
      "                                                                 \n",
      " dropout_2 (Dropout)         (None, 256)               0         \n",
      "                                                                 \n",
      " dense_6 (Dense)             (None, 10)                2570      \n",
      "                                                                 \n",
      "=================================================================\n",
      "Total params: 626,378\n",
      "Trainable params: 626,378\n",
      "Non-trainable params: 0\n",
      "_________________________________________________________________\n"
     ]
    }
   ],
   "source": [
    "model_3.summary()"
   ]
  },
  {
   "cell_type": "code",
   "execution_count": 22,
   "metadata": {},
   "outputs": [
    {
     "name": "stdout",
     "output_type": "stream",
     "text": [
      "Model: \"sequential_1\"\n",
      "_________________________________________________________________\n",
      " Layer (type)                Output Shape              Param #   \n",
      "=================================================================\n",
      " conv2d_4 (Conv2D)           (None, 30, 30, 32)        896       \n",
      "                                                                 \n",
      " max_pooling2d_4 (MaxPooling  (None, 15, 15, 32)       0         \n",
      " 2D)                                                             \n",
      "                                                                 \n",
      " conv2d_5 (Conv2D)           (None, 12, 12, 64)        32832     \n",
      "                                                                 \n",
      " max_pooling2d_5 (MaxPooling  (None, 6, 6, 64)         0         \n",
      " 2D)                                                             \n",
      "                                                                 \n",
      " flatten_2 (Flatten)         (None, 2304)              0         \n",
      "                                                                 \n",
      " dense_3 (Dense)             (None, 256)               590080    \n",
      "                                                                 \n",
      " dropout (Dropout)           (None, 256)               0         \n",
      "                                                                 \n",
      " dense_4 (Dense)             (None, 10)                2570      \n",
      "                                                                 \n",
      "=================================================================\n",
      "Total params: 626,378\n",
      "Trainable params: 626,378\n",
      "Non-trainable params: 0\n",
      "_________________________________________________________________\n"
     ]
    }
   ],
   "source": [
    "model_2.summary()"
   ]
  },
  {
   "cell_type": "code",
   "execution_count": 23,
   "metadata": {},
   "outputs": [
    {
     "name": "stdout",
     "output_type": "stream",
     "text": [
      "Model: \"sequential\"\n",
      "_________________________________________________________________\n",
      " Layer (type)                Output Shape              Param #   \n",
      "=================================================================\n",
      " conv2d (Conv2D)             (None, 30, 30, 32)        896       \n",
      "                                                                 \n",
      " max_pooling2d (MaxPooling2D  (None, 15, 15, 32)       0         \n",
      " )                                                               \n",
      "                                                                 \n",
      " conv2d_1 (Conv2D)           (None, 12, 12, 64)        32832     \n",
      "                                                                 \n",
      " max_pooling2d_1 (MaxPooling  (None, 6, 6, 64)         0         \n",
      " 2D)                                                             \n",
      "                                                                 \n",
      " flatten (Flatten)           (None, 2304)              0         \n",
      "                                                                 \n",
      " dense (Dense)               (None, 256)               590080    \n",
      "                                                                 \n",
      " dense_1 (Dense)             (None, 10)                2570      \n",
      "                                                                 \n",
      "=================================================================\n",
      "Total params: 626,378\n",
      "Trainable params: 626,378\n",
      "Non-trainable params: 0\n",
      "_________________________________________________________________\n"
     ]
    }
   ],
   "source": [
    "model.summary()"
   ]
  },
  {
   "cell_type": "code",
   "execution_count": 16,
   "metadata": {},
   "outputs": [],
   "source": [
    "model_3.compile(optimizers.rmsprop_v2.RMSprop(learning_rate=0.0001),\n",
    "              loss='categorical_crossentropy',\n",
    "              metrics=['accuracy'])\n"
   ]
  },
  {
   "cell_type": "code",
   "execution_count": 17,
   "metadata": {},
   "outputs": [
    {
     "name": "stdout",
     "output_type": "stream",
     "text": [
      "Epoch 1/50\n",
      "313/313 [==============================] - 22s 71ms/step - loss: 0.7737 - accuracy: 0.7318 - val_loss: 1.0717 - val_accuracy: 0.6711\n",
      "Epoch 2/50\n",
      "313/313 [==============================] - 20s 65ms/step - loss: 0.7749 - accuracy: 0.7295 - val_loss: 1.0606 - val_accuracy: 0.6684\n",
      "Epoch 3/50\n",
      "313/313 [==============================] - 21s 68ms/step - loss: 0.7664 - accuracy: 0.7340 - val_loss: 1.1595 - val_accuracy: 0.6674\n",
      "Epoch 4/50\n",
      "313/313 [==============================] - 30s 96ms/step - loss: 0.7588 - accuracy: 0.7347 - val_loss: 1.0607 - val_accuracy: 0.6762\n",
      "Epoch 5/50\n",
      "313/313 [==============================] - 26s 83ms/step - loss: 0.7542 - accuracy: 0.7369 - val_loss: 1.1451 - val_accuracy: 0.6661\n",
      "Epoch 6/50\n",
      "313/313 [==============================] - 22s 71ms/step - loss: 0.7484 - accuracy: 0.7413 - val_loss: 1.0812 - val_accuracy: 0.6662\n",
      "Epoch 7/50\n",
      "313/313 [==============================] - 23s 72ms/step - loss: 0.7492 - accuracy: 0.7393 - val_loss: 1.2242 - val_accuracy: 0.6713\n",
      "Epoch 8/50\n",
      "313/313 [==============================] - 24s 78ms/step - loss: 0.7358 - accuracy: 0.7462 - val_loss: 1.1230 - val_accuracy: 0.6484\n",
      "Epoch 9/50\n",
      "313/313 [==============================] - 22s 70ms/step - loss: 0.7322 - accuracy: 0.7444 - val_loss: 1.1005 - val_accuracy: 0.6774\n",
      "Epoch 10/50\n",
      "313/313 [==============================] - 21s 67ms/step - loss: 0.7269 - accuracy: 0.7490 - val_loss: 1.1535 - val_accuracy: 0.6774\n",
      "Epoch 11/50\n",
      "313/313 [==============================] - 21s 66ms/step - loss: 0.7192 - accuracy: 0.7511 - val_loss: 1.1135 - val_accuracy: 0.6698\n",
      "Epoch 12/50\n",
      "313/313 [==============================] - 21s 66ms/step - loss: 0.7137 - accuracy: 0.7514 - val_loss: 1.2073 - val_accuracy: 0.6743\n",
      "Epoch 13/50\n",
      "313/313 [==============================] - 21s 68ms/step - loss: 0.7148 - accuracy: 0.7521 - val_loss: 1.0788 - val_accuracy: 0.6765\n",
      "Epoch 14/50\n",
      "313/313 [==============================] - 22s 70ms/step - loss: 0.7047 - accuracy: 0.7547 - val_loss: 1.1347 - val_accuracy: 0.6711\n",
      "Epoch 15/50\n",
      "313/313 [==============================] - 25s 79ms/step - loss: 0.7045 - accuracy: 0.7556 - val_loss: 1.2456 - val_accuracy: 0.6181\n",
      "Epoch 16/50\n",
      "313/313 [==============================] - 22s 71ms/step - loss: 0.6975 - accuracy: 0.7574 - val_loss: 1.1591 - val_accuracy: 0.6766\n",
      "Epoch 17/50\n",
      "313/313 [==============================] - 20s 65ms/step - loss: 0.7106 - accuracy: 0.7549 - val_loss: 1.0336 - val_accuracy: 0.6690\n",
      "Epoch 18/50\n",
      "313/313 [==============================] - 20s 65ms/step - loss: 0.6901 - accuracy: 0.7590 - val_loss: 1.0608 - val_accuracy: 0.6752\n",
      "Epoch 19/50\n",
      "313/313 [==============================] - 21s 66ms/step - loss: 0.6867 - accuracy: 0.7622 - val_loss: 1.1209 - val_accuracy: 0.6472\n",
      "Epoch 20/50\n",
      "313/313 [==============================] - 21s 68ms/step - loss: 0.6862 - accuracy: 0.7627 - val_loss: 1.0790 - val_accuracy: 0.6718\n",
      "Epoch 21/50\n",
      "313/313 [==============================] - 22s 69ms/step - loss: 0.6781 - accuracy: 0.7635 - val_loss: 1.1038 - val_accuracy: 0.6324\n",
      "Epoch 22/50\n",
      "313/313 [==============================] - 21s 67ms/step - loss: 0.6760 - accuracy: 0.7663 - val_loss: 1.3577 - val_accuracy: 0.6680\n",
      "Epoch 23/50\n",
      "313/313 [==============================] - 22s 69ms/step - loss: 0.6810 - accuracy: 0.7670 - val_loss: 1.0936 - val_accuracy: 0.6772\n",
      "Epoch 24/50\n",
      "313/313 [==============================] - 21s 68ms/step - loss: 0.6730 - accuracy: 0.7707 - val_loss: 1.2961 - val_accuracy: 0.6752\n",
      "Epoch 25/50\n",
      "313/313 [==============================] - 21s 68ms/step - loss: 0.6676 - accuracy: 0.7720 - val_loss: 1.0884 - val_accuracy: 0.6719\n",
      "Epoch 26/50\n",
      "313/313 [==============================] - 21s 67ms/step - loss: 0.6632 - accuracy: 0.7686 - val_loss: 1.1871 - val_accuracy: 0.6762\n",
      "Epoch 27/50\n",
      "313/313 [==============================] - 21s 66ms/step - loss: 0.6614 - accuracy: 0.7704 - val_loss: 1.1780 - val_accuracy: 0.6604\n",
      "Epoch 28/50\n",
      "313/313 [==============================] - 21s 66ms/step - loss: 0.6543 - accuracy: 0.7742 - val_loss: 1.2380 - val_accuracy: 0.6860\n",
      "Epoch 29/50\n",
      "313/313 [==============================] - 21s 67ms/step - loss: 0.6568 - accuracy: 0.7719 - val_loss: 1.2531 - val_accuracy: 0.6743\n",
      "Epoch 30/50\n",
      "313/313 [==============================] - 21s 67ms/step - loss: 0.6593 - accuracy: 0.7736 - val_loss: 1.1510 - val_accuracy: 0.6754\n",
      "Epoch 31/50\n",
      "313/313 [==============================] - 21s 68ms/step - loss: 0.6510 - accuracy: 0.7757 - val_loss: 1.2670 - val_accuracy: 0.6667\n",
      "Epoch 32/50\n",
      "313/313 [==============================] - 22s 69ms/step - loss: 0.6500 - accuracy: 0.7761 - val_loss: 1.4574 - val_accuracy: 0.6769\n",
      "Epoch 33/50\n",
      "313/313 [==============================] - 21s 67ms/step - loss: 0.6456 - accuracy: 0.7782 - val_loss: 1.1315 - val_accuracy: 0.6515\n",
      "Epoch 34/50\n",
      "313/313 [==============================] - 21s 66ms/step - loss: 0.6487 - accuracy: 0.7763 - val_loss: 1.1043 - val_accuracy: 0.6602\n",
      "Epoch 35/50\n",
      "313/313 [==============================] - 21s 66ms/step - loss: 0.6462 - accuracy: 0.7801 - val_loss: 1.2268 - val_accuracy: 0.6760\n",
      "Epoch 36/50\n",
      "313/313 [==============================] - 21s 68ms/step - loss: 0.6515 - accuracy: 0.7782 - val_loss: 1.3189 - val_accuracy: 0.6579\n",
      "Epoch 37/50\n",
      "313/313 [==============================] - 22s 69ms/step - loss: 0.6360 - accuracy: 0.7820 - val_loss: 1.1784 - val_accuracy: 0.6451\n",
      "Epoch 38/50\n",
      "313/313 [==============================] - 21s 67ms/step - loss: 0.6400 - accuracy: 0.7824 - val_loss: 1.3850 - val_accuracy: 0.6809\n",
      "Epoch 39/50\n",
      "313/313 [==============================] - 22s 69ms/step - loss: 0.6362 - accuracy: 0.7804 - val_loss: 1.1407 - val_accuracy: 0.6730\n",
      "Epoch 40/50\n",
      "313/313 [==============================] - 21s 66ms/step - loss: 0.6406 - accuracy: 0.7811 - val_loss: 1.2919 - val_accuracy: 0.6705\n",
      "Epoch 41/50\n",
      "313/313 [==============================] - 21s 68ms/step - loss: 0.6377 - accuracy: 0.7817 - val_loss: 1.1629 - val_accuracy: 0.6633\n",
      "Epoch 42/50\n",
      "313/313 [==============================] - 21s 66ms/step - loss: 0.6378 - accuracy: 0.7831 - val_loss: 1.3778 - val_accuracy: 0.6858\n",
      "Epoch 43/50\n",
      "313/313 [==============================] - 21s 67ms/step - loss: 0.6344 - accuracy: 0.7844 - val_loss: 1.2676 - val_accuracy: 0.6915\n",
      "Epoch 44/50\n",
      "313/313 [==============================] - 21s 66ms/step - loss: 0.6228 - accuracy: 0.7868 - val_loss: 1.1865 - val_accuracy: 0.6677\n",
      "Epoch 45/50\n",
      "313/313 [==============================] - 21s 66ms/step - loss: 0.6293 - accuracy: 0.7871 - val_loss: 1.6247 - val_accuracy: 0.6669\n",
      "Epoch 46/50\n",
      "313/313 [==============================] - 21s 67ms/step - loss: 0.6308 - accuracy: 0.7845 - val_loss: 1.3875 - val_accuracy: 0.6733\n",
      "Epoch 47/50\n",
      "313/313 [==============================] - 21s 67ms/step - loss: 0.6234 - accuracy: 0.7888 - val_loss: 1.2653 - val_accuracy: 0.6666\n",
      "Epoch 48/50\n",
      "313/313 [==============================] - 21s 67ms/step - loss: 0.6221 - accuracy: 0.7858 - val_loss: 1.3053 - val_accuracy: 0.6859\n",
      "Epoch 49/50\n",
      "313/313 [==============================] - 22s 69ms/step - loss: 0.6165 - accuracy: 0.7889 - val_loss: 1.1999 - val_accuracy: 0.6644\n",
      "Epoch 50/50\n",
      "313/313 [==============================] - 22s 70ms/step - loss: 0.6131 - accuracy: 0.7912 - val_loss: 1.3146 - val_accuracy: 0.6767\n"
     ]
    }
   ],
   "source": [
    "# Train the model and store model parameters/loss values\n",
    "history_3 = model_2.fit(x_tr,y_tr,\n",
    "                    batch_size=128, epochs =50,\n",
    "                   validation_data=(x_val,y_val))"
   ]
  },
  {
   "cell_type": "code",
   "execution_count": 20,
   "metadata": {},
   "outputs": [
    {
     "data": {
      "image/png": "[encoded data removed]",
      "text/plain": [
       "<Figure size 432x288 with 1 Axes>"
      ]
     },
     "metadata": {
      "needs_background": "light"
     },
     "output_type": "display_data"
    }
   ],
   "source": [
    "# Plot the loss curve\n",
    "import matplotlib.pyplot as plt\n",
    "%matplotlib inline\n",
    "\n",
    "epochs = range(50)\n",
    "train_loss_3 = history_3.history['loss']\n",
    "val_loss_3 = history_3.history['val_loss']\n",
    "plt.plot(epochs,train_loss_3,'bo',label= 'Training Loss')\n",
    "plt.plot(epochs,val_loss_3,'r',label= 'Validation Loss')\n",
    "plt.xlabel('Epochs')\n",
    "plt.ylabel('Loss')\n",
    "plt.legend()\n",
    "plt.show()\n"
   ]
  }
 ],
 "metadata": {
  "kernelspec": {
   "display_name": "Python 3 (ipykernel)",
   "language": "python",
   "name": "python3"
  },
  "language_info": {
   "codemirror_mode": {
    "name": "ipython",
    "version": 3
   },
   "file_extension": ".py",
   "mimetype": "text/x-python",
   "name": "python",
   "nbconvert_exporter": "python",
   "pygments_lexer": "ipython3",
   "version": "3.9.7"
  }
 },
 "nbformat": 4,
 "nbformat_minor": 2
}
