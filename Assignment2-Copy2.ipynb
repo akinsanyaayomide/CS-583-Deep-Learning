{
 "cells": [
  {
   "cell_type": "markdown",
   "metadata": {},
   "source": [
    "# Assignment 2: Build a CNN for image recognition.\n",
    "\n",
    "## Due Date:  March 29, 11:59PM\n",
    "\n",
    "### Name: [Your-Name?]\n"
   ]
  },
  {
   "cell_type": "markdown",
   "metadata": {},
   "source": [
    "## Introduction:\n",
    "\n",
    "1. In this assignment, you will build Convolutional Neural Network to classify CIFAR-10 Images.\n",
    "2. You can directly load dataset from many deep learning packages.\n",
    "3. You can use any deep learning packages such as pytorch, keras or tensorflow for this assignment."
   ]
  },
  {
   "cell_type": "markdown",
   "metadata": {},
   "source": [
    "## Requirements:\n",
    "\n",
    "1. You need to load cifar 10 data and split the entire training dataset into training and validation.\n",
    "2. You will implement a CNN model to classify cifar 10 images with provided structure.\n",
    "3. You need to plot the training and validation accuracy or loss obtained from above step.\n",
    "4. Then you can use tuned parameters to train using the entire training dataset.\n",
    "5. You should report the testing accuracy using the model with complete data.\n",
    "6. You may try to change the structure (e.g, add BN layer or dropout layer,...) and analyze your findings.\n",
    "\n",
    "## Google Colab\n",
    "\n",
    "- If you do not have GPU, the training of a CNN can be slow. Google Colab is a good option."
   ]
  },
  {
   "cell_type": "markdown",
   "metadata": {},
   "source": [
    "## Batch Normalization (BN)"
   ]
  },
  {
   "cell_type": "markdown",
   "metadata": {},
   "source": [
    "### Background:"
   ]
  },
  {
   "cell_type": "markdown",
   "metadata": {},
   "source": [
    "- Batch Normalization is a technique to speed up training and help make the model more stable.\n",
    "- In simple words, batch normalization is just another network layer that gets inserted between a hidden layer and the next hidden layer. Its job is to take the outputs from the first hidden layer and normalize them before passing them on as the input of the next hidden layer.\n",
    "\n",
    "- For more detailed information, you may refer to the original paper: https://arxiv.org/pdf/1502.03167.pdf."
   ]
  },
  {
   "cell_type": "markdown",
   "metadata": {},
   "source": [
    "### BN Algorithm:"
   ]
  },
  {
   "cell_type": "markdown",
   "metadata": {},
   "source": [
    "- Input: Values of $x$ over a mini-batch: $\\mathbf{B}$ = $\\{x_1,..., x_m\\};$\n",
    "- Output: $\\{y_i = BN_{\\gamma,\\beta}(x_i)\\}$, $\\gamma, \\beta$ are learnable parameters\n",
    "\n",
    "Normalization of the Input:\n",
    "$$\\mu_{\\mathbf{B}} = \\frac{1}{m}\\sum_{i=1}^m x_i$$\n",
    "$$\\sigma_{\\mathbf{B}}^2 = \\frac{1}{m}\\sum_{i=1}^m (x_i - \\mu_{\\mathbf{B}})^2$$\n",
    "$$\\hat{x_i} = \\frac{x_i - \\mu_{\\mathbf{B}}}{\\sqrt{\\sigma_{\\mathbf{B}}}^2 + \\epsilon}$$\n",
    "Re-scaling and Offsetting:\n",
    "$$y_i = \\gamma \\hat{x_i} + \\beta = BN_{\\gamma,\\beta}(x_i)$$\n"
   ]
  },
  {
   "cell_type": "markdown",
   "metadata": {},
   "source": [
    "### Advantages of BN:\n",
    "1. Improves gradient flow through the network.\n",
    "2. Allows use of saturating nonlinearities and higher learning rates.\n",
    "3. Makes weights easier to initialize.\n",
    "4. Act as a form of regularization and may reduce the need for dropout."
   ]
  },
  {
   "cell_type": "markdown",
   "metadata": {},
   "source": [
    "### Implementation:"
   ]
  },
  {
   "cell_type": "markdown",
   "metadata": {},
   "source": [
    "- The batch normalization layer has already been implemented in many packages. You may simply call the function to build the layer. For example: torch.nn.BatchNorm2d() using pytroch package, keras.layers.BatchNormalization() using keras package.\n",
    "- The location of BN layer: Please make sure ```BatchNormalization``` is between a ```Conv```/```Dense``` layer and an ```activation``` layer."
   ]
  },
  {
   "cell_type": "markdown",
   "metadata": {},
   "source": [
    "## 1. Data preparation"
   ]
  },
  {
   "cell_type": "markdown",
   "metadata": {},
   "source": [
    "### 1.1. Load data\n"
   ]
  },
  {
   "cell_type": "code",
   "execution_count": 1,
   "metadata": {},
   "outputs": [
    {
     "name": "stdout",
     "output_type": "stream",
     "text": [
      "shape of x_train: (50000, 32, 32, 3)\n",
      "shape of y_train: (50000, 1)\n",
      "shape of x_test: (10000, 32, 32, 3)\n",
      "shape of y_test: (10000, 1)\n",
      "number of classes: 10\n"
     ]
    }
   ],
   "source": [
    "# Load Cifar-10 Data\n",
    "# This is just an example, you may load dataset from other packages.\n",
    "from tensorflow import keras\n",
    "import numpy as np\n",
    "\n",
    "### If you can not load keras dataset, un-comment these two lines.\n",
    "#import ssl\n",
    "#ssl._create_default_https_context = ssl._create_unverified_context\n",
    "\n",
    "(x_train, y_train), (x_test, y_test) = keras.datasets.cifar10.load_data()\n",
    "\n",
    "print('shape of x_train: ' + str(x_train.shape))\n",
    "print('shape of y_train: ' + str(y_train.shape))\n",
    "print('shape of x_test: ' + str(x_test.shape))\n",
    "print('shape of y_test: ' + str(y_test.shape))\n",
    "print('number of classes: ' + str(np.max(y_train) - np.min(y_train) + 1))"
   ]
  },
  {
   "cell_type": "markdown",
   "metadata": {},
   "source": [
    "### 1.2. One-hot encode the labels (5 points)\n",
    "\n",
    "In the input, a label is a scalar in $\\{0, 1, \\cdots , 9\\}$. One-hot encode transform such a scalar to a $10$-dim vector. E.g., a scalar ```y_train[j]=3``` is transformed to the vector ```y_train_vec[j]=[0, 0, 0, 1, 0, 0, 0, 0, 0, 0]```.\n",
    "\n",
    "1. Implement a function ```to_one_hot``` that transforms an $n\\times 1$ array to a $n\\times 10$ matrix.\n",
    "\n",
    "2. Apply the function to ```y_train``` and ```y_test```."
   ]
  },
  {
   "cell_type": "code",
   "execution_count": 2,
   "metadata": {},
   "outputs": [
    {
     "name": "stdout",
     "output_type": "stream",
     "text": [
      "[6]\n",
      "[9]\n",
      "[9]\n",
      "[4]\n",
      "[1]\n",
      "[1]\n",
      "[2]\n",
      "[7]\n",
      "[8]\n",
      "[3]\n"
     ]
    }
   ],
   "source": [
    "for i in range(10):\n",
    "    print(y_train[i])"
   ]
  },
  {
   "cell_type": "code",
   "execution_count": 3,
   "metadata": {},
   "outputs": [
    {
     "name": "stdout",
     "output_type": "stream",
     "text": [
      "Shape of y_train_vec: (50000, 10)\n",
      "Shape of y_test_vec: (10000, 10)\n",
      "[6]\n",
      "[0. 0. 0. 0. 0. 0. 1. 0. 0. 0.]\n"
     ]
    }
   ],
   "source": [
    "def to_one_hot(y, num_class=10):\n",
    "    y_train_new = np.zeros((len(y),num_class))\n",
    "    for i in range(len(y)):\n",
    "        array1 = [0 for x in range(10)]\n",
    "        a = y[i]\n",
    "        array1[a[0]] =1\n",
    "        y_train_new[i] = array1\n",
    "    return y_train_new\n",
    "        \n",
    "        \n",
    "\n",
    "y_train_vec = to_one_hot(y_train)\n",
    "y_test_vec = to_one_hot(y_test)\n",
    "\n",
    "print('Shape of y_train_vec: ' + str(y_train_vec.shape))\n",
    "print('Shape of y_test_vec: ' + str(y_test_vec.shape))\n",
    "\n",
    "print(y_train[0])\n",
    "print(y_train_vec[0])"
   ]
  },
  {
   "cell_type": "markdown",
   "metadata": {},
   "source": [
    "#### Remark: the outputs should be\n",
    "* Shape of y_train_vec: (50000, 10)\n",
    "* Shape of y_test_vec: (10000, 10)\n",
    "* [6]\n",
    "* [0. 0. 0. 0. 0. 0. 1. 0. 0. 0.]"
   ]
  },
  {
   "cell_type": "markdown",
   "metadata": {},
   "source": [
    "### 1.3. Randomly partition the training set to training and validation sets (5 points)\n",
    "\n",
    "Randomly partition the 50K training samples to 2 sets: \n",
    "* a training set containing 40K samples: x_tr, y_tr\n",
    "* a validation set containing 10K samples: x_val, y_val\n"
   ]
  },
  {
   "cell_type": "code",
   "execution_count": 4,
   "metadata": {},
   "outputs": [
    {
     "name": "stdout",
     "output_type": "stream",
     "text": [
      "Shape of x_tr: (40000, 32, 32, 3)\n",
      "Shape of y_tr: (40000, 10)\n",
      "Shape of x_val: (10000, 32, 32, 3)\n",
      "Shape of y_val: (10000, 10)\n"
     ]
    }
   ],
   "source": [
    "def split_train_test(data, test_ratio):\n",
    "    np.random.seed(42)\n",
    "    random_indices = np.random.permutation(len(data))\n",
    "    validation_set_size = int(len(data)*test_ratio)\n",
    "    validation_indices = random_indices[:validation_set_size]\n",
    "    train_indices = random_indices[validation_set_size:]\n",
    "    return data[train_indices],data[validation_indices]\n",
    "\n",
    "x_tr,x_val = split_train_test(x_train,0.2)\n",
    "y_tr,y_val = split_train_test(y_train_vec,0.2)\n",
    "\n",
    "\n",
    "print('Shape of x_tr: ' + str(x_tr.shape))\n",
    "print('Shape of y_tr: ' + str(y_tr.shape))\n",
    "print('Shape of x_val: ' + str(x_val.shape))\n",
    "print('Shape of y_val: ' + str(y_val.shape))"
   ]
  },
  {
   "cell_type": "markdown",
   "metadata": {},
   "source": [
    "## 2. Build a CNN and tune its hyper-parameters (50 points)\n",
    "\n",
    "- Build a convolutional neural network model using the below structure:\n",
    "\n",
    "- It should have a structure of: Conv - ReLU - Max Pool - ConV - ReLU - Max Pool - Dense - ReLU - Dense - Softmax\n",
    "\n",
    "- In the graph 3@32x32 means the dimension of input image, 32@30x30 means it has 32 filters and the dimension now becomes 30x30 after the convolution.\n",
    "- All convolutional layers (Conv) should have stride = 1 and no padding.\n",
    "- Max Pooling has a pool size of 2 by 2.\n",
    "\n",
    "\n"
   ]
  },
  {
   "cell_type": "markdown",
   "metadata": {},
   "source": [
    "<img src=\"network.PNG\"/>"
   ]
  },
  {
   "cell_type": "markdown",
   "metadata": {},
   "source": [
    "- You may use the validation data to tune the hyper-parameters (e.g., learning rate, and optimization algorithm)\n",
    "- Do NOT use test data for hyper-parameter tuning!!!\n",
    "- Try to achieve a validation accuracy as high as possible."
   ]
  },
  {
   "cell_type": "code",
   "execution_count": 5,
   "metadata": {},
   "outputs": [
    {
     "name": "stderr",
     "output_type": "stream",
     "text": [
      "2022-03-21 21:39:34.761095: I tensorflow/core/platform/cpu_feature_guard.cc:151] This TensorFlow binary is optimized with oneAPI Deep Neural Network Library (oneDNN) to use the following CPU instructions in performance-critical operations:  AVX2 FMA\n",
      "To enable them in other operations, rebuild TensorFlow with the appropriate compiler flags.\n"
     ]
    }
   ],
   "source": [
    "# Build the model\n",
    "model = keras.models.Sequential([\n",
    "    keras.layers.Conv2D(32,3, activation='relu',input_shape=[32,32,3]),\n",
    "    keras.layers.MaxPool2D(2),\n",
    "    keras.layers.Conv2D(64,4,activation='relu'),\n",
    "    keras.layers.MaxPool2D(2),\n",
    "    keras.layers.Flatten(),\n",
    "    keras.layers.Dense(256,activation='relu'),\n",
    "    keras.layers.Dense(10,activation='softmax')\n",
    "])"
   ]
  },
  {
   "cell_type": "code",
   "execution_count": 6,
   "metadata": {},
   "outputs": [],
   "source": [
    "# Define model optimizer and loss function\n",
    "from keras import optimizers\n",
    "model.compile(optimizers.rmsprop_v2.RMSprop(learning_rate=0.01),\n",
    "              loss='categorical_crossentropy',\n",
    "              metrics=['accuracy'])"
   ]
  },
  {
   "cell_type": "code",
   "execution_count": 7,
   "metadata": {},
   "outputs": [
    {
     "name": "stdout",
     "output_type": "stream",
     "text": [
      "Epoch 1/50\n",
      "313/313 [==============================] - 22s 70ms/step - loss: 3.3839 - accuracy: 0.2544 - val_loss: 1.7919 - val_accuracy: 0.3856\n",
      "Epoch 2/50\n",
      "313/313 [==============================] - 20s 65ms/step - loss: 1.5702 - accuracy: 0.4511 - val_loss: 1.5426 - val_accuracy: 0.4897\n",
      "Epoch 3/50\n",
      "313/313 [==============================] - 20s 65ms/step - loss: 1.2882 - accuracy: 0.5578 - val_loss: 1.4643 - val_accuracy: 0.5116\n",
      "Epoch 4/50\n",
      "313/313 [==============================] - 21s 66ms/step - loss: 1.1015 - accuracy: 0.6306 - val_loss: 1.4069 - val_accuracy: 0.5257\n",
      "Epoch 5/50\n",
      "313/313 [==============================] - 22s 71ms/step - loss: 0.9425 - accuracy: 0.6829 - val_loss: 1.3220 - val_accuracy: 0.5880\n",
      "Epoch 6/50\n",
      "313/313 [==============================] - 20s 65ms/step - loss: 0.7944 - accuracy: 0.7305 - val_loss: 1.3750 - val_accuracy: 0.5998\n",
      "Epoch 7/50\n",
      "313/313 [==============================] - 20s 64ms/step - loss: 0.6710 - accuracy: 0.7750 - val_loss: 1.3948 - val_accuracy: 0.6121\n",
      "Epoch 8/50\n",
      "313/313 [==============================] - 20s 65ms/step - loss: 0.5608 - accuracy: 0.8111 - val_loss: 1.7652 - val_accuracy: 0.5912\n",
      "Epoch 9/50\n",
      "313/313 [==============================] - 20s 64ms/step - loss: 0.4691 - accuracy: 0.8452 - val_loss: 1.5388 - val_accuracy: 0.6000\n",
      "Epoch 10/50\n",
      "313/313 [==============================] - 20s 64ms/step - loss: 0.3992 - accuracy: 0.8702 - val_loss: 1.7410 - val_accuracy: 0.6068\n",
      "Epoch 11/50\n",
      "313/313 [==============================] - 20s 63ms/step - loss: 0.3364 - accuracy: 0.8895 - val_loss: 2.1971 - val_accuracy: 0.6244\n",
      "Epoch 12/50\n",
      "313/313 [==============================] - 21s 68ms/step - loss: 0.2981 - accuracy: 0.9040 - val_loss: 2.6070 - val_accuracy: 0.6192\n",
      "Epoch 13/50\n",
      "313/313 [==============================] - 20s 64ms/step - loss: 0.2533 - accuracy: 0.9188 - val_loss: 3.4863 - val_accuracy: 0.5478\n",
      "Epoch 14/50\n",
      "313/313 [==============================] - 20s 62ms/step - loss: 0.2483 - accuracy: 0.9258 - val_loss: 2.7711 - val_accuracy: 0.6250\n",
      "Epoch 15/50\n",
      "313/313 [==============================] - 20s 63ms/step - loss: 0.2280 - accuracy: 0.9319 - val_loss: 2.8769 - val_accuracy: 0.6006\n",
      "Epoch 16/50\n",
      "313/313 [==============================] - 20s 64ms/step - loss: 0.2206 - accuracy: 0.9364 - val_loss: 3.3393 - val_accuracy: 0.6206\n",
      "Epoch 17/50\n",
      "313/313 [==============================] - 20s 64ms/step - loss: 0.2010 - accuracy: 0.9422 - val_loss: 4.0568 - val_accuracy: 0.6207\n",
      "Epoch 18/50\n",
      "313/313 [==============================] - 20s 64ms/step - loss: 0.1968 - accuracy: 0.9469 - val_loss: 3.9692 - val_accuracy: 0.6267\n",
      "Epoch 19/50\n",
      "313/313 [==============================] - 20s 63ms/step - loss: 0.2068 - accuracy: 0.9455 - val_loss: 4.0949 - val_accuracy: 0.5779\n",
      "Epoch 20/50\n",
      "313/313 [==============================] - 20s 63ms/step - loss: 0.1887 - accuracy: 0.9503 - val_loss: 3.7982 - val_accuracy: 0.6094\n",
      "Epoch 21/50\n",
      "313/313 [==============================] - 20s 64ms/step - loss: 0.1897 - accuracy: 0.9514 - val_loss: 3.8317 - val_accuracy: 0.6165\n",
      "Epoch 22/50\n",
      "313/313 [==============================] - 20s 65ms/step - loss: 0.1889 - accuracy: 0.9528 - val_loss: 4.9754 - val_accuracy: 0.6187\n",
      "Epoch 23/50\n",
      "313/313 [==============================] - 20s 65ms/step - loss: 0.1946 - accuracy: 0.9534 - val_loss: 4.7555 - val_accuracy: 0.5939\n",
      "Epoch 24/50\n",
      "313/313 [==============================] - 20s 64ms/step - loss: 0.1782 - accuracy: 0.9566 - val_loss: 5.2649 - val_accuracy: 0.6148\n",
      "Epoch 25/50\n",
      "313/313 [==============================] - 20s 63ms/step - loss: 0.1800 - accuracy: 0.9580 - val_loss: 5.4102 - val_accuracy: 0.6264\n",
      "Epoch 26/50\n",
      "313/313 [==============================] - 20s 64ms/step - loss: 0.1745 - accuracy: 0.9601 - val_loss: 5.5225 - val_accuracy: 0.6189\n",
      "Epoch 27/50\n",
      "313/313 [==============================] - 20s 63ms/step - loss: 0.1793 - accuracy: 0.9601 - val_loss: 7.7366 - val_accuracy: 0.5983\n",
      "Epoch 28/50\n",
      "313/313 [==============================] - 20s 65ms/step - loss: 0.1783 - accuracy: 0.9603 - val_loss: 5.6945 - val_accuracy: 0.5753\n",
      "Epoch 29/50\n",
      "313/313 [==============================] - 20s 64ms/step - loss: 0.1861 - accuracy: 0.9609 - val_loss: 5.5183 - val_accuracy: 0.6292\n",
      "Epoch 30/50\n",
      "313/313 [==============================] - 20s 64ms/step - loss: 0.1651 - accuracy: 0.9642 - val_loss: 7.4561 - val_accuracy: 0.6336\n",
      "Epoch 31/50\n",
      "313/313 [==============================] - 20s 65ms/step - loss: 0.1819 - accuracy: 0.9620 - val_loss: 5.0523 - val_accuracy: 0.5936\n",
      "Epoch 32/50\n",
      "313/313 [==============================] - 20s 64ms/step - loss: 0.1802 - accuracy: 0.9637 - val_loss: 6.1819 - val_accuracy: 0.6164\n",
      "Epoch 33/50\n",
      "313/313 [==============================] - 20s 64ms/step - loss: 0.1912 - accuracy: 0.9636 - val_loss: 7.0932 - val_accuracy: 0.6286\n",
      "Epoch 34/50\n",
      "313/313 [==============================] - 20s 65ms/step - loss: 0.1659 - accuracy: 0.9663 - val_loss: 6.0856 - val_accuracy: 0.6108\n",
      "Epoch 35/50\n",
      "313/313 [==============================] - 20s 64ms/step - loss: 0.1893 - accuracy: 0.9644 - val_loss: 4.8312 - val_accuracy: 0.5807\n",
      "Epoch 36/50\n",
      "313/313 [==============================] - 20s 63ms/step - loss: 0.1767 - accuracy: 0.9673 - val_loss: 5.6251 - val_accuracy: 0.5901\n",
      "Epoch 37/50\n",
      "313/313 [==============================] - 20s 64ms/step - loss: 0.1785 - accuracy: 0.9675 - val_loss: 9.3201 - val_accuracy: 0.6168\n",
      "Epoch 38/50\n",
      "313/313 [==============================] - 20s 63ms/step - loss: 0.1905 - accuracy: 0.9671 - val_loss: 7.0753 - val_accuracy: 0.6164\n",
      "Epoch 39/50\n",
      "313/313 [==============================] - 20s 63ms/step - loss: 0.1743 - accuracy: 0.9686 - val_loss: 7.2803 - val_accuracy: 0.5972\n",
      "Epoch 40/50\n",
      "313/313 [==============================] - 20s 65ms/step - loss: 0.1993 - accuracy: 0.9677 - val_loss: 8.8420 - val_accuracy: 0.6047\n",
      "Epoch 41/50\n",
      "313/313 [==============================] - 20s 63ms/step - loss: 0.1715 - accuracy: 0.9714 - val_loss: 8.0394 - val_accuracy: 0.6179\n",
      "Epoch 42/50\n",
      "313/313 [==============================] - 20s 64ms/step - loss: 0.1702 - accuracy: 0.9713 - val_loss: 7.4079 - val_accuracy: 0.6008\n",
      "Epoch 43/50\n",
      "313/313 [==============================] - 20s 65ms/step - loss: 0.1724 - accuracy: 0.9713 - val_loss: 7.7962 - val_accuracy: 0.6149\n",
      "Epoch 44/50\n",
      "313/313 [==============================] - 20s 63ms/step - loss: 0.1790 - accuracy: 0.9721 - val_loss: 8.9599 - val_accuracy: 0.6306\n",
      "Epoch 45/50\n",
      "313/313 [==============================] - 20s 64ms/step - loss: 0.1961 - accuracy: 0.9705 - val_loss: 7.6409 - val_accuracy: 0.5854\n",
      "Epoch 46/50\n",
      "313/313 [==============================] - 20s 64ms/step - loss: 0.1840 - accuracy: 0.9718 - val_loss: 8.7614 - val_accuracy: 0.6248\n",
      "Epoch 47/50\n",
      "313/313 [==============================] - 20s 64ms/step - loss: 0.1811 - accuracy: 0.9729 - val_loss: 10.0108 - val_accuracy: 0.6269\n",
      "Epoch 48/50\n",
      "313/313 [==============================] - 20s 64ms/step - loss: 0.1812 - accuracy: 0.9734 - val_loss: 8.9218 - val_accuracy: 0.6187\n",
      "Epoch 49/50\n",
      "313/313 [==============================] - 20s 64ms/step - loss: 0.1732 - accuracy: 0.9731 - val_loss: 8.5013 - val_accuracy: 0.6269\n",
      "Epoch 50/50\n",
      "313/313 [==============================] - 22s 69ms/step - loss: 0.1782 - accuracy: 0.9754 - val_loss: 11.7952 - val_accuracy: 0.6100\n"
     ]
    }
   ],
   "source": [
    "# Train the model and store model parameters/loss values\n",
    "history = model.fit(x_tr,y_tr,\n",
    "                    batch_size=128, epochs =50,\n",
    "                   validation_data=(x_val,y_val))"
   ]
  },
  {
   "cell_type": "code",
   "execution_count": 8,
   "metadata": {},
   "outputs": [
    {
     "name": "stdout",
     "output_type": "stream",
     "text": [
      "Assignment_2_first_model_train_loss -> [3.383880853652954, 1.5701854228973389, 1.2881921529769897, 1.1015191078186035, 0.9425342082977295, 0.7944333553314209, 0.6710184812545776, 0.5608251690864563, 0.4690784811973572, 0.39920753240585327, 0.33641812205314636, 0.29809725284576416, 0.25326675176620483, 0.24831312894821167, 0.22797755897045135, 0.22060714662075043, 0.2009863406419754, 0.19683478772640228, 0.20683923363685608, 0.18872566521167755, 0.18970783054828644, 0.18890488147735596, 0.19461137056350708, 0.17819277942180634, 0.18000365793704987, 0.17448092997074127, 0.17927195131778717, 0.17829729616641998, 0.18606780469417572, 0.1651422381401062, 0.18186599016189575, 0.18022917211055756, 0.19117005169391632, 0.1659086048603058, 0.1893274337053299, 0.17665447294712067, 0.17854490876197815, 0.19053120911121368, 0.17432281374931335, 0.19934271275997162, 0.17145709693431854, 0.17020200192928314, 0.17237088084220886, 0.1790497750043869, 0.19614389538764954, 0.183954656124115, 0.18109138309955597, 0.1812136322259903, 0.1731979250907898, 0.17821985483169556] 50\n",
      "Assignment_2_first_model_val_loss -> [1.7918744087219238, 1.5425729751586914, 1.4642837047576904, 1.4068799018859863, 1.322025179862976, 1.3750388622283936, 1.3948498964309692, 1.7651652097702026, 1.5388424396514893, 1.7409673929214478, 2.197117805480957, 2.607034921646118, 3.4862711429595947, 2.771134853363037, 2.8768765926361084, 3.3392813205718994, 4.056825160980225, 3.9692118167877197, 4.094939708709717, 3.7981698513031006, 3.8317477703094482, 4.975430011749268, 4.755549430847168, 5.264883041381836, 5.4101972579956055, 5.5225396156311035, 7.73661470413208, 5.694520473480225, 5.518294334411621, 7.456142902374268, 5.0523271560668945, 6.181917190551758, 7.093162536621094, 6.085582256317139, 4.831236839294434, 5.625133514404297, 9.320146560668945, 7.075283527374268, 7.2802734375, 8.841979026794434, 8.03939151763916, 7.407854080200195, 7.796225070953369, 8.959912300109863, 7.640873432159424, 8.761353492736816, 10.010848999023438, 8.921774864196777, 8.501280784606934, 11.795208930969238] 50\n"
     ]
    }
   ],
   "source": [
    "model.save('Assignment_4_second_model.h5')\n",
    "Assignment_2_first_model_train_loss = history.history['loss']\n",
    "Assignment_2_first_model_val_loss = history.history['val_loss']\n",
    "print('Assignment_2_first_model_train_loss ->',Assignment_2_first_model_train_loss,len(Assignment_2_first_model_train_loss))\n",
    "print('Assignment_2_first_model_val_loss ->',Assignment_2_first_model_val_loss,len(Assignment_2_first_model_val_loss))\n"
   ]
  },
  {
   "cell_type": "markdown",
   "metadata": {},
   "source": [
    "## 3. Plot the training and validation loss curve versus epochs. (5 points)"
   ]
  },
  {
   "cell_type": "code",
   "execution_count": 9,
   "metadata": {},
   "outputs": [
    {
     "data": {
      "image/png": "[encoded data removed]",
      "text/plain": [
       "<Figure size 432x288 with 1 Axes>"
      ]
     },
     "metadata": {
      "needs_background": "light"
     },
     "output_type": "display_data"
    }
   ],
   "source": [
    "# Plot the loss curve\n",
    "import matplotlib.pyplot as plt\n",
    "%matplotlib inline\n",
    "\n",
    "epochs = range(50)\n",
    "train_loss = history.history['loss']\n",
    "val_loss = history.history['val_loss']\n",
    "plt.plot(epochs,train_loss,'bo',label= 'Training Loss')\n",
    "plt.plot(epochs,val_loss,'r',label= 'Validation Loss')\n",
    "plt.xlabel('Epochs')\n",
    "plt.ylabel('Loss')\n",
    "plt.legend()\n",
    "plt.show()\n",
    "\n"
   ]
  },
  {
   "cell_type": "markdown",
   "metadata": {},
   "source": [
    "## 4. Train (again) and evaluate the model (5 points)\n",
    "\n",
    "- To this end, you have found the \"best\" hyper-parameters. \n",
    "- Now, fix the hyper-parameters and train the network on the entire training set (all the 50K training samples)\n",
    "- Evaluate your model on the test set."
   ]
  },
  {
   "cell_type": "markdown",
   "metadata": {},
   "source": [
    "### Train the model on the entire training set\n",
    "\n",
    "Why? Previously, you used 40K samples for training; you wasted 10K samples for the sake of hyper-parameter tuning. Now you already know the hyper-parameters, so why not using all the 50K samples for training?"
   ]
  },
  {
   "cell_type": "code",
   "execution_count": 10,
   "metadata": {},
   "outputs": [],
   "source": [
    "#<Compile your model again (using the same hyper-parameters you tuned above)>\n"
   ]
  },
  {
   "cell_type": "code",
   "execution_count": 11,
   "metadata": {},
   "outputs": [],
   "source": [
    "#<Train your model on the entire training set (50K samples)>\n"
   ]
  },
  {
   "cell_type": "markdown",
   "metadata": {},
   "source": [
    "## 5. Evaluate the model on the test set (5 points)\n",
    "\n",
    "Do NOT used the test set until now. Make sure that your model parameters and hyper-parameters are independent of the test set."
   ]
  },
  {
   "cell_type": "code",
   "execution_count": 12,
   "metadata": {},
   "outputs": [],
   "source": [
    "# Evaluate your model performance (testing accuracy) on testing data.\n"
   ]
  },
  {
   "cell_type": "markdown",
   "metadata": {},
   "source": [
    "## 6. Building model with new structure (25 points)\n",
    "- In this section, you can build your model with adding new layers (e.g, BN layer or dropout layer, ...).\n",
    "- If you want to regularize a ```Conv/Dense layer```, you should place a ```Dropout layer``` before the ```Conv/Dense layer```.\n",
    "- You can try to compare their loss curve and testing accuracy and analyze your findings.\n",
    "- You need to try at lease two different model structures."
   ]
  },
  {
   "cell_type": "code",
   "execution_count": null,
   "metadata": {},
   "outputs": [],
   "source": []
  }
 ],
 "metadata": {
  "kernelspec": {
   "display_name": "Python 3 (ipykernel)",
   "language": "python",
   "name": "python3"
  },
  "language_info": {
   "codemirror_mode": {
    "name": "ipython",
    "version": 3
   },
   "file_extension": ".py",
   "mimetype": "text/x-python",
   "name": "python",
   "nbconvert_exporter": "python",
   "pygments_lexer": "ipython3",
   "version": "3.9.7"
  }
 },
 "nbformat": 4,
 "nbformat_minor": 2
}
