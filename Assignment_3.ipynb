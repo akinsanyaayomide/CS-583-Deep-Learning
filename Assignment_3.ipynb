{
  "cells": [
    {
      "cell_type": "markdown",
      "metadata": {
        "id": "S_MMx4-Dn6I4"
      },
      "source": [
        "# Assignment 3: Build a seq2seq model for machine translation.\n",
        "\n",
        "### Name: [Ayomide Akinsanya]\n",
        "\n",
        "### Task: Change LSTM model to Bidirectional LSTM Model， translate English to target language and evaluate using Bleu score.\n",
        "\n",
        "### Due Date: Tuesday, April 19th, 11:59PM"
      ]
    },
    {
      "cell_type": "markdown",
      "metadata": {
        "id": "4Ae95lZSn6I7"
      },
      "source": [
        "## 0. You will do the following:\n",
        "\n",
        "1. Read and run the code. Please make sure you have installed keras or tensorflow.Running the script on colab will speed up the training process and also prevent package loading issue. \n",
        "2. Implement the functions in Section 1 and 2, you may fill in your data directory.\n",
        "3. Directly modify the code in Section 3. Change the current LSTM layer to a Bidirectional LSTM Model.\n",
        "4. Training your model and translate English to Spanish in Section 4.2. You could try translating other languages.\n",
        "5. Complete the code in Section 5."
      ]
    },
    {
      "cell_type": "markdown",
      "metadata": {
        "id": "Mg9WtXD0n6I-"
      },
      "source": [
        "## 1. Data preparation (10 points)\n",
        "\n",
        "1. Download spanish-english data from http://www.manythings.org/anki/\n",
        "2. You may try to use other languages.\n",
        "3. Unzip the .ZIP file.\n",
        "4. Put the .TXT file (e.g., \"deu.txt\") in the directory \"./Data/\".\n",
        "5. Fill in your data directory in section 1.1."
      ]
    },
    {
      "cell_type": "markdown",
      "metadata": {
        "id": "mktmWGiNn6I-"
      },
      "source": [
        "### 1.1. Load and clean text\n"
      ]
    },
    {
      "cell_type": "code",
      "execution_count": 2,
      "metadata": {
        "id": "t1HGE5Bin6I_"
      },
      "outputs": [],
      "source": [
        "import re\n",
        "import string\n",
        "from unicodedata import normalize\n",
        "import numpy\n",
        "\n",
        "# load doc into memory\n",
        "def load_doc(filename):\n",
        "    # open the file as read only\n",
        "    file = open(filename, mode='rt', encoding='utf-8')\n",
        "    # read all text\n",
        "    text = file.read()\n",
        "    # close the file\n",
        "    file.close()\n",
        "    return text\n",
        "\n",
        "\n",
        "# split a loaded document into sentences\n",
        "def to_pairs(doc):\n",
        "    lines = doc.strip().split('\\n')\n",
        "    pairs = [line.split('\\t') for line in  lines]\n",
        "    return pairs\n",
        "\n",
        "def clean_data(lines):\n",
        "    cleaned = list()\n",
        "    # prepare regex for char filtering\n",
        "    re_print = re.compile('[^%s]' % re.escape(string.printable))\n",
        "    # prepare translation table for removing punctuation\n",
        "    table = str.maketrans('', '', string.punctuation)\n",
        "    for pair in lines:\n",
        "        clean_pair = list()\n",
        "        for line in pair:\n",
        "            # normalize unicode characters\n",
        "            line = normalize('NFD', line).encode('ascii', 'ignore')\n",
        "            line = line.decode('UTF-8')\n",
        "            # tokenize on white space\n",
        "            line = line.split()\n",
        "            # convert to lowercase\n",
        "            line = [word.lower() for word in line]\n",
        "            # remove punctuation from each token\n",
        "            line = [word.translate(table) for word in line]\n",
        "            # remove non-printable chars form each token\n",
        "            line = [re_print.sub('', w) for w in line]\n",
        "            # remove tokens with numbers in them\n",
        "            line = [word for word in line if word.isalpha()]\n",
        "            # store as string\n",
        "            clean_pair.append(' '.join(line))\n",
        "        cleaned.append(clean_pair)\n",
        "    return numpy.array(cleaned)"
      ]
    },
    {
      "cell_type": "markdown",
      "metadata": {
        "id": "H8TLfXfan6JA"
      },
      "source": [
        "#### Fill the following blanks:"
      ]
    },
    {
      "cell_type": "code",
      "execution_count": 3,
      "metadata": {
        "id": "qUZbGJy9n6JA"
      },
      "outputs": [],
      "source": [
        "# e.g., filename = 'Data/deu.txt'\n",
        "filename = \"/content/spa.txt\"\n",
        "\n",
        "# e.g., n_train = 20000\n",
        "n_train = 20000"
      ]
    },
    {
      "cell_type": "code",
      "execution_count": 4,
      "metadata": {
        "id": "tIM5vnPsn6JB"
      },
      "outputs": [],
      "source": [
        "# load dataset\n",
        "doc = load_doc(filename)\n",
        "\n",
        "# split into Language1-Language2 pairs\n",
        "pairs = to_pairs(doc)\n",
        "#print(len(pairs))\n",
        "\n",
        "# clean sentences\n",
        "clean_pairs = clean_data(pairs)[0:n_train, :]\n",
        "test_pairs_1 = clean_data(pairs)[n_train:n_train+200,:]"
      ]
    },
    {
      "cell_type": "code",
      "execution_count": 5,
      "metadata": {
        "colab": {
          "base_uri": "https://localhost:8080/"
        },
        "id": "HglOYBjPn6JB",
        "outputId": "471ec3aa-75eb-4436-ef5d-1d68255bd5dc"
      },
      "outputs": [
        {
          "output_type": "stream",
          "name": "stdout",
          "text": [
            "[youre here] => [estas aqui]\n",
            "[youre here] => [estais aqui]\n",
            "[youre late] => [estas retrasado]\n",
            "[youre lost] => [estas perdido]\n",
            "[youre mean] => [eres mala]\n",
            "[youre mean] => [eres mezquino]\n",
            "[youre mine] => [tu eres mio]\n",
            "[youre nice] => [eres simpatico]\n",
            "[youre nuts] => [estas loco]\n",
            "[youre nuts] => [estas chiflado]\n"
          ]
        }
      ],
      "source": [
        "for i in range(3000, 3010):\n",
        "    print('[' + clean_pairs[i, 0] + '] => [' + clean_pairs[i, 1] + ']')"
      ]
    },
    {
      "cell_type": "code",
      "source": [
        "for i in range(30, 40):\n",
        "    print('[' + test_pairs_1[i, 0] + '] => [' + test_pairs_1[i, 1] + ']')"
      ],
      "metadata": {
        "colab": {
          "base_uri": "https://localhost:8080/"
        },
        "id": "lVWpaFGSdMvX",
        "outputId": "91d13979-ecd9-46ac-9483-0fceca50a554"
      },
      "execution_count": 6,
      "outputs": [
        {
          "output_type": "stream",
          "name": "stdout",
          "text": [
            "[i have a flat tire] => [se me pincho una llanta]\n",
            "[i have a flat tire] => [se me poncho una goma]\n",
            "[i have a glass eye] => [tengo un ojo de cristal]\n",
            "[i have a glass eye] => [tengo un ojo de vidrio]\n",
            "[i have a list here] => [tengo aqui una lista]\n",
            "[i have a nosebleed] => [me sangra la nariz]\n",
            "[i have a toothache] => [estoy con dolor de dientes]\n",
            "[i have a white cat] => [tengo un gato blanco]\n",
            "[i have blonde hair] => [tengo el pelo rubio]\n",
            "[i have cabin fever] => [tengo miedo a los lugares cerrados]\n"
          ]
        }
      ]
    },
    {
      "cell_type": "code",
      "execution_count": 7,
      "metadata": {
        "colab": {
          "base_uri": "https://localhost:8080/"
        },
        "id": "xpWJySnon6JC",
        "outputId": "0f37c516-025b-4305-a723-2cc8bb6659b4"
      },
      "outputs": [
        {
          "output_type": "stream",
          "name": "stdout",
          "text": [
            "Length of input_texts:  (20000,)\n",
            "Length of target_texts: (20000,)\n"
          ]
        }
      ],
      "source": [
        "input_texts = clean_pairs[:, 0]\n",
        "target_texts = ['\\t' + text + '\\n' for text in clean_pairs[:, 1]]\n",
        "\n",
        "print('Length of input_texts:  ' + str(input_texts.shape))\n",
        "print('Length of target_texts: ' + str(input_texts.shape))"
      ]
    },
    {
      "cell_type": "code",
      "execution_count": 8,
      "metadata": {
        "colab": {
          "base_uri": "https://localhost:8080/"
        },
        "id": "Z41dxOlXn6JC",
        "outputId": "667a8b8c-9279-4393-db4a-53c4814435b2"
      },
      "outputs": [
        {
          "output_type": "stream",
          "name": "stdout",
          "text": [
            "max length of input  sentences: 18\n",
            "max length of target sentences: 55\n"
          ]
        }
      ],
      "source": [
        "max_encoder_seq_length = max(len(line) for line in input_texts)\n",
        "max_decoder_seq_length = max(len(line) for line in target_texts)\n",
        "\n",
        "print('max length of input  sentences: %d' % (max_encoder_seq_length))\n",
        "print('max length of target sentences: %d' % (max_decoder_seq_length))"
      ]
    },
    {
      "cell_type": "markdown",
      "metadata": {
        "id": "PsId-AKmn6JC"
      },
      "source": [
        "**Remark:** To this end, you have two lists of sentences: input_texts and target_texts"
      ]
    },
    {
      "cell_type": "markdown",
      "metadata": {
        "id": "noyB6qCBn6JC"
      },
      "source": [
        "## 2. Text processing\n",
        "\n",
        "### 2.1. Convert texts to sequences\n",
        "\n",
        "- Input: A list of $n$ sentences (with max length $t$).\n",
        "- It is represented by a $n\\times t$ matrix after the tokenization and zero-padding."
      ]
    },
    {
      "cell_type": "code",
      "execution_count": 9,
      "metadata": {
        "colab": {
          "base_uri": "https://localhost:8080/"
        },
        "id": "oZoL6thFn6JD",
        "outputId": "ecb5b03c-1551-4c62-c4f5-d914f9007731"
      },
      "outputs": [
        {
          "output_type": "stream",
          "name": "stdout",
          "text": [
            "shape of encoder_input_seq: (20000, 18)\n",
            "shape of input_token_index: 27\n",
            "shape of decoder_input_seq: (20000, 55)\n",
            "shape of target_token_index: 29\n"
          ]
        }
      ],
      "source": [
        "from keras.preprocessing.text import Tokenizer\n",
        "from keras.preprocessing.sequence import pad_sequences\n",
        "\n",
        "# encode and pad sequences\n",
        "def text2sequences(max_len, lines):\n",
        "    tokenizer = Tokenizer(char_level=True, filters='')\n",
        "    tokenizer.fit_on_texts(lines)\n",
        "    seqs = tokenizer.texts_to_sequences(lines)\n",
        "    seqs_pad = pad_sequences(seqs, maxlen=max_len, padding='post')\n",
        "    return seqs_pad, tokenizer.word_index\n",
        "\n",
        "\n",
        "encoder_input_seq, input_token_index = text2sequences(max_encoder_seq_length, \n",
        "                                                      input_texts)\n",
        "decoder_input_seq, target_token_index = text2sequences(max_decoder_seq_length, \n",
        "                                                       target_texts)\n",
        "\n",
        "print('shape of encoder_input_seq: ' + str(encoder_input_seq.shape))\n",
        "print('shape of input_token_index: ' + str(len(input_token_index)))\n",
        "print('shape of decoder_input_seq: ' + str(decoder_input_seq.shape))\n",
        "print('shape of target_token_index: ' + str(len(target_token_index)))"
      ]
    },
    {
      "cell_type": "code",
      "execution_count": 10,
      "metadata": {
        "colab": {
          "base_uri": "https://localhost:8080/"
        },
        "id": "9r3mzbknn6JD",
        "outputId": "7c398d7c-bf54-43fc-c48b-6f4ee5f43a1b"
      },
      "outputs": [
        {
          "output_type": "stream",
          "name": "stdout",
          "text": [
            "num_encoder_tokens: 28\n",
            "num_decoder_tokens: 30\n"
          ]
        }
      ],
      "source": [
        "num_encoder_tokens = len(input_token_index) + 1\n",
        "num_decoder_tokens = len(target_token_index) + 1\n",
        "\n",
        "print('num_encoder_tokens: ' + str(num_encoder_tokens))\n",
        "print('num_decoder_tokens: ' + str(num_decoder_tokens))"
      ]
    },
    {
      "cell_type": "markdown",
      "metadata": {
        "id": "cAVJmj0Ln6JD"
      },
      "source": [
        "**Remark:** To this end, the input language and target language texts are converted to 2 matrices. \n",
        "\n",
        "- Their number of rows are both n_train.\n",
        "- Their number of columns are respective max_encoder_seq_length and max_decoder_seq_length."
      ]
    },
    {
      "cell_type": "markdown",
      "metadata": {
        "id": "oPgf9KJHn6JE"
      },
      "source": [
        "The followings print a sentence and its representation as a sequence."
      ]
    },
    {
      "cell_type": "code",
      "execution_count": 11,
      "metadata": {
        "colab": {
          "base_uri": "https://localhost:8080/",
          "height": 35
        },
        "id": "oUKFj9i3n6JE",
        "outputId": "af25af10-3a0c-4711-edd0-229a5dec8036"
      },
      "outputs": [
        {
          "output_type": "execute_result",
          "data": {
            "text/plain": [
              "'\\tno puede ser\\n'"
            ],
            "application/vnd.google.colaboratory.intrinsic+json": {
              "type": "string"
            }
          },
          "metadata": {},
          "execution_count": 11
        }
      ],
      "source": [
        "target_texts[100]"
      ]
    },
    {
      "cell_type": "code",
      "execution_count": 12,
      "metadata": {
        "colab": {
          "base_uri": "https://localhost:8080/"
        },
        "id": "tjiEomXIn6JE",
        "outputId": "64d10efa-f96b-4695-d57d-a0ff78ca4a14"
      },
      "outputs": [
        {
          "output_type": "execute_result",
          "data": {
            "text/plain": [
              "array([ 6,  8,  3,  1, 17, 14,  2, 15,  2,  1,  5,  2, 10,  7,  0,  0,  0,\n",
              "        0,  0,  0,  0,  0,  0,  0,  0,  0,  0,  0,  0,  0,  0,  0,  0,  0,\n",
              "        0,  0,  0,  0,  0,  0,  0,  0,  0,  0,  0,  0,  0,  0,  0,  0,  0,\n",
              "        0,  0,  0,  0], dtype=int32)"
            ]
          },
          "metadata": {},
          "execution_count": 12
        }
      ],
      "source": [
        "decoder_input_seq[100, :]"
      ]
    },
    {
      "cell_type": "markdown",
      "metadata": {
        "id": "0V7gsF5Sn6JE"
      },
      "source": [
        "## 2.2. One-hot encode\n",
        "\n",
        "- Input: A list of $n$ sentences (with max length $t$).\n",
        "- It is represented by a $n\\times t$ matrix after the tokenization and zero-padding.\n",
        "- It is represented by a $n\\times t \\times v$ tensor ($t$ is the number of unique chars) after the one-hot encoding."
      ]
    },
    {
      "cell_type": "code",
      "execution_count": 13,
      "metadata": {
        "colab": {
          "base_uri": "https://localhost:8080/"
        },
        "id": "YQcnb-whn6JE",
        "outputId": "5668a153-6bda-4f5f-9218-1a21958707db"
      },
      "outputs": [
        {
          "output_type": "stream",
          "name": "stdout",
          "text": [
            "(20000, 18, 28)\n",
            "(20000, 55, 30)\n"
          ]
        }
      ],
      "source": [
        "from tensorflow.keras.utils import to_categorical\n",
        "\n",
        "# one hot encode target sequence\n",
        "def onehot_encode(sequences, max_len, vocab_size):\n",
        "    n = len(sequences)\n",
        "    data = numpy.zeros((n, max_len, vocab_size))\n",
        "    for i in range(n):\n",
        "        data[i, :, :] = to_categorical(sequences[i], num_classes=vocab_size)\n",
        "    return data\n",
        "\n",
        "encoder_input_data = onehot_encode(encoder_input_seq, max_encoder_seq_length, num_encoder_tokens)\n",
        "decoder_input_data = onehot_encode(decoder_input_seq, max_decoder_seq_length, num_decoder_tokens)\n",
        "\n",
        "decoder_target_seq = numpy.zeros(decoder_input_seq.shape)\n",
        "decoder_target_seq[:, 0:-1] = decoder_input_seq[:, 1:]\n",
        "decoder_target_data = onehot_encode(decoder_target_seq, \n",
        "                                    max_decoder_seq_length, \n",
        "                                    num_decoder_tokens)\n",
        "\n",
        "print(encoder_input_data.shape)\n",
        "print(decoder_input_data.shape)"
      ]
    },
    {
      "cell_type": "markdown",
      "metadata": {
        "id": "S502rHdbn6JF"
      },
      "source": [
        "## 3. Build the networks (for training) (20 points)\n",
        "\n",
        "- In this section, we have already implemented the LSTM model for you. You can run the code and see what the code is doing.  \n",
        "\n",
        "- You need to change the existing LSTM model to a Bidirectional LSTM model. Just modify the network structrue and do not change the training cell in section 3.4.\n",
        "\n",
        "- Build encoder, decoder, and connect the two modules to get \"model\". \n",
        "\n",
        "- Fit the model on the bilingual data to train the parameters in the encoder and decoder.\n",
        "\n"
      ]
    },
    {
      "cell_type": "markdown",
      "metadata": {
        "id": "VoxKAdCqn6JF"
      },
      "source": [
        "### 3.1. Encoder network\n",
        "\n",
        "- Input:  one-hot encode of the input language\n",
        "\n",
        "- Return: \n",
        "\n",
        "    -- output (all the hidden states   $h_1, \\cdots , h_t$) are always discarded\n",
        "    \n",
        "    -- the final hidden state  $h_t$\n",
        "    \n",
        "    -- the final conveyor belt $c_t$"
      ]
    },
    {
      "cell_type": "code",
      "execution_count": 14,
      "metadata": {
        "colab": {
          "base_uri": "https://localhost:8080/",
          "height": 71
        },
        "id": "Wi__Ts4Bn6JF",
        "outputId": "0bcdd183-9154-464e-e861-d6a84c14be93"
      },
      "outputs": [
        {
          "output_type": "execute_result",
          "data": {
            "text/plain": [
              "\"# set the LSTM layer\\nencoder_lstm = LSTM(latent_dim, return_state=True, \\n                    dropout=0.5, name='encoder_lstm')\\n_, state_h, state_c = encoder_lstm(encoder_inputs)\\n\\n# build the encoder network model\\nencoder_model = Model(inputs=encoder_inputs, \\n                      outputs=[state_h, state_c],\\n                      name='encoder')\""
            ],
            "application/vnd.google.colaboratory.intrinsic+json": {
              "type": "string"
            }
          },
          "metadata": {},
          "execution_count": 14
        }
      ],
      "source": [
        "from tensorflow.keras.layers import Input, LSTM\n",
        "from tensorflow.keras.models import Model\n",
        "\n",
        "latent_dim = 256\n",
        "\n",
        "# inputs of the encoder network\n",
        "encoder_inputs = Input(shape=(None, num_encoder_tokens), \n",
        "                       name='encoder_inputs')\n",
        "\n",
        "\"\"\"# set the LSTM layer\n",
        "encoder_lstm = LSTM(latent_dim, return_state=True, \n",
        "                    dropout=0.5, name='encoder_lstm')\n",
        "_, state_h, state_c = encoder_lstm(encoder_inputs)\n",
        "\n",
        "# build the encoder network model\n",
        "encoder_model = Model(inputs=encoder_inputs, \n",
        "                      outputs=[state_h, state_c],\n",
        "                      name='encoder')\"\"\""
      ]
    },
    {
      "cell_type": "code",
      "execution_count": 15,
      "metadata": {
        "id": "AbkMcY6dor69"
      },
      "outputs": [],
      "source": [
        "from keras.layers import Bidirectional, Concatenate\n",
        "\n",
        "encoder_bilstm = Bidirectional(LSTM(latent_dim, return_state=True, \n",
        "                                  dropout=0.5, name='encoder_lstm'))\n",
        "_, forward_h, forward_c, backward_h, backward_c = encoder_bilstm(encoder_inputs)\n",
        "\n",
        "state_h = Concatenate()([forward_h, backward_h])\n",
        "state_c = Concatenate()([forward_c, backward_c])\n",
        "\n",
        "# build the encoder network model\n",
        "encoder_model = Model(inputs=encoder_inputs, \n",
        "                      outputs=[state_h, state_c],\n",
        "                      name='encoder')"
      ]
    },
    {
      "cell_type": "markdown",
      "metadata": {
        "id": "2KY2xaXvn6JF"
      },
      "source": [
        "Print a summary and save the encoder network structure to \"./encoder.pdf\""
      ]
    },
    {
      "cell_type": "code",
      "execution_count": 16,
      "metadata": {
        "colab": {
          "base_uri": "https://localhost:8080/"
        },
        "id": "xPjbdKJCn6JF",
        "outputId": "4501ee2a-00c8-48ea-baa0-8e385e3f7971"
      },
      "outputs": [
        {
          "output_type": "stream",
          "name": "stdout",
          "text": [
            "Model: \"encoder\"\n",
            "__________________________________________________________________________________________________\n",
            " Layer (type)                   Output Shape         Param #     Connected to                     \n",
            "==================================================================================================\n",
            " encoder_inputs (InputLayer)    [(None, None, 28)]   0           []                               \n",
            "                                                                                                  \n",
            " bidirectional (Bidirectional)  [(None, 512),        583680      ['encoder_inputs[0][0]']         \n",
            "                                 (None, 256),                                                     \n",
            "                                 (None, 256),                                                     \n",
            "                                 (None, 256),                                                     \n",
            "                                 (None, 256)]                                                     \n",
            "                                                                                                  \n",
            " concatenate (Concatenate)      (None, 512)          0           ['bidirectional[0][1]',          \n",
            "                                                                  'bidirectional[0][3]']          \n",
            "                                                                                                  \n",
            " concatenate_1 (Concatenate)    (None, 512)          0           ['bidirectional[0][2]',          \n",
            "                                                                  'bidirectional[0][4]']          \n",
            "                                                                                                  \n",
            "==================================================================================================\n",
            "Total params: 583,680\n",
            "Trainable params: 583,680\n",
            "Non-trainable params: 0\n",
            "__________________________________________________________________________________________________\n"
          ]
        }
      ],
      "source": [
        "from IPython.display import SVG\n",
        "from keras.utils.vis_utils import model_to_dot, plot_model\n",
        "\n",
        "SVG(model_to_dot(encoder_model, show_shapes=False).create(prog='dot', format='svg'))\n",
        "\n",
        "plot_model(\n",
        "    model=encoder_model, show_shapes=False,\n",
        "    to_file='encoder.pdf'\n",
        ")\n",
        "\n",
        "encoder_model.summary()"
      ]
    },
    {
      "cell_type": "markdown",
      "metadata": {
        "id": "QYZZgDrQn6JG"
      },
      "source": [
        "### 3.2. Decoder network\n",
        "\n",
        "- Inputs:  \n",
        "\n",
        "    -- one-hot encode of the target language\n",
        "    \n",
        "    -- The initial hidden state $h_t$ \n",
        "    \n",
        "    -- The initial conveyor belt $c_t$ \n",
        "\n",
        "- Return: \n",
        "\n",
        "    -- output (all the hidden states) $h_1, \\cdots , h_t$\n",
        "\n",
        "    -- the final hidden state  $h_t$ (discarded in the training and used in the prediction)\n",
        "    \n",
        "    -- the final conveyor belt $c_t$ (discarded in the training and used in the prediction)"
      ]
    },
    {
      "cell_type": "code",
      "execution_count": 17,
      "metadata": {
        "id": "1Oq4W48Zn6JG"
      },
      "outputs": [],
      "source": [
        "from keras.layers import Input, LSTM, Dense\n",
        "from keras.models import Model\n",
        "decoder_dim =512\n",
        "# inputs of the decoder network\n",
        "decoder_input_h = Input(shape=(decoder_dim,), name='decoder_input_h')\n",
        "decoder_input_c = Input(shape=(decoder_dim,), name='decoder_input_c')\n",
        "decoder_input_x = Input(shape=(None, num_decoder_tokens), name='decoder_input_x')\n",
        "\n",
        "# set the LSTM layer\n",
        "decoder_lstm = LSTM(decoder_dim, return_sequences=True, \n",
        "                    return_state=True, dropout=0.5, name='decoder_lstm')\n",
        "decoder_lstm_outputs, state_h, state_c = decoder_lstm(decoder_input_x, \n",
        "                                                      initial_state=[decoder_input_h, decoder_input_c])\n",
        "\n",
        "# set the dense layer\n",
        "decoder_dense = Dense(num_decoder_tokens, activation='softmax', name='decoder_dense')\n",
        "decoder_outputs = decoder_dense(decoder_lstm_outputs)\n",
        "\n",
        "# build the decoder network model\n",
        "decoder_model = Model(inputs=[decoder_input_x, decoder_input_h, decoder_input_c],\n",
        "                      outputs=[decoder_outputs, state_h, state_c],\n",
        "                      name='decoder')"
      ]
    },
    {
      "cell_type": "markdown",
      "metadata": {
        "id": "VfYhYV8Wn6JG"
      },
      "source": [
        "Print a summary and save the encoder network structure to \"./decoder.pdf\""
      ]
    },
    {
      "cell_type": "code",
      "execution_count": 18,
      "metadata": {
        "colab": {
          "base_uri": "https://localhost:8080/"
        },
        "id": "_42KLtH3n6JG",
        "outputId": "a363439a-503d-45f4-c182-df0fb8ba2da2"
      },
      "outputs": [
        {
          "output_type": "stream",
          "name": "stdout",
          "text": [
            "Model: \"decoder\"\n",
            "__________________________________________________________________________________________________\n",
            " Layer (type)                   Output Shape         Param #     Connected to                     \n",
            "==================================================================================================\n",
            " decoder_input_x (InputLayer)   [(None, None, 30)]   0           []                               \n",
            "                                                                                                  \n",
            " decoder_input_h (InputLayer)   [(None, 512)]        0           []                               \n",
            "                                                                                                  \n",
            " decoder_input_c (InputLayer)   [(None, 512)]        0           []                               \n",
            "                                                                                                  \n",
            " decoder_lstm (LSTM)            [(None, None, 512),  1112064     ['decoder_input_x[0][0]',        \n",
            "                                 (None, 512),                     'decoder_input_h[0][0]',        \n",
            "                                 (None, 512)]                     'decoder_input_c[0][0]']        \n",
            "                                                                                                  \n",
            " decoder_dense (Dense)          (None, None, 30)     15390       ['decoder_lstm[0][0]']           \n",
            "                                                                                                  \n",
            "==================================================================================================\n",
            "Total params: 1,127,454\n",
            "Trainable params: 1,127,454\n",
            "Non-trainable params: 0\n",
            "__________________________________________________________________________________________________\n"
          ]
        }
      ],
      "source": [
        "from IPython.display import SVG\n",
        "from keras.utils.vis_utils import model_to_dot, plot_model\n",
        "\n",
        "SVG(model_to_dot(decoder_model, show_shapes=False).create(prog='dot', format='svg'))\n",
        "\n",
        "plot_model(\n",
        "    model=decoder_model, show_shapes=False,\n",
        "    to_file='decoder.pdf'\n",
        ")\n",
        "\n",
        "decoder_model.summary()"
      ]
    },
    {
      "cell_type": "markdown",
      "metadata": {
        "id": "E2Wt0fuAn6JG"
      },
      "source": [
        "### 3.3. Connect the encoder and decoder"
      ]
    },
    {
      "cell_type": "code",
      "execution_count": 19,
      "metadata": {
        "id": "X1_tQvjZn6JH"
      },
      "outputs": [],
      "source": [
        "# input layers\n",
        "encoder_input_x = Input(shape=(None, num_encoder_tokens), name='encoder_input_x')\n",
        "decoder_input_x = Input(shape=(None, num_decoder_tokens), name='decoder_input_x')\n",
        "\n",
        "# connect encoder to decoder\n",
        "encoder_final_states = encoder_model([encoder_input_x])\n",
        "decoder_lstm_output, _, _ = decoder_lstm(decoder_input_x, initial_state=encoder_final_states)\n",
        "decoder_pred = decoder_dense(decoder_lstm_output)\n",
        "\n",
        "model = Model(inputs=[encoder_input_x, decoder_input_x], \n",
        "              outputs=decoder_pred, \n",
        "              name='model_training')"
      ]
    },
    {
      "cell_type": "code",
      "execution_count": 20,
      "metadata": {
        "colab": {
          "base_uri": "https://localhost:8080/"
        },
        "id": "BFAa1WZun6JH",
        "outputId": "502d45a5-440d-4ed6-a7b8-89deda9ccb77"
      },
      "outputs": [
        {
          "output_type": "stream",
          "name": "stdout",
          "text": [
            "Model: \"model_training\"\n",
            "__________________________________________________________________________________________________\n",
            " Layer (type)                   Output Shape         Param #     Connected to                     \n",
            "==================================================================================================\n",
            " encoder_input_x (InputLayer)   [(None, None, 28)]   0           []                               \n",
            "                                                                                                  \n",
            " decoder_input_x (InputLayer)   [(None, None, 30)]   0           []                               \n",
            "                                                                                                  \n",
            " encoder (Functional)           [(None, 512),        583680      ['encoder_input_x[0][0]']        \n",
            "                                 (None, 512)]                                                     \n",
            "                                                                                                  \n",
            " decoder_lstm (LSTM)            [(None, None, 512),  1112064     ['decoder_input_x[0][0]',        \n",
            "                                 (None, 512),                     'encoder[0][0]',                \n",
            "                                 (None, 512)]                     'encoder[0][1]']                \n",
            "                                                                                                  \n",
            " decoder_dense (Dense)          (None, None, 30)     15390       ['decoder_lstm[1][0]']           \n",
            "                                                                                                  \n",
            "==================================================================================================\n",
            "Total params: 1,711,134\n",
            "Trainable params: 1,711,134\n",
            "Non-trainable params: 0\n",
            "__________________________________________________________________________________________________\n"
          ]
        }
      ],
      "source": [
        "from IPython.display import SVG\n",
        "from keras.utils.vis_utils import model_to_dot, plot_model\n",
        "\n",
        "SVG(model_to_dot(model, show_shapes=False).create(prog='dot', format='svg'))\n",
        "\n",
        "plot_model(\n",
        "    model=model, show_shapes=False,\n",
        "    to_file='model_training.pdf'\n",
        ")\n",
        "\n",
        "model.summary()"
      ]
    },
    {
      "cell_type": "markdown",
      "metadata": {
        "id": "cGEzHlGWn6JH"
      },
      "source": [
        "### 3.4. Fit the model on the bilingual dataset\n",
        "\n",
        "- encoder_input_data: one-hot encode of the input language\n",
        "\n",
        "- decoder_input_data: one-hot encode of the input language\n",
        "\n",
        "- decoder_target_data: labels (left shift of decoder_input_data)\n",
        "\n",
        "- tune the hyper-parameters\n",
        "\n",
        "- stop when the validation loss stop decreasing."
      ]
    },
    {
      "cell_type": "code",
      "execution_count": 21,
      "metadata": {
        "colab": {
          "base_uri": "https://localhost:8080/"
        },
        "id": "Bx2tLevTn6JH",
        "outputId": "c5e37710-82ce-4eb5-b007-f3be27d4852d"
      },
      "outputs": [
        {
          "output_type": "stream",
          "name": "stdout",
          "text": [
            "shape of encoder_input_data(20000, 18, 28)\n",
            "shape of decoder_input_data(20000, 55, 30)\n",
            "shape of decoder_target_data(20000, 55, 30)\n"
          ]
        }
      ],
      "source": [
        "print('shape of encoder_input_data' + str(encoder_input_data.shape))\n",
        "print('shape of decoder_input_data' + str(decoder_input_data.shape))\n",
        "print('shape of decoder_target_data' + str(decoder_target_data.shape))"
      ]
    },
    {
      "cell_type": "code",
      "execution_count": 22,
      "metadata": {
        "id": "SSSrj_ntn6JH",
        "colab": {
          "base_uri": "https://localhost:8080/"
        },
        "outputId": "7b8d9ca0-5372-4a65-f90f-20c5d87a7055"
      },
      "outputs": [
        {
          "output_type": "stream",
          "name": "stdout",
          "text": [
            "Epoch 1/50\n",
            "250/250 [==============================] - 30s 83ms/step - loss: 0.9386 - val_loss: 0.8357\n",
            "Epoch 2/50\n",
            "250/250 [==============================] - 19s 76ms/step - loss: 0.7184 - val_loss: 0.7265\n",
            "Epoch 3/50\n",
            "250/250 [==============================] - 19s 76ms/step - loss: 0.6776 - val_loss: 0.6831\n",
            "Epoch 4/50\n",
            "250/250 [==============================] - 19s 76ms/step - loss: 0.6458 - val_loss: 0.6451\n",
            "Epoch 5/50\n",
            "250/250 [==============================] - 19s 75ms/step - loss: 0.6231 - val_loss: 0.6116\n",
            "Epoch 6/50\n",
            "250/250 [==============================] - 19s 75ms/step - loss: 0.6034 - val_loss: 0.5926\n",
            "Epoch 7/50\n",
            "250/250 [==============================] - 19s 75ms/step - loss: 0.5877 - val_loss: 0.5788\n",
            "Epoch 8/50\n",
            "250/250 [==============================] - 19s 75ms/step - loss: 0.5751 - val_loss: 0.5555\n",
            "Epoch 9/50\n",
            "250/250 [==============================] - 19s 75ms/step - loss: 0.5624 - val_loss: 0.5457\n",
            "Epoch 10/50\n",
            "250/250 [==============================] - 19s 76ms/step - loss: 0.5511 - val_loss: 0.5322\n",
            "Epoch 11/50\n",
            "250/250 [==============================] - 19s 75ms/step - loss: 0.5425 - val_loss: 0.5235\n",
            "Epoch 12/50\n",
            "250/250 [==============================] - 19s 76ms/step - loss: 0.5320 - val_loss: 0.5125\n",
            "Epoch 13/50\n",
            "250/250 [==============================] - 19s 76ms/step - loss: 0.5233 - val_loss: 0.5030\n",
            "Epoch 14/50\n",
            "250/250 [==============================] - 19s 76ms/step - loss: 0.5158 - val_loss: 0.4957\n",
            "Epoch 15/50\n",
            "250/250 [==============================] - 19s 76ms/step - loss: 0.5083 - val_loss: 0.4898\n",
            "Epoch 16/50\n",
            "250/250 [==============================] - 19s 76ms/step - loss: 0.5005 - val_loss: 0.4839\n",
            "Epoch 17/50\n",
            "250/250 [==============================] - 19s 76ms/step - loss: 0.4957 - val_loss: 0.4819\n",
            "Epoch 18/50\n",
            "250/250 [==============================] - 19s 76ms/step - loss: 0.4888 - val_loss: 0.4810\n",
            "Epoch 19/50\n",
            "250/250 [==============================] - 19s 76ms/step - loss: 0.4829 - val_loss: 0.4749\n",
            "Epoch 20/50\n",
            "250/250 [==============================] - 19s 76ms/step - loss: 0.4787 - val_loss: 0.4710\n",
            "Epoch 21/50\n",
            "250/250 [==============================] - 19s 76ms/step - loss: 0.4724 - val_loss: 0.4690\n",
            "Epoch 22/50\n",
            "250/250 [==============================] - 19s 76ms/step - loss: 0.4668 - val_loss: 0.4633\n",
            "Epoch 23/50\n",
            "250/250 [==============================] - 19s 76ms/step - loss: 0.4620 - val_loss: 0.4596\n",
            "Epoch 24/50\n",
            "250/250 [==============================] - 19s 75ms/step - loss: 0.4576 - val_loss: 0.4574\n",
            "Epoch 25/50\n",
            "250/250 [==============================] - 19s 76ms/step - loss: 0.4546 - val_loss: 0.4552\n",
            "Epoch 26/50\n",
            "250/250 [==============================] - 19s 76ms/step - loss: 0.4483 - val_loss: 0.4511\n",
            "Epoch 27/50\n",
            "250/250 [==============================] - 19s 76ms/step - loss: 0.4457 - val_loss: 0.4490\n",
            "Epoch 28/50\n",
            "250/250 [==============================] - 19s 76ms/step - loss: 0.4421 - val_loss: 0.4480\n",
            "Epoch 29/50\n",
            "250/250 [==============================] - 19s 76ms/step - loss: 0.4365 - val_loss: 0.4464\n",
            "Epoch 30/50\n",
            "250/250 [==============================] - 19s 76ms/step - loss: 0.4343 - val_loss: 0.4447\n",
            "Epoch 31/50\n",
            "250/250 [==============================] - 19s 76ms/step - loss: 0.4309 - val_loss: 0.4425\n",
            "Epoch 32/50\n",
            "250/250 [==============================] - 19s 76ms/step - loss: 0.4286 - val_loss: 0.4413\n",
            "Epoch 33/50\n",
            "250/250 [==============================] - 19s 75ms/step - loss: 0.4246 - val_loss: 0.4394\n",
            "Epoch 34/50\n",
            "250/250 [==============================] - 19s 76ms/step - loss: 0.4204 - val_loss: 0.4384\n",
            "Epoch 35/50\n",
            "250/250 [==============================] - 19s 76ms/step - loss: 0.4182 - val_loss: 0.4355\n",
            "Epoch 36/50\n",
            "250/250 [==============================] - 19s 76ms/step - loss: 0.4152 - val_loss: 0.4382\n",
            "Epoch 37/50\n",
            "250/250 [==============================] - 19s 76ms/step - loss: 0.4124 - val_loss: 0.4350\n",
            "Epoch 38/50\n",
            "250/250 [==============================] - 19s 76ms/step - loss: 0.4094 - val_loss: 0.4343\n",
            "Epoch 39/50\n",
            "250/250 [==============================] - 19s 76ms/step - loss: 0.4060 - val_loss: 0.4351\n",
            "Epoch 40/50\n",
            "250/250 [==============================] - 19s 76ms/step - loss: 0.4028 - val_loss: 0.4323\n",
            "Epoch 41/50\n",
            "250/250 [==============================] - 19s 76ms/step - loss: 0.4013 - val_loss: 0.4298\n",
            "Epoch 42/50\n",
            "250/250 [==============================] - 19s 76ms/step - loss: 0.3999 - val_loss: 0.4305\n",
            "Epoch 43/50\n",
            "250/250 [==============================] - 19s 76ms/step - loss: 0.3973 - val_loss: 0.4341\n",
            "Epoch 44/50\n",
            "250/250 [==============================] - 19s 76ms/step - loss: 0.3948 - val_loss: 0.4339\n",
            "Epoch 45/50\n",
            "250/250 [==============================] - 19s 76ms/step - loss: 0.3922 - val_loss: 0.4305\n",
            "Epoch 46/50\n",
            "250/250 [==============================] - 19s 76ms/step - loss: 0.3893 - val_loss: 0.4311\n",
            "Epoch 47/50\n",
            "250/250 [==============================] - 19s 76ms/step - loss: 0.3869 - val_loss: 0.4307\n",
            "Epoch 48/50\n",
            "250/250 [==============================] - 19s 76ms/step - loss: 0.3858 - val_loss: 0.4302\n",
            "Epoch 49/50\n",
            "250/250 [==============================] - 19s 76ms/step - loss: 0.3842 - val_loss: 0.4282\n",
            "Epoch 50/50\n",
            "250/250 [==============================] - 19s 76ms/step - loss: 0.3820 - val_loss: 0.4327\n"
          ]
        }
      ],
      "source": [
        "model.compile(optimizer='rmsprop', loss='categorical_crossentropy')\n",
        "\n",
        "model.fit([encoder_input_data, decoder_input_data],  # training data\n",
        "          decoder_target_data,                       # labels (left shift of the target sequences)\n",
        "          batch_size=64, epochs=50, validation_split=0.2)\n",
        "\n",
        "model.save('seq2seq.h5')"
      ]
    },
    {
      "cell_type": "markdown",
      "metadata": {
        "id": "Xkz6huLMn6JI"
      },
      "source": [
        "## 4. Make predictions\n",
        "\n",
        "- In this section, you need to complete section 4.2 to translate English to the target language.\n",
        "\n",
        "\n",
        "### 4.1. Translate English to XXX\n",
        "\n",
        "1. Encoder read a sentence (source language) and output its final states, $h_t$ and $c_t$.\n",
        "2. Take the [star] sign \"\\t\" and the final state $h_t$ and $c_t$ as input and run the decoder.\n",
        "3. Get the new states and predicted probability distribution.\n",
        "4. sample a char from the predicted probability distribution\n",
        "5. take the sampled char and the new states as input and repeat the process (stop if reach the [stop] sign \"\\n\")."
      ]
    },
    {
      "cell_type": "code",
      "execution_count": 23,
      "metadata": {
        "id": "ejX6Tk8zn6JI"
      },
      "outputs": [],
      "source": [
        "# Reverse-lookup token index to decode sequences back to something readable.\n",
        "reverse_input_char_index = dict((i, char) for char, i in input_token_index.items())\n",
        "reverse_target_char_index = dict((i, char) for char, i in target_token_index.items())"
      ]
    },
    {
      "cell_type": "code",
      "execution_count": 24,
      "metadata": {
        "id": "V4YY9dASn6JI"
      },
      "outputs": [],
      "source": [
        "def decode_sequence(input_seq):\n",
        "    temperature = 0.2\n",
        "    states_value = encoder_model.predict(input_seq)\n",
        "\n",
        "    target_seq = numpy.zeros((1, 1, num_decoder_tokens))\n",
        "    target_seq[0, 0, target_token_index['\\t']] = 1.\n",
        "\n",
        "    stop_condition = False\n",
        "    decoded_sentence = ''\n",
        "    while not stop_condition:\n",
        "        output_tokens, h, c = decoder_model.predict([target_seq] + states_value)\n",
        "\n",
        "        # this line of code is greedy selection\n",
        "        # try to use multinomial sampling instead (with temperature)\n",
        "        sampled_token_index = output_tokens[0, -1, :]\n",
        "        sampled_token_index = sampled_token_index ** (1/temperature)\n",
        "        sampled_token_index = sampled_token_index / numpy.sum(sampled_token_index)\n",
        "        sampled_token_index = numpy.argmax(sampled_token_index)\n",
        "        #print(sampled_token_index)\n",
        "        sampled_char = reverse_target_char_index[sampled_token_index]\n",
        "        decoded_sentence += sampled_char\n",
        "\n",
        "        if (sampled_char == '\\n' or\n",
        "           len(decoded_sentence) > max_decoder_seq_length):\n",
        "            stop_condition = True\n",
        "\n",
        "        target_seq = numpy.zeros((1, 1, num_decoder_tokens))\n",
        "        target_seq[0, 0, sampled_token_index] = 1.\n",
        "\n",
        "        states_value = [h, c]\n",
        "\n",
        "    return decoded_sentence\n"
      ]
    },
    {
      "cell_type": "code",
      "execution_count": 25,
      "metadata": {
        "id": "wjfuKe1Rn6JI",
        "colab": {
          "base_uri": "https://localhost:8080/"
        },
        "outputId": "ba03b1aa-9f6a-4c65-db4b-5296a32ae14f"
      },
      "outputs": [
        {
          "output_type": "stream",
          "name": "stdout",
          "text": [
            "-\n",
            "English:        hes skinny\n",
            "Spanish (true):  el esta delgado\n",
            "Spanish (pred):  el es mintio\n",
            "-\n",
            "English:        hes strong\n",
            "Spanish (true):  el es fuerte\n",
            "Spanish (pred):  el es a en proma\n",
            "-\n",
            "English:        hes stupid\n",
            "Spanish (true):  el es estupido\n",
            "Spanish (pred):  el es suy viejo\n",
            "-\n",
            "English:        hes stupid\n",
            "Spanish (true):  no le llega agua al tanque\n",
            "Spanish (pred):  el es suy viejo\n",
            "-\n",
            "English:        hes stupid\n",
            "Spanish (true):  es un salame\n",
            "Spanish (pred):  el es suy viejo\n",
            "-\n",
            "English:        help me out\n",
            "Spanish (true):  ayudame\n",
            "Spanish (pred):  ayudame a mary\n",
            "-\n",
            "English:        help me out\n",
            "Spanish (true):  ayudame a salir\n",
            "Spanish (pred):  ayudame a mary\n",
            "-\n",
            "English:        help me out\n",
            "Spanish (true):  echeme la mano\n",
            "Spanish (pred):  ayudame a mary\n",
            "-\n",
            "English:        help me out\n",
            "Spanish (true):  ayudame a salir\n",
            "Spanish (pred):  ayudame a mary\n",
            "-\n",
            "English:        here i come\n",
            "Spanish (true):  aqui vengo\n",
            "Spanish (pred):  aqui viene\n",
            "-\n",
            "English:        here i come\n",
            "Spanish (true):  ya estoy aqui\n",
            "Spanish (pred):  aqui viene\n",
            "-\n",
            "English:        here she is\n",
            "Spanish (true):  aqui esta ella\n",
            "Spanish (pred):  aqui esta el\n",
            "-\n",
            "English:        here we are\n",
            "Spanish (true):  aqui estamos\n",
            "Spanish (pred):  aqui estamos\n",
            "-\n",
            "English:        here we are\n",
            "Spanish (true):  aqui estamos\n",
            "Spanish (pred):  aqui estamos\n",
            "-\n",
            "English:        hi im tom\n",
            "Spanish (true):  hola soy tom\n",
            "Spanish (pred):  el lo entreno tom\n",
            "-\n",
            "English:        hit it hard\n",
            "Spanish (true):  dele fuerte\n",
            "Spanish (pred):  que tal el pesto\n",
            "-\n",
            "English:        how are you\n",
            "Spanish (true):  como estas vos\n",
            "Spanish (pred):  que tal te enerenaras\n",
            "-\n",
            "English:        how curious\n",
            "Spanish (true):  que curioso\n",
            "Spanish (pred):  que raro\n",
            "-\n",
            "English:        how strange\n",
            "Spanish (true):  que raro\n",
            "Spanish (pred):  que raro\n",
            "-\n",
            "English:        how strange\n",
            "Spanish (true):  que raro\n",
            "Spanish (pred):  que raro\n"
          ]
        }
      ],
      "source": [
        "for seq_index in range(2100, 2120):\n",
        "    # Take one sequence (part of the training set)\n",
        "    # for trying out decoding.\n",
        "    input_seq = encoder_input_data[seq_index: seq_index + 1]\n",
        "    decoded_sentence = decode_sequence(input_seq)\n",
        "    print('-')\n",
        "    print('English:       ', input_texts[seq_index])\n",
        "    print('Spanish (true): ', target_texts[seq_index][1:-1])\n",
        "    print('Spanish (pred): ', decoded_sentence[0:-1])\n"
      ]
    },
    {
      "cell_type": "markdown",
      "metadata": {
        "id": "uGw8iPIJn6JI"
      },
      "source": [
        "### 4.2. Translate an English sentence to the target language （20 points）\n",
        "\n",
        "1. Tokenization\n",
        "2. One-hot encode\n",
        "3. Translate"
      ]
    },
    {
      "cell_type": "code",
      "execution_count": 26,
      "metadata": {
        "id": "SOvGfWEjn6JI",
        "colab": {
          "base_uri": "https://localhost:8080/"
        },
        "outputId": "2aa880c5-595f-42bb-c858-9c45b921b902"
      },
      "outputs": [
        {
          "output_type": "stream",
          "name": "stdout",
          "text": [
            "[[3 1 4 2 5 6 1 7 2 8 0 0 0 0 0 0 0 0]]\n",
            "source sentence is: ['I love you']\n",
            "translated sentence is: tom es un mentiroso\n",
            "\n"
          ]
        }
      ],
      "source": [
        "input_sentence = ['I love you']\n",
        "\n",
        "input_sequence,dictr = text2sequences(max_encoder_seq_length, input_sentence)\n",
        "print(input_sequence)\n",
        "input_x = onehot_encode(input_sequence, max_encoder_seq_length, num_encoder_tokens)\n",
        "\n",
        "translated_sentence = decode_sequence(input_x)\n",
        "\n",
        "print('source sentence is: ' + str(input_sentence))\n",
        "print('translated sentence is: ' + str(translated_sentence))"
      ]
    },
    {
      "cell_type": "code",
      "source": [
        "print(len(test_pairs_1))"
      ],
      "metadata": {
        "id": "B5uJ4YVJd2bu",
        "colab": {
          "base_uri": "https://localhost:8080/"
        },
        "outputId": "b5db41d1-1de1-4597-d618-f07d48d27460"
      },
      "execution_count": 27,
      "outputs": [
        {
          "output_type": "stream",
          "name": "stdout",
          "text": [
            "200\n"
          ]
        }
      ]
    },
    {
      "cell_type": "code",
      "source": [
        "###BLEU SCORE FOR THE FIRST MODEL"
      ],
      "metadata": {
        "id": "cSA0oPIY_iIa"
      },
      "execution_count": 28,
      "outputs": []
    },
    {
      "cell_type": "code",
      "source": [
        "from nltk.translate.bleu_score import  sentence_bleu\n",
        "from nltk.translate.bleu_score import SmoothingFunction\n",
        "bleu_list = []\n",
        "for n in range(len(test_pairs_1)):\n",
        "  test_str = test_pairs_1[n][0]\n",
        "  target_sentence = test_pairs_1[n][1]\n",
        "  input_sentence = [test_str]\n",
        "  encoder_input_seq,l= text2sequences(max_encoder_seq_length,input_sentence)\n",
        "  input_x = onehot_encode(encoder_input_seq, max_encoder_seq_length, num_encoder_tokens)\n",
        "  translated_sentence = decode_sequence(input_x)\n",
        "  score = sentence_bleu(target_sentence, translated_sentence)\n",
        "  #print(score)\n",
        "  bleu_list.append(score)\n",
        "\n",
        "print(\"Bleu_score ->\", numpy.mean(bleu_list))"
      ],
      "metadata": {
        "id": "vPsggU5wdteV",
        "colab": {
          "base_uri": "https://localhost:8080/"
        },
        "outputId": "e2705ea9-bf36-454c-a841-dc9e16c04646"
      },
      "execution_count": 66,
      "outputs": [
        {
          "output_type": "stream",
          "name": "stderr",
          "text": [
            "/usr/local/lib/python3.7/dist-packages/nltk/translate/bleu_score.py:490: UserWarning: \n",
            "Corpus/Sentence contains 0 counts of 2-gram overlaps.\n",
            "BLEU scores might be undesirable; use SmoothingFunction().\n",
            "  warnings.warn(_msg)\n"
          ]
        },
        {
          "output_type": "stream",
          "name": "stdout",
          "text": [
            "Bleu_score -> 0.7721547843360298\n"
          ]
        }
      ]
    },
    {
      "cell_type": "code",
      "source": [
        "print('BLEU score is:',numpy.mean(bleu_list))\n"
      ],
      "metadata": {
        "id": "_8FCJR07dw1x",
        "colab": {
          "base_uri": "https://localhost:8080/"
        },
        "outputId": "c6a6c1bc-4f97-43d9-845c-570ec0cceaad"
      },
      "execution_count": 67,
      "outputs": [
        {
          "output_type": "stream",
          "name": "stdout",
          "text": [
            "BLEU score is: 0.7721547843360298\n"
          ]
        }
      ]
    },
    {
      "cell_type": "markdown",
      "metadata": {
        "id": "HJMv2b1hn6JJ"
      },
      "source": [
        "# 5. Evaluate the translation using BLEU score\n",
        "\n",
        "- We have already translated from English to target language, but how can we evaluate the performance of our model quantitatively? \n",
        "\n",
        "- In this section, you need to re-train the model we built in secton 3 and then evaluate the bleu score on testing dataset.\n",
        "\n",
        "Reference:\n",
        "\n",
        "https://machinelearningmastery.com/calculate-bleu-score-for-text-python/\n",
        "\n",
        "https://en.wikipedia.org/wiki/BLEU\n",
        "\n",
        "#### Hint:\n",
        "\n",
        "- Randomly partition the dataset to training, validation, and test.\n",
        "\n",
        "- Evaluate the BLEU score using the test set. Report the average.\n",
        "\n",
        "- You may use packages to calculate bleu score, e.g., sentence_bleu() from nltk package."
      ]
    },
    {
      "cell_type": "markdown",
      "metadata": {
        "id": "A106G6F_n6JJ"
      },
      "source": [
        "[link text](https://)### 5.1. Partition the dataset to training, validation, and test. Build new token index. (10 points)\n",
        "\n",
        "1. You may try to load more data/lines from text file.\n",
        "2. Convert text to sequences and build token index using training data.\n",
        "3. One-hot encode your training and validation text sequences."
      ]
    },
    {
      "cell_type": "code",
      "source": [
        "#Load the whole dataset again from scratch"
      ],
      "metadata": {
        "id": "laeQEkY6nAad"
      },
      "execution_count": 33,
      "outputs": []
    },
    {
      "cell_type": "code",
      "source": [
        "clean_pairs_2 = clean_data(pairs)[0:60200, :]"
      ],
      "metadata": {
        "id": "p0ugV4ytnMUE"
      },
      "execution_count": 34,
      "outputs": []
    },
    {
      "cell_type": "code",
      "source": [
        "data_length = len(clean_pairs_2)\n",
        "print(data_length)"
      ],
      "metadata": {
        "colab": {
          "base_uri": "https://localhost:8080/"
        },
        "id": "AQ36X9hFnZhJ",
        "outputId": "ec717c4f-403b-4905-dc81-49a1aadb84fe"
      },
      "execution_count": 35,
      "outputs": [
        {
          "output_type": "stream",
          "name": "stdout",
          "text": [
            "60200\n"
          ]
        }
      ]
    },
    {
      "cell_type": "code",
      "source": [
        "numpy.random.seed(42)\n",
        "random_indices = numpy.random.permutation(data_length)\n",
        "test_pairs_indices = random_indices[:200]\n",
        "training_pairs_indices = random_indices[200:]"
      ],
      "metadata": {
        "id": "MW3RsZv2n-c-"
      },
      "execution_count": 36,
      "outputs": []
    },
    {
      "cell_type": "code",
      "source": [
        "test_pairs = clean_pairs_2[test_pairs_indices]\n",
        "print(len(test_pairs))"
      ],
      "metadata": {
        "colab": {
          "base_uri": "https://localhost:8080/"
        },
        "id": "JxBg65zDo8fR",
        "outputId": "88228fe0-848f-4a5c-914a-a202ffb38afd"
      },
      "execution_count": 37,
      "outputs": [
        {
          "output_type": "stream",
          "name": "stdout",
          "text": [
            "200\n"
          ]
        }
      ]
    },
    {
      "cell_type": "code",
      "source": [
        "training_pairs = clean_pairs_2[training_pairs_indices]\n",
        "print(len(training_pairs))"
      ],
      "metadata": {
        "colab": {
          "base_uri": "https://localhost:8080/"
        },
        "id": "3TvyKM50pUQu",
        "outputId": "548785ff-b511-44b2-c842-39e22d9b5892"
      },
      "execution_count": 38,
      "outputs": [
        {
          "output_type": "stream",
          "name": "stdout",
          "text": [
            "60000\n"
          ]
        }
      ]
    },
    {
      "cell_type": "code",
      "source": [
        "input_texts_2 = training_pairs[:, 0]\n",
        "target_texts_2 = ['\\t' + text + '\\n' for text in training_pairs[:, 1]]\n",
        "\n",
        "print('Length of input_texts_2:  ' + str(input_texts_2.shape))\n",
        "print('Length of target_texts_2: ' + str(input_texts_2.shape))"
      ],
      "metadata": {
        "colab": {
          "base_uri": "https://localhost:8080/"
        },
        "id": "7TACaPUop2lo",
        "outputId": "7580f35e-40ab-4499-f4db-2f45cab73cfd"
      },
      "execution_count": 39,
      "outputs": [
        {
          "output_type": "stream",
          "name": "stdout",
          "text": [
            "Length of input_texts_2:  (60000,)\n",
            "Length of target_texts_2: (60000,)\n"
          ]
        }
      ]
    },
    {
      "cell_type": "code",
      "source": [
        "max_encoder_seq_length_2 = max(len(line) for line in input_texts_2)\n",
        "max_decoder_seq_length_2 = max(len(line) for line in target_texts_2)\n",
        "\n",
        "print('max length of input  sentences: %d' % (max_encoder_seq_length_2))\n",
        "print('max length of target sentences: %d' % (max_decoder_seq_length_2))"
      ],
      "metadata": {
        "colab": {
          "base_uri": "https://localhost:8080/"
        },
        "id": "DJOdtNfjJakT",
        "outputId": "5ffc0ce6-d034-4a88-9f00-45063e5e30b1"
      },
      "execution_count": 40,
      "outputs": [
        {
          "output_type": "stream",
          "name": "stdout",
          "text": [
            "max length of input  sentences: 26\n",
            "max length of target sentences: 68\n"
          ]
        }
      ]
    },
    {
      "cell_type": "code",
      "source": [
        "encoder_input_seq_2, input_token_index_2 = text2sequences(max_encoder_seq_length_2, \n",
        "                                                      input_texts_2)\n",
        "decoder_input_seq_2, target_token_index_2 = text2sequences(max_decoder_seq_length_2, \n",
        "                                                       target_texts_2)\n",
        "\n",
        "print('shape of encoder_input_seq_2: ' + str(encoder_input_seq_2.shape))\n",
        "print('shape of input_token_index_2: ' + str(len(input_token_index_2)))\n",
        "print('shape of decoder_input_seq_2: ' + str(decoder_input_seq_2.shape))\n",
        "print('shape of target_token_index_2: ' + str(len(target_token_index_2)))"
      ],
      "metadata": {
        "colab": {
          "base_uri": "https://localhost:8080/"
        },
        "id": "kEHLcQcmqg9P",
        "outputId": "3f0d925f-be83-4114-850b-ee3418fecdec"
      },
      "execution_count": 41,
      "outputs": [
        {
          "output_type": "stream",
          "name": "stdout",
          "text": [
            "shape of encoder_input_seq_2: (60000, 26)\n",
            "shape of input_token_index_2: 27\n",
            "shape of decoder_input_seq_2: (60000, 68)\n",
            "shape of target_token_index_2: 29\n"
          ]
        }
      ]
    },
    {
      "cell_type": "code",
      "source": [
        "#One-hot encode"
      ],
      "metadata": {
        "id": "6s_I9zZErCOB"
      },
      "execution_count": 42,
      "outputs": []
    },
    {
      "cell_type": "code",
      "source": [
        "encoder_input_data_2 = onehot_encode(encoder_input_seq_2, max_encoder_seq_length_2, num_encoder_tokens)\n",
        "decoder_input_data_2 = onehot_encode(decoder_input_seq_2, max_decoder_seq_length_2, num_decoder_tokens)\n",
        "\n",
        "decoder_target_seq_2 = numpy.zeros(decoder_input_seq_2.shape)\n",
        "decoder_target_seq_2[:, 0:-1] = decoder_input_seq_2[:, 1:]\n",
        "decoder_target_data_2 = onehot_encode(decoder_target_seq_2, \n",
        "                                    max_decoder_seq_length_2, \n",
        "                                    num_decoder_tokens)\n",
        "\n",
        "print(encoder_input_data_2.shape)\n",
        "print(decoder_input_data_2.shape)"
      ],
      "metadata": {
        "colab": {
          "base_uri": "https://localhost:8080/"
        },
        "id": "so5D0hgarFZI",
        "outputId": "bcb38baf-d6c2-4a99-ced2-218ee7560e73"
      },
      "execution_count": 43,
      "outputs": [
        {
          "output_type": "stream",
          "name": "stdout",
          "text": [
            "(60000, 26, 28)\n",
            "(60000, 68, 30)\n"
          ]
        }
      ]
    },
    {
      "cell_type": "code",
      "source": [
        "latent_dim = 256\n",
        "\n",
        "# inputs of the encoder network\n",
        "encoder_inputs_2 = Input(shape=(None, num_encoder_tokens), \n",
        "                       name='encoder_inputs_2')"
      ],
      "metadata": {
        "id": "spAGmECufcKn"
      },
      "execution_count": 44,
      "outputs": []
    },
    {
      "cell_type": "code",
      "source": [
        "encoder_bilstm_2 = Bidirectional(LSTM(latent_dim, return_state=True, \n",
        "                                  dropout=0.5, name='encoder_lstm_2'))\n",
        "_, forward_h_2, forward_c_2, backward_h_2, backward_c_2 = encoder_bilstm_2(encoder_inputs_2)\n",
        "\n",
        "state_h_2 = Concatenate()([forward_h_2, backward_h_2])\n",
        "state_c_2 = Concatenate()([forward_c_2, backward_c_2])\n",
        "\n",
        "# build the encoder network model\n",
        "encoder_model_2 = Model(inputs=encoder_inputs_2, \n",
        "                      outputs=[state_h_2, state_c_2],\n",
        "                      name='encoder_2')"
      ],
      "metadata": {
        "id": "Mrr9JDYefday"
      },
      "execution_count": 45,
      "outputs": []
    },
    {
      "cell_type": "code",
      "source": [
        "SVG(model_to_dot(encoder_model_2, show_shapes=False).create(prog='dot', format='svg'))\n",
        "\n",
        "plot_model(\n",
        "    model=encoder_model_2, show_shapes=False,\n",
        "    to_file='encoder_2.pdf'\n",
        ")\n",
        "\n",
        "encoder_model_2.summary()"
      ],
      "metadata": {
        "colab": {
          "base_uri": "https://localhost:8080/"
        },
        "id": "sCVQ3zg9f-1E",
        "outputId": "8d104140-d140-4193-8932-d425f7885839"
      },
      "execution_count": 46,
      "outputs": [
        {
          "output_type": "stream",
          "name": "stdout",
          "text": [
            "Model: \"encoder_2\"\n",
            "__________________________________________________________________________________________________\n",
            " Layer (type)                   Output Shape         Param #     Connected to                     \n",
            "==================================================================================================\n",
            " encoder_inputs_2 (InputLayer)  [(None, None, 28)]   0           []                               \n",
            "                                                                                                  \n",
            " bidirectional_1 (Bidirectional  [(None, 512),       583680      ['encoder_inputs_2[0][0]']       \n",
            " )                               (None, 256),                                                     \n",
            "                                 (None, 256),                                                     \n",
            "                                 (None, 256),                                                     \n",
            "                                 (None, 256)]                                                     \n",
            "                                                                                                  \n",
            " concatenate_2 (Concatenate)    (None, 512)          0           ['bidirectional_1[0][1]',        \n",
            "                                                                  'bidirectional_1[0][3]']        \n",
            "                                                                                                  \n",
            " concatenate_3 (Concatenate)    (None, 512)          0           ['bidirectional_1[0][2]',        \n",
            "                                                                  'bidirectional_1[0][4]']        \n",
            "                                                                                                  \n",
            "==================================================================================================\n",
            "Total params: 583,680\n",
            "Trainable params: 583,680\n",
            "Non-trainable params: 0\n",
            "__________________________________________________________________________________________________\n"
          ]
        }
      ]
    },
    {
      "cell_type": "code",
      "source": [
        "decoder_dim_2 =512\n",
        "# inputs of the decoder network\n",
        "decoder_input_h_2 = Input(shape=(decoder_dim_2,), name='decoder_input_h_2')\n",
        "decoder_input_c_2 = Input(shape=(decoder_dim_2,), name='decoder_input_c_2')\n",
        "decoder_input_x_2 = Input(shape=(None, num_decoder_tokens), name='decoder_input_x_2')\n",
        "\n",
        "# set the LSTM layer\n",
        "decoder_lstm_2 = LSTM(decoder_dim_2, return_sequences=True, \n",
        "                    return_state=True, dropout=0.5, name='decoder_lstm_2')\n",
        "decoder_lstm_outputs_2, state_h_2, state_c_2 = decoder_lstm_2(decoder_input_x_2, \n",
        "                                                      initial_state=[decoder_input_h_2, decoder_input_c_2])\n",
        "\n",
        "# set the dense layer\n",
        "decoder_dense_2 = Dense(num_decoder_tokens, activation='softmax', name='decoder_dense_2')\n",
        "decoder_outputs_2 = decoder_dense_2(decoder_lstm_outputs_2)\n",
        "\n",
        "# build the decoder network model\n",
        "decoder_model_2 = Model(inputs=[decoder_input_x_2, decoder_input_h_2, decoder_input_c_2],\n",
        "                      outputs=[decoder_outputs_2, state_h_2, state_c_2],\n",
        "                      name='decoder_2')"
      ],
      "metadata": {
        "id": "FCP2Na4pgGyn"
      },
      "execution_count": 47,
      "outputs": []
    },
    {
      "cell_type": "code",
      "source": [
        "### Print a summary and save the encoder network structure to \"./decoder.pdf\""
      ],
      "metadata": {
        "id": "YQ2Q31m-i0Od"
      },
      "execution_count": 48,
      "outputs": []
    },
    {
      "cell_type": "code",
      "source": [
        "from IPython.display import SVG\n",
        "from keras.utils.vis_utils import model_to_dot, plot_model\n",
        "\n",
        "SVG(model_to_dot(decoder_model_2, show_shapes=False).create(prog='dot', format='svg'))\n",
        "\n",
        "plot_model(\n",
        "    model=decoder_model_2, show_shapes=False,\n",
        "    to_file='decoder_2.pdf'\n",
        ")\n",
        "\n",
        "decoder_model_2.summary()"
      ],
      "metadata": {
        "colab": {
          "base_uri": "https://localhost:8080/"
        },
        "id": "Xz4F2XVgi5HA",
        "outputId": "658bf3e3-2b6f-42ab-dd57-465742261518"
      },
      "execution_count": 49,
      "outputs": [
        {
          "output_type": "stream",
          "name": "stdout",
          "text": [
            "Model: \"decoder_2\"\n",
            "__________________________________________________________________________________________________\n",
            " Layer (type)                   Output Shape         Param #     Connected to                     \n",
            "==================================================================================================\n",
            " decoder_input_x_2 (InputLayer)  [(None, None, 30)]  0           []                               \n",
            "                                                                                                  \n",
            " decoder_input_h_2 (InputLayer)  [(None, 512)]       0           []                               \n",
            "                                                                                                  \n",
            " decoder_input_c_2 (InputLayer)  [(None, 512)]       0           []                               \n",
            "                                                                                                  \n",
            " decoder_lstm_2 (LSTM)          [(None, None, 512),  1112064     ['decoder_input_x_2[0][0]',      \n",
            "                                 (None, 512),                     'decoder_input_h_2[0][0]',      \n",
            "                                 (None, 512)]                     'decoder_input_c_2[0][0]']      \n",
            "                                                                                                  \n",
            " decoder_dense_2 (Dense)        (None, None, 30)     15390       ['decoder_lstm_2[0][0]']         \n",
            "                                                                                                  \n",
            "==================================================================================================\n",
            "Total params: 1,127,454\n",
            "Trainable params: 1,127,454\n",
            "Non-trainable params: 0\n",
            "__________________________________________________________________________________________________\n"
          ]
        }
      ]
    },
    {
      "cell_type": "code",
      "source": [
        "### 3.3. Connect the encoder and decoder"
      ],
      "metadata": {
        "id": "tBBt7el8i_NU"
      },
      "execution_count": 50,
      "outputs": []
    },
    {
      "cell_type": "code",
      "source": [
        "# input layers\n",
        "encoder_input_x_2 = Input(shape=(None, num_encoder_tokens), name='encoder_input_x_2')\n",
        "decoder_input_x_2 = Input(shape=(None, num_decoder_tokens), name='decoder_input_x_2')\n",
        "\n",
        "# connect encoder to decoder\n",
        "encoder_final_states_2 = encoder_model_2([encoder_input_x_2])\n",
        "decoder_lstm_output_2, _, _ = decoder_lstm_2(decoder_input_x_2, initial_state=encoder_final_states_2)\n",
        "decoder_pred_2 = decoder_dense_2(decoder_lstm_output_2)\n",
        "\n",
        "model_2 = Model(inputs=[encoder_input_x_2, decoder_input_x_2], \n",
        "              outputs=decoder_pred_2, \n",
        "              name='model_2_training')"
      ],
      "metadata": {
        "id": "7aO7LWW3jCPZ"
      },
      "execution_count": 51,
      "outputs": []
    },
    {
      "cell_type": "code",
      "source": [
        "from IPython.display import SVG\n",
        "from keras.utils.vis_utils import model_to_dot, plot_model\n",
        "\n",
        "SVG(model_to_dot(model_2, show_shapes=False).create(prog='dot', format='svg'))\n",
        "\n",
        "plot_model(\n",
        "    model=model_2, show_shapes=False,\n",
        "    to_file='model_2_training.pdf'\n",
        ")\n",
        "\n",
        "model_2.summary()"
      ],
      "metadata": {
        "colab": {
          "base_uri": "https://localhost:8080/"
        },
        "id": "NnvUIqxejJGC",
        "outputId": "a6b5b697-1d0a-41d9-d6b0-dba86a2f0d05"
      },
      "execution_count": 52,
      "outputs": [
        {
          "output_type": "stream",
          "name": "stdout",
          "text": [
            "Model: \"model_2_training\"\n",
            "__________________________________________________________________________________________________\n",
            " Layer (type)                   Output Shape         Param #     Connected to                     \n",
            "==================================================================================================\n",
            " encoder_input_x_2 (InputLayer)  [(None, None, 28)]  0           []                               \n",
            "                                                                                                  \n",
            " decoder_input_x_2 (InputLayer)  [(None, None, 30)]  0           []                               \n",
            "                                                                                                  \n",
            " encoder_2 (Functional)         [(None, 512),        583680      ['encoder_input_x_2[0][0]']      \n",
            "                                 (None, 512)]                                                     \n",
            "                                                                                                  \n",
            " decoder_lstm_2 (LSTM)          [(None, None, 512),  1112064     ['decoder_input_x_2[0][0]',      \n",
            "                                 (None, 512),                     'encoder_2[0][0]',              \n",
            "                                 (None, 512)]                     'encoder_2[0][1]']              \n",
            "                                                                                                  \n",
            " decoder_dense_2 (Dense)        (None, None, 30)     15390       ['decoder_lstm_2[1][0]']         \n",
            "                                                                                                  \n",
            "==================================================================================================\n",
            "Total params: 1,711,134\n",
            "Trainable params: 1,711,134\n",
            "Non-trainable params: 0\n",
            "__________________________________________________________________________________________________\n"
          ]
        }
      ]
    },
    {
      "cell_type": "code",
      "source": [
        "### 3.4. Fit the model on the bilingual dataset\n"
      ],
      "metadata": {
        "id": "cztMQLrkjPzA"
      },
      "execution_count": 53,
      "outputs": []
    },
    {
      "cell_type": "code",
      "source": [
        "print('shape of encoder_input_data_2' + str(encoder_input_data_2.shape))\n",
        "print('shape of decoder_input_data_2' + str(decoder_input_data_2.shape))\n",
        "print('shape of decoder_target_data_2' + str(decoder_target_data_2.shape))"
      ],
      "metadata": {
        "colab": {
          "base_uri": "https://localhost:8080/"
        },
        "id": "8S2vf1xWjRyI",
        "outputId": "6a2b665b-ab0c-46fd-d992-314de4afc854"
      },
      "execution_count": 54,
      "outputs": [
        {
          "output_type": "stream",
          "name": "stdout",
          "text": [
            "shape of encoder_input_data_2(60000, 26, 28)\n",
            "shape of decoder_input_data_2(60000, 68, 30)\n",
            "shape of decoder_target_data_2(60000, 68, 30)\n"
          ]
        }
      ]
    },
    {
      "cell_type": "code",
      "source": [
        "### Decode Sequence 2 function for second model Built"
      ],
      "metadata": {
        "id": "3Y_MzktARB1b"
      },
      "execution_count": null,
      "outputs": []
    },
    {
      "cell_type": "code",
      "source": [
        "def decode_sequence_2(input_seq):\n",
        "    states_value = encoder_model_2.predict(input_seq)\n",
        "\n",
        "    target_seq = numpy.zeros((1, 1, num_decoder_tokens))\n",
        "    target_seq[0, 0, target_token_index['\\t']] = 1.\n",
        "\n",
        "    stop_condition = False\n",
        "    decoded_sentence = ''\n",
        "    while not stop_condition:\n",
        "        output_tokens, h, c = decoder_model_2.predict([target_seq] + states_value)\n",
        "\n",
        "        # this line of code is greedy selection\n",
        "        # try to use multinomial sampling instead (with temperature)\n",
        "        sampled_token_index = numpy.argmax(output_tokens[0, -1, :])\n",
        "        \n",
        "        sampled_char = reverse_target_char_index[sampled_token_index]\n",
        "        decoded_sentence += sampled_char\n",
        "\n",
        "        if (sampled_char == '\\n' or\n",
        "           len(decoded_sentence) > max_decoder_seq_length):\n",
        "            stop_condition = True\n",
        "\n",
        "        target_seq = numpy.zeros((1, 1, num_decoder_tokens))\n",
        "        target_seq[0, 0, sampled_token_index] = 1.\n",
        "\n",
        "        states_value = [h, c]\n",
        "\n",
        "    return decoded_sentence\n"
      ],
      "metadata": {
        "id": "c9r02SHk0GLe"
      },
      "execution_count": 55,
      "outputs": []
    },
    {
      "cell_type": "markdown",
      "metadata": {
        "id": "RigPkNyGn6JJ"
      },
      "source": [
        "### 5.2 Retrain your previous Bidirectional LSTM model with training and validation data and tune the parameters (learning rate, optimizer, etc) based on validation score. (25 points)\n",
        "\n",
        "1. Use the model structure in section 3 to train a new model with new training and validation datasets.\n",
        "2. Based on validation BLEU score or loss to tune parameters."
      ]
    },
    {
      "cell_type": "code",
      "execution_count": 56,
      "metadata": {
        "id": "NyQQsVglnQmq",
        "colab": {
          "base_uri": "https://localhost:8080/"
        },
        "outputId": "2df333c0-beb5-4cf9-f338-54a785374460"
      },
      "outputs": [
        {
          "output_type": "stream",
          "name": "stdout",
          "text": [
            "Epoch 1/5\n",
            "1500/1500 [==============================] - 128s 83ms/step - loss: 0.8031 - val_loss: 0.5233\n",
            "Epoch 2/5\n",
            "1500/1500 [==============================] - 122s 82ms/step - loss: 0.6420 - val_loss: 0.4686\n",
            "Epoch 3/5\n",
            "1500/1500 [==============================] - 124s 82ms/step - loss: 0.6110 - val_loss: 0.4559\n",
            "Epoch 4/5\n",
            "1500/1500 [==============================] - 122s 82ms/step - loss: 0.5940 - val_loss: 0.4518\n",
            "Epoch 5/5\n",
            "1500/1500 [==============================] - 124s 83ms/step - loss: 0.5830 - val_loss: 0.4497\n"
          ]
        }
      ],
      "source": [
        "from keras import optimizers\n",
        "\n",
        "model_2.compile(optimizer=optimizers.rmsprop_v2.RMSprop(learning_rate=0.01), loss='categorical_crossentropy')\n",
        "\n",
        "model_2.fit([encoder_input_data_2, decoder_input_data_2],  # training data\n",
        "          decoder_target_data_2,                       # labels (left shift of the target sequences)\n",
        "          batch_size=32, epochs=10, validation_split=0.2)\n",
        "\n",
        "model_2.save('seq2seq_2.h5')"
      ]
    },
    {
      "cell_type": "markdown",
      "metadata": {
        "id": "E2gzQ_ctn6JJ"
      },
      "source": [
        "### 5.3 Evaluate the BLEU score using the test set. (15 points)\n",
        "\n",
        "1. Use trained model above to calculate the BLEU score with testing dataset."
      ]
    },
    {
      "cell_type": "code",
      "execution_count": 63,
      "metadata": {
        "id": "x1ogbESSn6JJ",
        "colab": {
          "base_uri": "https://localhost:8080/"
        },
        "outputId": "3d4244b6-15e0-4f08-ab4a-0c106206df1d"
      },
      "outputs": [
        {
          "metadata": {
            "tags": null
          },
          "name": "stderr",
          "output_type": "stream",
          "text": [
            "/usr/local/lib/python3.7/dist-packages/nltk/translate/bleu_score.py:490: UserWarning: \n",
            "Corpus/Sentence contains 0 counts of 2-gram overlaps.\n",
            "BLEU scores might be undesirable; use SmoothingFunction().\n",
            "  warnings.warn(_msg)\n"
          ]
        },
        {
          "output_type": "stream",
          "name": "stdout",
          "text": [
            "Bleu_score -> 0.7781658255534205\n"
          ]
        }
      ],
      "source": [
        "from nltk.translate.bleu_score import  sentence_bleu\n",
        "from nltk.translate.bleu_score import SmoothingFunction\n",
        "smoothie = SmoothingFunction().method1\n",
        "bleu_list_2 = []\n",
        "for n in range(len(test_pairs)):\n",
        "  test_str = test_pairs[n][0]\n",
        "  target_sentence = test_pairs[n][1]\n",
        "  input_sentence = [test_str]\n",
        "  encoder_input_seq,l= text2sequences(max_encoder_seq_length_2,input_sentence)\n",
        "  input_x = onehot_encode(encoder_input_seq, max_encoder_seq_length_2, num_encoder_tokens)\n",
        "  try:\n",
        "    translated_sentence = decode_sequence_2(input_x)\n",
        "  except KeyError as err:\n",
        "    continue\n",
        "  score = sentence_bleu(target_sentence, translated_sentence)\n",
        "  #print(score)\n",
        "  bleu_list_2.append(score)\n",
        "\n",
        "print(\"Bleu_score ->\", numpy.mean(bleu_list_2))"
      ]
    },
    {
      "cell_type": "code",
      "execution_count": 64,
      "metadata": {
        "id": "YHpFewb9zwK_",
        "colab": {
          "base_uri": "https://localhost:8080/"
        },
        "outputId": "c82814ad-38d4-48ff-aded-6d86be384192"
      },
      "outputs": [
        {
          "output_type": "stream",
          "name": "stdout",
          "text": [
            "200 BLEU score is: 0.7781658255534205\n"
          ]
        }
      ],
      "source": [
        "print(len(bleu_list_2),'BLEU score is:',numpy.mean(bleu_list_2))\n"
      ]
    }
  ],
  "metadata": {
    "accelerator": "GPU",
    "colab": {
      "collapsed_sections": [],
      "name": "Assignment3_Submission_Final.ipynb",
      "provenance": []
    },
    "kernelspec": {
      "display_name": "Python 3 (ipykernel)",
      "language": "python",
      "name": "python3"
    },
    "language_info": {
      "codemirror_mode": {
        "name": "ipython",
        "version": 3
      },
      "file_extension": ".py",
      "mimetype": "text/x-python",
      "name": "python",
      "nbconvert_exporter": "python",
      "pygments_lexer": "ipython3",
      "version": "3.9.7"
    }
  },
  "nbformat": 4,
  "nbformat_minor": 0
}
