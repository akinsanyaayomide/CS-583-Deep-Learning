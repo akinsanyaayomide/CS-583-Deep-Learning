{
 "cells": [
  {
   "cell_type": "markdown",
   "metadata": {
    "id": "VbXqkeBsZWsQ"
   },
   "source": [
    "# Assignment 2: Build a CNN for image recognition.\n",
    "\n",
    "## Due Date:  March 29, 11:59PM\n",
    "\n",
    "### Name: [Ayomide Akinsanya]\n"
   ]
  },
  {
   "cell_type": "markdown",
   "metadata": {
    "id": "GLkOFaybZWsT"
   },
   "source": [
    "## Introduction:\n",
    "\n",
    "1. In this assignment, you will build Convolutional Neural Network to classify CIFAR-10 Images.\n",
    "2. You can directly load dataset from many deep learning packages.\n",
    "3. You can use any deep learning packages such as pytorch, keras or tensorflow for this assignment."
   ]
  },
  {
   "cell_type": "markdown",
   "metadata": {
    "id": "8vZ-Q2-RZWsU"
   },
   "source": [
    "## Requirements:\n",
    "\n",
    "1. You need to load cifar 10 data and split the entire training dataset into training and validation.\n",
    "2. You will implement a CNN model to classify cifar 10 images with provided structure.\n",
    "3. You need to plot the training and validation accuracy or loss obtained from above step.\n",
    "4. Then you can use tuned parameters to train using the entire training dataset.\n",
    "5. You should report the testing accuracy using the model with complete data.\n",
    "6. You may try to change the structure (e.g, add BN layer or dropout layer,...) and analyze your findings.\n",
    "\n",
    "## Google Colab\n",
    "\n",
    "- If you do not have GPU, the training of a CNN can be slow. Google Colab is a good option."
   ]
  },
  {
   "cell_type": "markdown",
   "metadata": {
    "id": "xoV6LWlGZWsV"
   },
   "source": [
    "## Batch Normalization (BN)"
   ]
  },
  {
   "cell_type": "markdown",
   "metadata": {
    "id": "ZtmvnVoiZWsW"
   },
   "source": [
    "### Background:"
   ]
  },
  {
   "cell_type": "markdown",
   "metadata": {
    "id": "fNdQgeeqZWsW"
   },
   "source": [
    "- Batch Normalization is a technique to speed up training and help make the model more stable.\n",
    "- In simple words, batch normalization is just another network layer that gets inserted between a hidden layer and the next hidden layer. Its job is to take the outputs from the first hidden layer and normalize them before passing them on as the input of the next hidden layer.\n",
    "\n",
    "- For more detailed information, you may refer to the original paper: https://arxiv.org/pdf/1502.03167.pdf."
   ]
  },
  {
   "cell_type": "markdown",
   "metadata": {
    "id": "oW__JzSSZWsW"
   },
   "source": [
    "### BN Algorithm:"
   ]
  },
  {
   "cell_type": "markdown",
   "metadata": {
    "id": "leAi2s39ZWsX"
   },
   "source": [
    "- Input: Values of $x$ over a mini-batch: $\\mathbf{B}$ = $\\{x_1,..., x_m\\};$\n",
    "- Output: $\\{y_i = BN_{\\gamma,\\beta}(x_i)\\}$, $\\gamma, \\beta$ are learnable parameters\n",
    "\n",
    "Normalization of the Input:\n",
    "$$\\mu_{\\mathbf{B}} = \\frac{1}{m}\\sum_{i=1}^m x_i$$\n",
    "$$\\sigma_{\\mathbf{B}}^2 = \\frac{1}{m}\\sum_{i=1}^m (x_i - \\mu_{\\mathbf{B}})^2$$\n",
    "$$\\hat{x_i} = \\frac{x_i - \\mu_{\\mathbf{B}}}{\\sqrt{\\sigma_{\\mathbf{B}}}^2 + \\epsilon}$$\n",
    "Re-scaling and Offsetting:\n",
    "$$y_i = \\gamma \\hat{x_i} + \\beta = BN_{\\gamma,\\beta}(x_i)$$\n"
   ]
  },
  {
   "cell_type": "markdown",
   "metadata": {
    "id": "XBi2wO_hZWsY"
   },
   "source": [
    "### Advantages of BN:\n",
    "1. Improves gradient flow through the network.\n",
    "2. Allows use of saturating nonlinearities and higher learning rates.\n",
    "3. Makes weights easier to initialize.\n",
    "4. Act as a form of regularization and may reduce the need for dropout."
   ]
  },
  {
   "cell_type": "markdown",
   "metadata": {
    "id": "tB67sCuQZWsY"
   },
   "source": [
    "### Implementation:"
   ]
  },
  {
   "cell_type": "markdown",
   "metadata": {
    "id": "43VIjZnoZWsY"
   },
   "source": [
    "- The batch normalization layer has already been implemented in many packages. You may simply call the function to build the layer. For example: torch.nn.BatchNorm2d() using pytroch package, keras.layers.BatchNormalization() using keras package.\n",
    "- The location of BN layer: Please make sure ```BatchNormalization``` is between a ```Conv```/```Dense``` layer and an ```activation``` layer."
   ]
  },
  {
   "cell_type": "markdown",
   "metadata": {
    "id": "xF57GiSQZWsZ"
   },
   "source": [
    "## 1. Data preparation"
   ]
  },
  {
   "cell_type": "markdown",
   "metadata": {
    "id": "RgXgJyhbZWsZ"
   },
   "source": [
    "### 1.1. Load data\n"
   ]
  },
  {
   "cell_type": "code",
   "execution_count": 2,
   "metadata": {
    "colab": {
     "base_uri": "https://localhost:8080/"
    },
    "id": "3hLq8P2pZWsZ",
    "outputId": "8fde23b7-c7d7-4891-c39b-1d3d1c58965e"
   },
   "outputs": [
    {
     "name": "stdout",
     "output_type": "stream",
     "text": [
      "shape of x_train: (50000, 32, 32, 3)\n",
      "shape of y_train: (50000, 1)\n",
      "shape of x_test: (10000, 32, 32, 3)\n",
      "shape of y_test: (10000, 1)\n",
      "number of classes: 10\n"
     ]
    }
   ],
   "source": [
    "# Load Cifar-10 Data\n",
    "# This is just an example, you may load dataset from other packages.\n",
    "from tensorflow import keras\n",
    "import numpy as np\n",
    "import pandas as pd\n",
    "### If you can not load keras dataset, un-comment these two lines.\n",
    "#import ssl\n",
    "#ssl._create_default_https_context = ssl._create_unverified_context\n",
    "\n",
    "(x_train, y_train), (x_test, y_test) = keras.datasets.cifar10.load_data()\n",
    "\n",
    "print('shape of x_train: ' + str(x_train.shape))\n",
    "print('shape of y_train: ' + str(y_train.shape))\n",
    "print('shape of x_test: ' + str(x_test.shape))\n",
    "print('shape of y_test: ' + str(y_test.shape))\n",
    "print('number of classes: ' + str(np.max(y_train) - np.min(y_train) + 1))"
   ]
  },
  {
   "cell_type": "markdown",
   "metadata": {
    "id": "NhTIlVubZWsb"
   },
   "source": [
    "### 1.2. One-hot encode the labels (5 points)\n",
    "\n",
    "In the input, a label is a scalar in $\\{0, 1, \\cdots , 9\\}$. One-hot encode transform such a scalar to a $10$-dim vector. E.g., a scalar ```y_train[j]=3``` is transformed to the vector ```y_train_vec[j]=[0, 0, 0, 1, 0, 0, 0, 0, 0, 0]```.\n",
    "\n",
    "1. Implement a function ```to_one_hot``` that transforms an $n\\times 1$ array to a $n\\times 10$ matrix.\n",
    "\n",
    "2. Apply the function to ```y_train``` and ```y_test```."
   ]
  },
  {
   "cell_type": "code",
   "execution_count": 4,
   "metadata": {
    "colab": {
     "base_uri": "https://localhost:8080/"
    },
    "id": "SP9ITnjZZWsc",
    "outputId": "82fb8bb5-be4f-412b-de59-4a37b26da569"
   },
   "outputs": [
    {
     "name": "stdout",
     "output_type": "stream",
     "text": [
      "Shape of y_train_vec: (50000, 10)\n",
      "Shape of y_test_vec: (10000, 10)\n",
      "[6]\n",
      "[0. 0. 0. 0. 0. 0. 1. 0. 0. 0.]\n"
     ]
    }
   ],
   "source": [
    "def to_one_hot(y, num_class=10):\n",
    "    y_train_new = np.zeros((len(y),num_class))\n",
    "    for i in range(len(y)):\n",
    "        array1 = [0 for x in range(10)]\n",
    "        a = y[i]\n",
    "        array1[a[0]] =1\n",
    "        y_train_new[i] = array1\n",
    "    return y_train_new\n",
    "        \n",
    "        \n",
    "\n",
    "y_train_vec = to_one_hot(y_train)\n",
    "y_test_vec = to_one_hot(y_test)\n",
    "\n",
    "print('Shape of y_train_vec: ' + str(y_train_vec.shape))\n",
    "print('Shape of y_test_vec: ' + str(y_test_vec.shape))\n",
    "\n",
    "print(y_train[0])\n",
    "print(y_train_vec[0])"
   ]
  },
  {
   "cell_type": "markdown",
   "metadata": {
    "id": "k-cnuo4IZWsc"
   },
   "source": [
    "#### Remark: the outputs should be\n",
    "* Shape of y_train_vec: (50000, 10)\n",
    "* Shape of y_test_vec: (10000, 10)\n",
    "* [6]\n",
    "* [0. 0. 0. 0. 0. 0. 1. 0. 0. 0.]"
   ]
  },
  {
   "cell_type": "markdown",
   "metadata": {
    "id": "N51R-fr9ZWsc"
   },
   "source": [
    "### 1.3. Randomly partition the training set to training and validation sets (5 points)\n",
    "\n",
    "Randomly partition the 50K training samples to 2 sets: \n",
    "* a training set containing 40K samples: x_tr, y_tr\n",
    "* a validation set containing 10K samples: x_val, y_val\n"
   ]
  },
  {
   "cell_type": "code",
   "execution_count": 5,
   "metadata": {
    "colab": {
     "base_uri": "https://localhost:8080/"
    },
    "id": "2O3PenfQZWsc",
    "outputId": "89f2228b-5c95-4fd6-9ed3-8a5d5e4beeca"
   },
   "outputs": [
    {
     "name": "stdout",
     "output_type": "stream",
     "text": [
      "Shape of x_tr: (40000, 32, 32, 3)\n",
      "Shape of y_tr: (40000, 10)\n",
      "Shape of x_val: (10000, 32, 32, 3)\n",
      "Shape of y_val: (10000, 10)\n"
     ]
    }
   ],
   "source": [
    "def split_train_test(data, test_ratio):\n",
    "    np.random.seed(42)\n",
    "    random_indices = np.random.permutation(len(data))\n",
    "    validation_set_size = int(len(data)*test_ratio)\n",
    "    validation_indices = random_indices[:validation_set_size]\n",
    "    train_indices = random_indices[validation_set_size:]\n",
    "    return data[train_indices],data[validation_indices]\n",
    "\n",
    "x_tr,x_val = split_train_test(x_train,0.2)\n",
    "y_tr,y_val = split_train_test(y_train_vec,0.2)\n",
    "\n",
    "\n",
    "print('Shape of x_tr: ' + str(x_tr.shape))\n",
    "print('Shape of y_tr: ' + str(y_tr.shape))\n",
    "print('Shape of x_val: ' + str(x_val.shape))\n",
    "print('Shape of y_val: ' + str(y_val.shape))"
   ]
  },
  {
   "cell_type": "markdown",
   "metadata": {
    "id": "LnKT49qrZWsd"
   },
   "source": [
    "## 2. Build a CNN and tune its hyper-parameters (50 points)\n",
    "\n",
    "- Build a convolutional neural network model using the below structure:\n",
    "\n",
    "- It should have a structure of: Conv - ReLU - Max Pool - ConV - ReLU - Max Pool - Dense - ReLU - Dense - Softmax\n",
    "\n",
    "- In the graph 3@32x32 means the dimension of input image, 32@30x30 means it has 32 filters and the dimension now becomes 30x30 after the convolution.\n",
    "- All convolutional layers (Conv) should have stride = 1 and no padding.\n",
    "- Max Pooling has a pool size of 2 by 2.\n",
    "\n",
    "\n"
   ]
  },
  {
   "cell_type": "markdown",
   "metadata": {
    "id": "naE05_b5ZWsd"
   },
   "source": [
    "<img src=\"network.PNG\"/>"
   ]
  },
  {
   "cell_type": "markdown",
   "metadata": {
    "id": "_hKuXQafZWsd"
   },
   "source": [
    "- You may use the validation data to tune the hyper-parameters (e.g., learning rate, and optimization algorithm)\n",
    "- Do NOT use test data for hyper-parameter tuning!!!\n",
    "- Try to achieve a validation accuracy as high as possible."
   ]
  },
  {
   "cell_type": "code",
   "execution_count": 6,
   "metadata": {
    "id": "MNRmAYgyZWsd"
   },
   "outputs": [],
   "source": [
    "# Build the model\n",
    "model = keras.models.Sequential([\n",
    "    keras.layers.Conv2D(32,3, activation='relu',input_shape=[32,32,3]),\n",
    "    keras.layers.MaxPool2D(2),\n",
    "    keras.layers.Conv2D(64,4,activation='relu'),\n",
    "    keras.layers.MaxPool2D(2),\n",
    "    keras.layers.Flatten(),\n",
    "    keras.layers.Dense(256,activation='relu'),\n",
    "    keras.layers.Dense(10,activation='softmax')\n",
    "])"
   ]
  },
  {
   "cell_type": "code",
   "execution_count": 7,
   "metadata": {
    "id": "8Wq_aGm7ZWse"
   },
   "outputs": [],
   "source": [
    "# Define model optimizer and loss function\n",
    "from keras import optimizers\n",
    "model.compile(optimizers.rmsprop_v2.RMSprop(learning_rate=0.0001),\n",
    "              loss='categorical_crossentropy',\n",
    "              metrics=['accuracy'])"
   ]
  },
  {
   "cell_type": "code",
   "execution_count": 8,
   "metadata": {
    "colab": {
     "base_uri": "https://localhost:8080/"
    },
    "id": "WYs-nnwgZWse",
    "outputId": "0bb296c9-c6f4-4cb2-926f-33681e272dc8"
   },
   "outputs": [
    {
     "name": "stdout",
     "output_type": "stream",
     "text": [
      "Model: \"sequential\"\n",
      "_________________________________________________________________\n",
      " Layer (type)                Output Shape              Param #   \n",
      "=================================================================\n",
      " conv2d (Conv2D)             (None, 30, 30, 32)        896       \n",
      "                                                                 \n",
      " max_pooling2d (MaxPooling2D  (None, 15, 15, 32)       0         \n",
      " )                                                               \n",
      "                                                                 \n",
      " conv2d_1 (Conv2D)           (None, 12, 12, 64)        32832     \n",
      "                                                                 \n",
      " max_pooling2d_1 (MaxPooling  (None, 6, 6, 64)         0         \n",
      " 2D)                                                             \n",
      "                                                                 \n",
      " flatten (Flatten)           (None, 2304)              0         \n",
      "                                                                 \n",
      " dense (Dense)               (None, 256)               590080    \n",
      "                                                                 \n",
      " dense_1 (Dense)             (None, 10)                2570      \n",
      "                                                                 \n",
      "=================================================================\n",
      "Total params: 626,378\n",
      "Trainable params: 626,378\n",
      "Non-trainable params: 0\n",
      "_________________________________________________________________\n"
     ]
    }
   ],
   "source": [
    "model.summary()"
   ]
  },
  {
   "cell_type": "code",
   "execution_count": 9,
   "metadata": {
    "colab": {
     "base_uri": "https://localhost:8080/"
    },
    "id": "ghVqTP5rZWse",
    "outputId": "1aeae23e-f84a-412d-c8f2-9a45f2f01d2d"
   },
   "outputs": [
    {
     "name": "stdout",
     "output_type": "stream",
     "text": [
      "Epoch 1/50\n",
      "313/313 [==============================] - 15s 16ms/step - loss: 5.3057 - accuracy: 0.2596 - val_loss: 2.0121 - val_accuracy: 0.3431\n",
      "Epoch 2/50\n",
      "313/313 [==============================] - 4s 12ms/step - loss: 1.6938 - accuracy: 0.4216 - val_loss: 1.5802 - val_accuracy: 0.4571\n",
      "Epoch 3/50\n",
      "313/313 [==============================] - 4s 13ms/step - loss: 1.3996 - accuracy: 0.5156 - val_loss: 1.4845 - val_accuracy: 0.4985\n",
      "Epoch 4/50\n",
      "313/313 [==============================] - 4s 13ms/step - loss: 1.2256 - accuracy: 0.5762 - val_loss: 1.3802 - val_accuracy: 0.5320\n",
      "Epoch 5/50\n",
      "313/313 [==============================] - 4s 12ms/step - loss: 1.0884 - accuracy: 0.6229 - val_loss: 1.3215 - val_accuracy: 0.5513\n",
      "Epoch 6/50\n",
      "313/313 [==============================] - 4s 13ms/step - loss: 0.9735 - accuracy: 0.6673 - val_loss: 1.2522 - val_accuracy: 0.5812\n",
      "Epoch 7/50\n",
      "313/313 [==============================] - 4s 13ms/step - loss: 0.8680 - accuracy: 0.7045 - val_loss: 1.2886 - val_accuracy: 0.5814\n",
      "Epoch 8/50\n",
      "313/313 [==============================] - 4s 12ms/step - loss: 0.7784 - accuracy: 0.7346 - val_loss: 1.3884 - val_accuracy: 0.5760\n",
      "Epoch 9/50\n",
      "313/313 [==============================] - 4s 12ms/step - loss: 0.6939 - accuracy: 0.7628 - val_loss: 1.2525 - val_accuracy: 0.6021\n",
      "Epoch 10/50\n",
      "313/313 [==============================] - 4s 12ms/step - loss: 0.6148 - accuracy: 0.7962 - val_loss: 1.2784 - val_accuracy: 0.6060\n",
      "Epoch 11/50\n",
      "313/313 [==============================] - 4s 12ms/step - loss: 0.5449 - accuracy: 0.8191 - val_loss: 1.2984 - val_accuracy: 0.6119\n",
      "Epoch 12/50\n",
      "313/313 [==============================] - 4s 13ms/step - loss: 0.4821 - accuracy: 0.8411 - val_loss: 1.3171 - val_accuracy: 0.6100\n",
      "Epoch 13/50\n",
      "313/313 [==============================] - 4s 12ms/step - loss: 0.4218 - accuracy: 0.8630 - val_loss: 1.3790 - val_accuracy: 0.6075\n",
      "Epoch 14/50\n",
      "313/313 [==============================] - 4s 12ms/step - loss: 0.3691 - accuracy: 0.8815 - val_loss: 1.4115 - val_accuracy: 0.6169\n",
      "Epoch 15/50\n",
      "313/313 [==============================] - 4s 13ms/step - loss: 0.3224 - accuracy: 0.8976 - val_loss: 1.4531 - val_accuracy: 0.6132\n",
      "Epoch 16/50\n",
      "313/313 [==============================] - 4s 13ms/step - loss: 0.2748 - accuracy: 0.9154 - val_loss: 1.4549 - val_accuracy: 0.6231\n",
      "Epoch 17/50\n",
      "313/313 [==============================] - 4s 13ms/step - loss: 0.2337 - accuracy: 0.9311 - val_loss: 1.5092 - val_accuracy: 0.6250\n",
      "Epoch 18/50\n",
      "313/313 [==============================] - 4s 12ms/step - loss: 0.1997 - accuracy: 0.9417 - val_loss: 1.7130 - val_accuracy: 0.6082\n",
      "Epoch 19/50\n",
      "313/313 [==============================] - 4s 13ms/step - loss: 0.1663 - accuracy: 0.9529 - val_loss: 1.7017 - val_accuracy: 0.6097\n",
      "Epoch 20/50\n",
      "313/313 [==============================] - 4s 13ms/step - loss: 0.1417 - accuracy: 0.9612 - val_loss: 1.6837 - val_accuracy: 0.6234\n",
      "Epoch 21/50\n",
      "313/313 [==============================] - 4s 12ms/step - loss: 0.1167 - accuracy: 0.9690 - val_loss: 1.7750 - val_accuracy: 0.6277\n",
      "Epoch 22/50\n",
      "313/313 [==============================] - 4s 12ms/step - loss: 0.0966 - accuracy: 0.9757 - val_loss: 1.8823 - val_accuracy: 0.6192\n",
      "Epoch 23/50\n",
      "313/313 [==============================] - 4s 12ms/step - loss: 0.0815 - accuracy: 0.9802 - val_loss: 1.9902 - val_accuracy: 0.6226\n",
      "Epoch 24/50\n",
      "313/313 [==============================] - 4s 13ms/step - loss: 0.0654 - accuracy: 0.9855 - val_loss: 1.9727 - val_accuracy: 0.6241\n",
      "Epoch 25/50\n",
      "313/313 [==============================] - 4s 13ms/step - loss: 0.0559 - accuracy: 0.9874 - val_loss: 2.0940 - val_accuracy: 0.6237\n",
      "Epoch 26/50\n",
      "313/313 [==============================] - 4s 13ms/step - loss: 0.0464 - accuracy: 0.9904 - val_loss: 2.0823 - val_accuracy: 0.6346\n",
      "Epoch 27/50\n",
      "313/313 [==============================] - 4s 13ms/step - loss: 0.0382 - accuracy: 0.9923 - val_loss: 2.2183 - val_accuracy: 0.6188\n",
      "Epoch 28/50\n",
      "313/313 [==============================] - 4s 12ms/step - loss: 0.0334 - accuracy: 0.9931 - val_loss: 2.4463 - val_accuracy: 0.6103\n",
      "Epoch 29/50\n",
      "313/313 [==============================] - 4s 12ms/step - loss: 0.0296 - accuracy: 0.9934 - val_loss: 2.3071 - val_accuracy: 0.6318\n",
      "Epoch 30/50\n",
      "313/313 [==============================] - 4s 12ms/step - loss: 0.0240 - accuracy: 0.9956 - val_loss: 2.3760 - val_accuracy: 0.6325\n",
      "Epoch 31/50\n",
      "313/313 [==============================] - 4s 12ms/step - loss: 0.0227 - accuracy: 0.9953 - val_loss: 2.3611 - val_accuracy: 0.6367\n",
      "Epoch 32/50\n",
      "313/313 [==============================] - 4s 12ms/step - loss: 0.0184 - accuracy: 0.9962 - val_loss: 2.4236 - val_accuracy: 0.6358\n",
      "Epoch 33/50\n",
      "313/313 [==============================] - 4s 13ms/step - loss: 0.0200 - accuracy: 0.9953 - val_loss: 2.4668 - val_accuracy: 0.6321\n",
      "Epoch 34/50\n",
      "313/313 [==============================] - 4s 13ms/step - loss: 0.0172 - accuracy: 0.9961 - val_loss: 2.5643 - val_accuracy: 0.6350\n",
      "Epoch 35/50\n",
      "313/313 [==============================] - 4s 13ms/step - loss: 0.0140 - accuracy: 0.9972 - val_loss: 2.5878 - val_accuracy: 0.6371\n",
      "Epoch 36/50\n",
      "313/313 [==============================] - 4s 13ms/step - loss: 0.0151 - accuracy: 0.9965 - val_loss: 2.6383 - val_accuracy: 0.6375\n",
      "Epoch 37/50\n",
      "313/313 [==============================] - 4s 13ms/step - loss: 0.0130 - accuracy: 0.9972 - val_loss: 2.6537 - val_accuracy: 0.6376\n",
      "Epoch 38/50\n",
      "313/313 [==============================] - 4s 13ms/step - loss: 0.0126 - accuracy: 0.9971 - val_loss: 2.7305 - val_accuracy: 0.6383\n",
      "Epoch 39/50\n",
      "313/313 [==============================] - 4s 13ms/step - loss: 0.0120 - accuracy: 0.9971 - val_loss: 2.7490 - val_accuracy: 0.6346\n",
      "Epoch 40/50\n",
      "313/313 [==============================] - 4s 13ms/step - loss: 0.0124 - accuracy: 0.9969 - val_loss: 2.8389 - val_accuracy: 0.6414\n",
      "Epoch 41/50\n",
      "313/313 [==============================] - 4s 12ms/step - loss: 0.0108 - accuracy: 0.9973 - val_loss: 2.8261 - val_accuracy: 0.6381\n",
      "Epoch 42/50\n",
      "313/313 [==============================] - 4s 12ms/step - loss: 0.0114 - accuracy: 0.9969 - val_loss: 2.9548 - val_accuracy: 0.6318\n",
      "Epoch 43/50\n",
      "313/313 [==============================] - 4s 13ms/step - loss: 0.0093 - accuracy: 0.9976 - val_loss: 3.0333 - val_accuracy: 0.6330\n",
      "Epoch 44/50\n",
      "313/313 [==============================] - 4s 12ms/step - loss: 0.0106 - accuracy: 0.9971 - val_loss: 2.9426 - val_accuracy: 0.6351\n",
      "Epoch 45/50\n",
      "313/313 [==============================] - 4s 13ms/step - loss: 0.0097 - accuracy: 0.9972 - val_loss: 3.2045 - val_accuracy: 0.6268\n",
      "Epoch 46/50\n",
      "313/313 [==============================] - 4s 13ms/step - loss: 0.0085 - accuracy: 0.9978 - val_loss: 3.0094 - val_accuracy: 0.6395\n",
      "Epoch 47/50\n",
      "313/313 [==============================] - 4s 12ms/step - loss: 0.0096 - accuracy: 0.9976 - val_loss: 3.0612 - val_accuracy: 0.6406\n",
      "Epoch 48/50\n",
      "313/313 [==============================] - 4s 12ms/step - loss: 0.0071 - accuracy: 0.9983 - val_loss: 3.8687 - val_accuracy: 0.6031\n",
      "Epoch 49/50\n",
      "313/313 [==============================] - 4s 13ms/step - loss: 0.0084 - accuracy: 0.9976 - val_loss: 3.1730 - val_accuracy: 0.6402\n",
      "Epoch 50/50\n",
      "313/313 [==============================] - 4s 12ms/step - loss: 0.0083 - accuracy: 0.9977 - val_loss: 3.4480 - val_accuracy: 0.6230\n"
     ]
    }
   ],
   "source": [
    "# Train the model and store model parameters/loss values\n",
    "history = model.fit(x_tr,y_tr,\n",
    "                    batch_size=128, epochs =50,\n",
    "                   validation_data=(x_val,y_val))"
   ]
  },
  {
   "cell_type": "code",
   "execution_count": 10,
   "metadata": {
    "colab": {
     "base_uri": "https://localhost:8080/"
    },
    "id": "ueQDoXFLZWse",
    "outputId": "8da9fa15-64ac-44bd-bf4e-048e2f4058e4"
   },
   "outputs": [
    {
     "name": "stdout",
     "output_type": "stream",
     "text": [
      "Assignment_2_first_model_train_loss -> [5.305718421936035, 1.6937564611434937, 1.3996410369873047, 1.2255651950836182, 1.0883967876434326, 0.9735429883003235, 0.8679900169372559, 0.778445303440094, 0.6938988566398621, 0.6148366928100586, 0.5448890924453735, 0.48208555579185486, 0.4217742681503296, 0.3691091239452362, 0.32239100337028503, 0.27483662962913513, 0.23372063040733337, 0.19968147575855255, 0.1663004606962204, 0.14172178506851196, 0.1166529655456543, 0.09660747647285461, 0.08151283860206604, 0.06542976945638657, 0.055943287909030914, 0.04637078568339348, 0.038163501769304276, 0.033374153077602386, 0.02961648255586624, 0.0239710696041584, 0.02271217107772827, 0.0184183232486248, 0.019970141351222992, 0.017192209139466286, 0.013955801725387573, 0.015104832127690315, 0.013007322326302528, 0.012582596391439438, 0.011962015181779861, 0.012416929006576538, 0.010800274088978767, 0.011366087011992931, 0.009343614801764488, 0.010642466135323048, 0.00968419760465622, 0.008509957231581211, 0.009576170705258846, 0.007079778239130974, 0.008421692065894604, 0.008278287015855312] 50\n",
      "Assignment_2_first_model_val_loss -> [2.01214599609375, 1.5801656246185303, 1.4844876527786255, 1.3802001476287842, 1.3215219974517822, 1.252201795578003, 1.2886275053024292, 1.3884283304214478, 1.2525466680526733, 1.2783740758895874, 1.2984099388122559, 1.3170931339263916, 1.3789539337158203, 1.411478877067566, 1.453110933303833, 1.4548569917678833, 1.5092352628707886, 1.7130433320999146, 1.7016769647598267, 1.6837457418441772, 1.7750452756881714, 1.8823223114013672, 1.9901686906814575, 1.9726641178131104, 2.0940072536468506, 2.0822792053222656, 2.218345880508423, 2.44630765914917, 2.3071415424346924, 2.375964403152466, 2.361147165298462, 2.423610210418701, 2.4667551517486572, 2.564317226409912, 2.587806224822998, 2.638260841369629, 2.6537184715270996, 2.7304646968841553, 2.749040126800537, 2.8388912677764893, 2.826063394546509, 2.9547834396362305, 3.033294439315796, 2.942640781402588, 3.2045035362243652, 3.009413003921509, 3.061194896697998, 3.8687338829040527, 3.172999858856201, 3.447964906692505] 50\n"
     ]
    }
   ],
   "source": [
    "model.save('Assignment_2_first_model.h5')\n",
    "Assignment_2_first_model_train_loss = history.history['loss']\n",
    "Assignment_2_first_model_val_loss = history.history['val_loss']\n",
    "print('Assignment_2_first_model_train_loss ->',Assignment_2_first_model_train_loss,len(Assignment_2_first_model_train_loss))\n",
    "print('Assignment_2_first_model_val_loss ->',Assignment_2_first_model_val_loss,len(Assignment_2_first_model_val_loss))\n"
   ]
  },
  {
   "cell_type": "markdown",
   "metadata": {
    "id": "uB32bOuAZWsf"
   },
   "source": [
    "## 3. Plot the training and validation loss curve versus epochs. (5 points)"
   ]
  },
  {
   "cell_type": "code",
   "execution_count": 11,
   "metadata": {
    "colab": {
     "base_uri": "https://localhost:8080/",
     "height": 279
    },
    "id": "fcAwBFoWZWsf",
    "outputId": "6d3fa7ff-9822-42e9-8cc4-c3342a83c801"
   },
   "outputs": [
    {
     "data": {
      "image/png": "[encoded data removed]",
      "text/plain": [
       "<Figure size 432x288 with 1 Axes>"
      ]
     },
     "metadata": {
      "needs_background": "light"
     },
     "output_type": "display_data"
    }
   ],
   "source": [
    "# Plot the loss curve\n",
    "import matplotlib.pyplot as plt\n",
    "%matplotlib inline\n",
    "\n",
    "epochs = range(50)\n",
    "train_loss = history.history['loss']\n",
    "val_loss = history.history['val_loss']\n",
    "plt.plot(epochs,train_loss,'bo',label= 'Training Loss')\n",
    "plt.plot(epochs,val_loss,'r',label= 'Validation Loss')\n",
    "plt.xlabel('Epochs')\n",
    "plt.ylabel('Loss')\n",
    "plt.legend()\n",
    "plt.show()\n",
    "\n"
   ]
  },
  {
   "cell_type": "markdown",
   "metadata": {
    "id": "jjlXcWQFZWsf"
   },
   "source": [
    "## 4. Train (again) and evaluate the model (5 points)\n",
    "\n",
    "- To this end, you have found the \"best\" hyper-parameters. \n",
    "- Now, fix the hyper-parameters and train the network on the entire training set (all the 50K training samples)\n",
    "- Evaluate your model on the test set."
   ]
  },
  {
   "cell_type": "markdown",
   "metadata": {
    "id": "O4tqhjloZWsf"
   },
   "source": [
    "### Train the model on the entire training set\n",
    "\n",
    "Why? Previously, you used 40K samples for training; you wasted 10K samples for the sake of hyper-parameter tuning. Now you already know the hyper-parameters, so why not using all the 50K samples for training?"
   ]
  },
  {
   "cell_type": "code",
   "execution_count": 12,
   "metadata": {
    "id": "aSLK3aNXjrAk"
   },
   "outputs": [],
   "source": [
    "# Build the model\n",
    "model_2 = keras.models.Sequential([\n",
    "    keras.layers.Conv2D(32,3, activation='relu',input_shape=[32,32,3]),\n",
    "    keras.layers.MaxPool2D(2),\n",
    "    keras.layers.Conv2D(64,4,activation='relu'),\n",
    "    keras.layers.MaxPool2D(2),\n",
    "    keras.layers.Flatten(),\n",
    "    keras.layers.Dense(256,activation='relu'),\n",
    "    keras.layers.Dense(10,activation='softmax')\n",
    "])"
   ]
  },
  {
   "cell_type": "code",
   "execution_count": 13,
   "metadata": {
    "id": "l_SZAw0EZWsf"
   },
   "outputs": [],
   "source": [
    "#<Compile your model again (using the same hyper-parameters you tuned above)>\n",
    "from keras import optimizers\n",
    "model_2.compile(optimizers.rmsprop_v2.RMSprop(learning_rate=0.0001),\n",
    "              loss='categorical_crossentropy',\n",
    "              metrics=['accuracy'])\n",
    "\n"
   ]
  },
  {
   "cell_type": "code",
   "execution_count": 14,
   "metadata": {
    "colab": {
     "base_uri": "https://localhost:8080/"
    },
    "id": "AYiQRwUpZWsg",
    "outputId": "397b574f-1ef1-452d-d74f-ac294357585c"
   },
   "outputs": [
    {
     "name": "stdout",
     "output_type": "stream",
     "text": [
      "Epoch 1/50\n",
      "391/391 [==============================] - 5s 12ms/step - loss: 6.5098 - accuracy: 0.2690\n",
      "Epoch 2/50\n",
      "391/391 [==============================] - 4s 11ms/step - loss: 1.6138 - accuracy: 0.4457\n",
      "Epoch 3/50\n",
      "391/391 [==============================] - 4s 11ms/step - loss: 1.3378 - accuracy: 0.5347\n",
      "Epoch 4/50\n",
      "391/391 [==============================] - 4s 11ms/step - loss: 1.1717 - accuracy: 0.5975\n",
      "Epoch 5/50\n",
      "391/391 [==============================] - 4s 11ms/step - loss: 1.0442 - accuracy: 0.6412\n",
      "Epoch 6/50\n",
      "391/391 [==============================] - 4s 11ms/step - loss: 0.9372 - accuracy: 0.6773\n",
      "Epoch 7/50\n",
      "391/391 [==============================] - 4s 11ms/step - loss: 0.8440 - accuracy: 0.7123\n",
      "Epoch 8/50\n",
      "391/391 [==============================] - 4s 11ms/step - loss: 0.7578 - accuracy: 0.7401\n",
      "Epoch 9/50\n",
      "391/391 [==============================] - 4s 11ms/step - loss: 0.6856 - accuracy: 0.7685\n",
      "Epoch 10/50\n",
      "391/391 [==============================] - 4s 11ms/step - loss: 0.6136 - accuracy: 0.7927\n",
      "Epoch 11/50\n",
      "391/391 [==============================] - 4s 11ms/step - loss: 0.5461 - accuracy: 0.8179\n",
      "Epoch 12/50\n",
      "391/391 [==============================] - 4s 11ms/step - loss: 0.4879 - accuracy: 0.8374\n",
      "Epoch 13/50\n",
      "391/391 [==============================] - 4s 11ms/step - loss: 0.4293 - accuracy: 0.8594\n",
      "Epoch 14/50\n",
      "391/391 [==============================] - 4s 11ms/step - loss: 0.3783 - accuracy: 0.8772\n",
      "Epoch 15/50\n",
      "391/391 [==============================] - 4s 11ms/step - loss: 0.3309 - accuracy: 0.8927\n",
      "Epoch 16/50\n",
      "391/391 [==============================] - 4s 11ms/step - loss: 0.2870 - accuracy: 0.9111\n",
      "Epoch 17/50\n",
      "391/391 [==============================] - 4s 11ms/step - loss: 0.2486 - accuracy: 0.9243\n",
      "Epoch 18/50\n",
      "391/391 [==============================] - 4s 11ms/step - loss: 0.2141 - accuracy: 0.9368\n",
      "Epoch 19/50\n",
      "391/391 [==============================] - 4s 11ms/step - loss: 0.1832 - accuracy: 0.9458\n",
      "Epoch 20/50\n",
      "391/391 [==============================] - 4s 11ms/step - loss: 0.1546 - accuracy: 0.9557\n",
      "Epoch 21/50\n",
      "391/391 [==============================] - 4s 11ms/step - loss: 0.1313 - accuracy: 0.9631\n",
      "Epoch 22/50\n",
      "391/391 [==============================] - 4s 11ms/step - loss: 0.1113 - accuracy: 0.9712\n",
      "Epoch 23/50\n",
      "391/391 [==============================] - 4s 11ms/step - loss: 0.0919 - accuracy: 0.9764\n",
      "Epoch 24/50\n",
      "391/391 [==============================] - 4s 11ms/step - loss: 0.0772 - accuracy: 0.9813\n",
      "Epoch 25/50\n",
      "391/391 [==============================] - 4s 11ms/step - loss: 0.0662 - accuracy: 0.9840\n",
      "Epoch 26/50\n",
      "391/391 [==============================] - 4s 11ms/step - loss: 0.0550 - accuracy: 0.9867\n",
      "Epoch 27/50\n",
      "391/391 [==============================] - 4s 11ms/step - loss: 0.0466 - accuracy: 0.9894\n",
      "Epoch 28/50\n",
      "391/391 [==============================] - 4s 11ms/step - loss: 0.0389 - accuracy: 0.9914\n",
      "Epoch 29/50\n",
      "391/391 [==============================] - 4s 11ms/step - loss: 0.0358 - accuracy: 0.9923\n",
      "Epoch 30/50\n",
      "391/391 [==============================] - 4s 11ms/step - loss: 0.0300 - accuracy: 0.9933\n",
      "Epoch 31/50\n",
      "391/391 [==============================] - 4s 11ms/step - loss: 0.0276 - accuracy: 0.9938\n",
      "Epoch 32/50\n",
      "391/391 [==============================] - 4s 11ms/step - loss: 0.0229 - accuracy: 0.9951\n",
      "Epoch 33/50\n",
      "391/391 [==============================] - 4s 11ms/step - loss: 0.0202 - accuracy: 0.9955\n",
      "Epoch 34/50\n",
      "391/391 [==============================] - 4s 11ms/step - loss: 0.0194 - accuracy: 0.9961\n",
      "Epoch 35/50\n",
      "391/391 [==============================] - 4s 11ms/step - loss: 0.0163 - accuracy: 0.9963\n",
      "Epoch 36/50\n",
      "391/391 [==============================] - 4s 11ms/step - loss: 0.0160 - accuracy: 0.9964\n",
      "Epoch 37/50\n",
      "391/391 [==============================] - 4s 11ms/step - loss: 0.0154 - accuracy: 0.9962\n",
      "Epoch 38/50\n",
      "391/391 [==============================] - 4s 11ms/step - loss: 0.0155 - accuracy: 0.9962\n",
      "Epoch 39/50\n",
      "391/391 [==============================] - 4s 11ms/step - loss: 0.0137 - accuracy: 0.9965\n",
      "Epoch 40/50\n",
      "391/391 [==============================] - 4s 11ms/step - loss: 0.0121 - accuracy: 0.9971\n",
      "Epoch 41/50\n",
      "391/391 [==============================] - 4s 11ms/step - loss: 0.0121 - accuracy: 0.9970\n",
      "Epoch 42/50\n",
      "391/391 [==============================] - 5s 12ms/step - loss: 0.0108 - accuracy: 0.9974\n",
      "Epoch 43/50\n",
      "391/391 [==============================] - 5s 13ms/step - loss: 0.0102 - accuracy: 0.9975\n",
      "Epoch 44/50\n",
      "391/391 [==============================] - 5s 12ms/step - loss: 0.0108 - accuracy: 0.9973\n",
      "Epoch 45/50\n",
      "391/391 [==============================] - 5s 14ms/step - loss: 0.0096 - accuracy: 0.9975\n",
      "Epoch 46/50\n",
      "391/391 [==============================] - 5s 13ms/step - loss: 0.0094 - accuracy: 0.9975\n",
      "Epoch 47/50\n",
      "391/391 [==============================] - 4s 11ms/step - loss: 0.0097 - accuracy: 0.9975\n",
      "Epoch 48/50\n",
      "391/391 [==============================] - 4s 11ms/step - loss: 0.0100 - accuracy: 0.9973\n",
      "Epoch 49/50\n",
      "391/391 [==============================] - 5s 12ms/step - loss: 0.0084 - accuracy: 0.9978\n",
      "Epoch 50/50\n",
      "391/391 [==============================] - 4s 11ms/step - loss: 0.0095 - accuracy: 0.9974\n"
     ]
    }
   ],
   "source": [
    "#<Train your model on the entire training set (50K samples)>\n",
    "history_2 = model_2.fit(x_train,y_train_vec,\n",
    "                    batch_size=128, epochs =50)"
   ]
  },
  {
   "cell_type": "markdown",
   "metadata": {
    "id": "N79CGSCBZWsg"
   },
   "source": [
    "## 5. Evaluate the model on the test set (5 points)\n",
    "\n",
    "Do NOT used the test set until now. Make sure that your model parameters and hyper-parameters are independent of the test set."
   ]
  },
  {
   "cell_type": "code",
   "execution_count": 15,
   "metadata": {
    "colab": {
     "base_uri": "https://localhost:8080/"
    },
    "id": "g8CLaogRZWsg",
    "outputId": "be33bc39-042b-49d1-e181-5a7201f0205f"
   },
   "outputs": [
    {
     "name": "stdout",
     "output_type": "stream",
     "text": [
      "313/313 [==============================] - 1s 5ms/step - loss: 3.5102 - accuracy: 0.6123\n",
      "loss =  3.5101675987243652\n",
      "accuracy =  0.6122999787330627\n"
     ]
    }
   ],
   "source": [
    "# Evaluate your model performance (testing accuracy) on testing data.\n",
    "loss_and_acc = model.evaluate(x_test,y_test_vec)\n",
    "print('loss = ', str(loss_and_acc[0]))\n",
    "print('accuracy = ', str(loss_and_acc[1]))\n"
   ]
  },
  {
   "cell_type": "markdown",
   "metadata": {
    "id": "Rn4QJZY4ZWsg"
   },
   "source": [
    "## 6. Building model with new structure (25 points)\n",
    "- In this section, you can build your model with adding new layers (e.g, BN layer or dropout layer, ...).\n",
    "- If you want to regularize a ```Conv/Dense layer```, you should place a ```Dropout layer``` before the ```Conv/Dense layer```.\n",
    "- You can try to compare their loss curve and testing accuracy and analyze your findings.\n",
    "- You need to try at lease two different model structures."
   ]
  },
  {
   "cell_type": "code",
   "execution_count": 19,
   "metadata": {
    "colab": {
     "base_uri": "https://localhost:8080/"
    },
    "id": "pVB6NUURZWsh",
    "outputId": "55b14001-03bc-45a0-c90a-9b38ac78ad67"
   },
   "outputs": [
    {
     "name": "stdout",
     "output_type": "stream",
     "text": [
      "Model: \"sequential\"\n",
      "_________________________________________________________________\n",
      " Layer (type)                Output Shape              Param #   \n",
      "=================================================================\n",
      " conv2d (Conv2D)             (None, 30, 30, 32)        896       \n",
      "                                                                 \n",
      " max_pooling2d (MaxPooling2D  (None, 15, 15, 32)       0         \n",
      " )                                                               \n",
      "                                                                 \n",
      " conv2d_1 (Conv2D)           (None, 12, 12, 64)        32832     \n",
      "                                                                 \n",
      " max_pooling2d_1 (MaxPooling  (None, 6, 6, 64)         0         \n",
      " 2D)                                                             \n",
      "                                                                 \n",
      " flatten (Flatten)           (None, 2304)              0         \n",
      "                                                                 \n",
      " dense (Dense)               (None, 256)               590080    \n",
      "                                                                 \n",
      " dense_1 (Dense)             (None, 10)                2570      \n",
      "                                                                 \n",
      "=================================================================\n",
      "Total params: 626,378\n",
      "Trainable params: 626,378\n",
      "Non-trainable params: 0\n",
      "_________________________________________________________________\n"
     ]
    }
   ],
   "source": [
    "model.summary()"
   ]
  },
  {
   "cell_type": "code",
   "execution_count": 87,
   "metadata": {
    "id": "vi5sI8RxZWsi"
   },
   "outputs": [],
   "source": [
    "# Build the model\n",
    "model_3 = keras.models.Sequential([\n",
    "    keras.layers.Conv2D(32,3, activation='relu',input_shape=[32,32,3]),\n",
    "    keras.layers.MaxPool2D(2),\n",
    "    keras.layers.Dropout(0.5),\n",
    "    keras.layers.Conv2D(64,4,activation='relu'),\n",
    "    keras.layers.MaxPool2D(2),\n",
    "    keras.layers.Flatten(),\n",
    "    keras.layers.Dropout(0.5),\n",
    "    keras.layers.Dense(256,activation='relu'),\n",
    "    keras.layers.Dense(10,activation='softmax')\n",
    "])"
   ]
  },
  {
   "cell_type": "code",
   "execution_count": 88,
   "metadata": {
    "id": "6dHoug3wZWsi"
   },
   "outputs": [],
   "source": [
    "model_3.compile(optimizers.rmsprop_v2.RMSprop(learning_rate=0.0001),\n",
    "              loss='categorical_crossentropy',\n",
    "              metrics=['accuracy'])\n"
   ]
  },
  {
   "cell_type": "code",
   "execution_count": 89,
   "metadata": {
    "colab": {
     "base_uri": "https://localhost:8080/"
    },
    "id": "ZqfSMPfAZWsi",
    "outputId": "e9c68f89-9b49-44bc-d700-1768fdf5a5a3"
   },
   "outputs": [
    {
     "name": "stdout",
     "output_type": "stream",
     "text": [
      "Epoch 1/100\n",
      "313/313 [==============================] - 5s 14ms/step - loss: 14.3610 - accuracy: 0.1149 - val_loss: 2.3026 - val_accuracy: 0.0934\n",
      "Epoch 2/100\n",
      "313/313 [==============================] - 4s 14ms/step - loss: 2.3138 - accuracy: 0.1088 - val_loss: 2.2612 - val_accuracy: 0.1248\n",
      "Epoch 3/100\n",
      "313/313 [==============================] - 4s 14ms/step - loss: 2.2592 - accuracy: 0.1441 - val_loss: 2.2224 - val_accuracy: 0.1531\n",
      "Epoch 4/100\n",
      "313/313 [==============================] - 4s 13ms/step - loss: 2.1804 - accuracy: 0.1735 - val_loss: 2.0634 - val_accuracy: 0.1988\n",
      "Epoch 5/100\n",
      "313/313 [==============================] - 4s 14ms/step - loss: 2.0605 - accuracy: 0.2139 - val_loss: 1.9443 - val_accuracy: 0.2598\n",
      "Epoch 6/100\n",
      "313/313 [==============================] - 4s 14ms/step - loss: 1.9453 - accuracy: 0.2610 - val_loss: 1.8393 - val_accuracy: 0.3006\n",
      "Epoch 7/100\n",
      "313/313 [==============================] - 4s 14ms/step - loss: 1.8701 - accuracy: 0.2855 - val_loss: 1.7771 - val_accuracy: 0.3384\n",
      "Epoch 8/100\n",
      "313/313 [==============================] - 4s 13ms/step - loss: 1.8080 - accuracy: 0.3134 - val_loss: 1.7336 - val_accuracy: 0.3564\n",
      "Epoch 9/100\n",
      "313/313 [==============================] - 4s 14ms/step - loss: 1.7496 - accuracy: 0.3372 - val_loss: 1.6711 - val_accuracy: 0.3762\n",
      "Epoch 10/100\n",
      "313/313 [==============================] - 4s 13ms/step - loss: 1.7009 - accuracy: 0.3582 - val_loss: 1.6852 - val_accuracy: 0.3869\n",
      "Epoch 11/100\n",
      "313/313 [==============================] - 4s 13ms/step - loss: 1.6656 - accuracy: 0.3711 - val_loss: 1.6400 - val_accuracy: 0.4034\n",
      "Epoch 12/100\n",
      "313/313 [==============================] - 4s 14ms/step - loss: 1.6208 - accuracy: 0.3879 - val_loss: 1.6334 - val_accuracy: 0.4108\n",
      "Epoch 13/100\n",
      "313/313 [==============================] - 4s 14ms/step - loss: 1.5887 - accuracy: 0.4058 - val_loss: 1.5825 - val_accuracy: 0.4307\n",
      "Epoch 14/100\n",
      "313/313 [==============================] - 4s 13ms/step - loss: 1.5502 - accuracy: 0.4210 - val_loss: 1.5842 - val_accuracy: 0.4424\n",
      "Epoch 15/100\n",
      "313/313 [==============================] - 4s 14ms/step - loss: 1.5190 - accuracy: 0.4387 - val_loss: 1.5381 - val_accuracy: 0.4672\n",
      "Epoch 16/100\n",
      "313/313 [==============================] - 4s 14ms/step - loss: 1.4880 - accuracy: 0.4482 - val_loss: 1.5561 - val_accuracy: 0.4542\n",
      "Epoch 17/100\n",
      "313/313 [==============================] - 4s 13ms/step - loss: 1.4710 - accuracy: 0.4585 - val_loss: 1.5296 - val_accuracy: 0.4756\n",
      "Epoch 18/100\n",
      "313/313 [==============================] - 4s 13ms/step - loss: 1.4405 - accuracy: 0.4731 - val_loss: 1.4825 - val_accuracy: 0.5008\n",
      "Epoch 19/100\n",
      "313/313 [==============================] - 4s 13ms/step - loss: 1.4185 - accuracy: 0.4814 - val_loss: 1.4735 - val_accuracy: 0.5009\n",
      "Epoch 20/100\n",
      "313/313 [==============================] - 4s 14ms/step - loss: 1.3931 - accuracy: 0.4902 - val_loss: 1.4656 - val_accuracy: 0.5061\n",
      "Epoch 21/100\n",
      "313/313 [==============================] - 4s 13ms/step - loss: 1.3745 - accuracy: 0.5035 - val_loss: 1.4621 - val_accuracy: 0.5114\n",
      "Epoch 22/100\n",
      "313/313 [==============================] - 4s 14ms/step - loss: 1.3558 - accuracy: 0.5088 - val_loss: 1.4317 - val_accuracy: 0.5270\n",
      "Epoch 23/100\n",
      "313/313 [==============================] - 4s 14ms/step - loss: 1.3312 - accuracy: 0.5199 - val_loss: 1.3998 - val_accuracy: 0.5340\n",
      "Epoch 24/100\n",
      "313/313 [==============================] - 4s 13ms/step - loss: 1.3197 - accuracy: 0.5245 - val_loss: 1.3886 - val_accuracy: 0.5332\n",
      "Epoch 25/100\n",
      "313/313 [==============================] - 4s 14ms/step - loss: 1.3074 - accuracy: 0.5295 - val_loss: 1.4100 - val_accuracy: 0.5154\n",
      "Epoch 26/100\n",
      "313/313 [==============================] - 4s 13ms/step - loss: 1.2835 - accuracy: 0.5391 - val_loss: 1.3895 - val_accuracy: 0.5284\n",
      "Epoch 27/100\n",
      "313/313 [==============================] - 4s 13ms/step - loss: 1.2679 - accuracy: 0.5462 - val_loss: 1.3393 - val_accuracy: 0.5602\n",
      "Epoch 28/100\n",
      "313/313 [==============================] - 4s 13ms/step - loss: 1.2560 - accuracy: 0.5512 - val_loss: 1.3339 - val_accuracy: 0.5504\n",
      "Epoch 29/100\n",
      "313/313 [==============================] - 4s 13ms/step - loss: 1.2343 - accuracy: 0.5589 - val_loss: 1.2959 - val_accuracy: 0.5642\n",
      "Epoch 30/100\n",
      "313/313 [==============================] - 4s 14ms/step - loss: 1.2224 - accuracy: 0.5634 - val_loss: 1.3152 - val_accuracy: 0.5626\n",
      "Epoch 31/100\n",
      "313/313 [==============================] - 4s 13ms/step - loss: 1.2114 - accuracy: 0.5716 - val_loss: 1.2896 - val_accuracy: 0.5739\n",
      "Epoch 32/100\n",
      "313/313 [==============================] - 4s 14ms/step - loss: 1.2031 - accuracy: 0.5731 - val_loss: 1.3016 - val_accuracy: 0.5541\n",
      "Epoch 33/100\n",
      "313/313 [==============================] - 4s 13ms/step - loss: 1.1853 - accuracy: 0.5813 - val_loss: 1.2747 - val_accuracy: 0.5795\n",
      "Epoch 34/100\n",
      "313/313 [==============================] - 4s 14ms/step - loss: 1.1732 - accuracy: 0.5852 - val_loss: 1.2444 - val_accuracy: 0.5869\n",
      "Epoch 35/100\n",
      "313/313 [==============================] - 4s 13ms/step - loss: 1.1606 - accuracy: 0.5896 - val_loss: 1.2313 - val_accuracy: 0.5805\n",
      "Epoch 36/100\n",
      "313/313 [==============================] - 4s 14ms/step - loss: 1.1503 - accuracy: 0.5947 - val_loss: 1.2615 - val_accuracy: 0.5632\n",
      "Epoch 37/100\n",
      "313/313 [==============================] - 4s 13ms/step - loss: 1.1389 - accuracy: 0.5968 - val_loss: 1.2293 - val_accuracy: 0.5810\n",
      "Epoch 38/100\n",
      "313/313 [==============================] - 4s 14ms/step - loss: 1.1403 - accuracy: 0.5977 - val_loss: 1.1946 - val_accuracy: 0.6047\n",
      "Epoch 39/100\n",
      "313/313 [==============================] - 4s 14ms/step - loss: 1.1204 - accuracy: 0.6071 - val_loss: 1.1703 - val_accuracy: 0.6154\n",
      "Epoch 40/100\n",
      "313/313 [==============================] - 4s 14ms/step - loss: 1.1131 - accuracy: 0.6118 - val_loss: 1.1962 - val_accuracy: 0.6029\n",
      "Epoch 41/100\n",
      "313/313 [==============================] - 4s 13ms/step - loss: 1.0970 - accuracy: 0.6154 - val_loss: 1.1825 - val_accuracy: 0.5975\n",
      "Epoch 42/100\n",
      "313/313 [==============================] - 4s 13ms/step - loss: 1.0961 - accuracy: 0.6159 - val_loss: 1.1621 - val_accuracy: 0.6106\n",
      "Epoch 43/100\n",
      "313/313 [==============================] - 4s 13ms/step - loss: 1.0940 - accuracy: 0.6159 - val_loss: 1.1586 - val_accuracy: 0.6187\n",
      "Epoch 44/100\n",
      "313/313 [==============================] - 4s 13ms/step - loss: 1.0815 - accuracy: 0.6200 - val_loss: 1.1567 - val_accuracy: 0.6174\n",
      "Epoch 45/100\n",
      "313/313 [==============================] - 4s 13ms/step - loss: 1.0692 - accuracy: 0.6273 - val_loss: 1.1363 - val_accuracy: 0.6202\n",
      "Epoch 46/100\n",
      "313/313 [==============================] - 4s 14ms/step - loss: 1.0757 - accuracy: 0.6235 - val_loss: 1.1780 - val_accuracy: 0.6010\n",
      "Epoch 47/100\n",
      "313/313 [==============================] - 4s 13ms/step - loss: 1.0584 - accuracy: 0.6304 - val_loss: 1.1356 - val_accuracy: 0.6171\n",
      "Epoch 48/100\n",
      "313/313 [==============================] - 4s 14ms/step - loss: 1.0530 - accuracy: 0.6324 - val_loss: 1.1222 - val_accuracy: 0.6251\n",
      "Epoch 49/100\n",
      "313/313 [==============================] - 4s 13ms/step - loss: 1.0549 - accuracy: 0.6321 - val_loss: 1.1396 - val_accuracy: 0.6204\n",
      "Epoch 50/100\n",
      "313/313 [==============================] - 4s 13ms/step - loss: 1.0426 - accuracy: 0.6364 - val_loss: 1.1129 - val_accuracy: 0.6269\n",
      "Epoch 51/100\n",
      "313/313 [==============================] - 4s 13ms/step - loss: 1.0343 - accuracy: 0.6416 - val_loss: 1.0878 - val_accuracy: 0.6370\n",
      "Epoch 52/100\n",
      "313/313 [==============================] - 4s 14ms/step - loss: 1.0353 - accuracy: 0.6395 - val_loss: 1.0615 - val_accuracy: 0.6478\n",
      "Epoch 53/100\n",
      "313/313 [==============================] - 4s 14ms/step - loss: 1.0250 - accuracy: 0.6439 - val_loss: 1.0704 - val_accuracy: 0.6406\n",
      "Epoch 54/100\n",
      "313/313 [==============================] - 4s 14ms/step - loss: 1.0176 - accuracy: 0.6458 - val_loss: 1.0681 - val_accuracy: 0.6487\n",
      "Epoch 55/100\n",
      "313/313 [==============================] - 4s 14ms/step - loss: 1.0114 - accuracy: 0.6479 - val_loss: 1.0765 - val_accuracy: 0.6372\n",
      "Epoch 56/100\n",
      "313/313 [==============================] - 4s 13ms/step - loss: 1.0084 - accuracy: 0.6507 - val_loss: 1.0818 - val_accuracy: 0.6359\n",
      "Epoch 57/100\n",
      "313/313 [==============================] - 4s 13ms/step - loss: 1.0059 - accuracy: 0.6533 - val_loss: 1.0568 - val_accuracy: 0.6528\n",
      "Epoch 58/100\n",
      "313/313 [==============================] - 4s 14ms/step - loss: 0.9985 - accuracy: 0.6529 - val_loss: 1.0550 - val_accuracy: 0.6467\n",
      "Epoch 59/100\n",
      "313/313 [==============================] - 4s 13ms/step - loss: 0.9968 - accuracy: 0.6505 - val_loss: 1.0499 - val_accuracy: 0.6449\n",
      "Epoch 60/100\n",
      "313/313 [==============================] - 4s 13ms/step - loss: 0.9956 - accuracy: 0.6557 - val_loss: 1.0334 - val_accuracy: 0.6558\n",
      "Epoch 61/100\n",
      "313/313 [==============================] - 4s 13ms/step - loss: 0.9883 - accuracy: 0.6557 - val_loss: 1.0630 - val_accuracy: 0.6371\n",
      "Epoch 62/100\n",
      "313/313 [==============================] - 4s 13ms/step - loss: 0.9853 - accuracy: 0.6557 - val_loss: 1.1018 - val_accuracy: 0.6324\n",
      "Epoch 63/100\n",
      "313/313 [==============================] - 4s 14ms/step - loss: 0.9748 - accuracy: 0.6601 - val_loss: 1.0383 - val_accuracy: 0.6557\n",
      "Epoch 64/100\n",
      "313/313 [==============================] - 4s 14ms/step - loss: 0.9753 - accuracy: 0.6602 - val_loss: 1.0193 - val_accuracy: 0.6580\n",
      "Epoch 65/100\n",
      "313/313 [==============================] - 4s 14ms/step - loss: 0.9699 - accuracy: 0.6646 - val_loss: 1.0448 - val_accuracy: 0.6535\n",
      "Epoch 66/100\n",
      "313/313 [==============================] - 4s 14ms/step - loss: 0.9697 - accuracy: 0.6650 - val_loss: 1.0214 - val_accuracy: 0.6523\n",
      "Epoch 67/100\n",
      "313/313 [==============================] - 4s 14ms/step - loss: 0.9565 - accuracy: 0.6680 - val_loss: 1.0143 - val_accuracy: 0.6651\n",
      "Epoch 68/100\n",
      "313/313 [==============================] - 4s 14ms/step - loss: 0.9697 - accuracy: 0.6640 - val_loss: 1.0049 - val_accuracy: 0.6676\n",
      "Epoch 69/100\n",
      "313/313 [==============================] - 4s 13ms/step - loss: 0.9526 - accuracy: 0.6719 - val_loss: 1.0831 - val_accuracy: 0.6333\n",
      "Epoch 70/100\n",
      "313/313 [==============================] - 4s 13ms/step - loss: 0.9477 - accuracy: 0.6699 - val_loss: 0.9632 - val_accuracy: 0.6881\n",
      "Epoch 71/100\n",
      "313/313 [==============================] - 4s 14ms/step - loss: 0.9443 - accuracy: 0.6752 - val_loss: 1.0582 - val_accuracy: 0.6348\n",
      "Epoch 72/100\n",
      "313/313 [==============================] - 4s 13ms/step - loss: 0.9499 - accuracy: 0.6707 - val_loss: 1.0207 - val_accuracy: 0.6474\n",
      "Epoch 73/100\n",
      "313/313 [==============================] - 4s 13ms/step - loss: 0.9383 - accuracy: 0.6762 - val_loss: 0.9786 - val_accuracy: 0.6668\n",
      "Epoch 74/100\n",
      "313/313 [==============================] - 4s 13ms/step - loss: 0.9421 - accuracy: 0.6732 - val_loss: 0.9636 - val_accuracy: 0.6858\n",
      "Epoch 75/100\n",
      "313/313 [==============================] - 4s 14ms/step - loss: 0.9360 - accuracy: 0.6761 - val_loss: 0.9724 - val_accuracy: 0.6761\n",
      "Epoch 76/100\n",
      "313/313 [==============================] - 4s 14ms/step - loss: 0.9333 - accuracy: 0.6776 - val_loss: 0.9723 - val_accuracy: 0.6723\n",
      "Epoch 77/100\n",
      "313/313 [==============================] - 4s 14ms/step - loss: 0.9374 - accuracy: 0.6767 - val_loss: 0.9443 - val_accuracy: 0.6828\n",
      "Epoch 78/100\n",
      "313/313 [==============================] - 4s 13ms/step - loss: 0.9220 - accuracy: 0.6834 - val_loss: 0.9467 - val_accuracy: 0.6822\n",
      "Epoch 79/100\n",
      "313/313 [==============================] - 4s 14ms/step - loss: 0.9237 - accuracy: 0.6828 - val_loss: 0.9772 - val_accuracy: 0.6666\n",
      "Epoch 80/100\n",
      "313/313 [==============================] - 4s 13ms/step - loss: 0.9135 - accuracy: 0.6848 - val_loss: 0.9799 - val_accuracy: 0.6602\n",
      "Epoch 81/100\n",
      "313/313 [==============================] - 4s 14ms/step - loss: 0.9171 - accuracy: 0.6836 - val_loss: 0.9629 - val_accuracy: 0.6722\n",
      "Epoch 82/100\n",
      "313/313 [==============================] - 4s 13ms/step - loss: 0.9097 - accuracy: 0.6843 - val_loss: 0.9822 - val_accuracy: 0.6604\n",
      "Epoch 83/100\n",
      "313/313 [==============================] - 4s 14ms/step - loss: 0.9083 - accuracy: 0.6849 - val_loss: 0.9710 - val_accuracy: 0.6680\n",
      "Epoch 84/100\n",
      "313/313 [==============================] - 4s 13ms/step - loss: 0.9046 - accuracy: 0.6852 - val_loss: 0.9683 - val_accuracy: 0.6711\n",
      "Epoch 85/100\n",
      "313/313 [==============================] - 4s 14ms/step - loss: 0.9004 - accuracy: 0.6899 - val_loss: 0.9336 - val_accuracy: 0.6854\n",
      "Epoch 86/100\n",
      "313/313 [==============================] - 4s 13ms/step - loss: 0.8984 - accuracy: 0.6905 - val_loss: 0.9604 - val_accuracy: 0.6749\n",
      "Epoch 87/100\n",
      "313/313 [==============================] - 4s 13ms/step - loss: 0.9006 - accuracy: 0.6897 - val_loss: 0.9359 - val_accuracy: 0.6838\n",
      "Epoch 88/100\n",
      "313/313 [==============================] - 4s 13ms/step - loss: 0.8911 - accuracy: 0.6927 - val_loss: 0.9767 - val_accuracy: 0.6617\n",
      "Epoch 89/100\n",
      "313/313 [==============================] - 4s 13ms/step - loss: 0.8969 - accuracy: 0.6888 - val_loss: 0.9454 - val_accuracy: 0.6767\n",
      "Epoch 90/100\n",
      "313/313 [==============================] - 4s 13ms/step - loss: 0.8940 - accuracy: 0.6916 - val_loss: 0.9738 - val_accuracy: 0.6678\n",
      "Epoch 91/100\n",
      "313/313 [==============================] - 4s 13ms/step - loss: 0.8879 - accuracy: 0.6935 - val_loss: 0.9508 - val_accuracy: 0.6714\n",
      "Epoch 92/100\n",
      "313/313 [==============================] - 4s 14ms/step - loss: 0.8842 - accuracy: 0.6952 - val_loss: 0.9863 - val_accuracy: 0.6552\n",
      "Epoch 93/100\n",
      "313/313 [==============================] - 4s 14ms/step - loss: 0.8839 - accuracy: 0.6933 - val_loss: 0.9337 - val_accuracy: 0.6825\n",
      "Epoch 94/100\n",
      "313/313 [==============================] - 4s 13ms/step - loss: 0.8777 - accuracy: 0.6966 - val_loss: 0.9261 - val_accuracy: 0.6815\n",
      "Epoch 95/100\n",
      "313/313 [==============================] - 4s 13ms/step - loss: 0.8784 - accuracy: 0.6940 - val_loss: 0.8817 - val_accuracy: 0.7056\n",
      "Epoch 96/100\n",
      "313/313 [==============================] - 4s 14ms/step - loss: 0.8786 - accuracy: 0.6981 - val_loss: 0.9449 - val_accuracy: 0.6755\n",
      "Epoch 97/100\n",
      "313/313 [==============================] - 4s 14ms/step - loss: 0.8722 - accuracy: 0.7009 - val_loss: 0.9312 - val_accuracy: 0.6822\n",
      "Epoch 98/100\n",
      "313/313 [==============================] - 4s 13ms/step - loss: 0.8697 - accuracy: 0.6985 - val_loss: 0.9451 - val_accuracy: 0.6725\n",
      "Epoch 99/100\n",
      "313/313 [==============================] - 4s 13ms/step - loss: 0.8687 - accuracy: 0.6995 - val_loss: 1.0027 - val_accuracy: 0.6440\n",
      "Epoch 100/100\n",
      "313/313 [==============================] - 4s 13ms/step - loss: 0.8673 - accuracy: 0.6992 - val_loss: 0.9288 - val_accuracy: 0.6863\n"
     ]
    }
   ],
   "source": [
    "# Train the model and store model parameters/loss values\n",
    "history_3 = model_3.fit(x_tr,y_tr,\n",
    "                    batch_size=128, epochs =100,\n",
    "                   validation_data=(x_val,y_val))"
   ]
  },
  {
   "cell_type": "code",
   "execution_count": 90,
   "metadata": {
    "colab": {
     "base_uri": "https://localhost:8080/",
     "height": 279
    },
    "id": "nOE3GnwUZWsj",
    "outputId": "9e4689de-23b3-4bae-8f8c-2ed69cf46b40"
   },
   "outputs": [
    {
     "data": {
      "image/png": "[encoded data removed]",
      "text/plain": [
       "<Figure size 432x288 with 1 Axes>"
      ]
     },
     "metadata": {
      "needs_background": "light"
     },
     "output_type": "display_data"
    }
   ],
   "source": [
    "# Plot the loss curve\n",
    "import matplotlib.pyplot as plt\n",
    "%matplotlib inline\n",
    "\n",
    "epochs = range(100)\n",
    "train_loss_3 = history_3.history['loss']\n",
    "val_loss_3 = history_3.history['val_loss']\n",
    "plt.plot(epochs,train_loss_3,'bo',label= 'Training Loss')\n",
    "plt.plot(epochs,val_loss_3,'r',label= 'Validation Loss')\n",
    "plt.xlabel('Epochs')\n",
    "plt.ylabel('Loss')\n",
    "plt.legend()\n",
    "plt.show()\n"
   ]
  },
  {
   "cell_type": "code",
   "execution_count": 91,
   "metadata": {
    "colab": {
     "base_uri": "https://localhost:8080/"
    },
    "id": "etgWyQ2726te",
    "outputId": "a6fe34f4-2a9d-4aae-a273-eea29bb2aaad"
   },
   "outputs": [
    {
     "name": "stdout",
     "output_type": "stream",
     "text": [
      "313/313 [==============================] - 1s 4ms/step - loss: 0.9318 - accuracy: 0.6855\n",
      "loss =  0.9318194389343262\n",
      "accuracy =  0.6855000257492065\n"
     ]
    }
   ],
   "source": [
    "# Evaluate your model performance (testing accuracy) on testing data.\n",
    "loss_and_acc = model_3.evaluate(x_test,y_test_vec)\n",
    "print('loss = ', str(loss_and_acc[0]))\n",
    "print('accuracy = ', str(loss_and_acc[1]))\n"
   ]
  },
  {
   "cell_type": "code",
   "execution_count": 92,
   "metadata": {
    "id": "J1SfncqcZWsj"
   },
   "outputs": [],
   "source": [
    "# Build the model\n",
    "model_4 = keras.models.Sequential([\n",
    "    keras.layers.Conv2D(32,3, activation='relu',input_shape=[32,32,3]),\n",
    "    keras.layers.MaxPool2D(2),\n",
    "    keras.layers.Conv2D(64,4,activation='relu'),\n",
    "    keras.layers.MaxPool2D(2),\n",
    "    keras.layers.Flatten(),\n",
    "    keras.layers.Dense(256,activation='relu'),\n",
    "    keras.layers.Dropout(0.5),\n",
    "    keras.layers.Dense(10,activation='softmax')\n",
    "])"
   ]
  },
  {
   "cell_type": "code",
   "execution_count": 93,
   "metadata": {
    "id": "dbHAYX7AZWsk"
   },
   "outputs": [],
   "source": [
    "model_4.compile(optimizers.rmsprop_v2.RMSprop(learning_rate=0.0001),\n",
    "              loss='categorical_crossentropy',\n",
    "              metrics=['accuracy'])\n"
   ]
  },
  {
   "cell_type": "code",
   "execution_count": 94,
   "metadata": {
    "colab": {
     "base_uri": "https://localhost:8080/"
    },
    "id": "xNYvo1yaZWsk",
    "outputId": "a30b3b2c-16f8-4d64-d734-83de4633111a"
   },
   "outputs": [
    {
     "name": "stdout",
     "output_type": "stream",
     "text": [
      "Epoch 1/100\n",
      "313/313 [==============================] - 5s 14ms/step - loss: 5.2397 - accuracy: 0.1112 - val_loss: 2.2879 - val_accuracy: 0.1216\n",
      "Epoch 2/100\n",
      "313/313 [==============================] - 4s 13ms/step - loss: 2.2956 - accuracy: 0.1148 - val_loss: 2.2084 - val_accuracy: 0.1730\n",
      "Epoch 3/100\n",
      "313/313 [==============================] - 4s 12ms/step - loss: 2.2717 - accuracy: 0.1312 - val_loss: 2.2258 - val_accuracy: 0.1561\n",
      "Epoch 4/100\n",
      "313/313 [==============================] - 4s 13ms/step - loss: 2.2440 - accuracy: 0.1425 - val_loss: 2.1987 - val_accuracy: 0.1808\n",
      "Epoch 5/100\n",
      "313/313 [==============================] - 4s 12ms/step - loss: 2.2058 - accuracy: 0.1668 - val_loss: 2.0720 - val_accuracy: 0.2614\n",
      "Epoch 6/100\n",
      "313/313 [==============================] - 4s 12ms/step - loss: 2.1473 - accuracy: 0.1942 - val_loss: 1.9466 - val_accuracy: 0.2916\n",
      "Epoch 7/100\n",
      "313/313 [==============================] - 4s 12ms/step - loss: 2.0725 - accuracy: 0.2227 - val_loss: 1.8382 - val_accuracy: 0.3269\n",
      "Epoch 8/100\n",
      "313/313 [==============================] - 4s 13ms/step - loss: 1.9956 - accuracy: 0.2522 - val_loss: 1.7892 - val_accuracy: 0.3661\n",
      "Epoch 9/100\n",
      "313/313 [==============================] - 4s 12ms/step - loss: 1.9307 - accuracy: 0.2697 - val_loss: 1.7184 - val_accuracy: 0.3808\n",
      "Epoch 10/100\n",
      "313/313 [==============================] - 4s 12ms/step - loss: 1.8590 - accuracy: 0.2968 - val_loss: 1.6276 - val_accuracy: 0.4183\n",
      "Epoch 11/100\n",
      "313/313 [==============================] - 4s 13ms/step - loss: 1.8041 - accuracy: 0.3230 - val_loss: 1.6886 - val_accuracy: 0.4020\n",
      "Epoch 12/100\n",
      "313/313 [==============================] - 4s 12ms/step - loss: 1.7368 - accuracy: 0.3498 - val_loss: 1.5561 - val_accuracy: 0.4345\n",
      "Epoch 13/100\n",
      "313/313 [==============================] - 4s 12ms/step - loss: 1.6867 - accuracy: 0.3749 - val_loss: 1.4506 - val_accuracy: 0.4760\n",
      "Epoch 14/100\n",
      "313/313 [==============================] - 4s 13ms/step - loss: 1.6267 - accuracy: 0.4006 - val_loss: 1.4228 - val_accuracy: 0.4837\n",
      "Epoch 15/100\n",
      "313/313 [==============================] - 4s 13ms/step - loss: 1.5779 - accuracy: 0.4212 - val_loss: 1.4060 - val_accuracy: 0.4964\n",
      "Epoch 16/100\n",
      "313/313 [==============================] - 4s 13ms/step - loss: 1.5321 - accuracy: 0.4419 - val_loss: 1.3380 - val_accuracy: 0.5189\n",
      "Epoch 17/100\n",
      "313/313 [==============================] - 4s 12ms/step - loss: 1.4888 - accuracy: 0.4595 - val_loss: 1.3180 - val_accuracy: 0.5360\n",
      "Epoch 18/100\n",
      "313/313 [==============================] - 4s 13ms/step - loss: 1.4503 - accuracy: 0.4761 - val_loss: 1.2546 - val_accuracy: 0.5514\n",
      "Epoch 19/100\n",
      "313/313 [==============================] - 4s 13ms/step - loss: 1.4075 - accuracy: 0.4930 - val_loss: 1.2464 - val_accuracy: 0.5594\n",
      "Epoch 20/100\n",
      "313/313 [==============================] - 4s 12ms/step - loss: 1.3729 - accuracy: 0.5075 - val_loss: 1.2608 - val_accuracy: 0.5541\n",
      "Epoch 21/100\n",
      "313/313 [==============================] - 4s 13ms/step - loss: 1.3404 - accuracy: 0.5181 - val_loss: 1.2734 - val_accuracy: 0.5540\n",
      "Epoch 22/100\n",
      "313/313 [==============================] - 4s 12ms/step - loss: 1.3117 - accuracy: 0.5308 - val_loss: 1.1988 - val_accuracy: 0.5752\n",
      "Epoch 23/100\n",
      "313/313 [==============================] - 4s 13ms/step - loss: 1.2772 - accuracy: 0.5423 - val_loss: 1.2108 - val_accuracy: 0.5747\n",
      "Epoch 24/100\n",
      "313/313 [==============================] - 4s 13ms/step - loss: 1.2578 - accuracy: 0.5501 - val_loss: 1.1976 - val_accuracy: 0.5844\n",
      "Epoch 25/100\n",
      "313/313 [==============================] - 4s 12ms/step - loss: 1.2336 - accuracy: 0.5608 - val_loss: 1.3533 - val_accuracy: 0.5361\n",
      "Epoch 26/100\n",
      "313/313 [==============================] - 4s 13ms/step - loss: 1.2043 - accuracy: 0.5685 - val_loss: 1.1635 - val_accuracy: 0.5951\n",
      "Epoch 27/100\n",
      "313/313 [==============================] - 4s 12ms/step - loss: 1.1821 - accuracy: 0.5767 - val_loss: 1.1376 - val_accuracy: 0.6138\n",
      "Epoch 28/100\n",
      "313/313 [==============================] - 4s 12ms/step - loss: 1.1686 - accuracy: 0.5847 - val_loss: 1.0851 - val_accuracy: 0.6265\n",
      "Epoch 29/100\n",
      "313/313 [==============================] - 4s 13ms/step - loss: 1.1419 - accuracy: 0.5947 - val_loss: 1.1745 - val_accuracy: 0.5927\n",
      "Epoch 30/100\n",
      "313/313 [==============================] - 4s 12ms/step - loss: 1.1270 - accuracy: 0.6012 - val_loss: 1.0781 - val_accuracy: 0.6301\n",
      "Epoch 31/100\n",
      "313/313 [==============================] - 4s 13ms/step - loss: 1.1071 - accuracy: 0.6083 - val_loss: 1.1294 - val_accuracy: 0.6043\n",
      "Epoch 32/100\n",
      "313/313 [==============================] - 4s 12ms/step - loss: 1.0876 - accuracy: 0.6143 - val_loss: 1.0919 - val_accuracy: 0.6217\n",
      "Epoch 33/100\n",
      "313/313 [==============================] - 4s 13ms/step - loss: 1.0654 - accuracy: 0.6222 - val_loss: 1.0728 - val_accuracy: 0.6332\n",
      "Epoch 34/100\n",
      "313/313 [==============================] - 4s 12ms/step - loss: 1.0541 - accuracy: 0.6236 - val_loss: 1.0925 - val_accuracy: 0.6284\n",
      "Epoch 35/100\n",
      "313/313 [==============================] - 4s 12ms/step - loss: 1.0425 - accuracy: 0.6324 - val_loss: 1.1829 - val_accuracy: 0.6292\n",
      "Epoch 36/100\n",
      "313/313 [==============================] - 4s 13ms/step - loss: 1.0276 - accuracy: 0.6378 - val_loss: 1.0812 - val_accuracy: 0.6446\n",
      "Epoch 37/100\n",
      "313/313 [==============================] - 4s 12ms/step - loss: 1.0150 - accuracy: 0.6439 - val_loss: 1.0685 - val_accuracy: 0.6370\n",
      "Epoch 38/100\n",
      "313/313 [==============================] - 4s 13ms/step - loss: 0.9980 - accuracy: 0.6517 - val_loss: 1.0661 - val_accuracy: 0.6393\n",
      "Epoch 39/100\n",
      "313/313 [==============================] - 4s 13ms/step - loss: 0.9779 - accuracy: 0.6569 - val_loss: 1.0476 - val_accuracy: 0.6454\n",
      "Epoch 40/100\n",
      "313/313 [==============================] - 4s 13ms/step - loss: 0.9618 - accuracy: 0.6617 - val_loss: 1.0090 - val_accuracy: 0.6567\n",
      "Epoch 41/100\n",
      "313/313 [==============================] - 4s 12ms/step - loss: 0.9511 - accuracy: 0.6653 - val_loss: 1.0594 - val_accuracy: 0.6358\n",
      "Epoch 42/100\n",
      "313/313 [==============================] - 4s 13ms/step - loss: 0.9405 - accuracy: 0.6705 - val_loss: 1.0135 - val_accuracy: 0.6595\n",
      "Epoch 43/100\n",
      "313/313 [==============================] - 4s 13ms/step - loss: 0.9263 - accuracy: 0.6744 - val_loss: 1.1054 - val_accuracy: 0.6525\n",
      "Epoch 44/100\n",
      "313/313 [==============================] - 4s 13ms/step - loss: 0.9198 - accuracy: 0.6769 - val_loss: 1.0394 - val_accuracy: 0.6506\n",
      "Epoch 45/100\n",
      "313/313 [==============================] - 4s 13ms/step - loss: 0.9091 - accuracy: 0.6815 - val_loss: 1.0680 - val_accuracy: 0.6476\n",
      "Epoch 46/100\n",
      "313/313 [==============================] - 4s 12ms/step - loss: 0.8936 - accuracy: 0.6876 - val_loss: 1.0610 - val_accuracy: 0.6509\n",
      "Epoch 47/100\n",
      "313/313 [==============================] - 4s 13ms/step - loss: 0.8866 - accuracy: 0.6879 - val_loss: 1.0918 - val_accuracy: 0.6353\n",
      "Epoch 48/100\n",
      "313/313 [==============================] - 4s 12ms/step - loss: 0.8836 - accuracy: 0.6902 - val_loss: 1.1241 - val_accuracy: 0.6433\n",
      "Epoch 49/100\n",
      "313/313 [==============================] - 4s 12ms/step - loss: 0.8691 - accuracy: 0.6975 - val_loss: 1.0203 - val_accuracy: 0.6713\n",
      "Epoch 50/100\n",
      "313/313 [==============================] - 4s 12ms/step - loss: 0.8558 - accuracy: 0.6978 - val_loss: 1.0542 - val_accuracy: 0.6692\n",
      "Epoch 51/100\n",
      "313/313 [==============================] - 4s 13ms/step - loss: 0.8526 - accuracy: 0.7035 - val_loss: 1.0053 - val_accuracy: 0.6678\n",
      "Epoch 52/100\n",
      "313/313 [==============================] - 4s 13ms/step - loss: 0.8409 - accuracy: 0.7087 - val_loss: 1.0472 - val_accuracy: 0.6626\n",
      "Epoch 53/100\n",
      "313/313 [==============================] - 4s 13ms/step - loss: 0.8267 - accuracy: 0.7107 - val_loss: 1.0859 - val_accuracy: 0.6706\n",
      "Epoch 54/100\n",
      "313/313 [==============================] - 4s 13ms/step - loss: 0.8211 - accuracy: 0.7121 - val_loss: 1.0300 - val_accuracy: 0.6632\n",
      "Epoch 55/100\n",
      "313/313 [==============================] - 4s 12ms/step - loss: 0.8122 - accuracy: 0.7182 - val_loss: 1.0789 - val_accuracy: 0.6559\n",
      "Epoch 56/100\n",
      "313/313 [==============================] - 4s 12ms/step - loss: 0.8059 - accuracy: 0.7175 - val_loss: 1.0710 - val_accuracy: 0.6737\n",
      "Epoch 57/100\n",
      "313/313 [==============================] - 4s 13ms/step - loss: 0.8040 - accuracy: 0.7182 - val_loss: 1.0817 - val_accuracy: 0.6759\n",
      "Epoch 58/100\n",
      "313/313 [==============================] - 4s 13ms/step - loss: 0.7892 - accuracy: 0.7267 - val_loss: 1.0178 - val_accuracy: 0.6806\n",
      "Epoch 59/100\n",
      "313/313 [==============================] - 4s 13ms/step - loss: 0.7790 - accuracy: 0.7263 - val_loss: 1.0938 - val_accuracy: 0.6654\n",
      "Epoch 60/100\n",
      "313/313 [==============================] - 4s 12ms/step - loss: 0.7791 - accuracy: 0.7258 - val_loss: 1.0572 - val_accuracy: 0.6542\n",
      "Epoch 61/100\n",
      "313/313 [==============================] - 4s 13ms/step - loss: 0.7708 - accuracy: 0.7304 - val_loss: 1.0485 - val_accuracy: 0.6847\n",
      "Epoch 62/100\n",
      "313/313 [==============================] - 4s 13ms/step - loss: 0.7640 - accuracy: 0.7329 - val_loss: 1.1577 - val_accuracy: 0.6813\n",
      "Epoch 63/100\n",
      "313/313 [==============================] - 4s 13ms/step - loss: 0.7610 - accuracy: 0.7333 - val_loss: 1.1049 - val_accuracy: 0.6625\n",
      "Epoch 64/100\n",
      "313/313 [==============================] - 4s 12ms/step - loss: 0.7588 - accuracy: 0.7336 - val_loss: 1.1596 - val_accuracy: 0.6736\n",
      "Epoch 65/100\n",
      "313/313 [==============================] - 4s 13ms/step - loss: 0.7520 - accuracy: 0.7399 - val_loss: 1.1029 - val_accuracy: 0.6751\n",
      "Epoch 66/100\n",
      "313/313 [==============================] - 4s 13ms/step - loss: 0.7372 - accuracy: 0.7420 - val_loss: 1.1488 - val_accuracy: 0.6871\n",
      "Epoch 67/100\n",
      "313/313 [==============================] - 4s 13ms/step - loss: 0.7350 - accuracy: 0.7437 - val_loss: 1.0290 - val_accuracy: 0.6856\n",
      "Epoch 68/100\n",
      "313/313 [==============================] - 4s 12ms/step - loss: 0.7328 - accuracy: 0.7472 - val_loss: 1.1875 - val_accuracy: 0.6614\n",
      "Epoch 69/100\n",
      "313/313 [==============================] - 4s 13ms/step - loss: 0.7274 - accuracy: 0.7469 - val_loss: 1.1702 - val_accuracy: 0.6242\n",
      "Epoch 70/100\n",
      "313/313 [==============================] - 4s 12ms/step - loss: 0.7207 - accuracy: 0.7490 - val_loss: 1.0859 - val_accuracy: 0.6899\n",
      "Epoch 71/100\n",
      "313/313 [==============================] - 4s 12ms/step - loss: 0.7167 - accuracy: 0.7492 - val_loss: 1.0881 - val_accuracy: 0.6670\n",
      "Epoch 72/100\n",
      "313/313 [==============================] - 4s 13ms/step - loss: 0.7101 - accuracy: 0.7530 - val_loss: 1.1213 - val_accuracy: 0.6708\n",
      "Epoch 73/100\n",
      "313/313 [==============================] - 4s 13ms/step - loss: 0.7067 - accuracy: 0.7542 - val_loss: 1.1592 - val_accuracy: 0.6716\n",
      "Epoch 74/100\n",
      "313/313 [==============================] - 4s 12ms/step - loss: 0.7113 - accuracy: 0.7558 - val_loss: 1.0297 - val_accuracy: 0.6778\n",
      "Epoch 75/100\n",
      "313/313 [==============================] - 4s 13ms/step - loss: 0.6986 - accuracy: 0.7560 - val_loss: 1.0692 - val_accuracy: 0.6906\n",
      "Epoch 76/100\n",
      "313/313 [==============================] - 4s 12ms/step - loss: 0.7071 - accuracy: 0.7552 - val_loss: 1.0881 - val_accuracy: 0.6730\n",
      "Epoch 77/100\n",
      "313/313 [==============================] - 4s 12ms/step - loss: 0.6869 - accuracy: 0.7616 - val_loss: 1.1175 - val_accuracy: 0.6762\n",
      "Epoch 78/100\n",
      "313/313 [==============================] - 4s 12ms/step - loss: 0.6915 - accuracy: 0.7610 - val_loss: 1.2327 - val_accuracy: 0.6768\n",
      "Epoch 79/100\n",
      "313/313 [==============================] - 4s 13ms/step - loss: 0.6914 - accuracy: 0.7596 - val_loss: 1.1040 - val_accuracy: 0.6789\n",
      "Epoch 80/100\n",
      "313/313 [==============================] - 4s 12ms/step - loss: 0.6848 - accuracy: 0.7637 - val_loss: 1.0713 - val_accuracy: 0.6937\n",
      "Epoch 81/100\n",
      "313/313 [==============================] - 4s 12ms/step - loss: 0.6895 - accuracy: 0.7588 - val_loss: 1.0650 - val_accuracy: 0.6836\n",
      "Epoch 82/100\n",
      "313/313 [==============================] - 4s 12ms/step - loss: 0.6740 - accuracy: 0.7673 - val_loss: 1.1819 - val_accuracy: 0.6675\n",
      "Epoch 83/100\n",
      "313/313 [==============================] - 4s 12ms/step - loss: 0.6766 - accuracy: 0.7642 - val_loss: 1.2214 - val_accuracy: 0.6772\n",
      "Epoch 84/100\n",
      "313/313 [==============================] - 4s 12ms/step - loss: 0.6843 - accuracy: 0.7634 - val_loss: 1.1225 - val_accuracy: 0.6895\n",
      "Epoch 85/100\n",
      "313/313 [==============================] - 4s 13ms/step - loss: 0.6631 - accuracy: 0.7686 - val_loss: 1.1751 - val_accuracy: 0.6923\n",
      "Epoch 86/100\n",
      "313/313 [==============================] - 4s 13ms/step - loss: 0.6636 - accuracy: 0.7701 - val_loss: 1.1423 - val_accuracy: 0.6536\n",
      "Epoch 87/100\n",
      "313/313 [==============================] - 4s 13ms/step - loss: 0.6630 - accuracy: 0.7728 - val_loss: 1.0681 - val_accuracy: 0.6852\n",
      "Epoch 88/100\n",
      "313/313 [==============================] - 4s 13ms/step - loss: 0.6593 - accuracy: 0.7708 - val_loss: 1.4807 - val_accuracy: 0.6875\n",
      "Epoch 89/100\n",
      "313/313 [==============================] - 4s 13ms/step - loss: 0.6597 - accuracy: 0.7719 - val_loss: 1.3620 - val_accuracy: 0.6832\n",
      "Epoch 90/100\n",
      "313/313 [==============================] - 4s 14ms/step - loss: 0.6630 - accuracy: 0.7729 - val_loss: 1.2819 - val_accuracy: 0.6851\n",
      "Epoch 91/100\n",
      "313/313 [==============================] - 4s 14ms/step - loss: 0.6580 - accuracy: 0.7733 - val_loss: 1.2924 - val_accuracy: 0.6719\n",
      "Epoch 92/100\n",
      "313/313 [==============================] - 4s 13ms/step - loss: 0.6567 - accuracy: 0.7743 - val_loss: 1.1651 - val_accuracy: 0.6863\n",
      "Epoch 93/100\n",
      "313/313 [==============================] - 4s 13ms/step - loss: 0.6599 - accuracy: 0.7723 - val_loss: 1.2589 - val_accuracy: 0.6633\n",
      "Epoch 94/100\n",
      "313/313 [==============================] - 4s 13ms/step - loss: 0.6536 - accuracy: 0.7742 - val_loss: 1.1332 - val_accuracy: 0.6876\n",
      "Epoch 95/100\n",
      "313/313 [==============================] - 4s 12ms/step - loss: 0.6465 - accuracy: 0.7749 - val_loss: 1.1527 - val_accuracy: 0.6665\n",
      "Epoch 96/100\n",
      "313/313 [==============================] - 4s 13ms/step - loss: 0.6515 - accuracy: 0.7766 - val_loss: 1.1504 - val_accuracy: 0.6894\n",
      "Epoch 97/100\n",
      "313/313 [==============================] - 4s 13ms/step - loss: 0.6464 - accuracy: 0.7785 - val_loss: 1.1327 - val_accuracy: 0.6819\n",
      "Epoch 98/100\n",
      "313/313 [==============================] - 4s 14ms/step - loss: 0.6546 - accuracy: 0.7750 - val_loss: 1.2245 - val_accuracy: 0.6951\n",
      "Epoch 99/100\n",
      "313/313 [==============================] - 4s 14ms/step - loss: 0.6428 - accuracy: 0.7791 - val_loss: 1.2630 - val_accuracy: 0.6930\n",
      "Epoch 100/100\n",
      "313/313 [==============================] - 4s 13ms/step - loss: 0.6403 - accuracy: 0.7807 - val_loss: 1.7766 - val_accuracy: 0.6763\n"
     ]
    }
   ],
   "source": [
    "# Train the model and store model parameters/loss values\n",
    "history_4 = model_4.fit(x_tr,y_tr,\n",
    "                    batch_size=128, epochs =100,\n",
    "                   validation_data=(x_val,y_val))"
   ]
  },
  {
   "cell_type": "code",
   "execution_count": 97,
   "metadata": {
    "colab": {
     "base_uri": "https://localhost:8080/",
     "height": 279
    },
    "id": "GpAQF0khZWsk",
    "outputId": "a232bf33-86b9-4e28-b231-73b45af23c0d"
   },
   "outputs": [
    {
     "data": {
      "image/png": "[encoded data removed]",
      "text/plain": [
       "<Figure size 432x288 with 1 Axes>"
      ]
     },
     "metadata": {
      "needs_background": "light"
     },
     "output_type": "display_data"
    }
   ],
   "source": [
    "# Plot the loss curve\n",
    "import matplotlib.pyplot as plt\n",
    "%matplotlib inline\n",
    "\n",
    "epochs = range(100)\n",
    "train_loss_4 = history_4.history['loss']\n",
    "val_loss_4 = history_4.history['val_loss']\n",
    "plt.plot(epochs,train_loss_4,'bo',label= 'Training Loss')\n",
    "plt.plot(epochs,val_loss_4,'r',label= 'Validation Loss')\n",
    "plt.xlabel('Epochs')\n",
    "plt.ylabel('Loss')\n",
    "plt.legend()\n",
    "plt.show()\n"
   ]
  },
  {
   "cell_type": "code",
   "execution_count": 98,
   "metadata": {
    "colab": {
     "base_uri": "https://localhost:8080/"
    },
    "id": "_4hptIuX2yux",
    "outputId": "6695fdaf-c4aa-4104-b7da-33c6eccb3185"
   },
   "outputs": [
    {
     "name": "stdout",
     "output_type": "stream",
     "text": [
      "313/313 [==============================] - 1s 5ms/step - loss: 1.8030 - accuracy: 0.6752\n",
      "loss =  1.803006649017334\n",
      "accuracy =  0.6751999855041504\n"
     ]
    }
   ],
   "source": [
    "# Evaluate your model performance (testing accuracy) on testing data.\n",
    "loss_and_acc = model_4.evaluate(x_test,y_test_vec)\n",
    "print('loss = ', str(loss_and_acc[0]))\n",
    "print('accuracy = ', str(loss_and_acc[1]))\n"
   ]
  },
  {
   "cell_type": "code",
   "execution_count": 100,
   "metadata": {
    "id": "BKT8tCIPyIrv"
   },
   "outputs": [],
   "source": [
    "# Build the model\n",
    "model_5 = keras.models.Sequential([\n",
    "    keras.layers.Conv2D(32,3, activation='relu',input_shape=[32,32,3]),\n",
    "    keras.layers.MaxPool2D(2),\n",
    "    keras.layers.Conv2D(64,4,activation='relu'),\n",
    "    keras.layers.MaxPool2D(2),\n",
    "    keras.layers.Flatten(),\n",
    "    keras.layers.Dense(256,activation='relu'),\n",
    "    keras.layers.BatchNormalization(),\n",
    "    keras.layers.Dense(10,activation='softmax')\n",
    "])"
   ]
  },
  {
   "cell_type": "code",
   "execution_count": 101,
   "metadata": {
    "id": "Aw_vdvwWy9dj"
   },
   "outputs": [],
   "source": [
    "model_5.compile(optimizers.rmsprop_v2.RMSprop(learning_rate=0.0001),\n",
    "              loss='categorical_crossentropy',\n",
    "              metrics=['accuracy'])\n"
   ]
  },
  {
   "cell_type": "code",
   "execution_count": 102,
   "metadata": {
    "colab": {
     "base_uri": "https://localhost:8080/"
    },
    "id": "xafwiNfMzFN-",
    "outputId": "4a7674db-0169-40f4-8498-fc4f10776fce"
   },
   "outputs": [
    {
     "name": "stdout",
     "output_type": "stream",
     "text": [
      "Epoch 1/50\n",
      "313/313 [==============================] - 6s 15ms/step - loss: 1.6582 - accuracy: 0.4217 - val_loss: 1.7361 - val_accuracy: 0.4033\n",
      "Epoch 2/50\n",
      "313/313 [==============================] - 4s 14ms/step - loss: 1.3021 - accuracy: 0.5508 - val_loss: 1.6723 - val_accuracy: 0.4514\n",
      "Epoch 3/50\n",
      "313/313 [==============================] - 5s 15ms/step - loss: 1.1644 - accuracy: 0.5941 - val_loss: 1.3655 - val_accuracy: 0.5317\n",
      "Epoch 4/50\n",
      "313/313 [==============================] - 4s 13ms/step - loss: 1.0625 - accuracy: 0.6350 - val_loss: 1.2438 - val_accuracy: 0.5665\n",
      "Epoch 5/50\n",
      "313/313 [==============================] - 4s 14ms/step - loss: 0.9900 - accuracy: 0.6586 - val_loss: 1.3813 - val_accuracy: 0.5266\n",
      "Epoch 6/50\n",
      "313/313 [==============================] - 4s 14ms/step - loss: 0.9256 - accuracy: 0.6820 - val_loss: 1.1884 - val_accuracy: 0.5953\n",
      "Epoch 7/50\n",
      "313/313 [==============================] - 4s 14ms/step - loss: 0.8708 - accuracy: 0.7016 - val_loss: 1.2218 - val_accuracy: 0.5912\n",
      "Epoch 8/50\n",
      "313/313 [==============================] - 4s 13ms/step - loss: 0.8235 - accuracy: 0.7191 - val_loss: 1.0952 - val_accuracy: 0.6305\n",
      "Epoch 9/50\n",
      "313/313 [==============================] - 4s 13ms/step - loss: 0.7779 - accuracy: 0.7341 - val_loss: 1.2126 - val_accuracy: 0.6082\n",
      "Epoch 10/50\n",
      "313/313 [==============================] - 4s 14ms/step - loss: 0.7355 - accuracy: 0.7512 - val_loss: 1.1315 - val_accuracy: 0.6267\n",
      "Epoch 11/50\n",
      "313/313 [==============================] - 4s 14ms/step - loss: 0.6938 - accuracy: 0.7641 - val_loss: 1.0540 - val_accuracy: 0.6416\n",
      "Epoch 12/50\n",
      "313/313 [==============================] - 4s 13ms/step - loss: 0.6516 - accuracy: 0.7822 - val_loss: 1.0636 - val_accuracy: 0.6469\n",
      "Epoch 13/50\n",
      "313/313 [==============================] - 4s 13ms/step - loss: 0.6152 - accuracy: 0.7954 - val_loss: 1.1450 - val_accuracy: 0.6269\n",
      "Epoch 14/50\n",
      "313/313 [==============================] - 4s 13ms/step - loss: 0.5758 - accuracy: 0.8093 - val_loss: 1.0117 - val_accuracy: 0.6655\n",
      "Epoch 15/50\n",
      "313/313 [==============================] - 4s 13ms/step - loss: 0.5394 - accuracy: 0.8239 - val_loss: 1.1931 - val_accuracy: 0.6180\n",
      "Epoch 16/50\n",
      "313/313 [==============================] - 4s 13ms/step - loss: 0.5023 - accuracy: 0.8362 - val_loss: 1.1422 - val_accuracy: 0.6356\n",
      "Epoch 17/50\n",
      "313/313 [==============================] - 4s 13ms/step - loss: 0.4673 - accuracy: 0.8522 - val_loss: 1.1482 - val_accuracy: 0.6341\n",
      "Epoch 18/50\n",
      "313/313 [==============================] - 4s 13ms/step - loss: 0.4326 - accuracy: 0.8654 - val_loss: 1.0782 - val_accuracy: 0.6519\n",
      "Epoch 19/50\n",
      "313/313 [==============================] - 4s 14ms/step - loss: 0.3999 - accuracy: 0.8783 - val_loss: 1.1064 - val_accuracy: 0.6596\n",
      "Epoch 20/50\n",
      "313/313 [==============================] - 4s 13ms/step - loss: 0.3678 - accuracy: 0.8893 - val_loss: 1.2935 - val_accuracy: 0.6123\n",
      "Epoch 21/50\n",
      "313/313 [==============================] - 4s 13ms/step - loss: 0.3348 - accuracy: 0.9032 - val_loss: 1.1131 - val_accuracy: 0.6596\n",
      "Epoch 22/50\n",
      "313/313 [==============================] - 4s 14ms/step - loss: 0.3032 - accuracy: 0.9153 - val_loss: 1.1424 - val_accuracy: 0.6516\n",
      "Epoch 23/50\n",
      "313/313 [==============================] - 4s 14ms/step - loss: 0.2752 - accuracy: 0.9263 - val_loss: 1.2022 - val_accuracy: 0.6524\n",
      "Epoch 24/50\n",
      "313/313 [==============================] - 4s 13ms/step - loss: 0.2495 - accuracy: 0.9355 - val_loss: 1.2321 - val_accuracy: 0.6442\n",
      "Epoch 25/50\n",
      "313/313 [==============================] - 4s 13ms/step - loss: 0.2191 - accuracy: 0.9467 - val_loss: 1.1800 - val_accuracy: 0.6627\n",
      "Epoch 26/50\n",
      "313/313 [==============================] - 4s 14ms/step - loss: 0.1971 - accuracy: 0.9540 - val_loss: 1.2224 - val_accuracy: 0.6553\n",
      "Epoch 27/50\n",
      "313/313 [==============================] - 4s 14ms/step - loss: 0.1749 - accuracy: 0.9603 - val_loss: 1.2407 - val_accuracy: 0.6554\n",
      "Epoch 28/50\n",
      "313/313 [==============================] - 4s 13ms/step - loss: 0.1525 - accuracy: 0.9688 - val_loss: 1.1731 - val_accuracy: 0.6693\n",
      "Epoch 29/50\n",
      "313/313 [==============================] - 4s 13ms/step - loss: 0.1349 - accuracy: 0.9744 - val_loss: 1.4532 - val_accuracy: 0.6248\n",
      "Epoch 30/50\n",
      "313/313 [==============================] - 4s 14ms/step - loss: 0.1171 - accuracy: 0.9792 - val_loss: 1.3896 - val_accuracy: 0.6547\n",
      "Epoch 31/50\n",
      "313/313 [==============================] - 4s 14ms/step - loss: 0.1026 - accuracy: 0.9834 - val_loss: 1.3062 - val_accuracy: 0.6640\n",
      "Epoch 32/50\n",
      "313/313 [==============================] - 4s 14ms/step - loss: 0.0883 - accuracy: 0.9864 - val_loss: 1.3922 - val_accuracy: 0.6512\n",
      "Epoch 33/50\n",
      "313/313 [==============================] - 4s 13ms/step - loss: 0.0775 - accuracy: 0.9897 - val_loss: 1.6026 - val_accuracy: 0.6394\n",
      "Epoch 34/50\n",
      "313/313 [==============================] - 4s 14ms/step - loss: 0.0664 - accuracy: 0.9920 - val_loss: 1.6148 - val_accuracy: 0.6250\n",
      "Epoch 35/50\n",
      "313/313 [==============================] - 4s 14ms/step - loss: 0.0587 - accuracy: 0.9931 - val_loss: 1.5632 - val_accuracy: 0.6338\n",
      "Epoch 36/50\n",
      "313/313 [==============================] - 4s 13ms/step - loss: 0.0511 - accuracy: 0.9942 - val_loss: 1.7572 - val_accuracy: 0.6107\n",
      "Epoch 37/50\n",
      "313/313 [==============================] - 4s 13ms/step - loss: 0.0446 - accuracy: 0.9955 - val_loss: 1.5233 - val_accuracy: 0.6634\n",
      "Epoch 38/50\n",
      "313/313 [==============================] - 4s 14ms/step - loss: 0.0385 - accuracy: 0.9962 - val_loss: 1.5616 - val_accuracy: 0.6571\n",
      "Epoch 39/50\n",
      "313/313 [==============================] - 4s 14ms/step - loss: 0.0338 - accuracy: 0.9970 - val_loss: 1.4839 - val_accuracy: 0.6614\n",
      "Epoch 40/50\n",
      "313/313 [==============================] - 4s 13ms/step - loss: 0.0294 - accuracy: 0.9973 - val_loss: 1.7429 - val_accuracy: 0.6444\n",
      "Epoch 41/50\n",
      "313/313 [==============================] - 4s 14ms/step - loss: 0.0265 - accuracy: 0.9979 - val_loss: 1.6659 - val_accuracy: 0.6329\n",
      "Epoch 42/50\n",
      "313/313 [==============================] - 4s 13ms/step - loss: 0.0239 - accuracy: 0.9973 - val_loss: 1.6578 - val_accuracy: 0.6476\n",
      "Epoch 43/50\n",
      "313/313 [==============================] - 4s 13ms/step - loss: 0.0198 - accuracy: 0.9985 - val_loss: 1.6445 - val_accuracy: 0.6384\n",
      "Epoch 44/50\n",
      "313/313 [==============================] - 4s 13ms/step - loss: 0.0190 - accuracy: 0.9983 - val_loss: 1.7723 - val_accuracy: 0.6465\n",
      "Epoch 45/50\n",
      "313/313 [==============================] - 4s 14ms/step - loss: 0.0170 - accuracy: 0.9988 - val_loss: 1.7017 - val_accuracy: 0.6541\n",
      "Epoch 46/50\n",
      "313/313 [==============================] - 4s 13ms/step - loss: 0.0157 - accuracy: 0.9985 - val_loss: 1.7264 - val_accuracy: 0.6540\n",
      "Epoch 47/50\n",
      "313/313 [==============================] - 4s 14ms/step - loss: 0.0142 - accuracy: 0.9987 - val_loss: 1.7642 - val_accuracy: 0.6582\n",
      "Epoch 48/50\n",
      "313/313 [==============================] - 4s 13ms/step - loss: 0.0133 - accuracy: 0.9988 - val_loss: 1.9368 - val_accuracy: 0.6290\n",
      "Epoch 49/50\n",
      "313/313 [==============================] - 4s 14ms/step - loss: 0.0122 - accuracy: 0.9989 - val_loss: 1.7458 - val_accuracy: 0.6634\n",
      "Epoch 50/50\n",
      "313/313 [==============================] - 4s 13ms/step - loss: 0.0113 - accuracy: 0.9989 - val_loss: 1.8867 - val_accuracy: 0.6421\n"
     ]
    }
   ],
   "source": [
    "# Train the model and store model parameters/loss values\n",
    "history_5 = model_5.fit(x_tr,y_tr,\n",
    "                    batch_size=128, epochs=50,\n",
    "                   validation_data=(x_val,y_val))"
   ]
  },
  {
   "cell_type": "code",
   "execution_count": 103,
   "metadata": {
    "colab": {
     "base_uri": "https://localhost:8080/",
     "height": 280
    },
    "id": "p8IBbFaS0UZ9",
    "outputId": "44e78cb5-dbde-4a7a-96b2-295eff33de7b"
   },
   "outputs": [
    {
     "data": {
      "image/png": "[encoded data removed]",
      "text/plain": [
       "<Figure size 432x288 with 1 Axes>"
      ]
     },
     "metadata": {
      "needs_background": "light"
     },
     "output_type": "display_data"
    }
   ],
   "source": [
    "# Plot the loss curve\n",
    "import matplotlib.pyplot as plt\n",
    "%matplotlib inline\n",
    "\n",
    "epochs = range(50)\n",
    "train_loss_5 = history_5.history['loss']\n",
    "val_loss_5 = history_5.history['val_loss']\n",
    "plt.plot(epochs,train_loss_5,'bo',label= 'Training Loss')\n",
    "plt.plot(epochs,val_loss_5,'r',label= 'Validation Loss')\n",
    "plt.xlabel('Epochs')\n",
    "plt.ylabel('Loss')\n",
    "plt.legend()\n",
    "plt.show()\n"
   ]
  },
  {
   "cell_type": "code",
   "execution_count": 104,
   "metadata": {
    "colab": {
     "base_uri": "https://localhost:8080/"
    },
    "id": "CZXXp2AV2oT3",
    "outputId": "3774cb43-9c62-490f-e15e-ff94ea41aeac"
   },
   "outputs": [
    {
     "name": "stdout",
     "output_type": "stream",
     "text": [
      "313/313 [==============================] - 1s 5ms/step - loss: 1.9132 - accuracy: 0.6365\n",
      "loss =  1.9131814241409302\n",
      "accuracy =  0.6365000009536743\n"
     ]
    }
   ],
   "source": [
    "# Evaluate your model performance (testing accuracy) on testing data.\n",
    "loss_and_acc = model_5.evaluate(x_test,y_test_vec)\n",
    "print('loss = ', str(loss_and_acc[0]))\n",
    "print('accuracy = ', str(loss_and_acc[1]))\n"
   ]
  },
  {
   "cell_type": "code",
   "execution_count": 51,
   "metadata": {
    "id": "BoPJdBRt0lRo"
   },
   "outputs": [],
   "source": [
    "# Build the model\n",
    "model_6 = keras.models.Sequential([\n",
    "    keras.layers.Conv2D(32,3, activation='relu',input_shape=[32,32,3]),\n",
    "    keras.layers.BatchNormalization(),\n",
    "    keras.layers.MaxPool2D(2),\n",
    "    keras.layers.Conv2D(64,4,activation='relu'),\n",
    "    keras.layers.MaxPool2D(2),\n",
    "    keras.layers.Flatten(),\n",
    "    keras.layers.Dense(256,activation='relu'),\n",
    "    keras.layers.BatchNormalization(),\n",
    "    keras.layers.Dense(10,activation='softmax')\n",
    "])"
   ]
  },
  {
   "cell_type": "code",
   "execution_count": 52,
   "metadata": {
    "id": "_cgKMPfC1AE5"
   },
   "outputs": [],
   "source": [
    "model_6.compile(optimizers.rmsprop_v2.RMSprop(learning_rate=0.0001),\n",
    "              loss='categorical_crossentropy',\n",
    "              metrics=['accuracy'])"
   ]
  },
  {
   "cell_type": "code",
   "execution_count": 53,
   "metadata": {
    "colab": {
     "base_uri": "https://localhost:8080/"
    },
    "id": "spPANxNH1Gml",
    "outputId": "6fb69bdc-e55c-4361-a1a5-037f8753b815"
   },
   "outputs": [
    {
     "name": "stdout",
     "output_type": "stream",
     "text": [
      "Epoch 1/50\n",
      "313/313 [==============================] - 6s 16ms/step - loss: 1.7133 - accuracy: 0.4173 - val_loss: 1.4713 - val_accuracy: 0.4981\n",
      "Epoch 2/50\n",
      "313/313 [==============================] - 5s 15ms/step - loss: 1.2689 - accuracy: 0.5610 - val_loss: 1.2833 - val_accuracy: 0.5603\n",
      "Epoch 3/50\n",
      "313/313 [==============================] - 5s 15ms/step - loss: 1.1047 - accuracy: 0.6209 - val_loss: 1.1813 - val_accuracy: 0.5980\n",
      "Epoch 4/50\n",
      "313/313 [==============================] - 5s 16ms/step - loss: 0.9850 - accuracy: 0.6579 - val_loss: 1.1372 - val_accuracy: 0.6163\n",
      "Epoch 5/50\n",
      "313/313 [==============================] - 5s 14ms/step - loss: 0.8956 - accuracy: 0.6909 - val_loss: 1.0971 - val_accuracy: 0.6283\n",
      "Epoch 6/50\n",
      "313/313 [==============================] - 5s 15ms/step - loss: 0.8173 - accuracy: 0.7238 - val_loss: 1.0711 - val_accuracy: 0.6370\n",
      "Epoch 7/50\n",
      "313/313 [==============================] - 4s 14ms/step - loss: 0.7486 - accuracy: 0.7451 - val_loss: 1.0739 - val_accuracy: 0.6440\n",
      "Epoch 8/50\n",
      "313/313 [==============================] - 4s 14ms/step - loss: 0.6873 - accuracy: 0.7702 - val_loss: 1.0276 - val_accuracy: 0.6517\n",
      "Epoch 9/50\n",
      "313/313 [==============================] - 5s 15ms/step - loss: 0.6278 - accuracy: 0.7923 - val_loss: 1.0453 - val_accuracy: 0.6520\n",
      "Epoch 10/50\n",
      "313/313 [==============================] - 5s 15ms/step - loss: 0.5779 - accuracy: 0.8124 - val_loss: 1.1020 - val_accuracy: 0.6371\n",
      "Epoch 11/50\n",
      "313/313 [==============================] - 5s 15ms/step - loss: 0.5249 - accuracy: 0.8320 - val_loss: 1.0341 - val_accuracy: 0.6602\n",
      "Epoch 12/50\n",
      "313/313 [==============================] - 4s 14ms/step - loss: 0.4795 - accuracy: 0.8510 - val_loss: 1.0256 - val_accuracy: 0.6670\n",
      "Epoch 13/50\n",
      "313/313 [==============================] - 4s 14ms/step - loss: 0.4355 - accuracy: 0.8684 - val_loss: 1.0417 - val_accuracy: 0.6619\n",
      "Epoch 14/50\n",
      "313/313 [==============================] - 4s 14ms/step - loss: 0.3941 - accuracy: 0.8809 - val_loss: 1.0457 - val_accuracy: 0.6675\n",
      "Epoch 15/50\n",
      "313/313 [==============================] - 5s 14ms/step - loss: 0.3521 - accuracy: 0.9000 - val_loss: 1.0544 - val_accuracy: 0.6648\n",
      "Epoch 16/50\n",
      "313/313 [==============================] - 5s 16ms/step - loss: 0.3148 - accuracy: 0.9158 - val_loss: 1.0801 - val_accuracy: 0.6705\n",
      "Epoch 17/50\n",
      "313/313 [==============================] - 5s 15ms/step - loss: 0.2774 - accuracy: 0.9268 - val_loss: 1.0890 - val_accuracy: 0.6655\n",
      "Epoch 18/50\n",
      "313/313 [==============================] - 5s 15ms/step - loss: 0.2443 - accuracy: 0.9394 - val_loss: 1.1243 - val_accuracy: 0.6619\n",
      "Epoch 19/50\n",
      "313/313 [==============================] - 5s 15ms/step - loss: 0.2159 - accuracy: 0.9497 - val_loss: 1.1498 - val_accuracy: 0.6670\n",
      "Epoch 20/50\n",
      "313/313 [==============================] - 5s 15ms/step - loss: 0.1871 - accuracy: 0.9598 - val_loss: 1.1626 - val_accuracy: 0.6670\n",
      "Epoch 21/50\n",
      "313/313 [==============================] - 5s 14ms/step - loss: 0.1611 - accuracy: 0.9669 - val_loss: 1.3064 - val_accuracy: 0.6371\n",
      "Epoch 22/50\n",
      "313/313 [==============================] - 5s 15ms/step - loss: 0.1379 - accuracy: 0.9749 - val_loss: 1.2100 - val_accuracy: 0.6624\n",
      "Epoch 23/50\n",
      "313/313 [==============================] - 4s 14ms/step - loss: 0.1188 - accuracy: 0.9801 - val_loss: 1.2763 - val_accuracy: 0.6528\n",
      "Epoch 24/50\n",
      "313/313 [==============================] - 5s 15ms/step - loss: 0.1026 - accuracy: 0.9840 - val_loss: 1.3148 - val_accuracy: 0.6531\n",
      "Epoch 25/50\n",
      "313/313 [==============================] - 4s 14ms/step - loss: 0.0850 - accuracy: 0.9888 - val_loss: 1.2810 - val_accuracy: 0.6585\n",
      "Epoch 26/50\n",
      "313/313 [==============================] - 5s 15ms/step - loss: 0.0716 - accuracy: 0.9920 - val_loss: 1.3330 - val_accuracy: 0.6665\n",
      "Epoch 27/50\n",
      "313/313 [==============================] - 5s 15ms/step - loss: 0.0610 - accuracy: 0.9937 - val_loss: 1.4068 - val_accuracy: 0.6522\n",
      "Epoch 28/50\n",
      "313/313 [==============================] - 5s 14ms/step - loss: 0.0517 - accuracy: 0.9953 - val_loss: 1.4202 - val_accuracy: 0.6575\n",
      "Epoch 29/50\n",
      "313/313 [==============================] - 5s 15ms/step - loss: 0.0433 - accuracy: 0.9965 - val_loss: 1.3960 - val_accuracy: 0.6587\n",
      "Epoch 30/50\n",
      "313/313 [==============================] - 4s 14ms/step - loss: 0.0384 - accuracy: 0.9968 - val_loss: 1.4819 - val_accuracy: 0.6551\n",
      "Epoch 31/50\n",
      "313/313 [==============================] - 4s 14ms/step - loss: 0.0326 - accuracy: 0.9977 - val_loss: 1.4480 - val_accuracy: 0.6691\n",
      "Epoch 32/50\n",
      "313/313 [==============================] - 5s 14ms/step - loss: 0.0280 - accuracy: 0.9980 - val_loss: 1.5034 - val_accuracy: 0.6613\n",
      "Epoch 33/50\n",
      "313/313 [==============================] - 5s 14ms/step - loss: 0.0245 - accuracy: 0.9980 - val_loss: 1.4972 - val_accuracy: 0.6645\n",
      "Epoch 34/50\n",
      "313/313 [==============================] - 4s 14ms/step - loss: 0.0217 - accuracy: 0.9984 - val_loss: 1.6749 - val_accuracy: 0.6479\n",
      "Epoch 35/50\n",
      "313/313 [==============================] - 4s 14ms/step - loss: 0.0190 - accuracy: 0.9982 - val_loss: 1.5287 - val_accuracy: 0.6662\n",
      "Epoch 36/50\n",
      "313/313 [==============================] - 5s 15ms/step - loss: 0.0167 - accuracy: 0.9989 - val_loss: 1.6069 - val_accuracy: 0.6611\n",
      "Epoch 37/50\n",
      "313/313 [==============================] - 5s 15ms/step - loss: 0.0147 - accuracy: 0.9988 - val_loss: 1.6551 - val_accuracy: 0.6520\n",
      "Epoch 38/50\n",
      "313/313 [==============================] - 5s 14ms/step - loss: 0.0130 - accuracy: 0.9993 - val_loss: 1.6569 - val_accuracy: 0.6553\n",
      "Epoch 39/50\n",
      "313/313 [==============================] - 5s 15ms/step - loss: 0.0121 - accuracy: 0.9989 - val_loss: 1.6680 - val_accuracy: 0.6553\n",
      "Epoch 40/50\n",
      "313/313 [==============================] - 5s 14ms/step - loss: 0.0110 - accuracy: 0.9991 - val_loss: 1.8248 - val_accuracy: 0.6500\n",
      "Epoch 41/50\n",
      "313/313 [==============================] - 5s 15ms/step - loss: 0.0104 - accuracy: 0.9990 - val_loss: 1.7319 - val_accuracy: 0.6653\n",
      "Epoch 42/50\n",
      "313/313 [==============================] - 5s 15ms/step - loss: 0.0094 - accuracy: 0.9992 - val_loss: 1.8124 - val_accuracy: 0.6504\n",
      "Epoch 43/50\n",
      "313/313 [==============================] - 5s 15ms/step - loss: 0.0085 - accuracy: 0.9994 - val_loss: 1.7117 - val_accuracy: 0.6675\n",
      "Epoch 44/50\n",
      "313/313 [==============================] - 5s 15ms/step - loss: 0.0083 - accuracy: 0.9991 - val_loss: 1.7999 - val_accuracy: 0.6577\n",
      "Epoch 45/50\n",
      "313/313 [==============================] - 4s 14ms/step - loss: 0.0079 - accuracy: 0.9991 - val_loss: 1.8075 - val_accuracy: 0.6678\n",
      "Epoch 46/50\n",
      "313/313 [==============================] - 5s 15ms/step - loss: 0.0074 - accuracy: 0.9993 - val_loss: 1.8024 - val_accuracy: 0.6653\n",
      "Epoch 47/50\n",
      "313/313 [==============================] - 5s 15ms/step - loss: 0.0061 - accuracy: 0.9995 - val_loss: 1.8742 - val_accuracy: 0.6539\n",
      "Epoch 48/50\n",
      "313/313 [==============================] - 5s 15ms/step - loss: 0.0059 - accuracy: 0.9996 - val_loss: 2.0066 - val_accuracy: 0.6438\n",
      "Epoch 49/50\n",
      "313/313 [==============================] - 4s 14ms/step - loss: 0.0060 - accuracy: 0.9993 - val_loss: 1.9204 - val_accuracy: 0.6536\n",
      "Epoch 50/50\n",
      "313/313 [==============================] - 5s 14ms/step - loss: 0.0050 - accuracy: 0.9996 - val_loss: 2.0281 - val_accuracy: 0.6610\n"
     ]
    }
   ],
   "source": [
    "# Train the model and store model parameters/loss values\n",
    "history_6 = model_6.fit(x_tr,y_tr,\n",
    "                    batch_size=128, epochs=50,\n",
    "                   validation_data=(x_val,y_val))"
   ]
  },
  {
   "cell_type": "code",
   "execution_count": 54,
   "metadata": {
    "colab": {
     "base_uri": "https://localhost:8080/",
     "height": 279
    },
    "id": "Gn7gx0C92Gu2",
    "outputId": "7489d81a-2347-4a7c-b2c0-eac69f763926"
   },
   "outputs": [
    {
     "data": {
      "image/png": "[encoded data removed]",
      "text/plain": [
       "<Figure size 432x288 with 1 Axes>"
      ]
     },
     "metadata": {
      "needs_background": "light"
     },
     "output_type": "display_data"
    }
   ],
   "source": [
    "# Plot the loss curve\n",
    "import matplotlib.pyplot as plt\n",
    "%matplotlib inline\n",
    "\n",
    "epochs = range(50)\n",
    "train_loss_6 = history_6.history['loss']\n",
    "val_loss_6 = history_6.history['val_loss']\n",
    "plt.plot(epochs,train_loss_6,'bo',label= 'Training Loss')\n",
    "plt.plot(epochs,val_loss_6,'r',label= 'Validation Loss')\n",
    "plt.xlabel('Epochs')\n",
    "plt.ylabel('Loss')\n",
    "plt.legend()\n",
    "plt.show()\n"
   ]
  },
  {
   "cell_type": "code",
   "execution_count": 55,
   "metadata": {
    "colab": {
     "base_uri": "https://localhost:8080/"
    },
    "id": "YWTYGoCP2ZQI",
    "outputId": "692dc235-c20f-4eff-8348-23e8499492f3"
   },
   "outputs": [
    {
     "name": "stdout",
     "output_type": "stream",
     "text": [
      "313/313 [==============================] - 2s 5ms/step - loss: 2.1017 - accuracy: 0.6524\n",
      "loss =  2.1017415523529053\n",
      "accuracy =  0.652400016784668\n"
     ]
    }
   ],
   "source": [
    "# Evaluate your model performance (testing accuracy) on testing data.\n",
    "loss_and_acc = model_6.evaluate(x_test,y_test_vec)\n",
    "print('loss = ', str(loss_and_acc[0]))\n",
    "print('accuracy = ', str(loss_and_acc[1]))\n"
   ]
  },
  {
   "cell_type": "code",
   "execution_count": 59,
   "metadata": {
    "id": "lZYf3zCR3L02"
   },
   "outputs": [],
   "source": [
    "# Build the model\n",
    "model_7 = keras.models.Sequential([\n",
    "    keras.layers.Conv2D(32,3, activation='relu',input_shape=[32,32,3]),\n",
    "    keras.layers.BatchNormalization(),\n",
    "    keras.layers.MaxPool2D(2),\n",
    "    keras.layers.Conv2D(64,4,activation='relu'),\n",
    "    keras.layers.MaxPool2D(2),\n",
    "    keras.layers.Flatten(),\n",
    "    keras.layers.Dense(256,activation='relu'),\n",
    "    keras.layers.BatchNormalization(),\n",
    "    keras.layers.Dropout(0.5),\n",
    "    keras.layers.Dense(10,activation='softmax')\n",
    "])"
   ]
  },
  {
   "cell_type": "code",
   "execution_count": 60,
   "metadata": {
    "id": "vYIDcAvw3nuQ"
   },
   "outputs": [],
   "source": [
    "model_7.compile(optimizers.rmsprop_v2.RMSprop(learning_rate=0.0001),\n",
    "              loss='categorical_crossentropy',\n",
    "              metrics=['accuracy'])"
   ]
  },
  {
   "cell_type": "code",
   "execution_count": 61,
   "metadata": {
    "colab": {
     "base_uri": "https://localhost:8080/"
    },
    "id": "SzyuaVUG3sTQ",
    "outputId": "561ecc77-c08f-4517-cd22-6d44db84f8c9"
   },
   "outputs": [
    {
     "name": "stdout",
     "output_type": "stream",
     "text": [
      "Epoch 1/50\n",
      "313/313 [==============================] - 6s 16ms/step - loss: 2.2154 - accuracy: 0.3079 - val_loss: 1.6171 - val_accuracy: 0.4541\n",
      "Epoch 2/50\n",
      "313/313 [==============================] - 4s 14ms/step - loss: 1.7326 - accuracy: 0.4267 - val_loss: 1.4303 - val_accuracy: 0.5167\n",
      "Epoch 3/50\n",
      "313/313 [==============================] - 4s 14ms/step - loss: 1.5268 - accuracy: 0.4851 - val_loss: 1.3635 - val_accuracy: 0.5293\n",
      "Epoch 4/50\n",
      "313/313 [==============================] - 4s 14ms/step - loss: 1.3888 - accuracy: 0.5243 - val_loss: 1.2217 - val_accuracy: 0.5803\n",
      "Epoch 5/50\n",
      "313/313 [==============================] - 4s 14ms/step - loss: 1.2709 - accuracy: 0.5635 - val_loss: 1.1924 - val_accuracy: 0.5850\n",
      "Epoch 6/50\n",
      "313/313 [==============================] - 4s 14ms/step - loss: 1.1857 - accuracy: 0.5912 - val_loss: 1.1103 - val_accuracy: 0.6186\n",
      "Epoch 7/50\n",
      "313/313 [==============================] - 5s 15ms/step - loss: 1.1180 - accuracy: 0.6132 - val_loss: 1.0919 - val_accuracy: 0.6234\n",
      "Epoch 8/50\n",
      "313/313 [==============================] - 4s 14ms/step - loss: 1.0471 - accuracy: 0.6347 - val_loss: 1.0949 - val_accuracy: 0.6234\n",
      "Epoch 9/50\n",
      "313/313 [==============================] - 5s 15ms/step - loss: 0.9980 - accuracy: 0.6504 - val_loss: 1.0327 - val_accuracy: 0.6425\n",
      "Epoch 10/50\n",
      "313/313 [==============================] - 5s 15ms/step - loss: 0.9568 - accuracy: 0.6675 - val_loss: 1.0249 - val_accuracy: 0.6446\n",
      "Epoch 11/50\n",
      "313/313 [==============================] - 5s 15ms/step - loss: 0.9115 - accuracy: 0.6827 - val_loss: 0.9938 - val_accuracy: 0.6594\n",
      "Epoch 12/50\n",
      "313/313 [==============================] - 5s 16ms/step - loss: 0.8747 - accuracy: 0.6933 - val_loss: 0.9824 - val_accuracy: 0.6645\n",
      "Epoch 13/50\n",
      "313/313 [==============================] - 5s 15ms/step - loss: 0.8434 - accuracy: 0.7040 - val_loss: 0.9593 - val_accuracy: 0.6726\n",
      "Epoch 14/50\n",
      "313/313 [==============================] - 5s 15ms/step - loss: 0.8122 - accuracy: 0.7146 - val_loss: 0.9660 - val_accuracy: 0.6681\n",
      "Epoch 15/50\n",
      "313/313 [==============================] - 5s 15ms/step - loss: 0.7777 - accuracy: 0.7284 - val_loss: 0.9345 - val_accuracy: 0.6814\n",
      "Epoch 16/50\n",
      "313/313 [==============================] - 4s 14ms/step - loss: 0.7517 - accuracy: 0.7401 - val_loss: 0.9402 - val_accuracy: 0.6798\n",
      "Epoch 17/50\n",
      "313/313 [==============================] - 4s 14ms/step - loss: 0.7288 - accuracy: 0.7456 - val_loss: 0.9242 - val_accuracy: 0.6804\n",
      "Epoch 18/50\n",
      "313/313 [==============================] - 4s 14ms/step - loss: 0.6994 - accuracy: 0.7550 - val_loss: 0.9241 - val_accuracy: 0.6845\n",
      "Epoch 19/50\n",
      "313/313 [==============================] - 5s 14ms/step - loss: 0.6727 - accuracy: 0.7679 - val_loss: 1.0060 - val_accuracy: 0.6636\n",
      "Epoch 20/50\n",
      "313/313 [==============================] - 5s 15ms/step - loss: 0.6545 - accuracy: 0.7721 - val_loss: 0.9131 - val_accuracy: 0.6908\n",
      "Epoch 21/50\n",
      "313/313 [==============================] - 4s 14ms/step - loss: 0.6345 - accuracy: 0.7814 - val_loss: 0.9111 - val_accuracy: 0.6930\n",
      "Epoch 22/50\n",
      "313/313 [==============================] - 4s 14ms/step - loss: 0.6098 - accuracy: 0.7880 - val_loss: 0.9246 - val_accuracy: 0.6917\n",
      "Epoch 23/50\n",
      "313/313 [==============================] - 5s 15ms/step - loss: 0.5886 - accuracy: 0.7987 - val_loss: 0.9290 - val_accuracy: 0.6879\n",
      "Epoch 24/50\n",
      "313/313 [==============================] - 5s 15ms/step - loss: 0.5717 - accuracy: 0.8026 - val_loss: 0.9111 - val_accuracy: 0.6961\n",
      "Epoch 25/50\n",
      "313/313 [==============================] - 4s 14ms/step - loss: 0.5542 - accuracy: 0.8105 - val_loss: 0.9388 - val_accuracy: 0.6903\n",
      "Epoch 26/50\n",
      "313/313 [==============================] - 5s 14ms/step - loss: 0.5368 - accuracy: 0.8167 - val_loss: 0.9379 - val_accuracy: 0.6938\n",
      "Epoch 27/50\n",
      "313/313 [==============================] - 5s 14ms/step - loss: 0.5164 - accuracy: 0.8219 - val_loss: 0.9339 - val_accuracy: 0.6919\n",
      "Epoch 28/50\n",
      "313/313 [==============================] - 4s 14ms/step - loss: 0.4990 - accuracy: 0.8277 - val_loss: 0.9450 - val_accuracy: 0.6900\n",
      "Epoch 29/50\n",
      "313/313 [==============================] - 4s 14ms/step - loss: 0.4806 - accuracy: 0.8360 - val_loss: 0.9291 - val_accuracy: 0.6951\n",
      "Epoch 30/50\n",
      "313/313 [==============================] - 5s 15ms/step - loss: 0.4688 - accuracy: 0.8392 - val_loss: 0.9301 - val_accuracy: 0.6982\n",
      "Epoch 31/50\n",
      "313/313 [==============================] - 5s 15ms/step - loss: 0.4521 - accuracy: 0.8441 - val_loss: 0.9375 - val_accuracy: 0.6944\n",
      "Epoch 32/50\n",
      "313/313 [==============================] - 4s 14ms/step - loss: 0.4385 - accuracy: 0.8486 - val_loss: 0.9981 - val_accuracy: 0.6839\n",
      "Epoch 33/50\n",
      "313/313 [==============================] - 4s 14ms/step - loss: 0.4313 - accuracy: 0.8515 - val_loss: 0.9870 - val_accuracy: 0.6883\n",
      "Epoch 34/50\n",
      "313/313 [==============================] - 5s 15ms/step - loss: 0.4078 - accuracy: 0.8599 - val_loss: 0.9515 - val_accuracy: 0.6979\n",
      "Epoch 35/50\n",
      "313/313 [==============================] - 5s 15ms/step - loss: 0.3996 - accuracy: 0.8623 - val_loss: 0.9912 - val_accuracy: 0.6854\n",
      "Epoch 36/50\n",
      "313/313 [==============================] - 5s 15ms/step - loss: 0.3813 - accuracy: 0.8702 - val_loss: 0.9874 - val_accuracy: 0.6936\n",
      "Epoch 37/50\n",
      "313/313 [==============================] - 5s 15ms/step - loss: 0.3685 - accuracy: 0.8736 - val_loss: 1.0982 - val_accuracy: 0.6722\n",
      "Epoch 38/50\n",
      "313/313 [==============================] - 5s 16ms/step - loss: 0.3597 - accuracy: 0.8759 - val_loss: 1.0475 - val_accuracy: 0.6763\n",
      "Epoch 39/50\n",
      "313/313 [==============================] - 5s 15ms/step - loss: 0.3494 - accuracy: 0.8818 - val_loss: 1.0134 - val_accuracy: 0.6943\n",
      "Epoch 40/50\n",
      "313/313 [==============================] - 5s 15ms/step - loss: 0.3340 - accuracy: 0.8850 - val_loss: 1.0225 - val_accuracy: 0.6939\n",
      "Epoch 41/50\n",
      "313/313 [==============================] - 5s 15ms/step - loss: 0.3240 - accuracy: 0.8886 - val_loss: 0.9999 - val_accuracy: 0.6924\n",
      "Epoch 42/50\n",
      "313/313 [==============================] - 5s 15ms/step - loss: 0.3162 - accuracy: 0.8919 - val_loss: 1.0197 - val_accuracy: 0.6931\n",
      "Epoch 43/50\n",
      "313/313 [==============================] - 5s 15ms/step - loss: 0.3021 - accuracy: 0.8971 - val_loss: 1.1972 - val_accuracy: 0.6668\n",
      "Epoch 44/50\n",
      "313/313 [==============================] - 5s 15ms/step - loss: 0.2925 - accuracy: 0.9015 - val_loss: 1.0764 - val_accuracy: 0.6825\n",
      "Epoch 45/50\n",
      "313/313 [==============================] - 5s 15ms/step - loss: 0.2899 - accuracy: 0.9009 - val_loss: 1.0654 - val_accuracy: 0.6919\n",
      "Epoch 46/50\n",
      "313/313 [==============================] - 5s 14ms/step - loss: 0.2778 - accuracy: 0.9066 - val_loss: 1.0810 - val_accuracy: 0.6916\n",
      "Epoch 47/50\n",
      "313/313 [==============================] - 5s 15ms/step - loss: 0.2657 - accuracy: 0.9100 - val_loss: 1.1363 - val_accuracy: 0.6800\n",
      "Epoch 48/50\n",
      "313/313 [==============================] - 4s 14ms/step - loss: 0.2607 - accuracy: 0.9105 - val_loss: 1.1273 - val_accuracy: 0.6804\n",
      "Epoch 49/50\n",
      "313/313 [==============================] - 4s 14ms/step - loss: 0.2490 - accuracy: 0.9151 - val_loss: 1.1343 - val_accuracy: 0.6818\n",
      "Epoch 50/50\n",
      "313/313 [==============================] - 5s 15ms/step - loss: 0.2468 - accuracy: 0.9170 - val_loss: 1.1378 - val_accuracy: 0.6886\n"
     ]
    }
   ],
   "source": [
    "# Train the model and store model parameters/loss values\n",
    "history_7 = model_7.fit(x_tr,y_tr,\n",
    "                    batch_size=128, epochs=50,\n",
    "                   validation_data=(x_val,y_val))"
   ]
  },
  {
   "cell_type": "code",
   "execution_count": 62,
   "metadata": {
    "colab": {
     "base_uri": "https://localhost:8080/",
     "height": 279
    },
    "id": "y5gr-Uvt33Jx",
    "outputId": "fae91d1c-53a9-44b9-f712-501123cd7441"
   },
   "outputs": [
    {
     "data": {
      "image/png": "[encoded data removed]",
      "text/plain": [
       "<Figure size 432x288 with 1 Axes>"
      ]
     },
     "metadata": {
      "needs_background": "light"
     },
     "output_type": "display_data"
    }
   ],
   "source": [
    "# Plot the loss curve\n",
    "import matplotlib.pyplot as plt\n",
    "%matplotlib inline\n",
    "\n",
    "epochs = range(50)\n",
    "train_loss_7 = history_7.history['loss']\n",
    "val_loss_7 = history_7.history['val_loss']\n",
    "plt.plot(epochs,train_loss_7,'bo',label= 'Training Loss')\n",
    "plt.plot(epochs,val_loss_7,'r',label= 'Validation Loss')\n",
    "plt.xlabel('Epochs')\n",
    "plt.ylabel('Loss')\n",
    "plt.legend()\n",
    "plt.show()\n"
   ]
  },
  {
   "cell_type": "code",
   "execution_count": 63,
   "metadata": {
    "colab": {
     "base_uri": "https://localhost:8080/"
    },
    "id": "2U8COXnq4B99",
    "outputId": "e9da8b9c-12f8-4c19-82c2-eb83bd226000"
   },
   "outputs": [
    {
     "name": "stdout",
     "output_type": "stream",
     "text": [
      "313/313 [==============================] - 1s 5ms/step - loss: 1.1513 - accuracy: 0.6815\n",
      "loss =  1.1513078212738037\n",
      "accuracy =  0.6815000176429749\n"
     ]
    }
   ],
   "source": [
    "# Evaluate your model performance (testing accuracy) on testing data.\n",
    "loss_and_acc = model_7.evaluate(x_test,y_test_vec)\n",
    "print('loss = ', str(loss_and_acc[0]))\n",
    "print('accuracy = ', str(loss_and_acc[1]))"
   ]
  },
  {
   "cell_type": "code",
   "execution_count": 74,
   "metadata": {
    "id": "NyaVBRQ95YVy"
   },
   "outputs": [],
   "source": [
    "# Build the model\n",
    "model_8 = keras.models.Sequential([\n",
    "    keras.layers.Conv2D(32,3, activation='relu',input_shape=[32,32,3]),\n",
    "    keras.layers.BatchNormalization(),\n",
    "    keras.layers.MaxPool2D(2),\n",
    "    keras.layers.Dropout(0.5),\n",
    "    keras.layers.Conv2D(64,4,activation='relu'),\n",
    "    keras.layers.MaxPool2D(2),\n",
    "    keras.layers.Flatten(),\n",
    "    keras.layers.Dense(256,activation='relu'),\n",
    "    keras.layers.BatchNormalization(),\n",
    "    keras.layers.Dropout(0.5),\n",
    "    keras.layers.Dense(10,activation='softmax')\n",
    "])"
   ]
  },
  {
   "cell_type": "code",
   "execution_count": 75,
   "metadata": {
    "id": "kU30XC3I5mHl"
   },
   "outputs": [],
   "source": [
    "model_8.compile(optimizers.rmsprop_v2.RMSprop(learning_rate=0.0001),\n",
    "              loss='categorical_crossentropy',\n",
    "              metrics=['accuracy'])"
   ]
  },
  {
   "cell_type": "code",
   "execution_count": 76,
   "metadata": {
    "colab": {
     "base_uri": "https://localhost:8080/"
    },
    "id": "yGDeISls5tA4",
    "outputId": "98343454-4d7f-4fa6-bacd-614e2c980e6f"
   },
   "outputs": [
    {
     "name": "stdout",
     "output_type": "stream",
     "text": [
      "Epoch 1/150\n",
      "313/313 [==============================] - 6s 17ms/step - loss: 2.3381 - accuracy: 0.2855 - val_loss: 1.6494 - val_accuracy: 0.4173\n",
      "Epoch 2/150\n",
      "313/313 [==============================] - 5s 15ms/step - loss: 1.8814 - accuracy: 0.3875 - val_loss: 1.4900 - val_accuracy: 0.4850\n",
      "Epoch 3/150\n",
      "313/313 [==============================] - 5s 15ms/step - loss: 1.6928 - accuracy: 0.4358 - val_loss: 1.4459 - val_accuracy: 0.4973\n",
      "Epoch 4/150\n",
      "313/313 [==============================] - 5s 15ms/step - loss: 1.5803 - accuracy: 0.4694 - val_loss: 1.3621 - val_accuracy: 0.5238\n",
      "Epoch 5/150\n",
      "313/313 [==============================] - 5s 15ms/step - loss: 1.4946 - accuracy: 0.4974 - val_loss: 1.2966 - val_accuracy: 0.5471\n",
      "Epoch 6/150\n",
      "313/313 [==============================] - 5s 15ms/step - loss: 1.4326 - accuracy: 0.5144 - val_loss: 1.2306 - val_accuracy: 0.5677\n",
      "Epoch 7/150\n",
      "313/313 [==============================] - 4s 14ms/step - loss: 1.3747 - accuracy: 0.5298 - val_loss: 1.2273 - val_accuracy: 0.5711\n",
      "Epoch 8/150\n",
      "313/313 [==============================] - 5s 15ms/step - loss: 1.3249 - accuracy: 0.5464 - val_loss: 1.1904 - val_accuracy: 0.5883\n",
      "Epoch 9/150\n",
      "313/313 [==============================] - 5s 15ms/step - loss: 1.2768 - accuracy: 0.5599 - val_loss: 1.1650 - val_accuracy: 0.5926\n",
      "Epoch 10/150\n",
      "313/313 [==============================] - 5s 14ms/step - loss: 1.2307 - accuracy: 0.5734 - val_loss: 1.1495 - val_accuracy: 0.6010\n",
      "Epoch 11/150\n",
      "313/313 [==============================] - 5s 15ms/step - loss: 1.1991 - accuracy: 0.5799 - val_loss: 1.0863 - val_accuracy: 0.6236\n",
      "Epoch 12/150\n",
      "313/313 [==============================] - 5s 15ms/step - loss: 1.1689 - accuracy: 0.5928 - val_loss: 1.0930 - val_accuracy: 0.6125\n",
      "Epoch 13/150\n",
      "313/313 [==============================] - 5s 14ms/step - loss: 1.1361 - accuracy: 0.6034 - val_loss: 1.0531 - val_accuracy: 0.6335\n",
      "Epoch 14/150\n",
      "313/313 [==============================] - 5s 16ms/step - loss: 1.1090 - accuracy: 0.6108 - val_loss: 1.0569 - val_accuracy: 0.6251\n",
      "Epoch 15/150\n",
      "313/313 [==============================] - 5s 15ms/step - loss: 1.0901 - accuracy: 0.6184 - val_loss: 1.0031 - val_accuracy: 0.6525\n",
      "Epoch 16/150\n",
      "313/313 [==============================] - 5s 15ms/step - loss: 1.0657 - accuracy: 0.6265 - val_loss: 1.0337 - val_accuracy: 0.6354\n",
      "Epoch 17/150\n",
      "313/313 [==============================] - 5s 15ms/step - loss: 1.0502 - accuracy: 0.6285 - val_loss: 1.0386 - val_accuracy: 0.6327\n",
      "Epoch 18/150\n",
      "313/313 [==============================] - 5s 15ms/step - loss: 1.0325 - accuracy: 0.6386 - val_loss: 0.9843 - val_accuracy: 0.6535\n",
      "Epoch 19/150\n",
      "313/313 [==============================] - 5s 15ms/step - loss: 1.0161 - accuracy: 0.6408 - val_loss: 1.0227 - val_accuracy: 0.6406\n",
      "Epoch 20/150\n",
      "313/313 [==============================] - 5s 15ms/step - loss: 0.9949 - accuracy: 0.6495 - val_loss: 0.9713 - val_accuracy: 0.6598\n",
      "Epoch 21/150\n",
      "313/313 [==============================] - 5s 16ms/step - loss: 0.9773 - accuracy: 0.6589 - val_loss: 0.9984 - val_accuracy: 0.6479\n",
      "Epoch 22/150\n",
      "313/313 [==============================] - 5s 15ms/step - loss: 0.9671 - accuracy: 0.6610 - val_loss: 0.9717 - val_accuracy: 0.6590\n",
      "Epoch 23/150\n",
      "313/313 [==============================] - 5s 15ms/step - loss: 0.9548 - accuracy: 0.6651 - val_loss: 0.9395 - val_accuracy: 0.6709\n",
      "Epoch 24/150\n",
      "313/313 [==============================] - 5s 15ms/step - loss: 0.9412 - accuracy: 0.6702 - val_loss: 0.9622 - val_accuracy: 0.6623\n",
      "Epoch 25/150\n",
      "313/313 [==============================] - 5s 15ms/step - loss: 0.9241 - accuracy: 0.6739 - val_loss: 0.9345 - val_accuracy: 0.6738\n",
      "Epoch 26/150\n",
      "313/313 [==============================] - 5s 15ms/step - loss: 0.9179 - accuracy: 0.6768 - val_loss: 0.9270 - val_accuracy: 0.6751\n",
      "Epoch 27/150\n",
      "313/313 [==============================] - 5s 15ms/step - loss: 0.9015 - accuracy: 0.6843 - val_loss: 0.8751 - val_accuracy: 0.6997\n",
      "Epoch 28/150\n",
      "313/313 [==============================] - 5s 15ms/step - loss: 0.8927 - accuracy: 0.6872 - val_loss: 0.9169 - val_accuracy: 0.6767\n",
      "Epoch 29/150\n",
      "313/313 [==============================] - 5s 16ms/step - loss: 0.8773 - accuracy: 0.6910 - val_loss: 0.8834 - val_accuracy: 0.6955\n",
      "Epoch 30/150\n",
      "313/313 [==============================] - 5s 15ms/step - loss: 0.8709 - accuracy: 0.6946 - val_loss: 0.8866 - val_accuracy: 0.6927\n",
      "Epoch 31/150\n",
      "313/313 [==============================] - 5s 15ms/step - loss: 0.8617 - accuracy: 0.6977 - val_loss: 0.8779 - val_accuracy: 0.6944\n",
      "Epoch 32/150\n",
      "313/313 [==============================] - 5s 15ms/step - loss: 0.8530 - accuracy: 0.7002 - val_loss: 0.8508 - val_accuracy: 0.7098\n",
      "Epoch 33/150\n",
      "313/313 [==============================] - 5s 16ms/step - loss: 0.8448 - accuracy: 0.7014 - val_loss: 0.8972 - val_accuracy: 0.6859\n",
      "Epoch 34/150\n",
      "313/313 [==============================] - 5s 15ms/step - loss: 0.8335 - accuracy: 0.7088 - val_loss: 0.9322 - val_accuracy: 0.6757\n",
      "Epoch 35/150\n",
      "313/313 [==============================] - 5s 15ms/step - loss: 0.8209 - accuracy: 0.7124 - val_loss: 0.8412 - val_accuracy: 0.7125\n",
      "Epoch 36/150\n",
      "313/313 [==============================] - 5s 15ms/step - loss: 0.8139 - accuracy: 0.7120 - val_loss: 0.8338 - val_accuracy: 0.7086\n",
      "Epoch 37/150\n",
      "313/313 [==============================] - 5s 15ms/step - loss: 0.8029 - accuracy: 0.7182 - val_loss: 0.8129 - val_accuracy: 0.7216\n",
      "Epoch 38/150\n",
      "313/313 [==============================] - 5s 15ms/step - loss: 0.8002 - accuracy: 0.7184 - val_loss: 0.8344 - val_accuracy: 0.7103\n",
      "Epoch 39/150\n",
      "313/313 [==============================] - 5s 15ms/step - loss: 0.7938 - accuracy: 0.7210 - val_loss: 0.8236 - val_accuracy: 0.7139\n",
      "Epoch 40/150\n",
      "313/313 [==============================] - 5s 15ms/step - loss: 0.7848 - accuracy: 0.7242 - val_loss: 0.8571 - val_accuracy: 0.7020\n",
      "Epoch 41/150\n",
      "313/313 [==============================] - 5s 16ms/step - loss: 0.7755 - accuracy: 0.7284 - val_loss: 0.8179 - val_accuracy: 0.7184\n",
      "Epoch 42/150\n",
      "313/313 [==============================] - 5s 16ms/step - loss: 0.7721 - accuracy: 0.7276 - val_loss: 0.8153 - val_accuracy: 0.7196\n",
      "Epoch 43/150\n",
      "313/313 [==============================] - 5s 14ms/step - loss: 0.7570 - accuracy: 0.7334 - val_loss: 0.8078 - val_accuracy: 0.7237\n",
      "Epoch 44/150\n",
      "313/313 [==============================] - 5s 15ms/step - loss: 0.7549 - accuracy: 0.7357 - val_loss: 0.8132 - val_accuracy: 0.7205\n",
      "Epoch 45/150\n",
      "313/313 [==============================] - 5s 16ms/step - loss: 0.7502 - accuracy: 0.7370 - val_loss: 0.8312 - val_accuracy: 0.7107\n",
      "Epoch 46/150\n",
      "313/313 [==============================] - 5s 15ms/step - loss: 0.7353 - accuracy: 0.7408 - val_loss: 0.7881 - val_accuracy: 0.7320\n",
      "Epoch 47/150\n",
      "313/313 [==============================] - 5s 15ms/step - loss: 0.7348 - accuracy: 0.7416 - val_loss: 0.8031 - val_accuracy: 0.7228\n",
      "Epoch 48/150\n",
      "313/313 [==============================] - 5s 15ms/step - loss: 0.7272 - accuracy: 0.7452 - val_loss: 0.8470 - val_accuracy: 0.7057\n",
      "Epoch 49/150\n",
      "313/313 [==============================] - 5s 15ms/step - loss: 0.7221 - accuracy: 0.7480 - val_loss: 0.8035 - val_accuracy: 0.7220\n",
      "Epoch 50/150\n",
      "313/313 [==============================] - 5s 15ms/step - loss: 0.7144 - accuracy: 0.7487 - val_loss: 0.8262 - val_accuracy: 0.7141\n",
      "Epoch 51/150\n",
      "313/313 [==============================] - 5s 15ms/step - loss: 0.7108 - accuracy: 0.7509 - val_loss: 0.8240 - val_accuracy: 0.7164\n",
      "Epoch 52/150\n",
      "313/313 [==============================] - 5s 16ms/step - loss: 0.7003 - accuracy: 0.7510 - val_loss: 0.7632 - val_accuracy: 0.7380\n",
      "Epoch 53/150\n",
      "313/313 [==============================] - 5s 16ms/step - loss: 0.7036 - accuracy: 0.7531 - val_loss: 0.7973 - val_accuracy: 0.7232\n",
      "Epoch 54/150\n",
      "313/313 [==============================] - 5s 16ms/step - loss: 0.6973 - accuracy: 0.7530 - val_loss: 0.7720 - val_accuracy: 0.7364\n",
      "Epoch 55/150\n",
      "313/313 [==============================] - 5s 16ms/step - loss: 0.6840 - accuracy: 0.7587 - val_loss: 0.7630 - val_accuracy: 0.7373\n",
      "Epoch 56/150\n",
      "313/313 [==============================] - 5s 15ms/step - loss: 0.6783 - accuracy: 0.7616 - val_loss: 0.7825 - val_accuracy: 0.7296\n",
      "Epoch 57/150\n",
      "313/313 [==============================] - 5s 16ms/step - loss: 0.6757 - accuracy: 0.7636 - val_loss: 0.8031 - val_accuracy: 0.7250\n",
      "Epoch 58/150\n",
      "313/313 [==============================] - 5s 16ms/step - loss: 0.6687 - accuracy: 0.7643 - val_loss: 0.7831 - val_accuracy: 0.7329\n",
      "Epoch 59/150\n",
      "313/313 [==============================] - 5s 16ms/step - loss: 0.6596 - accuracy: 0.7685 - val_loss: 0.8230 - val_accuracy: 0.7153\n",
      "Epoch 60/150\n",
      "313/313 [==============================] - 5s 15ms/step - loss: 0.6638 - accuracy: 0.7638 - val_loss: 0.7516 - val_accuracy: 0.7443\n",
      "Epoch 61/150\n",
      "313/313 [==============================] - 5s 14ms/step - loss: 0.6532 - accuracy: 0.7703 - val_loss: 0.7718 - val_accuracy: 0.7366\n",
      "Epoch 62/150\n",
      "313/313 [==============================] - 5s 15ms/step - loss: 0.6492 - accuracy: 0.7732 - val_loss: 0.8210 - val_accuracy: 0.7182\n",
      "Epoch 63/150\n",
      "313/313 [==============================] - 5s 15ms/step - loss: 0.6458 - accuracy: 0.7717 - val_loss: 0.7717 - val_accuracy: 0.7374\n",
      "Epoch 64/150\n",
      "313/313 [==============================] - 5s 15ms/step - loss: 0.6406 - accuracy: 0.7728 - val_loss: 0.7803 - val_accuracy: 0.7367\n",
      "Epoch 65/150\n",
      "313/313 [==============================] - 5s 16ms/step - loss: 0.6343 - accuracy: 0.7768 - val_loss: 0.7733 - val_accuracy: 0.7384\n",
      "Epoch 66/150\n",
      "313/313 [==============================] - 5s 15ms/step - loss: 0.6353 - accuracy: 0.7750 - val_loss: 0.7567 - val_accuracy: 0.7439\n",
      "Epoch 67/150\n",
      "313/313 [==============================] - 5s 15ms/step - loss: 0.6267 - accuracy: 0.7779 - val_loss: 0.7728 - val_accuracy: 0.7354\n",
      "Epoch 68/150\n",
      "313/313 [==============================] - 5s 15ms/step - loss: 0.6225 - accuracy: 0.7804 - val_loss: 0.7330 - val_accuracy: 0.7495\n",
      "Epoch 69/150\n",
      "313/313 [==============================] - 5s 15ms/step - loss: 0.6211 - accuracy: 0.7801 - val_loss: 0.7708 - val_accuracy: 0.7387\n",
      "Epoch 70/150\n",
      "313/313 [==============================] - 5s 15ms/step - loss: 0.6123 - accuracy: 0.7844 - val_loss: 0.7701 - val_accuracy: 0.7372\n",
      "Epoch 71/150\n",
      "313/313 [==============================] - 5s 15ms/step - loss: 0.6106 - accuracy: 0.7862 - val_loss: 0.7388 - val_accuracy: 0.7467\n",
      "Epoch 72/150\n",
      "313/313 [==============================] - 5s 15ms/step - loss: 0.6003 - accuracy: 0.7871 - val_loss: 0.7582 - val_accuracy: 0.7402\n",
      "Epoch 73/150\n",
      "313/313 [==============================] - 5s 15ms/step - loss: 0.6003 - accuracy: 0.7886 - val_loss: 0.7319 - val_accuracy: 0.7525\n",
      "Epoch 74/150\n",
      "313/313 [==============================] - 5s 14ms/step - loss: 0.5949 - accuracy: 0.7911 - val_loss: 0.7613 - val_accuracy: 0.7421\n",
      "Epoch 75/150\n",
      "313/313 [==============================] - 5s 15ms/step - loss: 0.5943 - accuracy: 0.7888 - val_loss: 0.7323 - val_accuracy: 0.7515\n",
      "Epoch 76/150\n",
      "313/313 [==============================] - 5s 16ms/step - loss: 0.5872 - accuracy: 0.7922 - val_loss: 0.7595 - val_accuracy: 0.7443\n",
      "Epoch 77/150\n",
      "313/313 [==============================] - 5s 16ms/step - loss: 0.5858 - accuracy: 0.7932 - val_loss: 0.7189 - val_accuracy: 0.7538\n",
      "Epoch 78/150\n",
      "313/313 [==============================] - 5s 15ms/step - loss: 0.5778 - accuracy: 0.7969 - val_loss: 0.7833 - val_accuracy: 0.7332\n",
      "Epoch 79/150\n",
      "313/313 [==============================] - 5s 15ms/step - loss: 0.5748 - accuracy: 0.7968 - val_loss: 0.7662 - val_accuracy: 0.7428\n",
      "Epoch 80/150\n",
      "313/313 [==============================] - 5s 16ms/step - loss: 0.5655 - accuracy: 0.8005 - val_loss: 0.7536 - val_accuracy: 0.7438\n",
      "Epoch 81/150\n",
      "313/313 [==============================] - 5s 15ms/step - loss: 0.5692 - accuracy: 0.7972 - val_loss: 0.7694 - val_accuracy: 0.7427\n",
      "Epoch 82/150\n",
      "313/313 [==============================] - 5s 15ms/step - loss: 0.5655 - accuracy: 0.7996 - val_loss: 0.7387 - val_accuracy: 0.7501\n",
      "Epoch 83/150\n",
      "313/313 [==============================] - 5s 15ms/step - loss: 0.5616 - accuracy: 0.7998 - val_loss: 0.7484 - val_accuracy: 0.7468\n",
      "Epoch 84/150\n",
      "313/313 [==============================] - 5s 16ms/step - loss: 0.5604 - accuracy: 0.8018 - val_loss: 0.7885 - val_accuracy: 0.7343\n",
      "Epoch 85/150\n",
      "313/313 [==============================] - 5s 15ms/step - loss: 0.5542 - accuracy: 0.8030 - val_loss: 0.7713 - val_accuracy: 0.7417\n",
      "Epoch 86/150\n",
      "313/313 [==============================] - 5s 16ms/step - loss: 0.5482 - accuracy: 0.8048 - val_loss: 0.8272 - val_accuracy: 0.7208\n",
      "Epoch 87/150\n",
      "313/313 [==============================] - 5s 15ms/step - loss: 0.5475 - accuracy: 0.8041 - val_loss: 0.7263 - val_accuracy: 0.7521\n",
      "Epoch 88/150\n",
      "313/313 [==============================] - 5s 16ms/step - loss: 0.5411 - accuracy: 0.8089 - val_loss: 0.7230 - val_accuracy: 0.7561\n",
      "Epoch 89/150\n",
      "313/313 [==============================] - 5s 15ms/step - loss: 0.5360 - accuracy: 0.8077 - val_loss: 0.7256 - val_accuracy: 0.7534\n",
      "Epoch 90/150\n",
      "313/313 [==============================] - 5s 16ms/step - loss: 0.5358 - accuracy: 0.8104 - val_loss: 0.7323 - val_accuracy: 0.7540\n",
      "Epoch 91/150\n",
      "313/313 [==============================] - 5s 15ms/step - loss: 0.5342 - accuracy: 0.8110 - val_loss: 0.7492 - val_accuracy: 0.7470\n",
      "Epoch 92/150\n",
      "313/313 [==============================] - 5s 16ms/step - loss: 0.5250 - accuracy: 0.8126 - val_loss: 0.7509 - val_accuracy: 0.7492\n",
      "Epoch 93/150\n",
      "313/313 [==============================] - 5s 16ms/step - loss: 0.5295 - accuracy: 0.8140 - val_loss: 0.7278 - val_accuracy: 0.7565\n",
      "Epoch 94/150\n",
      "313/313 [==============================] - 5s 16ms/step - loss: 0.5217 - accuracy: 0.8156 - val_loss: 0.7513 - val_accuracy: 0.7462\n",
      "Epoch 95/150\n",
      "313/313 [==============================] - 5s 15ms/step - loss: 0.5168 - accuracy: 0.8152 - val_loss: 0.7342 - val_accuracy: 0.7526\n",
      "Epoch 96/150\n",
      "313/313 [==============================] - 5s 15ms/step - loss: 0.5166 - accuracy: 0.8175 - val_loss: 0.7286 - val_accuracy: 0.7554\n",
      "Epoch 97/150\n",
      "313/313 [==============================] - 5s 15ms/step - loss: 0.5104 - accuracy: 0.8189 - val_loss: 0.7311 - val_accuracy: 0.7563\n",
      "Epoch 98/150\n",
      "313/313 [==============================] - 5s 15ms/step - loss: 0.5091 - accuracy: 0.8166 - val_loss: 0.7451 - val_accuracy: 0.7520\n",
      "Epoch 99/150\n",
      "313/313 [==============================] - 5s 15ms/step - loss: 0.5020 - accuracy: 0.8218 - val_loss: 0.7484 - val_accuracy: 0.7488\n",
      "Epoch 100/150\n",
      "313/313 [==============================] - 4s 14ms/step - loss: 0.5040 - accuracy: 0.8205 - val_loss: 0.7381 - val_accuracy: 0.7549\n",
      "Epoch 101/150\n",
      "313/313 [==============================] - 5s 15ms/step - loss: 0.4989 - accuracy: 0.8222 - val_loss: 0.7500 - val_accuracy: 0.7500\n",
      "Epoch 102/150\n",
      "313/313 [==============================] - 5s 14ms/step - loss: 0.4998 - accuracy: 0.8226 - val_loss: 0.7338 - val_accuracy: 0.7552\n",
      "Epoch 103/150\n",
      "313/313 [==============================] - 5s 14ms/step - loss: 0.4923 - accuracy: 0.8248 - val_loss: 0.7331 - val_accuracy: 0.7509\n",
      "Epoch 104/150\n",
      "313/313 [==============================] - 5s 15ms/step - loss: 0.4929 - accuracy: 0.8238 - val_loss: 0.7540 - val_accuracy: 0.7488\n",
      "Epoch 105/150\n",
      "313/313 [==============================] - 5s 15ms/step - loss: 0.4974 - accuracy: 0.8232 - val_loss: 0.7662 - val_accuracy: 0.7471\n",
      "Epoch 106/150\n",
      "313/313 [==============================] - 5s 15ms/step - loss: 0.4901 - accuracy: 0.8260 - val_loss: 0.7981 - val_accuracy: 0.7365\n",
      "Epoch 107/150\n",
      "313/313 [==============================] - 5s 15ms/step - loss: 0.4877 - accuracy: 0.8260 - val_loss: 0.7291 - val_accuracy: 0.7558\n",
      "Epoch 108/150\n",
      "313/313 [==============================] - 4s 14ms/step - loss: 0.4867 - accuracy: 0.8282 - val_loss: 0.7796 - val_accuracy: 0.7435\n",
      "Epoch 109/150\n",
      "313/313 [==============================] - 5s 15ms/step - loss: 0.4823 - accuracy: 0.8277 - val_loss: 0.7449 - val_accuracy: 0.7519\n",
      "Epoch 110/150\n",
      "313/313 [==============================] - 5s 15ms/step - loss: 0.4754 - accuracy: 0.8296 - val_loss: 0.7383 - val_accuracy: 0.7548\n",
      "Epoch 111/150\n",
      "313/313 [==============================] - 5s 15ms/step - loss: 0.4843 - accuracy: 0.8274 - val_loss: 0.7665 - val_accuracy: 0.7466\n",
      "Epoch 112/150\n",
      "313/313 [==============================] - 5s 15ms/step - loss: 0.4772 - accuracy: 0.8300 - val_loss: 0.7313 - val_accuracy: 0.7522\n",
      "Epoch 113/150\n",
      "313/313 [==============================] - 5s 15ms/step - loss: 0.4722 - accuracy: 0.8321 - val_loss: 0.7213 - val_accuracy: 0.7581\n",
      "Epoch 114/150\n",
      "313/313 [==============================] - 5s 14ms/step - loss: 0.4600 - accuracy: 0.8364 - val_loss: 0.7742 - val_accuracy: 0.7488\n",
      "Epoch 115/150\n",
      "313/313 [==============================] - 5s 15ms/step - loss: 0.4652 - accuracy: 0.8331 - val_loss: 0.7821 - val_accuracy: 0.7406\n",
      "Epoch 116/150\n",
      "313/313 [==============================] - 5s 15ms/step - loss: 0.4592 - accuracy: 0.8357 - val_loss: 0.7316 - val_accuracy: 0.7560\n",
      "Epoch 117/150\n",
      "313/313 [==============================] - 5s 16ms/step - loss: 0.4588 - accuracy: 0.8351 - val_loss: 0.7209 - val_accuracy: 0.7576\n",
      "Epoch 118/150\n",
      "313/313 [==============================] - 5s 15ms/step - loss: 0.4655 - accuracy: 0.8339 - val_loss: 0.7409 - val_accuracy: 0.7533\n",
      "Epoch 119/150\n",
      "313/313 [==============================] - 5s 15ms/step - loss: 0.4627 - accuracy: 0.8349 - val_loss: 0.7497 - val_accuracy: 0.7562\n",
      "Epoch 120/150\n",
      "313/313 [==============================] - 5s 14ms/step - loss: 0.4574 - accuracy: 0.8371 - val_loss: 0.7404 - val_accuracy: 0.7558\n",
      "Epoch 121/150\n",
      "313/313 [==============================] - 5s 15ms/step - loss: 0.4547 - accuracy: 0.8377 - val_loss: 0.7523 - val_accuracy: 0.7486\n",
      "Epoch 122/150\n",
      "313/313 [==============================] - 5s 15ms/step - loss: 0.4476 - accuracy: 0.8399 - val_loss: 0.7728 - val_accuracy: 0.7538\n",
      "Epoch 123/150\n",
      "313/313 [==============================] - 5s 15ms/step - loss: 0.4451 - accuracy: 0.8400 - val_loss: 0.7825 - val_accuracy: 0.7444\n",
      "Epoch 124/150\n",
      "313/313 [==============================] - 5s 15ms/step - loss: 0.4417 - accuracy: 0.8438 - val_loss: 0.7768 - val_accuracy: 0.7436\n",
      "Epoch 125/150\n",
      "313/313 [==============================] - 5s 15ms/step - loss: 0.4425 - accuracy: 0.8431 - val_loss: 0.7402 - val_accuracy: 0.7575\n",
      "Epoch 126/150\n",
      "313/313 [==============================] - 5s 15ms/step - loss: 0.4427 - accuracy: 0.8409 - val_loss: 0.7697 - val_accuracy: 0.7496\n",
      "Epoch 127/150\n",
      "313/313 [==============================] - 5s 15ms/step - loss: 0.4392 - accuracy: 0.8410 - val_loss: 0.7486 - val_accuracy: 0.7533\n",
      "Epoch 128/150\n",
      "313/313 [==============================] - 5s 15ms/step - loss: 0.4395 - accuracy: 0.8441 - val_loss: 0.7586 - val_accuracy: 0.7501\n",
      "Epoch 129/150\n",
      "313/313 [==============================] - 5s 15ms/step - loss: 0.4358 - accuracy: 0.8435 - val_loss: 0.7472 - val_accuracy: 0.7560\n",
      "Epoch 130/150\n",
      "313/313 [==============================] - 5s 16ms/step - loss: 0.4374 - accuracy: 0.8440 - val_loss: 0.7465 - val_accuracy: 0.7534\n",
      "Epoch 131/150\n",
      "313/313 [==============================] - 5s 15ms/step - loss: 0.4261 - accuracy: 0.8505 - val_loss: 0.7333 - val_accuracy: 0.7572\n",
      "Epoch 132/150\n",
      "313/313 [==============================] - 5s 15ms/step - loss: 0.4285 - accuracy: 0.8483 - val_loss: 0.7777 - val_accuracy: 0.7414\n",
      "Epoch 133/150\n",
      "313/313 [==============================] - 5s 15ms/step - loss: 0.4211 - accuracy: 0.8486 - val_loss: 0.8224 - val_accuracy: 0.7362\n",
      "Epoch 134/150\n",
      "313/313 [==============================] - 5s 15ms/step - loss: 0.4241 - accuracy: 0.8474 - val_loss: 0.7799 - val_accuracy: 0.7483\n",
      "Epoch 135/150\n",
      "313/313 [==============================] - 5s 15ms/step - loss: 0.4193 - accuracy: 0.8502 - val_loss: 0.7479 - val_accuracy: 0.7576\n",
      "Epoch 136/150\n",
      "313/313 [==============================] - 5s 15ms/step - loss: 0.4161 - accuracy: 0.8548 - val_loss: 0.7536 - val_accuracy: 0.7565\n",
      "Epoch 137/150\n",
      "313/313 [==============================] - 5s 15ms/step - loss: 0.4170 - accuracy: 0.8522 - val_loss: 0.7906 - val_accuracy: 0.7470\n",
      "Epoch 138/150\n",
      "313/313 [==============================] - 5s 15ms/step - loss: 0.4168 - accuracy: 0.8507 - val_loss: 0.7960 - val_accuracy: 0.7455\n",
      "Epoch 139/150\n",
      "313/313 [==============================] - 5s 15ms/step - loss: 0.4150 - accuracy: 0.8525 - val_loss: 0.7609 - val_accuracy: 0.7557\n",
      "Epoch 140/150\n",
      "313/313 [==============================] - 5s 14ms/step - loss: 0.4149 - accuracy: 0.8520 - val_loss: 0.7740 - val_accuracy: 0.7513\n",
      "Epoch 141/150\n",
      "313/313 [==============================] - 5s 15ms/step - loss: 0.4149 - accuracy: 0.8513 - val_loss: 0.7316 - val_accuracy: 0.7552\n",
      "Epoch 142/150\n",
      "313/313 [==============================] - 5s 15ms/step - loss: 0.4152 - accuracy: 0.8506 - val_loss: 0.7781 - val_accuracy: 0.7549\n",
      "Epoch 143/150\n",
      "313/313 [==============================] - 5s 16ms/step - loss: 0.4042 - accuracy: 0.8556 - val_loss: 0.7613 - val_accuracy: 0.7537\n",
      "Epoch 144/150\n",
      "313/313 [==============================] - 5s 15ms/step - loss: 0.4067 - accuracy: 0.8534 - val_loss: 0.7472 - val_accuracy: 0.7584\n",
      "Epoch 145/150\n",
      "313/313 [==============================] - 5s 16ms/step - loss: 0.4083 - accuracy: 0.8552 - val_loss: 0.7641 - val_accuracy: 0.7477\n",
      "Epoch 146/150\n",
      "313/313 [==============================] - 5s 15ms/step - loss: 0.4060 - accuracy: 0.8541 - val_loss: 0.8409 - val_accuracy: 0.7298\n",
      "Epoch 147/150\n",
      "313/313 [==============================] - 5s 16ms/step - loss: 0.4026 - accuracy: 0.8569 - val_loss: 0.7507 - val_accuracy: 0.7521\n",
      "Epoch 148/150\n",
      "313/313 [==============================] - 5s 16ms/step - loss: 0.4024 - accuracy: 0.8547 - val_loss: 0.7455 - val_accuracy: 0.7598\n",
      "Epoch 149/150\n",
      "313/313 [==============================] - 5s 15ms/step - loss: 0.3981 - accuracy: 0.8579 - val_loss: 0.7709 - val_accuracy: 0.7503\n",
      "Epoch 150/150\n",
      "313/313 [==============================] - 5s 16ms/step - loss: 0.3953 - accuracy: 0.8597 - val_loss: 0.7759 - val_accuracy: 0.7507\n"
     ]
    }
   ],
   "source": [
    "# Train the model and store model parameters/loss values\n",
    "history_8 = model_8.fit(x_tr,y_tr,\n",
    "                    batch_size=128, epochs=150,\n",
    "                   validation_data=(x_val,y_val))"
   ]
  },
  {
   "cell_type": "code",
   "execution_count": 77,
   "metadata": {
    "colab": {
     "base_uri": "https://localhost:8080/",
     "height": 279
    },
    "id": "B29zpnw45uZr",
    "outputId": "ae53399f-c744-4ad8-a949-fbfedf6e2616"
   },
   "outputs": [
    {
     "data": {
      "image/png": "[encoded data removed]",
      "text/plain": [
       "<Figure size 432x288 with 1 Axes>"
      ]
     },
     "metadata": {
      "needs_background": "light"
     },
     "output_type": "display_data"
    }
   ],
   "source": [
    "# Plot the loss curve\n",
    "import matplotlib.pyplot as plt\n",
    "%matplotlib inline\n",
    "\n",
    "epochs = range(150)\n",
    "train_loss_8 = history_8.history['loss']\n",
    "val_loss_8 = history_8.history['val_loss']\n",
    "plt.plot(epochs,train_loss_8,'bo',label= 'Training Loss')\n",
    "plt.plot(epochs,val_loss_8,'r',label= 'Validation Loss')\n",
    "plt.xlabel('Epochs')\n",
    "plt.ylabel('Loss')\n",
    "plt.legend()\n",
    "plt.show()\n"
   ]
  },
  {
   "cell_type": "code",
   "execution_count": 78,
   "metadata": {
    "colab": {
     "base_uri": "https://localhost:8080/"
    },
    "id": "0hTTv6tu5-hB",
    "outputId": "b1f0652e-0789-429d-a556-1fce18626c38"
   },
   "outputs": [
    {
     "name": "stdout",
     "output_type": "stream",
     "text": [
      "313/313 [==============================] - 1s 5ms/step - loss: 0.7817 - accuracy: 0.7506\n",
      "loss =  0.7816864848136902\n",
      "accuracy =  0.7505999803543091\n"
     ]
    }
   ],
   "source": [
    "# Evaluate your model performance (testing accuracy) on testing data.\n",
    "loss_and_acc = model_8.evaluate(x_test,y_test_vec)\n",
    "print('loss = ', str(loss_and_acc[0]))\n",
    "print('accuracy = ', str(loss_and_acc[1]))"
   ]
  },
  {
   "cell_type": "markdown",
   "metadata": {
    "id": "moLPEqCPMVxx"
   },
   "source": [
    "After analyzing with different model structures the best model turned out to be the one with both Batchnormalization and dropout layers added to them with a high test accuracy of 75%"
   ]
  }
 ],
 "metadata": {
  "accelerator": "GPU",
  "colab": {
   "name": "Assignment2_Submission.ipynb",
   "provenance": []
  },
  "kernelspec": {
   "display_name": "Python 3 (ipykernel)",
   "language": "python",
   "name": "python3"
  },
  "language_info": {
   "codemirror_mode": {
    "name": "ipython",
    "version": 3
   },
   "file_extension": ".py",
   "mimetype": "text/x-python",
   "name": "python",
   "nbconvert_exporter": "python",
   "pygments_lexer": "ipython3",
   "version": "3.9.7"
  }
 },
 "nbformat": 4,
 "nbformat_minor": 1
}
