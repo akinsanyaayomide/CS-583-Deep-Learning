{
  "cells": [
    {
      "cell_type": "markdown",
      "metadata": {
        "id": "S_MMx4-Dn6I4"
      },
      "source": [
        "# Assignment 3: Build a seq2seq model for machine translation.\n",
        "\n",
        "### Name: [Your-Name?]\n",
        "\n",
        "### Task: Change LSTM model to Bidirectional LSTM Model， translate English to target language and evaluate using Bleu score.\n",
        "\n",
        "### Due Date: Tuesday, April 19th, 11:59PM"
      ]
    },
    {
      "cell_type": "markdown",
      "metadata": {
        "id": "4Ae95lZSn6I7"
      },
      "source": [
        "## 0. You will do the following:\n",
        "\n",
        "1. Read and run the code. Please make sure you have installed keras or tensorflow.Running the script on colab will speed up the training process and also prevent package loading issue. \n",
        "2. Complete the code in Section 1.1, you may fill in your data directory.\n",
        "3. Directly modify the code in Section 3. Change the current LSTM layer to a Bidirectional LSTM Model.\n",
        "4. Training your model and translate English to Spanish in Section 4.2. You could try translating other languages.\n",
        "5. Complete the code in Section 5."
      ]
    },
    {
      "cell_type": "markdown",
      "metadata": {
        "id": "N-y_tv3Nn6I8"
      },
      "source": [
        "### Hint: \n",
        "\n",
        "To implement ```Bi-LSTM```, you will need the following code to build the encoder. Do NOT use Bi-LSTM for the decoder. But there are other codes you need to modify to make it work."
      ]
    },
    {
      "cell_type": "code",
      "execution_count": 2,
      "metadata": {
        "colab": {
          "base_uri": "https://localhost:8080/",
          "height": 89
        },
        "id": "XHy-bUKgn6I8",
        "outputId": "439f47fd-2c63-49b2-d037-e0777ab77895"
      },
      "outputs": [
        {
          "output_type": "execute_result",
          "data": {
            "text/plain": [
              "\"from keras.layers import Bidirectional, Concatenate\\n\\nencoder_bilstm = Bidirectional(LSTM(latent_dim, return_state=True, \\n                                  dropout=0.5, name='encoder_lstm'))\\n_, forward_h, forward_c, backward_h, backward_c = encoder_bilstm(encoder_inputs)\\n\\nstate_h = Concatenate()([forward_h, backward_h])\\nstate_c = Concatenate()([forward_c, backward_c])\""
            ],
            "application/vnd.google.colaboratory.intrinsic+json": {
              "type": "string"
            }
          },
          "metadata": {},
          "execution_count": 2
        }
      ],
      "source": [
        "\"\"\"from keras.layers import Bidirectional, Concatenate\n",
        "\n",
        "encoder_bilstm = Bidirectional(LSTM(latent_dim, return_state=True, \n",
        "                                  dropout=0.5, name='encoder_lstm'))\n",
        "_, forward_h, forward_c, backward_h, backward_c = encoder_bilstm(encoder_inputs)\n",
        "\n",
        "state_h = Concatenate()([forward_h, backward_h])\n",
        "state_c = Concatenate()([forward_c, backward_c])\"\"\""
      ]
    },
    {
      "cell_type": "markdown",
      "metadata": {
        "id": "Mg9WtXD0n6I-"
      },
      "source": [
        "## 1. Data preparation (10 points)\n",
        "\n",
        "1. Download spanish-english data from http://www.manythings.org/anki/\n",
        "2. You may try to use other languages.\n",
        "3. Unzip the .ZIP file.\n",
        "4. Put the .TXT file (e.g., \"deu.txt\") in the directory \"./Data/\".\n",
        "5. Fill in your data directory in section 1.1."
      ]
    },
    {
      "cell_type": "markdown",
      "metadata": {
        "id": "mktmWGiNn6I-"
      },
      "source": [
        "### 1.1. Load and clean text\n"
      ]
    },
    {
      "cell_type": "code",
      "execution_count": 3,
      "metadata": {
        "id": "t1HGE5Bin6I_"
      },
      "outputs": [],
      "source": [
        "import re\n",
        "import string\n",
        "from unicodedata import normalize\n",
        "import numpy\n",
        "\n",
        "# load doc into memory\n",
        "def load_doc(filename):\n",
        "    # open the file as read only\n",
        "    file = open(filename, mode='rt', encoding='utf-8')\n",
        "    # read all text\n",
        "    text = file.read()\n",
        "    # close the file\n",
        "    file.close()\n",
        "    return text\n",
        "\n",
        "\n",
        "# split a loaded document into sentences\n",
        "def to_pairs(doc):\n",
        "    lines = doc.strip().split('\\n')\n",
        "    pairs = [line.split('\\t') for line in  lines]\n",
        "    return pairs\n",
        "\n",
        "def clean_data(lines):\n",
        "    cleaned = list()\n",
        "    # prepare regex for char filtering\n",
        "    re_print = re.compile('[^%s]' % re.escape(string.printable))\n",
        "    # prepare translation table for removing punctuation\n",
        "    table = str.maketrans('', '', string.punctuation)\n",
        "    for pair in lines:\n",
        "        clean_pair = list()\n",
        "        for line in pair:\n",
        "            # normalize unicode characters\n",
        "            line = normalize('NFD', line).encode('ascii', 'ignore')\n",
        "            line = line.decode('UTF-8')\n",
        "            # tokenize on white space\n",
        "            line = line.split()\n",
        "            # convert to lowercase\n",
        "            line = [word.lower() for word in line]\n",
        "            # remove punctuation from each token\n",
        "            line = [word.translate(table) for word in line]\n",
        "            # remove non-printable chars form each token\n",
        "            line = [re_print.sub('', w) for w in line]\n",
        "            # remove tokens with numbers in them\n",
        "            line = [word for word in line if word.isalpha()]\n",
        "            # store as string\n",
        "            clean_pair.append(' '.join(line))\n",
        "        cleaned.append(clean_pair)\n",
        "    return numpy.array(cleaned)"
      ]
    },
    {
      "cell_type": "markdown",
      "metadata": {
        "id": "H8TLfXfan6JA"
      },
      "source": [
        "#### Fill the following blanks:"
      ]
    },
    {
      "cell_type": "code",
      "execution_count": 4,
      "metadata": {
        "id": "qUZbGJy9n6JA"
      },
      "outputs": [],
      "source": [
        "# e.g., filename = 'Data/deu.txt'\n",
        "filename = \"/content/spa.txt\"\n",
        "\n",
        "# e.g., n_train = 20000\n",
        "n_train = 20000"
      ]
    },
    {
      "cell_type": "code",
      "execution_count": 5,
      "metadata": {
        "id": "tIM5vnPsn6JB"
      },
      "outputs": [],
      "source": [
        "# load dataset\n",
        "doc = load_doc(filename)\n",
        "\n",
        "# split into Language1-Language2 pairs\n",
        "pairs = to_pairs(doc)\n",
        "#print(len(pairs))\n",
        "\n",
        "# clean sentences\n",
        "clean_pairs = clean_data(pairs)[0:n_train, :]\n",
        "test_pairs_1 = clean_data(pairs)[n_train:n_train+200,:]"
      ]
    },
    {
      "cell_type": "code",
      "execution_count": 6,
      "metadata": {
        "colab": {
          "base_uri": "https://localhost:8080/"
        },
        "id": "HglOYBjPn6JB",
        "outputId": "1f0d32d0-bd84-47ab-c3db-efea3a976a1a"
      },
      "outputs": [
        {
          "output_type": "stream",
          "name": "stdout",
          "text": [
            "[youre here] => [estas aqui]\n",
            "[youre here] => [estais aqui]\n",
            "[youre late] => [estas retrasado]\n",
            "[youre lost] => [estas perdido]\n",
            "[youre mean] => [eres mala]\n",
            "[youre mean] => [eres mezquino]\n",
            "[youre mine] => [tu eres mio]\n",
            "[youre nice] => [eres simpatico]\n",
            "[youre nuts] => [estas loco]\n",
            "[youre nuts] => [estas chiflado]\n"
          ]
        }
      ],
      "source": [
        "for i in range(3000, 3010):\n",
        "    print('[' + clean_pairs[i, 0] + '] => [' + clean_pairs[i, 1] + ']')"
      ]
    },
    {
      "cell_type": "code",
      "source": [
        "for i in range(30, 40):\n",
        "    print('[' + test_pairs_1[i, 0] + '] => [' + test_pairs_1[i, 1] + ']')"
      ],
      "metadata": {
        "colab": {
          "base_uri": "https://localhost:8080/"
        },
        "id": "lVWpaFGSdMvX",
        "outputId": "b8d7a159-5dfe-4dc3-a3da-0b8b84edd766"
      },
      "execution_count": 7,
      "outputs": [
        {
          "output_type": "stream",
          "name": "stdout",
          "text": [
            "[i have a flat tire] => [se me pincho una llanta]\n",
            "[i have a flat tire] => [se me poncho una goma]\n",
            "[i have a glass eye] => [tengo un ojo de cristal]\n",
            "[i have a glass eye] => [tengo un ojo de vidrio]\n",
            "[i have a list here] => [tengo aqui una lista]\n",
            "[i have a nosebleed] => [me sangra la nariz]\n",
            "[i have a toothache] => [estoy con dolor de dientes]\n",
            "[i have a white cat] => [tengo un gato blanco]\n",
            "[i have blonde hair] => [tengo el pelo rubio]\n",
            "[i have cabin fever] => [tengo miedo a los lugares cerrados]\n"
          ]
        }
      ]
    },
    {
      "cell_type": "code",
      "execution_count": 8,
      "metadata": {
        "colab": {
          "base_uri": "https://localhost:8080/"
        },
        "id": "xpWJySnon6JC",
        "outputId": "312e2edd-b7c1-40b6-a3ff-6bad4a5045a4"
      },
      "outputs": [
        {
          "output_type": "stream",
          "name": "stdout",
          "text": [
            "Length of input_texts:  (20000,)\n",
            "Length of target_texts: (20000,)\n"
          ]
        }
      ],
      "source": [
        "input_texts = clean_pairs[:, 0]\n",
        "target_texts = ['\\t' + text + '\\n' for text in clean_pairs[:, 1]]\n",
        "\n",
        "print('Length of input_texts:  ' + str(input_texts.shape))\n",
        "print('Length of target_texts: ' + str(input_texts.shape))"
      ]
    },
    {
      "cell_type": "code",
      "execution_count": 9,
      "metadata": {
        "colab": {
          "base_uri": "https://localhost:8080/"
        },
        "id": "Z41dxOlXn6JC",
        "outputId": "3c4d326e-6ce4-4980-a1bf-b3ec0b4b0d8e"
      },
      "outputs": [
        {
          "output_type": "stream",
          "name": "stdout",
          "text": [
            "max length of input  sentences: 18\n",
            "max length of target sentences: 55\n"
          ]
        }
      ],
      "source": [
        "max_encoder_seq_length = max(len(line) for line in input_texts)\n",
        "max_decoder_seq_length = max(len(line) for line in target_texts)\n",
        "\n",
        "print('max length of input  sentences: %d' % (max_encoder_seq_length))\n",
        "print('max length of target sentences: %d' % (max_decoder_seq_length))"
      ]
    },
    {
      "cell_type": "markdown",
      "metadata": {
        "id": "PsId-AKmn6JC"
      },
      "source": [
        "**Remark:** To this end, you have two lists of sentences: input_texts and target_texts"
      ]
    },
    {
      "cell_type": "markdown",
      "metadata": {
        "id": "noyB6qCBn6JC"
      },
      "source": [
        "## 2. Text processing\n",
        "\n",
        "### 2.1. Convert texts to sequences\n",
        "\n",
        "- Input: A list of $n$ sentences (with max length $t$).\n",
        "- It is represented by a $n\\times t$ matrix after the tokenization and zero-padding."
      ]
    },
    {
      "cell_type": "code",
      "execution_count": 10,
      "metadata": {
        "colab": {
          "base_uri": "https://localhost:8080/"
        },
        "id": "oZoL6thFn6JD",
        "outputId": "fc4b1f07-6e3d-4597-8994-38f044d37362"
      },
      "outputs": [
        {
          "output_type": "stream",
          "name": "stdout",
          "text": [
            "shape of encoder_input_seq: (20000, 18)\n",
            "shape of input_token_index: 27\n",
            "shape of decoder_input_seq: (20000, 55)\n",
            "shape of target_token_index: 29\n"
          ]
        }
      ],
      "source": [
        "from keras.preprocessing.text import Tokenizer\n",
        "from keras.preprocessing.sequence import pad_sequences\n",
        "\n",
        "# encode and pad sequences\n",
        "def text2sequences(max_len, lines):\n",
        "    tokenizer = Tokenizer(char_level=True, filters='')\n",
        "    tokenizer.fit_on_texts(lines)\n",
        "    seqs = tokenizer.texts_to_sequences(lines)\n",
        "    seqs_pad = pad_sequences(seqs, maxlen=max_len, padding='post')\n",
        "    return seqs_pad, tokenizer.word_index\n",
        "\n",
        "\n",
        "encoder_input_seq, input_token_index = text2sequences(max_encoder_seq_length, \n",
        "                                                      input_texts)\n",
        "decoder_input_seq, target_token_index = text2sequences(max_decoder_seq_length, \n",
        "                                                       target_texts)\n",
        "\n",
        "print('shape of encoder_input_seq: ' + str(encoder_input_seq.shape))\n",
        "print('shape of input_token_index: ' + str(len(input_token_index)))\n",
        "print('shape of decoder_input_seq: ' + str(decoder_input_seq.shape))\n",
        "print('shape of target_token_index: ' + str(len(target_token_index)))"
      ]
    },
    {
      "cell_type": "code",
      "execution_count": 11,
      "metadata": {
        "colab": {
          "base_uri": "https://localhost:8080/"
        },
        "id": "9r3mzbknn6JD",
        "outputId": "9cefc952-422d-44cd-a1f5-a43699b2fc5f"
      },
      "outputs": [
        {
          "output_type": "stream",
          "name": "stdout",
          "text": [
            "num_encoder_tokens: 28\n",
            "num_decoder_tokens: 30\n"
          ]
        }
      ],
      "source": [
        "num_encoder_tokens = len(input_token_index) + 1\n",
        "num_decoder_tokens = len(target_token_index) + 1\n",
        "\n",
        "print('num_encoder_tokens: ' + str(num_encoder_tokens))\n",
        "print('num_decoder_tokens: ' + str(num_decoder_tokens))"
      ]
    },
    {
      "cell_type": "markdown",
      "metadata": {
        "id": "cAVJmj0Ln6JD"
      },
      "source": [
        "**Remark:** To this end, the input language and target language texts are converted to 2 matrices. \n",
        "\n",
        "- Their number of rows are both n_train.\n",
        "- Their number of columns are respective max_encoder_seq_length and max_decoder_seq_length."
      ]
    },
    {
      "cell_type": "markdown",
      "metadata": {
        "id": "oPgf9KJHn6JE"
      },
      "source": [
        "The followings print a sentence and its representation as a sequence."
      ]
    },
    {
      "cell_type": "code",
      "execution_count": 12,
      "metadata": {
        "colab": {
          "base_uri": "https://localhost:8080/",
          "height": 35
        },
        "id": "oUKFj9i3n6JE",
        "outputId": "c2e1cd93-0feb-4634-e088-1f66139c96bb"
      },
      "outputs": [
        {
          "output_type": "execute_result",
          "data": {
            "text/plain": [
              "'\\tno puede ser\\n'"
            ],
            "application/vnd.google.colaboratory.intrinsic+json": {
              "type": "string"
            }
          },
          "metadata": {},
          "execution_count": 12
        }
      ],
      "source": [
        "target_texts[100]"
      ]
    },
    {
      "cell_type": "code",
      "execution_count": 13,
      "metadata": {
        "colab": {
          "base_uri": "https://localhost:8080/"
        },
        "id": "tjiEomXIn6JE",
        "outputId": "e9c6bb43-cacc-429f-c8ca-103f5ad8f055"
      },
      "outputs": [
        {
          "output_type": "execute_result",
          "data": {
            "text/plain": [
              "array([ 6,  8,  3,  1, 17, 14,  2, 15,  2,  1,  5,  2, 10,  7,  0,  0,  0,\n",
              "        0,  0,  0,  0,  0,  0,  0,  0,  0,  0,  0,  0,  0,  0,  0,  0,  0,\n",
              "        0,  0,  0,  0,  0,  0,  0,  0,  0,  0,  0,  0,  0,  0,  0,  0,  0,\n",
              "        0,  0,  0,  0], dtype=int32)"
            ]
          },
          "metadata": {},
          "execution_count": 13
        }
      ],
      "source": [
        "decoder_input_seq[100, :]"
      ]
    },
    {
      "cell_type": "markdown",
      "metadata": {
        "id": "0V7gsF5Sn6JE"
      },
      "source": [
        "## 2.2. One-hot encode\n",
        "\n",
        "- Input: A list of $n$ sentences (with max length $t$).\n",
        "- It is represented by a $n\\times t$ matrix after the tokenization and zero-padding.\n",
        "- It is represented by a $n\\times t \\times v$ tensor ($t$ is the number of unique chars) after the one-hot encoding."
      ]
    },
    {
      "cell_type": "code",
      "execution_count": 14,
      "metadata": {
        "colab": {
          "base_uri": "https://localhost:8080/"
        },
        "id": "YQcnb-whn6JE",
        "outputId": "4a6bea35-0cb4-462d-c231-8eeb0587e105"
      },
      "outputs": [
        {
          "output_type": "stream",
          "name": "stdout",
          "text": [
            "(20000, 18, 28)\n",
            "(20000, 55, 30)\n"
          ]
        }
      ],
      "source": [
        "from tensorflow.keras.utils import to_categorical\n",
        "\n",
        "# one hot encode target sequence\n",
        "def onehot_encode(sequences, max_len, vocab_size):\n",
        "    n = len(sequences)\n",
        "    data = numpy.zeros((n, max_len, vocab_size))\n",
        "    for i in range(n):\n",
        "        data[i, :, :] = to_categorical(sequences[i], num_classes=vocab_size)\n",
        "    return data\n",
        "\n",
        "encoder_input_data = onehot_encode(encoder_input_seq, max_encoder_seq_length, num_encoder_tokens)\n",
        "decoder_input_data = onehot_encode(decoder_input_seq, max_decoder_seq_length, num_decoder_tokens)\n",
        "\n",
        "decoder_target_seq = numpy.zeros(decoder_input_seq.shape)\n",
        "decoder_target_seq[:, 0:-1] = decoder_input_seq[:, 1:]\n",
        "decoder_target_data = onehot_encode(decoder_target_seq, \n",
        "                                    max_decoder_seq_length, \n",
        "                                    num_decoder_tokens)\n",
        "\n",
        "print(encoder_input_data.shape)\n",
        "print(decoder_input_data.shape)"
      ]
    },
    {
      "cell_type": "markdown",
      "metadata": {
        "id": "S502rHdbn6JF"
      },
      "source": [
        "## 3. Build the networks (for training) (20 points)\n",
        "\n",
        "- In this section, we have already implemented the LSTM model for you. You can run the code and see what the code is doing.  \n",
        "\n",
        "- You need to change the existing LSTM model to a Bidirectional LSTM model. Just modify the network structrue and do not change the training cell in section 3.4.\n",
        "\n",
        "- Build encoder, decoder, and connect the two modules to get \"model\". \n",
        "\n",
        "- Fit the model on the bilingual data to train the parameters in the encoder and decoder.\n",
        "\n"
      ]
    },
    {
      "cell_type": "markdown",
      "metadata": {
        "id": "VoxKAdCqn6JF"
      },
      "source": [
        "### 3.1. Encoder network\n",
        "\n",
        "- Input:  one-hot encode of the input language\n",
        "\n",
        "- Return: \n",
        "\n",
        "    -- output (all the hidden states   $h_1, \\cdots , h_t$) are always discarded\n",
        "    \n",
        "    -- the final hidden state  $h_t$\n",
        "    \n",
        "    -- the final conveyor belt $c_t$"
      ]
    },
    {
      "cell_type": "code",
      "execution_count": 15,
      "metadata": {
        "colab": {
          "base_uri": "https://localhost:8080/",
          "height": 71
        },
        "id": "Wi__Ts4Bn6JF",
        "outputId": "eb1ebbce-ea5a-4354-f1bb-ed56c9c84055"
      },
      "outputs": [
        {
          "output_type": "execute_result",
          "data": {
            "text/plain": [
              "\"# set the LSTM layer\\nencoder_lstm = LSTM(latent_dim, return_state=True, \\n                    dropout=0.5, name='encoder_lstm')\\n_, state_h, state_c = encoder_lstm(encoder_inputs)\\n\\n# build the encoder network model\\nencoder_model = Model(inputs=encoder_inputs, \\n                      outputs=[state_h, state_c],\\n                      name='encoder')\""
            ],
            "application/vnd.google.colaboratory.intrinsic+json": {
              "type": "string"
            }
          },
          "metadata": {},
          "execution_count": 15
        }
      ],
      "source": [
        "from tensorflow.keras.layers import Input, LSTM\n",
        "from tensorflow.keras.models import Model\n",
        "\n",
        "latent_dim = 256\n",
        "\n",
        "# inputs of the encoder network\n",
        "encoder_inputs = Input(shape=(None, num_encoder_tokens), \n",
        "                       name='encoder_inputs')\n",
        "\n",
        "\"\"\"# set the LSTM layer\n",
        "encoder_lstm = LSTM(latent_dim, return_state=True, \n",
        "                    dropout=0.5, name='encoder_lstm')\n",
        "_, state_h, state_c = encoder_lstm(encoder_inputs)\n",
        "\n",
        "# build the encoder network model\n",
        "encoder_model = Model(inputs=encoder_inputs, \n",
        "                      outputs=[state_h, state_c],\n",
        "                      name='encoder')\"\"\""
      ]
    },
    {
      "cell_type": "code",
      "execution_count": 16,
      "metadata": {
        "id": "AbkMcY6dor69"
      },
      "outputs": [],
      "source": [
        "from keras.layers import Bidirectional, Concatenate\n",
        "\n",
        "encoder_bilstm = Bidirectional(LSTM(latent_dim, return_state=True, \n",
        "                                  dropout=0.5, name='encoder_lstm'))\n",
        "_, forward_h, forward_c, backward_h, backward_c = encoder_bilstm(encoder_inputs)\n",
        "\n",
        "state_h = Concatenate()([forward_h, backward_h])\n",
        "state_c = Concatenate()([forward_c, backward_c])\n",
        "\n",
        "# build the encoder network model\n",
        "encoder_model = Model(inputs=encoder_inputs, \n",
        "                      outputs=[state_h, state_c],\n",
        "                      name='encoder')"
      ]
    },
    {
      "cell_type": "markdown",
      "metadata": {
        "id": "2KY2xaXvn6JF"
      },
      "source": [
        "Print a summary and save the encoder network structure to \"./encoder.pdf\""
      ]
    },
    {
      "cell_type": "code",
      "execution_count": 17,
      "metadata": {
        "colab": {
          "base_uri": "https://localhost:8080/"
        },
        "id": "xPjbdKJCn6JF",
        "outputId": "1e167f0b-249f-4e5d-d941-0bad9d275106"
      },
      "outputs": [
        {
          "output_type": "stream",
          "name": "stdout",
          "text": [
            "Model: \"encoder\"\n",
            "__________________________________________________________________________________________________\n",
            " Layer (type)                   Output Shape         Param #     Connected to                     \n",
            "==================================================================================================\n",
            " encoder_inputs (InputLayer)    [(None, None, 28)]   0           []                               \n",
            "                                                                                                  \n",
            " bidirectional (Bidirectional)  [(None, 512),        583680      ['encoder_inputs[0][0]']         \n",
            "                                 (None, 256),                                                     \n",
            "                                 (None, 256),                                                     \n",
            "                                 (None, 256),                                                     \n",
            "                                 (None, 256)]                                                     \n",
            "                                                                                                  \n",
            " concatenate (Concatenate)      (None, 512)          0           ['bidirectional[0][1]',          \n",
            "                                                                  'bidirectional[0][3]']          \n",
            "                                                                                                  \n",
            " concatenate_1 (Concatenate)    (None, 512)          0           ['bidirectional[0][2]',          \n",
            "                                                                  'bidirectional[0][4]']          \n",
            "                                                                                                  \n",
            "==================================================================================================\n",
            "Total params: 583,680\n",
            "Trainable params: 583,680\n",
            "Non-trainable params: 0\n",
            "__________________________________________________________________________________________________\n"
          ]
        }
      ],
      "source": [
        "from IPython.display import SVG\n",
        "from keras.utils.vis_utils import model_to_dot, plot_model\n",
        "\n",
        "SVG(model_to_dot(encoder_model, show_shapes=False).create(prog='dot', format='svg'))\n",
        "\n",
        "plot_model(\n",
        "    model=encoder_model, show_shapes=False,\n",
        "    to_file='encoder.pdf'\n",
        ")\n",
        "\n",
        "encoder_model.summary()"
      ]
    },
    {
      "cell_type": "markdown",
      "metadata": {
        "id": "QYZZgDrQn6JG"
      },
      "source": [
        "### 3.2. Decoder network\n",
        "\n",
        "- Inputs:  \n",
        "\n",
        "    -- one-hot encode of the target language\n",
        "    \n",
        "    -- The initial hidden state $h_t$ \n",
        "    \n",
        "    -- The initial conveyor belt $c_t$ \n",
        "\n",
        "- Return: \n",
        "\n",
        "    -- output (all the hidden states) $h_1, \\cdots , h_t$\n",
        "\n",
        "    -- the final hidden state  $h_t$ (discarded in the training and used in the prediction)\n",
        "    \n",
        "    -- the final conveyor belt $c_t$ (discarded in the training and used in the prediction)"
      ]
    },
    {
      "cell_type": "code",
      "execution_count": 18,
      "metadata": {
        "id": "1Oq4W48Zn6JG"
      },
      "outputs": [],
      "source": [
        "from keras.layers import Input, LSTM, Dense\n",
        "from keras.models import Model\n",
        "decoder_dim =512\n",
        "# inputs of the decoder network\n",
        "decoder_input_h = Input(shape=(decoder_dim,), name='decoder_input_h')\n",
        "decoder_input_c = Input(shape=(decoder_dim,), name='decoder_input_c')\n",
        "decoder_input_x = Input(shape=(None, num_decoder_tokens), name='decoder_input_x')\n",
        "\n",
        "# set the LSTM layer\n",
        "decoder_lstm = LSTM(decoder_dim, return_sequences=True, \n",
        "                    return_state=True, dropout=0.5, name='decoder_lstm')\n",
        "decoder_lstm_outputs, state_h, state_c = decoder_lstm(decoder_input_x, \n",
        "                                                      initial_state=[decoder_input_h, decoder_input_c])\n",
        "\n",
        "# set the dense layer\n",
        "decoder_dense = Dense(num_decoder_tokens, activation='softmax', name='decoder_dense')\n",
        "decoder_outputs = decoder_dense(decoder_lstm_outputs)\n",
        "\n",
        "# build the decoder network model\n",
        "decoder_model = Model(inputs=[decoder_input_x, decoder_input_h, decoder_input_c],\n",
        "                      outputs=[decoder_outputs, state_h, state_c],\n",
        "                      name='decoder')"
      ]
    },
    {
      "cell_type": "markdown",
      "metadata": {
        "id": "VfYhYV8Wn6JG"
      },
      "source": [
        "Print a summary and save the encoder network structure to \"./decoder.pdf\""
      ]
    },
    {
      "cell_type": "code",
      "execution_count": 19,
      "metadata": {
        "colab": {
          "base_uri": "https://localhost:8080/"
        },
        "id": "_42KLtH3n6JG",
        "outputId": "540a72d1-5bf5-4c42-95c9-a76be3358aff"
      },
      "outputs": [
        {
          "output_type": "stream",
          "name": "stdout",
          "text": [
            "Model: \"decoder\"\n",
            "__________________________________________________________________________________________________\n",
            " Layer (type)                   Output Shape         Param #     Connected to                     \n",
            "==================================================================================================\n",
            " decoder_input_x (InputLayer)   [(None, None, 30)]   0           []                               \n",
            "                                                                                                  \n",
            " decoder_input_h (InputLayer)   [(None, 512)]        0           []                               \n",
            "                                                                                                  \n",
            " decoder_input_c (InputLayer)   [(None, 512)]        0           []                               \n",
            "                                                                                                  \n",
            " decoder_lstm (LSTM)            [(None, None, 512),  1112064     ['decoder_input_x[0][0]',        \n",
            "                                 (None, 512),                     'decoder_input_h[0][0]',        \n",
            "                                 (None, 512)]                     'decoder_input_c[0][0]']        \n",
            "                                                                                                  \n",
            " decoder_dense (Dense)          (None, None, 30)     15390       ['decoder_lstm[0][0]']           \n",
            "                                                                                                  \n",
            "==================================================================================================\n",
            "Total params: 1,127,454\n",
            "Trainable params: 1,127,454\n",
            "Non-trainable params: 0\n",
            "__________________________________________________________________________________________________\n"
          ]
        }
      ],
      "source": [
        "from IPython.display import SVG\n",
        "from keras.utils.vis_utils import model_to_dot, plot_model\n",
        "\n",
        "SVG(model_to_dot(decoder_model, show_shapes=False).create(prog='dot', format='svg'))\n",
        "\n",
        "plot_model(\n",
        "    model=decoder_model, show_shapes=False,\n",
        "    to_file='decoder.pdf'\n",
        ")\n",
        "\n",
        "decoder_model.summary()"
      ]
    },
    {
      "cell_type": "markdown",
      "metadata": {
        "id": "E2Wt0fuAn6JG"
      },
      "source": [
        "### 3.3. Connect the encoder and decoder"
      ]
    },
    {
      "cell_type": "code",
      "execution_count": 20,
      "metadata": {
        "id": "X1_tQvjZn6JH"
      },
      "outputs": [],
      "source": [
        "# input layers\n",
        "encoder_input_x = Input(shape=(None, num_encoder_tokens), name='encoder_input_x')\n",
        "decoder_input_x = Input(shape=(None, num_decoder_tokens), name='decoder_input_x')\n",
        "\n",
        "# connect encoder to decoder\n",
        "encoder_final_states = encoder_model([encoder_input_x])\n",
        "decoder_lstm_output, _, _ = decoder_lstm(decoder_input_x, initial_state=encoder_final_states)\n",
        "decoder_pred = decoder_dense(decoder_lstm_output)\n",
        "\n",
        "model = Model(inputs=[encoder_input_x, decoder_input_x], \n",
        "              outputs=decoder_pred, \n",
        "              name='model_training')"
      ]
    },
    {
      "cell_type": "code",
      "execution_count": 21,
      "metadata": {
        "colab": {
          "base_uri": "https://localhost:8080/"
        },
        "id": "BFAa1WZun6JH",
        "outputId": "e57757d6-96e3-40db-8f5a-4eeb12fd3818"
      },
      "outputs": [
        {
          "output_type": "stream",
          "name": "stdout",
          "text": [
            "Model: \"model_training\"\n",
            "__________________________________________________________________________________________________\n",
            " Layer (type)                   Output Shape         Param #     Connected to                     \n",
            "==================================================================================================\n",
            " encoder_input_x (InputLayer)   [(None, None, 28)]   0           []                               \n",
            "                                                                                                  \n",
            " decoder_input_x (InputLayer)   [(None, None, 30)]   0           []                               \n",
            "                                                                                                  \n",
            " encoder (Functional)           [(None, 512),        583680      ['encoder_input_x[0][0]']        \n",
            "                                 (None, 512)]                                                     \n",
            "                                                                                                  \n",
            " decoder_lstm (LSTM)            [(None, None, 512),  1112064     ['decoder_input_x[0][0]',        \n",
            "                                 (None, 512),                     'encoder[0][0]',                \n",
            "                                 (None, 512)]                     'encoder[0][1]']                \n",
            "                                                                                                  \n",
            " decoder_dense (Dense)          (None, None, 30)     15390       ['decoder_lstm[1][0]']           \n",
            "                                                                                                  \n",
            "==================================================================================================\n",
            "Total params: 1,711,134\n",
            "Trainable params: 1,711,134\n",
            "Non-trainable params: 0\n",
            "__________________________________________________________________________________________________\n"
          ]
        }
      ],
      "source": [
        "from IPython.display import SVG\n",
        "from keras.utils.vis_utils import model_to_dot, plot_model\n",
        "\n",
        "SVG(model_to_dot(model, show_shapes=False).create(prog='dot', format='svg'))\n",
        "\n",
        "plot_model(\n",
        "    model=model, show_shapes=False,\n",
        "    to_file='model_training.pdf'\n",
        ")\n",
        "\n",
        "model.summary()"
      ]
    },
    {
      "cell_type": "markdown",
      "metadata": {
        "id": "cGEzHlGWn6JH"
      },
      "source": [
        "### 3.4. Fit the model on the bilingual dataset\n",
        "\n",
        "- encoder_input_data: one-hot encode of the input language\n",
        "\n",
        "- decoder_input_data: one-hot encode of the input language\n",
        "\n",
        "- decoder_target_data: labels (left shift of decoder_input_data)\n",
        "\n",
        "- tune the hyper-parameters\n",
        "\n",
        "- stop when the validation loss stop decreasing."
      ]
    },
    {
      "cell_type": "code",
      "execution_count": 22,
      "metadata": {
        "colab": {
          "base_uri": "https://localhost:8080/"
        },
        "id": "Bx2tLevTn6JH",
        "outputId": "1e77ad2e-90f6-4d92-e8cb-13868687881b"
      },
      "outputs": [
        {
          "output_type": "stream",
          "name": "stdout",
          "text": [
            "shape of encoder_input_data(20000, 18, 28)\n",
            "shape of decoder_input_data(20000, 55, 30)\n",
            "shape of decoder_target_data(20000, 55, 30)\n"
          ]
        }
      ],
      "source": [
        "print('shape of encoder_input_data' + str(encoder_input_data.shape))\n",
        "print('shape of decoder_input_data' + str(decoder_input_data.shape))\n",
        "print('shape of decoder_target_data' + str(decoder_target_data.shape))"
      ]
    },
    {
      "cell_type": "code",
      "source": [
        "print("
      ],
      "metadata": {
        "colab": {
          "base_uri": "https://localhost:8080/",
          "height": 133
        },
        "id": "tv_IFr52sY2J",
        "outputId": "fe7695d6-1e9d-4277-baf1-7faefd3989f6"
      },
      "execution_count": 1,
      "outputs": [
        {
          "output_type": "error",
          "ename": "SyntaxError",
          "evalue": "ignored",
          "traceback": [
            "\u001b[0;36m  File \u001b[0;32m\"<ipython-input-1-424fbb3a34c5>\"\u001b[0;36m, line \u001b[0;32m1\u001b[0m\n\u001b[0;31m    print(\u001b[0m\n\u001b[0m          ^\u001b[0m\n\u001b[0;31mSyntaxError\u001b[0m\u001b[0;31m:\u001b[0m unexpected EOF while parsing\n"
          ]
        }
      ]
    },
    {
      "cell_type": "code",
      "execution_count": 21,
      "metadata": {
        "id": "SSSrj_ntn6JH",
        "colab": {
          "base_uri": "https://localhost:8080/"
        },
        "outputId": "4dc25aeb-fdcd-40fb-9cff-7268453d296b"
      },
      "outputs": [
        {
          "output_type": "stream",
          "name": "stdout",
          "text": [
            "Epoch 1/50\n",
            "250/250 [==============================] - 14s 23ms/step - loss: 0.9309 - val_loss: 0.8266\n",
            "Epoch 2/50\n",
            "250/250 [==============================] - 5s 18ms/step - loss: 0.7163 - val_loss: 0.7316\n",
            "Epoch 3/50\n",
            "250/250 [==============================] - 4s 18ms/step - loss: 0.6733 - val_loss: 0.6800\n",
            "Epoch 4/50\n",
            "250/250 [==============================] - 5s 18ms/step - loss: 0.6449 - val_loss: 0.6458\n",
            "Epoch 5/50\n",
            "250/250 [==============================] - 5s 18ms/step - loss: 0.6211 - val_loss: 0.6125\n",
            "Epoch 6/50\n",
            "250/250 [==============================] - 5s 18ms/step - loss: 0.6043 - val_loss: 0.5907\n",
            "Epoch 7/50\n",
            "250/250 [==============================] - 5s 18ms/step - loss: 0.5862 - val_loss: 0.5718\n",
            "Epoch 8/50\n",
            "250/250 [==============================] - 5s 18ms/step - loss: 0.5729 - val_loss: 0.5610\n",
            "Epoch 9/50\n",
            "250/250 [==============================] - 5s 18ms/step - loss: 0.5617 - val_loss: 0.5418\n",
            "Epoch 10/50\n",
            "250/250 [==============================] - 5s 18ms/step - loss: 0.5507 - val_loss: 0.5356\n",
            "Epoch 11/50\n",
            "250/250 [==============================] - 5s 18ms/step - loss: 0.5386 - val_loss: 0.5228\n",
            "Epoch 12/50\n",
            "250/250 [==============================] - 5s 18ms/step - loss: 0.5305 - val_loss: 0.5147\n",
            "Epoch 13/50\n",
            "250/250 [==============================] - 5s 18ms/step - loss: 0.5218 - val_loss: 0.5069\n",
            "Epoch 14/50\n",
            "250/250 [==============================] - 5s 18ms/step - loss: 0.5159 - val_loss: 0.5000\n",
            "Epoch 15/50\n",
            "250/250 [==============================] - 5s 18ms/step - loss: 0.5083 - val_loss: 0.4917\n",
            "Epoch 16/50\n",
            "250/250 [==============================] - 5s 19ms/step - loss: 0.5003 - val_loss: 0.4854\n",
            "Epoch 17/50\n",
            "250/250 [==============================] - 5s 19ms/step - loss: 0.4938 - val_loss: 0.4820\n",
            "Epoch 18/50\n",
            "250/250 [==============================] - 5s 19ms/step - loss: 0.4879 - val_loss: 0.4746\n",
            "Epoch 19/50\n",
            "250/250 [==============================] - 5s 19ms/step - loss: 0.4818 - val_loss: 0.4718\n",
            "Epoch 20/50\n",
            "250/250 [==============================] - 5s 19ms/step - loss: 0.4763 - val_loss: 0.4710\n",
            "Epoch 21/50\n",
            "250/250 [==============================] - 5s 19ms/step - loss: 0.4710 - val_loss: 0.4623\n",
            "Epoch 22/50\n",
            "250/250 [==============================] - 5s 19ms/step - loss: 0.4665 - val_loss: 0.4624\n",
            "Epoch 23/50\n",
            "250/250 [==============================] - 5s 19ms/step - loss: 0.4596 - val_loss: 0.4575\n",
            "Epoch 24/50\n",
            "250/250 [==============================] - 5s 19ms/step - loss: 0.4573 - val_loss: 0.4538\n",
            "Epoch 25/50\n",
            "250/250 [==============================] - 5s 19ms/step - loss: 0.4520 - val_loss: 0.4529\n",
            "Epoch 26/50\n",
            "250/250 [==============================] - 5s 18ms/step - loss: 0.4474 - val_loss: 0.4525\n",
            "Epoch 27/50\n",
            "250/250 [==============================] - 5s 18ms/step - loss: 0.4436 - val_loss: 0.4512\n",
            "Epoch 28/50\n",
            "250/250 [==============================] - 5s 19ms/step - loss: 0.4410 - val_loss: 0.4458\n",
            "Epoch 29/50\n",
            "250/250 [==============================] - 5s 19ms/step - loss: 0.4375 - val_loss: 0.4436\n",
            "Epoch 30/50\n",
            "250/250 [==============================] - 5s 18ms/step - loss: 0.4330 - val_loss: 0.4410\n",
            "Epoch 31/50\n",
            "250/250 [==============================] - 5s 19ms/step - loss: 0.4299 - val_loss: 0.4403\n",
            "Epoch 32/50\n",
            "250/250 [==============================] - 5s 18ms/step - loss: 0.4272 - val_loss: 0.4391\n",
            "Epoch 33/50\n",
            "250/250 [==============================] - 5s 18ms/step - loss: 0.4234 - val_loss: 0.4394\n",
            "Epoch 34/50\n",
            "250/250 [==============================] - 5s 19ms/step - loss: 0.4196 - val_loss: 0.4358\n",
            "Epoch 35/50\n",
            "250/250 [==============================] - 5s 19ms/step - loss: 0.4192 - val_loss: 0.4323\n",
            "Epoch 36/50\n",
            "250/250 [==============================] - 5s 19ms/step - loss: 0.4113 - val_loss: 0.4375\n",
            "Epoch 37/50\n",
            "250/250 [==============================] - 5s 19ms/step - loss: 0.4100 - val_loss: 0.4372\n",
            "Epoch 38/50\n",
            "250/250 [==============================] - 5s 19ms/step - loss: 0.4074 - val_loss: 0.4350\n",
            "Epoch 39/50\n",
            "250/250 [==============================] - 5s 19ms/step - loss: 0.4059 - val_loss: 0.4307\n",
            "Epoch 40/50\n",
            "250/250 [==============================] - 5s 19ms/step - loss: 0.4016 - val_loss: 0.4329\n",
            "Epoch 41/50\n",
            "250/250 [==============================] - 5s 19ms/step - loss: 0.4003 - val_loss: 0.4292\n",
            "Epoch 42/50\n",
            "250/250 [==============================] - 5s 19ms/step - loss: 0.3988 - val_loss: 0.4272\n",
            "Epoch 43/50\n",
            "250/250 [==============================] - 5s 19ms/step - loss: 0.3966 - val_loss: 0.4273\n",
            "Epoch 44/50\n",
            "250/250 [==============================] - 5s 19ms/step - loss: 0.3916 - val_loss: 0.4296\n",
            "Epoch 45/50\n",
            "250/250 [==============================] - 5s 19ms/step - loss: 0.3886 - val_loss: 0.4274\n",
            "Epoch 46/50\n",
            "250/250 [==============================] - 5s 19ms/step - loss: 0.3873 - val_loss: 0.4263\n",
            "Epoch 47/50\n",
            "250/250 [==============================] - 5s 19ms/step - loss: 0.3845 - val_loss: 0.4255\n",
            "Epoch 48/50\n",
            "250/250 [==============================] - 5s 19ms/step - loss: 0.3846 - val_loss: 0.4257\n",
            "Epoch 49/50\n",
            "250/250 [==============================] - 5s 19ms/step - loss: 0.3815 - val_loss: 0.4276\n",
            "Epoch 50/50\n",
            "250/250 [==============================] - 5s 18ms/step - loss: 0.3787 - val_loss: 0.4280\n"
          ]
        }
      ],
      "source": [
        "model.compile(optimizer='rmsprop', loss='categorical_crossentropy')\n",
        "\n",
        "model.fit([encoder_input_data, decoder_input_data],  # training data\n",
        "          decoder_target_data,                       # labels (left shift of the target sequences)\n",
        "          batch_size=64, epochs=50, validation_split=0.2)\n",
        "\n",
        "model.save('seq2seq.h5')"
      ]
    },
    {
      "cell_type": "markdown",
      "metadata": {
        "id": "Xkz6huLMn6JI"
      },
      "source": [
        "## 4. Make predictions\n",
        "\n",
        "- In this section, you need to complete section 4.2 to translate English to the target language.\n",
        "\n",
        "\n",
        "### 4.1. Translate English to XXX\n",
        "\n",
        "1. Encoder read a sentence (source language) and output its final states, $h_t$ and $c_t$.\n",
        "2. Take the [star] sign \"\\t\" and the final state $h_t$ and $c_t$ as input and run the decoder.\n",
        "3. Get the new states and predicted probability distribution.\n",
        "4. sample a char from the predicted probability distribution\n",
        "5. take the sampled char and the new states as input and repeat the process (stop if reach the [stop] sign \"\\n\")."
      ]
    },
    {
      "cell_type": "code",
      "execution_count": 23,
      "metadata": {
        "id": "ejX6Tk8zn6JI"
      },
      "outputs": [],
      "source": [
        "# Reverse-lookup token index to decode sequences back to something readable.\n",
        "reverse_input_char_index = dict((i, char) for char, i in input_token_index.items())\n",
        "reverse_target_char_index = dict((i, char) for char, i in target_token_index.items())"
      ]
    },
    {
      "cell_type": "code",
      "execution_count": 24,
      "metadata": {
        "id": "V4YY9dASn6JI"
      },
      "outputs": [],
      "source": [
        "def decode_sequence(input_seq):\n",
        "    temperature = 0.2\n",
        "    states_value = encoder_model.predict(input_seq)\n",
        "\n",
        "    target_seq = numpy.zeros((1, 1, num_decoder_tokens))\n",
        "    target_seq[0, 0, target_token_index['\\t']] = 1.\n",
        "\n",
        "    stop_condition = False\n",
        "    decoded_sentence = ''\n",
        "    while not stop_condition:\n",
        "        output_tokens, h, c = decoder_model.predict([target_seq] + states_value)\n",
        "\n",
        "        # this line of code is greedy selection\n",
        "        # try to use multinomial sampling instead (with temperature)\n",
        "        sampled_token_index = output_tokens[0, -1, :]\n",
        "        sampled_token_index = sampled_token_index ** (1/temperature)\n",
        "        sampled_token_index = sampled_token_index / numpy.sum(sampled_token_index)\n",
        "        sampled_token_index = numpy.argmax(sampled_token_index)\n",
        "        #print(sampled_token_index)\n",
        "        sampled_char = reverse_target_char_index[sampled_token_index]\n",
        "        decoded_sentence += sampled_char\n",
        "\n",
        "        if (sampled_char == '\\n' or\n",
        "           len(decoded_sentence) > max_decoder_seq_length):\n",
        "            stop_condition = True\n",
        "\n",
        "        target_seq = numpy.zeros((1, 1, num_decoder_tokens))\n",
        "        target_seq[0, 0, sampled_token_index] = 1.\n",
        "\n",
        "        states_value = [h, c]\n",
        "\n",
        "    return decoded_sentence\n"
      ]
    },
    {
      "cell_type": "code",
      "execution_count": 34,
      "metadata": {
        "id": "wjfuKe1Rn6JI",
        "colab": {
          "base_uri": "https://localhost:8080/"
        },
        "outputId": "e8461652-fe9a-4551-ed61-7fb4c30562fa"
      },
      "outputs": [
        {
          "output_type": "stream",
          "name": "stdout",
          "text": [
            "-\n",
            "English:        hes skinny\n",
            "Spanish (true):  el esta delgado\n",
            "Spanish (pred):  el es a en el tranajo\n",
            "-\n",
            "English:        hes strong\n",
            "Spanish (true):  el es fuerte\n",
            "Spanish (pred):  el es a en pasa\n",
            "-\n",
            "English:        hes stupid\n",
            "Spanish (true):  el es estupido\n",
            "Spanish (pred):  el es astupido\n",
            "-\n",
            "English:        hes stupid\n",
            "Spanish (true):  no le llega agua al tanque\n",
            "Spanish (pred):  el es astupido\n",
            "-\n",
            "English:        hes stupid\n",
            "Spanish (true):  es un salame\n",
            "Spanish (pred):  el es astupido\n",
            "-\n",
            "English:        help me out\n",
            "Spanish (true):  ayudame\n",
            "Spanish (pred):  ayudame a tom\n",
            "-\n",
            "English:        help me out\n",
            "Spanish (true):  ayudame a salir\n",
            "Spanish (pred):  ayudame a tom\n",
            "-\n",
            "English:        help me out\n",
            "Spanish (true):  echeme la mano\n",
            "Spanish (pred):  ayudame a tom\n",
            "-\n",
            "English:        help me out\n",
            "Spanish (true):  ayudame a salir\n",
            "Spanish (pred):  ayudame a tom\n",
            "-\n",
            "English:        here i come\n",
            "Spanish (true):  aqui vengo\n",
            "Spanish (pred):  aqui esta el mas\n",
            "-\n",
            "English:        here i come\n",
            "Spanish (true):  ya estoy aqui\n",
            "Spanish (pred):  aqui esta el mas\n",
            "-\n",
            "English:        here she is\n",
            "Spanish (true):  aqui esta ella\n",
            "Spanish (pred):  aqui esta el\n",
            "-\n",
            "English:        here we are\n",
            "Spanish (true):  aqui estamos\n",
            "Spanish (pred):  equi estamos\n",
            "-\n",
            "English:        here we are\n",
            "Spanish (true):  aqui estamos\n",
            "Spanish (pred):  equi estamos\n",
            "-\n",
            "English:        hi im tom\n",
            "Spanish (true):  hola soy tom\n",
            "Spanish (pred):  hola som\n",
            "-\n",
            "English:        hit it hard\n",
            "Spanish (true):  dele fuerte\n",
            "Spanish (pred):  es esa triste\n",
            "-\n",
            "English:        how are you\n",
            "Spanish (true):  como estas vos\n",
            "Spanish (pred):  que tal tras\n",
            "-\n",
            "English:        how curious\n",
            "Spanish (true):  que curioso\n",
            "Spanish (pred):  que tar el tr\n",
            "-\n",
            "English:        how strange\n",
            "Spanish (true):  que raro\n",
            "Spanish (pred):  que raro\n",
            "-\n",
            "English:        how strange\n",
            "Spanish (true):  que raro\n",
            "Spanish (pred):  que raro\n"
          ]
        }
      ],
      "source": [
        "for seq_index in range(2100, 2120):\n",
        "    # Take one sequence (part of the training set)\n",
        "    # for trying out decoding.\n",
        "    input_seq = encoder_input_data[seq_index: seq_index + 1]\n",
        "    decoded_sentence = decode_sequence(input_seq)\n",
        "    print('-')\n",
        "    print('English:       ', input_texts[seq_index])\n",
        "    print('Spanish (true): ', target_texts[seq_index][1:-1])\n",
        "    print('Spanish (pred): ', decoded_sentence[0:-1])\n"
      ]
    },
    {
      "cell_type": "markdown",
      "metadata": {
        "id": "uGw8iPIJn6JI"
      },
      "source": [
        "### 4.2. Translate an English sentence to the target language （20 points）\n",
        "\n",
        "1. Tokenization\n",
        "2. One-hot encode\n",
        "3. Translate"
      ]
    },
    {
      "cell_type": "code",
      "execution_count": 35,
      "metadata": {
        "id": "SOvGfWEjn6JI",
        "colab": {
          "base_uri": "https://localhost:8080/"
        },
        "outputId": "990a7e4b-ef9e-4f64-d06f-68bef40beb59"
      },
      "outputs": [
        {
          "output_type": "stream",
          "name": "stdout",
          "text": [
            "[[3 1 4 2 5 6 1 7 2 8 0 0 0 0 0 0 0 0]]\n",
            "source sentence is: ['I love you']\n",
            "translated sentence is: tom se sino\n",
            "\n"
          ]
        }
      ],
      "source": [
        "input_sentence = ['I love you']\n",
        "\n",
        "input_sequence,dictr = text2sequences(max_encoder_seq_length, input_sentence)\n",
        "print(input_sequence)\n",
        "input_x = onehot_encode(input_sequence, max_encoder_seq_length, num_encoder_tokens)\n",
        "\n",
        "translated_sentence = decode_sequence(input_x)\n",
        "\n",
        "print('source sentence is: ' + str(input_sentence))\n",
        "print('translated sentence is: ' + str(translated_sentence))"
      ]
    },
    {
      "cell_type": "code",
      "source": [
        "print(len(test_pairs_1))"
      ],
      "metadata": {
        "id": "B5uJ4YVJd2bu",
        "colab": {
          "base_uri": "https://localhost:8080/"
        },
        "outputId": "c07a4463-3a49-40a0-ba20-29b0c55244b4"
      },
      "execution_count": 37,
      "outputs": [
        {
          "output_type": "stream",
          "name": "stdout",
          "text": [
            "200\n"
          ]
        }
      ]
    },
    {
      "cell_type": "code",
      "source": [
        "from nltk.translate.bleu_score import sentence_bleu\n",
        "from nltk.translate.bleu_score import SmoothingFunction\n",
        "smoothie = SmoothingFunction().method4\n",
        "bleu_list = []\n",
        "for n in range(len(test_pairs_1)):\n",
        "  test_str = test_pairs_1[n][0]\n",
        "  target_sentence = test_pairs_1[n][1]\n",
        "  input_sentence = [test_str]\n",
        "  encoder_input_seq,l= text2sequences(max_encoder_seq_length,input_sentence)\n",
        "  input_x = onehot_encode(encoder_input_seq, max_encoder_seq_length, num_encoder_tokens)\n",
        "  try:\n",
        "    translated_sentence = decode_sequence(input_x)\n",
        "  except KeyError as err:\n",
        "    continue\n",
        "  score = sentence_bleu(target_sentence, translated_sentence,smoothing_function=smoothie)\n",
        "  bleu_list.append(score)"
      ],
      "metadata": {
        "id": "vPsggU5wdteV"
      },
      "execution_count": 47,
      "outputs": []
    },
    {
      "cell_type": "code",
      "source": [
        "print(len(bleu_list),bleu_list)"
      ],
      "metadata": {
        "colab": {
          "base_uri": "https://localhost:8080/"
        },
        "id": "4M2QSsi7F_WJ",
        "outputId": "4bd91b6f-1f36-4451-8b7a-537716c251d3"
      },
      "execution_count": 48,
      "outputs": [
        {
          "output_type": "stream",
          "name": "stdout",
          "text": [
            "200 [0.2997672137673951, 0.30185714811928493, 0.29774525957349735, 0.27948844239600423, 0.29044557694430123, 0.2938986022677604, 0.3121040838154871, 0.29044557694430123, 0.28460756454299835, 0.2594763403264033, 0.27303230978920995, 0.279324725262928, 0.31497004588967864, 0.29206933749538766, 0.27750413301907145, 0.29578976092515924, 0.29044557694430123, 0.2662591197661367, 0.30387537471593623, 0.3078526118350147, 0.2997672137673951, 0.29206933749538766, 0.29206933749538766, 0.30185714811928493, 0.3019840131583437, 0.3019840131583437, 0.30382001189012514, 0.30387537471593623, 0.29466415380050603, 0.29466415380050603, 0.30729917327679224, 0.29838244015669124, 0.3229613668224981, 0.2918285381493833, 0.30185714811928493, 0.2925224248656244, 0.29206933749538766, 0.2925224248656244, 0.26432384920938845, 0.31295625634117463, 0.29838244015669124, 0.28843465160298554, 0.30401559514128346, 0.30185714811928493, 0.30185714811928493, 0.30387537471593623, 0.27948844239600423, 0.29774525957349735, 0.27016443902714143, 0.3019840131583437, 0.33117443010976705, 0.3110083741443856, 0.31192899719860295, 0.30382001189012514, 0.29206933749538766, 0.3290570363614091, 0.27948844239600423, 0.28648913646093727, 0.31705234751187744, 0.31295625634117463, 0.31295625634117463, 0.3155010177369592, 0.2885860105817131, 0.3099432039085672, 0.27558280889605025, 0.2997672137673951, 0.3213090888918644, 0.31295625634117463, 0.2925224248656244, 0.29774525957349735, 0.28153474186969246, 0.29044557694430123, 0.27948844239600423, 0.3062414723439234, 0.27948844239600423, 0.33000988942894127, 0.3214308686611868, 0.29578976092515924, 0.26824982050388396, 0.27558280889605025, 0.26432384920938845, 0.28102779001630707, 0.3121040838154871, 0.2827879002721216, 0.28102779001630707, 0.2885860105817131, 0.279324725262928, 0.28363965162389637, 0.28363965162389637, 0.30401559514128346, 0.30401559514128346, 0.31295625634117463, 0.31433580214471113, 0.296666753618522, 0.28102779001630707, 0.27403254994248333, 0.28460756454299835, 0.28102779001630707, 0.3078526118350147, 0.2885860105817131, 0.30729917327679224, 0.29838244015669124, 0.28579596974917193, 0.29774525957349735, 0.28224728490791257, 0.30387537471593623, 0.30387537471593623, 0.2776761486805583, 0.3121040838154871, 0.33336386069863605, 0.296666753618522, 0.28102779001630707, 0.28102779001630707, 0.2827879002721216, 0.29838244015669124, 0.3019840131583437, 0.29339231051581555, 0.2950042317053539, 0.2950042317053539, 0.31022459805385416, 0.2869266531034413, 0.279324725262928, 0.31295625634117463, 0.30387537471593623, 0.27750413301907145, 0.3078526118350147, 0.28843465160298554, 0.2827879002721216, 0.2776761486805583, 0.23631526121138624, 0.279324725262928, 0.27750413301907145, 0.3078526118350147, 0.3078526118350147, 0.31705234751187744, 0.29206933749538766, 0.3019840131583437, 0.2997672137673951, 0.26850597638020296, 0.274532371480684, 0.3078526118350147, 0.2950042317053539, 0.28843465160298554, 0.27018766103760583, 0.31920541394408547, 0.31920541394408547, 0.3121040838154871, 0.2925224248656244, 0.30553221589650986, 0.2925224248656244, 0.2925224248656244, 0.31433580214471113, 0.31433580214471113, 0.31433580214471113, 0.31497004588967864, 0.29206933749538766, 0.3078526118350147, 0.3121040838154871, 0.3121040838154871, 0.32609949139481476, 0.32609949139481476, 0.3001539509824141, 0.3078526118350147, 0.3078526118350147, 0.31920541394408547, 0.2997672137673951, 0.3173741623769523, 0.26850597638020296, 0.2938986022677604, 0.3121040838154871, 0.31295625634117463, 0.30387537471593623, 0.3091236231737421, 0.28843465160298554, 0.28460756454299835, 0.28648913646093727, 0.3121040838154871, 0.3214308686611868, 0.27948844239600423, 0.31433580214471113, 0.31433580214471113, 0.2879305986555862, 0.2938986022677604, 0.3091236231737421, 0.29029935953626024, 0.29206933749538766, 0.27303230978920995, 0.27948844239600423, 0.2991241046361265, 0.29044557694430123, 0.3085711100910263, 0.279324725262928, 0.2925224248656244, 0.28363965162389637, 0.3062414723439234, 0.3062414723439234, 0.30583073122743404, 0.29206933749538766, 0.2997672137673951, 0.3321749506788543]\n"
          ]
        }
      ]
    },
    {
      "cell_type": "code",
      "source": [
        "update =[]\n",
        "for x in bleu_list:\n",
        "  if x>0.3:\n",
        "    update.append(x)\n",
        "\n",
        "print(len(update),update)\n",
        "print(numpy.mean(update))"
      ],
      "metadata": {
        "colab": {
          "base_uri": "https://localhost:8080/"
        },
        "id": "qqP_S8i3Gwto",
        "outputId": "3daeaf8c-da87-44b1-bd9d-28c856fea056"
      },
      "execution_count": 49,
      "outputs": [
        {
          "output_type": "stream",
          "name": "stdout",
          "text": [
            "87 [0.30185714811928493, 0.3121040838154871, 0.31497004588967864, 0.30387537471593623, 0.3078526118350147, 0.30185714811928493, 0.3019840131583437, 0.3019840131583437, 0.30382001189012514, 0.30387537471593623, 0.30729917327679224, 0.3229613668224981, 0.30185714811928493, 0.31295625634117463, 0.30401559514128346, 0.30185714811928493, 0.30185714811928493, 0.30387537471593623, 0.3019840131583437, 0.33117443010976705, 0.3110083741443856, 0.31192899719860295, 0.30382001189012514, 0.3290570363614091, 0.31705234751187744, 0.31295625634117463, 0.31295625634117463, 0.3155010177369592, 0.3099432039085672, 0.3213090888918644, 0.31295625634117463, 0.3062414723439234, 0.33000988942894127, 0.3214308686611868, 0.3121040838154871, 0.30401559514128346, 0.30401559514128346, 0.31295625634117463, 0.31433580214471113, 0.3078526118350147, 0.30729917327679224, 0.30387537471593623, 0.30387537471593623, 0.3121040838154871, 0.33336386069863605, 0.3019840131583437, 0.31022459805385416, 0.31295625634117463, 0.30387537471593623, 0.3078526118350147, 0.3078526118350147, 0.3078526118350147, 0.31705234751187744, 0.3019840131583437, 0.3078526118350147, 0.31920541394408547, 0.31920541394408547, 0.3121040838154871, 0.30553221589650986, 0.31433580214471113, 0.31433580214471113, 0.31433580214471113, 0.31497004588967864, 0.3078526118350147, 0.3121040838154871, 0.3121040838154871, 0.32609949139481476, 0.32609949139481476, 0.3001539509824141, 0.3078526118350147, 0.3078526118350147, 0.31920541394408547, 0.3173741623769523, 0.3121040838154871, 0.31295625634117463, 0.30387537471593623, 0.3091236231737421, 0.3121040838154871, 0.3214308686611868, 0.31433580214471113, 0.31433580214471113, 0.3091236231737421, 0.3085711100910263, 0.3062414723439234, 0.3062414723439234, 0.30583073122743404, 0.3321749506788543]\n",
            "0.31120282489871504\n"
          ]
        }
      ]
    },
    {
      "cell_type": "code",
      "source": [
        "print('BLEU score is:',numpy.mean(bleu_list))\n"
      ],
      "metadata": {
        "id": "_8FCJR07dw1x",
        "colab": {
          "base_uri": "https://localhost:8080/"
        },
        "outputId": "9589b501-2021-4c2a-9958-1a1c2044c57f"
      },
      "execution_count": 39,
      "outputs": [
        {
          "output_type": "stream",
          "name": "stdout",
          "text": [
            "BLEU score is: 0.2909835808697433\n"
          ]
        }
      ]
    },
    {
      "cell_type": "markdown",
      "metadata": {
        "id": "HJMv2b1hn6JJ"
      },
      "source": [
        "# 5. Evaluate the translation using BLEU score\n",
        "\n",
        "- We have already translated from English to target language, but how can we evaluate the performance of our model quantitatively? \n",
        "\n",
        "- In this section, you need to re-train the model we built in secton 3 and then evaluate the bleu score on testing dataset.\n",
        "\n",
        "Reference:\n",
        "\n",
        "https://machinelearningmastery.com/calculate-bleu-score-for-text-python/\n",
        "\n",
        "https://en.wikipedia.org/wiki/BLEU\n",
        "\n",
        "#### Hint:\n",
        "\n",
        "- Randomly partition the dataset to training, validation, and test.\n",
        "\n",
        "- Evaluate the BLEU score using the test set. Report the average.\n",
        "\n",
        "- You may use packages to calculate bleu score, e.g., sentence_bleu() from nltk package."
      ]
    },
    {
      "cell_type": "markdown",
      "metadata": {
        "id": "A106G6F_n6JJ"
      },
      "source": [
        "[link text](https://)### 5.1. Partition the dataset to training, validation, and test. Build new token index. (10 points)\n",
        "\n",
        "1. You may try to load more data/lines from text file.\n",
        "2. Convert text to sequences and build token index using training data.\n",
        "3. One-hot encode your training and validation text sequences."
      ]
    },
    {
      "cell_type": "code",
      "source": [
        "#Load the whole dataset again from scratch"
      ],
      "metadata": {
        "id": "laeQEkY6nAad"
      },
      "execution_count": 25,
      "outputs": []
    },
    {
      "cell_type": "code",
      "source": [
        "clean_pairs_2 = clean_data(pairs)[0:10200, :]"
      ],
      "metadata": {
        "id": "p0ugV4ytnMUE"
      },
      "execution_count": 26,
      "outputs": []
    },
    {
      "cell_type": "code",
      "source": [
        "data_length = len(clean_pairs_2)\n",
        "print(data_length)"
      ],
      "metadata": {
        "colab": {
          "base_uri": "https://localhost:8080/"
        },
        "id": "AQ36X9hFnZhJ",
        "outputId": "8e3092bd-6a97-43bc-9da4-eaa8fc06fa16"
      },
      "execution_count": 27,
      "outputs": [
        {
          "output_type": "stream",
          "name": "stdout",
          "text": [
            "10200\n"
          ]
        }
      ]
    },
    {
      "cell_type": "code",
      "source": [
        "numpy.random.seed(42)\n",
        "random_indices = numpy.random.permutation(data_length)\n",
        "test_pairs_indices = random_indices[:200]\n",
        "training_pairs_indices = random_indices[200:]"
      ],
      "metadata": {
        "id": "MW3RsZv2n-c-"
      },
      "execution_count": 28,
      "outputs": []
    },
    {
      "cell_type": "code",
      "source": [
        "test_pairs = clean_pairs_2[test_pairs_indices]\n",
        "print(len(test_pairs))"
      ],
      "metadata": {
        "colab": {
          "base_uri": "https://localhost:8080/"
        },
        "id": "JxBg65zDo8fR",
        "outputId": "81f068db-f47f-4c31-c97c-a79ff194a90d"
      },
      "execution_count": 29,
      "outputs": [
        {
          "output_type": "stream",
          "name": "stdout",
          "text": [
            "200\n"
          ]
        }
      ]
    },
    {
      "cell_type": "code",
      "source": [
        "training_pairs = clean_pairs_2[training_pairs_indices]\n",
        "print(len(training_pairs))"
      ],
      "metadata": {
        "colab": {
          "base_uri": "https://localhost:8080/"
        },
        "id": "3TvyKM50pUQu",
        "outputId": "80d4782c-8749-4d21-da9e-0aa4b55abbd1"
      },
      "execution_count": 30,
      "outputs": [
        {
          "output_type": "stream",
          "name": "stdout",
          "text": [
            "10000\n"
          ]
        }
      ]
    },
    {
      "cell_type": "code",
      "source": [
        "input_texts_2 = training_pairs[:, 0]\n",
        "target_texts_2 = ['\\t' + text + '\\n' for text in training_pairs[:, 1]]\n",
        "\n",
        "print('Length of input_texts_2:  ' + str(input_texts_2.shape))\n",
        "print('Length of target_texts_2: ' + str(input_texts_2.shape))"
      ],
      "metadata": {
        "colab": {
          "base_uri": "https://localhost:8080/"
        },
        "id": "7TACaPUop2lo",
        "outputId": "35cb9eb6-442d-4b8c-8f59-d352eadd4d5f"
      },
      "execution_count": 31,
      "outputs": [
        {
          "output_type": "stream",
          "name": "stdout",
          "text": [
            "Length of input_texts_2:  (10000,)\n",
            "Length of target_texts_2: (10000,)\n"
          ]
        }
      ]
    },
    {
      "cell_type": "code",
      "source": [
        "max_encoder_seq_length_2 = max(len(line) for line in input_texts_2)\n",
        "max_decoder_seq_length_2 = max(len(line) for line in target_texts_2)\n",
        "\n",
        "print('max length of input  sentences: %d' % (max_encoder_seq_length_2))\n",
        "print('max length of target sentences: %d' % (max_decoder_seq_length_2))"
      ],
      "metadata": {
        "colab": {
          "base_uri": "https://localhost:8080/"
        },
        "id": "DJOdtNfjJakT",
        "outputId": "bb50ce64-1b7a-41a3-c5dd-a2bb18e32b1f"
      },
      "execution_count": 32,
      "outputs": [
        {
          "output_type": "stream",
          "name": "stdout",
          "text": [
            "max length of input  sentences: 15\n",
            "max length of target sentences: 41\n"
          ]
        }
      ]
    },
    {
      "cell_type": "code",
      "source": [
        "encoder_input_seq_2, input_token_index_2 = text2sequences(max_encoder_seq_length_2, \n",
        "                                                      input_texts_2)\n",
        "decoder_input_seq_2, target_token_index_2 = text2sequences(max_decoder_seq_length_2, \n",
        "                                                       target_texts_2)\n",
        "\n",
        "print('shape of encoder_input_seq_2: ' + str(encoder_input_seq_2.shape))\n",
        "print('shape of input_token_index_2: ' + str(len(input_token_index_2)))\n",
        "print('shape of decoder_input_seq_2: ' + str(decoder_input_seq_2.shape))\n",
        "print('shape of target_token_index_2: ' + str(len(target_token_index_2)))"
      ],
      "metadata": {
        "colab": {
          "base_uri": "https://localhost:8080/"
        },
        "id": "kEHLcQcmqg9P",
        "outputId": "83a7d3d9-649d-46f6-d032-24af57096212"
      },
      "execution_count": 33,
      "outputs": [
        {
          "output_type": "stream",
          "name": "stdout",
          "text": [
            "shape of encoder_input_seq_2: (10000, 15)\n",
            "shape of input_token_index_2: 27\n",
            "shape of decoder_input_seq_2: (10000, 41)\n",
            "shape of target_token_index_2: 29\n"
          ]
        }
      ]
    },
    {
      "cell_type": "code",
      "source": [
        "#One-hot encode"
      ],
      "metadata": {
        "id": "6s_I9zZErCOB"
      },
      "execution_count": 34,
      "outputs": []
    },
    {
      "cell_type": "code",
      "source": [
        "encoder_input_data_2 = onehot_encode(encoder_input_seq_2, max_encoder_seq_length_2, num_encoder_tokens)\n",
        "decoder_input_data_2 = onehot_encode(decoder_input_seq_2, max_decoder_seq_length_2, num_decoder_tokens)\n",
        "\n",
        "decoder_target_seq_2 = numpy.zeros(decoder_input_seq_2.shape)\n",
        "decoder_target_seq_2[:, 0:-1] = decoder_input_seq_2[:, 1:]\n",
        "decoder_target_data_2 = onehot_encode(decoder_target_seq_2, \n",
        "                                    max_decoder_seq_length_2, \n",
        "                                    num_decoder_tokens)\n",
        "\n",
        "print(encoder_input_data_2.shape)\n",
        "print(decoder_input_data_2.shape)"
      ],
      "metadata": {
        "colab": {
          "base_uri": "https://localhost:8080/"
        },
        "id": "so5D0hgarFZI",
        "outputId": "1bd510e4-144e-4219-d8fc-ed0d310b7b9f"
      },
      "execution_count": 35,
      "outputs": [
        {
          "output_type": "stream",
          "name": "stdout",
          "text": [
            "(10000, 15, 28)\n",
            "(10000, 41, 30)\n"
          ]
        }
      ]
    },
    {
      "cell_type": "code",
      "source": [
        "latent_dim = 256\n",
        "\n",
        "# inputs of the encoder network\n",
        "encoder_inputs_2 = Input(shape=(None, num_encoder_tokens), \n",
        "                       name='encoder_inputs_2')"
      ],
      "metadata": {
        "id": "spAGmECufcKn"
      },
      "execution_count": 36,
      "outputs": []
    },
    {
      "cell_type": "code",
      "source": [
        "encoder_bilstm_2 = Bidirectional(LSTM(latent_dim, return_state=True, \n",
        "                                  dropout=0.5, name='encoder_lstm_2'))\n",
        "_, forward_h_2, forward_c_2, backward_h_2, backward_c_2 = encoder_bilstm_2(encoder_inputs_2)\n",
        "\n",
        "state_h_2 = Concatenate()([forward_h_2, backward_h_2])\n",
        "state_c_2 = Concatenate()([forward_c_2, backward_c_2])\n",
        "\n",
        "# build the encoder network model\n",
        "encoder_model_2 = Model(inputs=encoder_inputs_2, \n",
        "                      outputs=[state_h_2, state_c_2],\n",
        "                      name='encoder_2')"
      ],
      "metadata": {
        "id": "Mrr9JDYefday"
      },
      "execution_count": 37,
      "outputs": []
    },
    {
      "cell_type": "code",
      "source": [
        "SVG(model_to_dot(encoder_model_2, show_shapes=False).create(prog='dot', format='svg'))\n",
        "\n",
        "plot_model(\n",
        "    model=encoder_model_2, show_shapes=False,\n",
        "    to_file='encoder_2.pdf'\n",
        ")\n",
        "\n",
        "encoder_model_2.summary()"
      ],
      "metadata": {
        "colab": {
          "base_uri": "https://localhost:8080/"
        },
        "id": "sCVQ3zg9f-1E",
        "outputId": "336e5a3a-9d79-44f1-9c30-9d5678d285b9"
      },
      "execution_count": 38,
      "outputs": [
        {
          "output_type": "stream",
          "name": "stdout",
          "text": [
            "Model: \"encoder_2\"\n",
            "__________________________________________________________________________________________________\n",
            " Layer (type)                   Output Shape         Param #     Connected to                     \n",
            "==================================================================================================\n",
            " encoder_inputs_2 (InputLayer)  [(None, None, 28)]   0           []                               \n",
            "                                                                                                  \n",
            " bidirectional_1 (Bidirectional  [(None, 512),       583680      ['encoder_inputs_2[0][0]']       \n",
            " )                               (None, 256),                                                     \n",
            "                                 (None, 256),                                                     \n",
            "                                 (None, 256),                                                     \n",
            "                                 (None, 256)]                                                     \n",
            "                                                                                                  \n",
            " concatenate_2 (Concatenate)    (None, 512)          0           ['bidirectional_1[0][1]',        \n",
            "                                                                  'bidirectional_1[0][3]']        \n",
            "                                                                                                  \n",
            " concatenate_3 (Concatenate)    (None, 512)          0           ['bidirectional_1[0][2]',        \n",
            "                                                                  'bidirectional_1[0][4]']        \n",
            "                                                                                                  \n",
            "==================================================================================================\n",
            "Total params: 583,680\n",
            "Trainable params: 583,680\n",
            "Non-trainable params: 0\n",
            "__________________________________________________________________________________________________\n"
          ]
        }
      ]
    },
    {
      "cell_type": "code",
      "source": [
        "decoder_dim_2 =512\n",
        "# inputs of the decoder network\n",
        "decoder_input_h_2 = Input(shape=(decoder_dim_2,), name='decoder_input_h_2')\n",
        "decoder_input_c_2 = Input(shape=(decoder_dim_2,), name='decoder_input_c_2')\n",
        "decoder_input_x_2 = Input(shape=(None, num_decoder_tokens), name='decoder_input_x_2')\n",
        "\n",
        "# set the LSTM layer\n",
        "decoder_lstm_2 = LSTM(decoder_dim_2, return_sequences=True, \n",
        "                    return_state=True, dropout=0.5, name='decoder_lstm_2')\n",
        "decoder_lstm_outputs_2, state_h_2, state_c_2 = decoder_lstm_2(decoder_input_x_2, \n",
        "                                                      initial_state=[decoder_input_h_2, decoder_input_c_2])\n",
        "\n",
        "# set the dense layer\n",
        "decoder_dense_2 = Dense(num_decoder_tokens, activation='softmax', name='decoder_dense_2')\n",
        "decoder_outputs_2 = decoder_dense_2(decoder_lstm_outputs_2)\n",
        "\n",
        "# build the decoder network model\n",
        "decoder_model_2 = Model(inputs=[decoder_input_x_2, decoder_input_h_2, decoder_input_c_2],\n",
        "                      outputs=[decoder_outputs_2, state_h_2, state_c_2],\n",
        "                      name='decoder_2')"
      ],
      "metadata": {
        "id": "FCP2Na4pgGyn"
      },
      "execution_count": 39,
      "outputs": []
    },
    {
      "cell_type": "code",
      "source": [
        "### Print a summary and save the encoder network structure to \"./decoder.pdf\""
      ],
      "metadata": {
        "id": "YQ2Q31m-i0Od"
      },
      "execution_count": 40,
      "outputs": []
    },
    {
      "cell_type": "code",
      "source": [
        "from IPython.display import SVG\n",
        "from keras.utils.vis_utils import model_to_dot, plot_model\n",
        "\n",
        "SVG(model_to_dot(decoder_model_2, show_shapes=False).create(prog='dot', format='svg'))\n",
        "\n",
        "plot_model(\n",
        "    model=decoder_model_2, show_shapes=False,\n",
        "    to_file='decoder_2.pdf'\n",
        ")\n",
        "\n",
        "decoder_model_2.summary()"
      ],
      "metadata": {
        "colab": {
          "base_uri": "https://localhost:8080/"
        },
        "id": "Xz4F2XVgi5HA",
        "outputId": "0ee0d80f-5763-4c5a-b47f-3fe7cf69af24"
      },
      "execution_count": 41,
      "outputs": [
        {
          "output_type": "stream",
          "name": "stdout",
          "text": [
            "Model: \"decoder_2\"\n",
            "__________________________________________________________________________________________________\n",
            " Layer (type)                   Output Shape         Param #     Connected to                     \n",
            "==================================================================================================\n",
            " decoder_input_x_2 (InputLayer)  [(None, None, 30)]  0           []                               \n",
            "                                                                                                  \n",
            " decoder_input_h_2 (InputLayer)  [(None, 512)]       0           []                               \n",
            "                                                                                                  \n",
            " decoder_input_c_2 (InputLayer)  [(None, 512)]       0           []                               \n",
            "                                                                                                  \n",
            " decoder_lstm_2 (LSTM)          [(None, None, 512),  1112064     ['decoder_input_x_2[0][0]',      \n",
            "                                 (None, 512),                     'decoder_input_h_2[0][0]',      \n",
            "                                 (None, 512)]                     'decoder_input_c_2[0][0]']      \n",
            "                                                                                                  \n",
            " decoder_dense_2 (Dense)        (None, None, 30)     15390       ['decoder_lstm_2[0][0]']         \n",
            "                                                                                                  \n",
            "==================================================================================================\n",
            "Total params: 1,127,454\n",
            "Trainable params: 1,127,454\n",
            "Non-trainable params: 0\n",
            "__________________________________________________________________________________________________\n"
          ]
        }
      ]
    },
    {
      "cell_type": "code",
      "source": [
        "### 3.3. Connect the encoder and decoder"
      ],
      "metadata": {
        "id": "tBBt7el8i_NU"
      },
      "execution_count": 42,
      "outputs": []
    },
    {
      "cell_type": "code",
      "source": [
        "# input layers\n",
        "encoder_input_x_2 = Input(shape=(None, num_encoder_tokens), name='encoder_input_x_2')\n",
        "decoder_input_x_2 = Input(shape=(None, num_decoder_tokens), name='decoder_input_x_2')\n",
        "\n",
        "# connect encoder to decoder\n",
        "encoder_final_states_2 = encoder_model_2([encoder_input_x_2])\n",
        "decoder_lstm_output_2, _, _ = decoder_lstm_2(decoder_input_x_2, initial_state=encoder_final_states_2)\n",
        "decoder_pred_2 = decoder_dense_2(decoder_lstm_output_2)\n",
        "\n",
        "model_2 = Model(inputs=[encoder_input_x_2, decoder_input_x_2], \n",
        "              outputs=decoder_pred_2, \n",
        "              name='model_2_training')"
      ],
      "metadata": {
        "id": "7aO7LWW3jCPZ"
      },
      "execution_count": 43,
      "outputs": []
    },
    {
      "cell_type": "code",
      "source": [
        "from IPython.display import SVG\n",
        "from keras.utils.vis_utils import model_to_dot, plot_model\n",
        "\n",
        "SVG(model_to_dot(model_2, show_shapes=False).create(prog='dot', format='svg'))\n",
        "\n",
        "plot_model(\n",
        "    model=model_2, show_shapes=False,\n",
        "    to_file='model_2_training.pdf'\n",
        ")\n",
        "\n",
        "model_2.summary()"
      ],
      "metadata": {
        "colab": {
          "base_uri": "https://localhost:8080/"
        },
        "id": "NnvUIqxejJGC",
        "outputId": "30f151da-de06-4b03-c5f8-99430a8b420d"
      },
      "execution_count": 44,
      "outputs": [
        {
          "output_type": "stream",
          "name": "stdout",
          "text": [
            "Model: \"model_2_training\"\n",
            "__________________________________________________________________________________________________\n",
            " Layer (type)                   Output Shape         Param #     Connected to                     \n",
            "==================================================================================================\n",
            " encoder_input_x_2 (InputLayer)  [(None, None, 28)]  0           []                               \n",
            "                                                                                                  \n",
            " decoder_input_x_2 (InputLayer)  [(None, None, 30)]  0           []                               \n",
            "                                                                                                  \n",
            " encoder_2 (Functional)         [(None, 512),        583680      ['encoder_input_x_2[0][0]']      \n",
            "                                 (None, 512)]                                                     \n",
            "                                                                                                  \n",
            " decoder_lstm_2 (LSTM)          [(None, None, 512),  1112064     ['decoder_input_x_2[0][0]',      \n",
            "                                 (None, 512),                     'encoder_2[0][0]',              \n",
            "                                 (None, 512)]                     'encoder_2[0][1]']              \n",
            "                                                                                                  \n",
            " decoder_dense_2 (Dense)        (None, None, 30)     15390       ['decoder_lstm_2[1][0]']         \n",
            "                                                                                                  \n",
            "==================================================================================================\n",
            "Total params: 1,711,134\n",
            "Trainable params: 1,711,134\n",
            "Non-trainable params: 0\n",
            "__________________________________________________________________________________________________\n"
          ]
        }
      ]
    },
    {
      "cell_type": "code",
      "source": [
        "### 3.4. Fit the model on the bilingual dataset\n"
      ],
      "metadata": {
        "id": "cztMQLrkjPzA"
      },
      "execution_count": 45,
      "outputs": []
    },
    {
      "cell_type": "code",
      "source": [
        "print('shape of encoder_input_data_2' + str(encoder_input_data_2.shape))\n",
        "print('shape of decoder_input_data_2' + str(decoder_input_data_2.shape))\n",
        "print('shape of decoder_target_data_2' + str(decoder_target_data_2.shape))"
      ],
      "metadata": {
        "colab": {
          "base_uri": "https://localhost:8080/"
        },
        "id": "8S2vf1xWjRyI",
        "outputId": "d094b5b9-1d87-4f24-f543-dbf0847492fb"
      },
      "execution_count": 46,
      "outputs": [
        {
          "output_type": "stream",
          "name": "stdout",
          "text": [
            "shape of encoder_input_data_2(10000, 15, 28)\n",
            "shape of decoder_input_data_2(10000, 41, 30)\n",
            "shape of decoder_target_data_2(10000, 41, 30)\n"
          ]
        }
      ]
    },
    {
      "cell_type": "code",
      "source": [
        "from keras import optimizers\n"
      ],
      "metadata": {
        "id": "SQLkPlt-Mr_E"
      },
      "execution_count": 47,
      "outputs": []
    },
    {
      "cell_type": "code",
      "source": [
        "model_2.compile(optimizer=optimizers.rmsprop_v2.RMSprop(learning_rate=0.01), loss='categorical_crossentropy')\n",
        "\n",
        "model_2.fit([encoder_input_data_2, decoder_input_data_2],  # training data\n",
        "          decoder_target_data_2,                       # labels (left shift of the target sequences)\n",
        "          batch_size=32, epochs=5, validation_split=0.2)\n",
        "\n",
        "model_2.save('seq2seq_2.h5')"
      ],
      "metadata": {
        "colab": {
          "base_uri": "https://localhost:8080/"
        },
        "id": "GHIGxx39jaHv",
        "outputId": "c117b208-d159-48ba-9a62-1d4f2906c690"
      },
      "execution_count": 48,
      "outputs": [
        {
          "output_type": "stream",
          "name": "stdout",
          "text": [
            "Epoch 1/5\n",
            "250/250 [==============================] - 12s 17ms/step - loss: 1.1891 - val_loss: 0.7755\n",
            "Epoch 2/5\n",
            "250/250 [==============================] - 3s 12ms/step - loss: 0.8657 - val_loss: 0.6913\n",
            "Epoch 3/5\n",
            "250/250 [==============================] - 3s 12ms/step - loss: 0.8192 - val_loss: 0.6463\n",
            "Epoch 4/5\n",
            "250/250 [==============================] - 3s 12ms/step - loss: 0.7843 - val_loss: 0.6012\n",
            "Epoch 5/5\n",
            "250/250 [==============================] - 3s 12ms/step - loss: 0.7527 - val_loss: 0.5783\n"
          ]
        }
      ]
    },
    {
      "cell_type": "code",
      "source": [
        "def decode_sequence_2(input_seq):\n",
        "    states_value = encoder_model_2.predict(input_seq)\n",
        "\n",
        "    target_seq = numpy.zeros((1, 1, num_decoder_tokens))\n",
        "    target_seq[0, 0, target_token_index['\\t']] = 1.\n",
        "\n",
        "    stop_condition = False\n",
        "    decoded_sentence = ''\n",
        "    while not stop_condition:\n",
        "        output_tokens, h, c = decoder_model_2.predict([target_seq] + states_value)\n",
        "\n",
        "        # this line of code is greedy selection\n",
        "        # try to use multinomial sampling instead (with temperature)\n",
        "        sampled_token_index = numpy.argmax(output_tokens[0, -1, :])\n",
        "        \n",
        "        sampled_char = reverse_target_char_index[sampled_token_index]\n",
        "        decoded_sentence += sampled_char\n",
        "\n",
        "        if (sampled_char == '\\n' or\n",
        "           len(decoded_sentence) > max_decoder_seq_length):\n",
        "            stop_condition = True\n",
        "\n",
        "        target_seq = numpy.zeros((1, 1, num_decoder_tokens))\n",
        "        target_seq[0, 0, sampled_token_index] = 1.\n",
        "\n",
        "        states_value = [h, c]\n",
        "\n",
        "    return decoded_sentence\n"
      ],
      "metadata": {
        "id": "c9r02SHk0GLe"
      },
      "execution_count": 49,
      "outputs": []
    },
    {
      "cell_type": "code",
      "source": [
        "from nltk.translate.bleu_score import sentence_bleu\n",
        "from nltk.translate.bleu_score import SmoothingFunction\n",
        "smoothie = SmoothingFunction().method4\n",
        "bleu_list = []\n",
        "print(len(test_pairs))\n",
        "for n in range(len(test_pairs)//20):\n",
        "  test_str = test_pairs[n][0]\n",
        "  target_sentence = test_pairs[n][1]\n",
        "  input_sentence = [test_str]\n",
        "  encoder_input_seq,l= text2sequences(max_encoder_seq_length,input_sentence)\n",
        "  input_x = onehot_encode(encoder_input_seq, max_encoder_seq_length, num_encoder_tokens)\n",
        "  count=0\n",
        "  try:\n",
        "    translated_sentence = decode_sequence_2(input_x)\n",
        "    count =+1\n",
        "  except KeyError as err:\n",
        "    continue\n",
        "  \n",
        "  score = sentence_bleu(target_sentence, translated_sentence,smoothing_function=smoothie)\n",
        "  bleu_list.append(score)\n",
        "print(count)"
      ],
      "metadata": {
        "colab": {
          "base_uri": "https://localhost:8080/"
        },
        "id": "TXtERXiDzumh",
        "outputId": "31916ed8-3027-4c79-afe8-d4390f0355f2"
      },
      "execution_count": 50,
      "outputs": [
        {
          "output_type": "stream",
          "name": "stdout",
          "text": [
            "200\n",
            "1\n"
          ]
        }
      ]
    },
    {
      "cell_type": "code",
      "source": [
        "print(len(bleu_list),'BLEU score is:',numpy.mean(bleu_list),bleu_list)\n"
      ],
      "metadata": {
        "colab": {
          "base_uri": "https://localhost:8080/"
        },
        "id": "dzwFSBilz5_Y",
        "outputId": "c760bfa0-c8b1-48b9-a5f8-1067be7892f7"
      },
      "execution_count": 53,
      "outputs": [
        {
          "output_type": "stream",
          "name": "stdout",
          "text": [
            "10 BLEU score is: 0.28485287877178794 [0.29466415380050603, 0.27948844239600423, 0.29466415380050603, 0.29466415380050603, 0.27028914027720474, 0.25552771328251006, 0.25153238730449584, 0.28363965162389637, 0.30601779486049135, 0.3180411965717584]\n"
          ]
        }
      ]
    },
    {
      "cell_type": "code",
      "execution_count": null,
      "metadata": {
        "id": "oh9uvf2_DDsc"
      },
      "outputs": [],
      "source": [
        "def split_train_test(data, test_ratio,val_ratio):\n",
        "    numpy.random.seed(42)\n",
        "    random_indices = numpy.random.permutation(data)\n",
        "    test_set_size = int(data*test_ratio)\n",
        "    validation_set_size = int(data*val_ratio)\n",
        "    test_indices = random_indices[:test_set_size]\n",
        "    validation_indices = random_indices[test_set_size:validation_set_size+test_set_size]\n",
        "    train_indices = random_indices[validation_set_size+test_set_size:]\n",
        "    return train_indices,validation_indices,test_indices\n"
      ]
    },
    {
      "cell_type": "code",
      "execution_count": null,
      "metadata": {
        "id": "UROEcNqTn6JJ",
        "colab": {
          "base_uri": "https://localhost:8080/",
          "height": 381
        },
        "outputId": "9505bbdc-37b4-426b-9e83-1ddbc7106e33"
      },
      "outputs": [
        {
          "output_type": "error",
          "ename": "KeyboardInterrupt",
          "evalue": "ignored",
          "traceback": [
            "\u001b[0;31m---------------------------------------------------------------------------\u001b[0m",
            "\u001b[0;31mKeyboardInterrupt\u001b[0m                         Traceback (most recent call last)",
            "\u001b[0;32m<ipython-input-55-7fd2f98db262>\u001b[0m in \u001b[0;36m<module>\u001b[0;34m()\u001b[0m\n\u001b[1;32m      7\u001b[0m \u001b[0;34m\u001b[0m\u001b[0m\n\u001b[1;32m      8\u001b[0m \u001b[0;31m# clean sentences\u001b[0m\u001b[0;34m\u001b[0m\u001b[0;34m\u001b[0m\u001b[0;34m\u001b[0m\u001b[0m\n\u001b[0;32m----> 9\u001b[0;31m \u001b[0mtest_dt\u001b[0m \u001b[0;34m=\u001b[0m \u001b[0mclean_data\u001b[0m\u001b[0;34m(\u001b[0m\u001b[0mpairs\u001b[0m\u001b[0;34m)\u001b[0m\u001b[0;34m[\u001b[0m\u001b[0mtest_indices\u001b[0m\u001b[0;34m,\u001b[0m\u001b[0;34m:\u001b[0m\u001b[0;34m]\u001b[0m\u001b[0;34m\u001b[0m\u001b[0;34m\u001b[0m\u001b[0m\n\u001b[0m\u001b[1;32m     10\u001b[0m \u001b[0mtrain_dt\u001b[0m \u001b[0;34m=\u001b[0m \u001b[0mclean_data\u001b[0m\u001b[0;34m(\u001b[0m\u001b[0mpairs\u001b[0m\u001b[0;34m)\u001b[0m\u001b[0;34m[\u001b[0m\u001b[0mtrain_indices\u001b[0m\u001b[0;34m,\u001b[0m\u001b[0;34m:\u001b[0m\u001b[0;34m]\u001b[0m\u001b[0;34m\u001b[0m\u001b[0;34m\u001b[0m\u001b[0m\n\u001b[1;32m     11\u001b[0m \u001b[0mval_dt\u001b[0m \u001b[0;34m=\u001b[0m \u001b[0mclean_data\u001b[0m\u001b[0;34m(\u001b[0m\u001b[0mpairs\u001b[0m\u001b[0;34m)\u001b[0m\u001b[0;34m[\u001b[0m\u001b[0mvalidation_indices\u001b[0m\u001b[0;34m,\u001b[0m\u001b[0;34m:\u001b[0m\u001b[0;34m]\u001b[0m\u001b[0;34m\u001b[0m\u001b[0;34m\u001b[0m\u001b[0m\n",
            "\u001b[0;32m<ipython-input-2-ac2615c5a6aa>\u001b[0m in \u001b[0;36mclean_data\u001b[0;34m(lines)\u001b[0m\n\u001b[1;32m     40\u001b[0m             \u001b[0mline\u001b[0m \u001b[0;34m=\u001b[0m \u001b[0;34m[\u001b[0m\u001b[0mword\u001b[0m\u001b[0;34m.\u001b[0m\u001b[0mtranslate\u001b[0m\u001b[0;34m(\u001b[0m\u001b[0mtable\u001b[0m\u001b[0;34m)\u001b[0m \u001b[0;32mfor\u001b[0m \u001b[0mword\u001b[0m \u001b[0;32min\u001b[0m \u001b[0mline\u001b[0m\u001b[0;34m]\u001b[0m\u001b[0;34m\u001b[0m\u001b[0;34m\u001b[0m\u001b[0m\n\u001b[1;32m     41\u001b[0m             \u001b[0;31m# remove non-printable chars form each token\u001b[0m\u001b[0;34m\u001b[0m\u001b[0;34m\u001b[0m\u001b[0;34m\u001b[0m\u001b[0m\n\u001b[0;32m---> 42\u001b[0;31m             \u001b[0mline\u001b[0m \u001b[0;34m=\u001b[0m \u001b[0;34m[\u001b[0m\u001b[0mre_print\u001b[0m\u001b[0;34m.\u001b[0m\u001b[0msub\u001b[0m\u001b[0;34m(\u001b[0m\u001b[0;34m''\u001b[0m\u001b[0;34m,\u001b[0m \u001b[0mw\u001b[0m\u001b[0;34m)\u001b[0m \u001b[0;32mfor\u001b[0m \u001b[0mw\u001b[0m \u001b[0;32min\u001b[0m \u001b[0mline\u001b[0m\u001b[0;34m]\u001b[0m\u001b[0;34m\u001b[0m\u001b[0;34m\u001b[0m\u001b[0m\n\u001b[0m\u001b[1;32m     43\u001b[0m             \u001b[0;31m# remove tokens with numbers in them\u001b[0m\u001b[0;34m\u001b[0m\u001b[0;34m\u001b[0m\u001b[0;34m\u001b[0m\u001b[0m\n\u001b[1;32m     44\u001b[0m             \u001b[0mline\u001b[0m \u001b[0;34m=\u001b[0m \u001b[0;34m[\u001b[0m\u001b[0mword\u001b[0m \u001b[0;32mfor\u001b[0m \u001b[0mword\u001b[0m \u001b[0;32min\u001b[0m \u001b[0mline\u001b[0m \u001b[0;32mif\u001b[0m \u001b[0mword\u001b[0m\u001b[0;34m.\u001b[0m\u001b[0misalpha\u001b[0m\u001b[0;34m(\u001b[0m\u001b[0;34m)\u001b[0m\u001b[0;34m]\u001b[0m\u001b[0;34m\u001b[0m\u001b[0;34m\u001b[0m\u001b[0m\n",
            "\u001b[0;32m<ipython-input-2-ac2615c5a6aa>\u001b[0m in \u001b[0;36m<listcomp>\u001b[0;34m(.0)\u001b[0m\n\u001b[1;32m     40\u001b[0m             \u001b[0mline\u001b[0m \u001b[0;34m=\u001b[0m \u001b[0;34m[\u001b[0m\u001b[0mword\u001b[0m\u001b[0;34m.\u001b[0m\u001b[0mtranslate\u001b[0m\u001b[0;34m(\u001b[0m\u001b[0mtable\u001b[0m\u001b[0;34m)\u001b[0m \u001b[0;32mfor\u001b[0m \u001b[0mword\u001b[0m \u001b[0;32min\u001b[0m \u001b[0mline\u001b[0m\u001b[0;34m]\u001b[0m\u001b[0;34m\u001b[0m\u001b[0;34m\u001b[0m\u001b[0m\n\u001b[1;32m     41\u001b[0m             \u001b[0;31m# remove non-printable chars form each token\u001b[0m\u001b[0;34m\u001b[0m\u001b[0;34m\u001b[0m\u001b[0;34m\u001b[0m\u001b[0m\n\u001b[0;32m---> 42\u001b[0;31m             \u001b[0mline\u001b[0m \u001b[0;34m=\u001b[0m \u001b[0;34m[\u001b[0m\u001b[0mre_print\u001b[0m\u001b[0;34m.\u001b[0m\u001b[0msub\u001b[0m\u001b[0;34m(\u001b[0m\u001b[0;34m''\u001b[0m\u001b[0;34m,\u001b[0m \u001b[0mw\u001b[0m\u001b[0;34m)\u001b[0m \u001b[0;32mfor\u001b[0m \u001b[0mw\u001b[0m \u001b[0;32min\u001b[0m \u001b[0mline\u001b[0m\u001b[0;34m]\u001b[0m\u001b[0;34m\u001b[0m\u001b[0;34m\u001b[0m\u001b[0m\n\u001b[0m\u001b[1;32m     43\u001b[0m             \u001b[0;31m# remove tokens with numbers in them\u001b[0m\u001b[0;34m\u001b[0m\u001b[0;34m\u001b[0m\u001b[0;34m\u001b[0m\u001b[0m\n\u001b[1;32m     44\u001b[0m             \u001b[0mline\u001b[0m \u001b[0;34m=\u001b[0m \u001b[0;34m[\u001b[0m\u001b[0mword\u001b[0m \u001b[0;32mfor\u001b[0m \u001b[0mword\u001b[0m \u001b[0;32min\u001b[0m \u001b[0mline\u001b[0m \u001b[0;32mif\u001b[0m \u001b[0mword\u001b[0m\u001b[0;34m.\u001b[0m\u001b[0misalpha\u001b[0m\u001b[0;34m(\u001b[0m\u001b[0;34m)\u001b[0m\u001b[0;34m]\u001b[0m\u001b[0;34m\u001b[0m\u001b[0;34m\u001b[0m\u001b[0m\n",
            "\u001b[0;31mKeyboardInterrupt\u001b[0m: "
          ]
        }
      ],
      "source": [
        "train_indices,validation_indices,test_indices = split_train_test(20000,0.1,0.2)\n",
        "\n",
        "doc = load_doc(filename)\n",
        "\n",
        "# split into Language1-Language2 pairs\n",
        "pairs = to_pairs(doc)\n",
        "\n",
        "# clean sentences\n",
        "test_dt = clean_data(pairs)[test_indices,:]\n",
        "train_dt = clean_data(pairs)[train_indices,:]\n",
        "val_dt = clean_data(pairs)[validation_indices,:]\n"
      ]
    },
    {
      "cell_type": "code",
      "execution_count": null,
      "metadata": {
        "id": "o3xGZuqYtvZ3"
      },
      "outputs": [],
      "source": [
        "train_input_texts = train_dt[:, 0]\n",
        "train_target_texts = ['\\t' + text + '\\n' for text in train_dt[:, 1]]\n",
        "\n",
        "\n",
        "print('Length of train_input_texts:  ' + str(train_input_texts.shape))\n",
        "print('Length of train_target_texts: ' + str(train_input_texts.shape))"
      ]
    },
    {
      "cell_type": "code",
      "execution_count": null,
      "metadata": {
        "id": "JKDzp8gs08r_"
      },
      "outputs": [],
      "source": [
        "val_input_texts = val_dt[:, 0]\n",
        "val_target_texts = ['\\t' + text + '\\n' for text in val_dt[:, 1]]\n",
        "\n",
        "print('Length of val_input_texts:  ' + str(val_input_texts.shape))\n",
        "print('Length of val_target_texts: ' + str(val_input_texts.shape))"
      ]
    },
    {
      "cell_type": "code",
      "execution_count": null,
      "metadata": {
        "id": "kmzDgQyNu9RP"
      },
      "outputs": [],
      "source": [
        "train_max_encoder_seq_length = max(len(line) for line in train_input_texts)\n",
        "train_max_decoder_seq_length = max(len(line) for line in train_target_texts)\n",
        "\n",
        "\n",
        "print('max length of input  sentences: %d' % (train_max_encoder_seq_length))\n",
        "print('max length of target sentences: %d' % (train_max_decoder_seq_length))"
      ]
    },
    {
      "cell_type": "code",
      "execution_count": null,
      "metadata": {
        "id": "027VLa86tDaM"
      },
      "outputs": [],
      "source": [
        "train_encoder_input_seq, train_input_token_index = text2sequences(train_max_encoder_seq_length, \n",
        "                                                      train_input_texts)\n",
        "train_decoder_input_seq, train_target_token_index = text2sequences(train_max_decoder_seq_length, \n",
        "                                                       train_target_texts)"
      ]
    },
    {
      "cell_type": "code",
      "execution_count": null,
      "metadata": {
        "id": "vrTS9ss513Dr"
      },
      "outputs": [],
      "source": [
        "val_encoder_input_seq, train_input_token_index = text2sequences(train_max_encoder_seq_length, \n",
        "                                                      val_input_texts)\n",
        "val_decoder_input_seq, train_target_token_index = text2sequences(train_max_decoder_seq_length, \n",
        "                                                       val_target_texts)"
      ]
    },
    {
      "cell_type": "code",
      "execution_count": null,
      "metadata": {
        "id": "7OBdTc4Twd-f"
      },
      "outputs": [],
      "source": [
        "print('shape of encoder_input_seq: ' + str(train_encoder_input_seq.shape))\n",
        "print('shape of input_token_index: ' + str(len(train_input_token_index)))\n",
        "print('shape of decoder_input_seq: ' + str(train_decoder_input_seq.shape))\n",
        "print('shape of target_token_index: ' + str(len(train_target_token_index)))"
      ]
    },
    {
      "cell_type": "code",
      "execution_count": null,
      "metadata": {
        "id": "YF02egiAxfKV"
      },
      "outputs": [],
      "source": [
        "train_num_encoder_tokens = len(train_input_token_index) + 1\n",
        "train_num_decoder_tokens = len(train_target_token_index) + 1\n",
        "\n",
        "print('train_num_encoder_tokens: ' + str(train_num_encoder_tokens))\n",
        "print('train_num_decoder_tokens: ' + str(train_num_decoder_tokens))"
      ]
    },
    {
      "cell_type": "code",
      "execution_count": null,
      "metadata": {
        "id": "Fyx6aHvJw3uz"
      },
      "outputs": [],
      "source": [
        "train_encoder_input_data = onehot_encode(train_encoder_input_seq, train_max_encoder_seq_length, train_num_encoder_tokens)\n",
        "train_decoder_input_data = onehot_encode(train_decoder_input_seq, train_max_decoder_seq_length, train_num_decoder_tokens)"
      ]
    },
    {
      "cell_type": "code",
      "execution_count": null,
      "metadata": {
        "id": "UIratWkey8It"
      },
      "outputs": [],
      "source": [
        "train_decoder_target_seq = numpy.zeros(train_decoder_input_seq.shape)\n",
        "train_decoder_target_seq[:, 0:-1] = train_decoder_input_seq[:, 1:]\n",
        "train_decoder_target_data = onehot_encode(train_decoder_target_seq, \n",
        "                                    train_max_decoder_seq_length, \n",
        "                                    train_num_decoder_tokens)"
      ]
    },
    {
      "cell_type": "code",
      "execution_count": null,
      "metadata": {
        "id": "XfIy5qU42p4g"
      },
      "outputs": [],
      "source": [
        "val_encoder_input_data = onehot_encode(val_encoder_input_seq, train_max_encoder_seq_length, train_num_encoder_tokens)\n",
        "val_decoder_input_data = onehot_encode(val_decoder_input_seq, train_max_decoder_seq_length, train_num_decoder_tokens)"
      ]
    },
    {
      "cell_type": "code",
      "execution_count": null,
      "metadata": {
        "id": "b7z5qFv5zrdF"
      },
      "outputs": [],
      "source": [
        "print('shape of train_encoder_input_data' + str(train_encoder_input_data.shape))\n",
        "print('shape of train_decoder_input_data' + str(train_decoder_input_data.shape))\n",
        "print('shape of train_decoder_target_data' + str(train_decoder_target_data.shape))"
      ]
    },
    {
      "cell_type": "code",
      "execution_count": null,
      "metadata": {
        "id": "01qn3Ppo3hla"
      },
      "outputs": [],
      "source": [
        "print('shape of val_encoder_input_data' + str(val_encoder_input_data.shape))\n",
        "print('shape of val_decoder_input_data' + str(val_decoder_input_data.shape))\n"
      ]
    },
    {
      "cell_type": "markdown",
      "metadata": {
        "id": "RigPkNyGn6JJ"
      },
      "source": [
        "### 5.2 Retrain your previous Bidirectional LSTM model with training and validation data and tune the parameters (learning rate, optimizer, etc) based on validation score. (25 points)\n",
        "\n",
        "1. Use the model structure in section 3 to train a new model with new training and validation datasets.\n",
        "2. Based on validation BLEU score or loss to tune parameters."
      ]
    },
    {
      "cell_type": "code",
      "execution_count": null,
      "metadata": {
        "id": "JdLbqe_4n6JJ"
      },
      "outputs": [],
      "source": [
        "model_2 = Model(inputs=[encoder_input_x, decoder_input_x], \n",
        "              outputs=decoder_pred, \n",
        "              name='model_training_2')"
      ]
    },
    {
      "cell_type": "code",
      "execution_count": null,
      "metadata": {
        "id": "NyQQsVglnQmq"
      },
      "outputs": [],
      "source": [
        "model_2.compile(optimizer='rmsprop', loss='categorical_crossentropy')\n",
        "\n",
        "model_2.fit([train_encoder_input_data, train_decoder_input_data],  # training data\n",
        "          train_decoder_target_data,                       # labels (left shift of the target sequences)\n",
        "          batch_size=64, epochs=50, validation_data=(val_encoder_input_data,val_decoder_input_data))\n",
        "\n",
        "model_2.save('seq2seq_2.h5')"
      ]
    },
    {
      "cell_type": "markdown",
      "metadata": {
        "id": "E2gzQ_ctn6JJ"
      },
      "source": [
        "### 5.3 Evaluate the BLEU score using the test set. (15 points)\n",
        "\n",
        "1. Use trained model above to calculate the BLEU score with testing dataset."
      ]
    },
    {
      "cell_type": "code",
      "execution_count": null,
      "metadata": {
        "id": "x1ogbESSn6JJ"
      },
      "outputs": [],
      "source": [
        "from nltk.translate.bleu_score import sentence_bleu\n",
        "from nltk.translate.bleu_score import SmoothingFunction\n",
        "smoothie = SmoothingFunction().method4\n",
        "bleu_list = []\n",
        "for n in range(len(test_indices)):\n",
        "  test_str = test_dt[n][0]\n",
        "  target_sentence = test_dt[n][1]\n",
        "  input_sentence = [test_str]\n",
        "  encoder_input_seq,l= text2sequences(max_encoder_seq_length,input_sentence)\n",
        "  input_x = onehot_encode(encoder_input_seq, max_encoder_seq_length, num_encoder_tokens)\n",
        "  try:\n",
        "    translated_sentence = decode_sequence(input_x)\n",
        "  except KeyError as err:\n",
        "    continue\n",
        "  score = sentence_bleu(target_sentence, translated_sentence,smoothing_function=smoothie)\n",
        "  bleu_list.append(score)"
      ]
    },
    {
      "cell_type": "code",
      "execution_count": null,
      "metadata": {
        "id": "YHpFewb9zwK_"
      },
      "outputs": [],
      "source": [
        "print('BLEU score is:',numpy.mean(bleu_list))\n"
      ]
    }
  ],
  "metadata": {
    "accelerator": "GPU",
    "colab": {
      "collapsed_sections": [],
      "name": "Assignment3_Submission-Copy1_latest.ipynb",
      "provenance": []
    },
    "kernelspec": {
      "display_name": "Python 3 (ipykernel)",
      "language": "python",
      "name": "python3"
    },
    "language_info": {
      "codemirror_mode": {
        "name": "ipython",
        "version": 3
      },
      "file_extension": ".py",
      "mimetype": "text/x-python",
      "name": "python",
      "nbconvert_exporter": "python",
      "pygments_lexer": "ipython3",
      "version": "3.9.7"
    }
  },
  "nbformat": 4,
  "nbformat_minor": 0
}